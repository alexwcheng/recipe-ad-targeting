{
 "cells": [
  {
   "cell_type": "code",
   "execution_count": 1,
   "metadata": {},
   "outputs": [],
   "source": [
    "import pandas as pd\n",
    "from collections import Counter\n",
    "from sklearn.preprocessing import StandardScaler\n",
    "import seaborn as sns\n",
    "import matplotlib.pyplot as plt\n",
    "%matplotlib inline"
   ]
  },
  {
   "cell_type": "code",
   "execution_count": 2,
   "metadata": {},
   "outputs": [],
   "source": [
    "df = pd.read_csv('../Data/Recipes.csv')"
   ]
  },
  {
   "cell_type": "code",
   "execution_count": 3,
   "metadata": {},
   "outputs": [
    {
     "name": "stderr",
     "output_type": "stream",
     "text": [
      "/opt/anaconda3/envs/learn-env/lib/python3.6/site-packages/ipykernel_launcher.py:4: SettingWithCopyWarning: \n",
      "A value is trying to be set on a copy of a slice from a DataFrame\n",
      "\n",
      "See the caveats in the documentation: http://pandas.pydata.org/pandas-docs/stable/user_guide/indexing.html#returning-a-view-versus-a-copy\n",
      "  after removing the cwd from sys.path.\n"
     ]
    }
   ],
   "source": [
    "df[\"num_steps_instructions\"] = df.apply(lambda _: 0, axis=1)\n",
    "for index, value in enumerate(df.analyzedInstructions):\n",
    "    if type(value) == str:\n",
    "        df[\"num_steps_instructions\"][index] = value.count('''{'number': ''')"
   ]
  },
  {
   "cell_type": "code",
   "execution_count": 4,
   "metadata": {},
   "outputs": [],
   "source": [
    "df.drop(columns = ['Unnamed: 0', 'spoonacularScore', 'id'], inplace = True)"
   ]
  },
  {
   "cell_type": "code",
   "execution_count": 5,
   "metadata": {},
   "outputs": [
    {
     "name": "stderr",
     "output_type": "stream",
     "text": [
      "/opt/anaconda3/envs/learn-env/lib/python3.6/site-packages/ipykernel_launcher.py:7: SettingWithCopyWarning: \n",
      "A value is trying to be set on a copy of a slice from a DataFrame\n",
      "\n",
      "See the caveats in the documentation: http://pandas.pydata.org/pandas-docs/stable/user_guide/indexing.html#returning-a-view-versus-a-copy\n",
      "  import sys\n",
      "/opt/anaconda3/envs/learn-env/lib/python3.6/site-packages/ipykernel_launcher.py:11: SettingWithCopyWarning: \n",
      "A value is trying to be set on a copy of a slice from a DataFrame\n",
      "\n",
      "See the caveats in the documentation: http://pandas.pydata.org/pandas-docs/stable/user_guide/indexing.html#returning-a-view-versus-a-copy\n",
      "  # This is added back by InteractiveShellApp.init_path()\n",
      "/opt/anaconda3/envs/learn-env/lib/python3.6/site-packages/ipykernel_launcher.py:5: SettingWithCopyWarning: \n",
      "A value is trying to be set on a copy of a slice from a DataFrame\n",
      "\n",
      "See the caveats in the documentation: http://pandas.pydata.org/pandas-docs/stable/user_guide/indexing.html#returning-a-view-versus-a-copy\n",
      "  \"\"\"\n",
      "/opt/anaconda3/envs/learn-env/lib/python3.6/site-packages/ipykernel_launcher.py:9: SettingWithCopyWarning: \n",
      "A value is trying to be set on a copy of a slice from a DataFrame\n",
      "\n",
      "See the caveats in the documentation: http://pandas.pydata.org/pandas-docs/stable/user_guide/indexing.html#returning-a-view-versus-a-copy\n",
      "  if __name__ == '__main__':\n"
     ]
    }
   ],
   "source": [
    "df[\"primal\"] = df.apply(lambda _: '', axis=1)\n",
    "df[\"paleo\"] = df.apply(lambda _: '', axis=1)\n",
    "for index, value in enumerate(df.diets):\n",
    "    if 'primal' in value:\n",
    "        df.primal[index] = 1\n",
    "    else:\n",
    "        df.primal[index] = 0\n",
    "    if 'paleolithic' in value:\n",
    "        df.paleo[index] = 1\n",
    "    else:\n",
    "        df.paleo[index] = 0"
   ]
  },
  {
   "cell_type": "code",
   "execution_count": 6,
   "metadata": {},
   "outputs": [
    {
     "data": {
      "text/plain": [
       "Index(['aggregateLikes', 'analyzedInstructions', 'cookingMinutes', 'dairyFree',\n",
       "       'diets', 'dishTypes', 'extendedIngredients', 'glutenFree',\n",
       "       'healthScore', 'ketogenic', 'lowFodmap', 'num_ingredients',\n",
       "       'preparationMinutes', 'pricePerServing', 'readyInMinutes', 'servings',\n",
       "       'spoonacularSourceUrl', 'sustainable', 'title', 'vegan', 'vegetarian',\n",
       "       'veryHealthy', 'veryPopular', 'weightWatcherSmartPoints', 'whole30',\n",
       "       'Calories', 'Fat', 'Saturated_Fat', 'Carbohydrates', 'Sugar',\n",
       "       'Cholesterol', 'Sodium', 'Protein', 'Vitamin_K', 'Vitamin_A',\n",
       "       'Vitamin_C', 'Manganese', 'Folate', 'Fiber', 'Copper', 'Magnesium',\n",
       "       'Phosphorus', 'Vitamin_B6', 'Potassium', 'Vitamin_B1', 'Iron',\n",
       "       'Vitamin_B2', 'Vitamin_E', 'Zinc', 'Vitamin_B5', 'Vitamin_B3',\n",
       "       'Calcium', 'Selenium', 'num_words_instructions',\n",
       "       'num_steps_instructions', 'ingredients_list', 'ingredient_types',\n",
       "       'primal', 'paleo'],\n",
       "      dtype='object')"
      ]
     },
     "execution_count": 6,
     "metadata": {},
     "output_type": "execute_result"
    }
   ],
   "source": [
    "df.columns"
   ]
  },
  {
   "cell_type": "code",
   "execution_count": 7,
   "metadata": {},
   "outputs": [],
   "source": [
    "df.to_csv('../Data/Recipes_raw.csv')"
   ]
  },
  {
   "cell_type": "code",
   "execution_count": 8,
   "metadata": {},
   "outputs": [],
   "source": [
    "df.drop(columns = ['analyzedInstructions', 'diets', 'extendedIngredients',\n",
    "                  'dairyFree','dishTypes','glutenFree','healthScore', 'ketogenic', \n",
    "                   'lowFodmap','sustainable', 'veryHealthy', 'veryPopular',], inplace = True)"
   ]
  },
  {
   "cell_type": "code",
   "execution_count": 9,
   "metadata": {},
   "outputs": [],
   "source": [
    "cols_to_scale = ['cookingMinutes', 'num_ingredients','preparationMinutes', \n",
    "                 'pricePerServing', 'readyInMinutes', 'servings','weightWatcherSmartPoints',\n",
    "                'Calories', 'Fat', 'Saturated_Fat', 'Carbohydrates', 'Sugar','Cholesterol', \n",
    "                 'Sodium', 'Protein', 'Vitamin_K', 'Vitamin_A','Vitamin_C', 'Manganese', \n",
    "                 'Folate', 'Fiber', 'Copper', 'Magnesium','Phosphorus', 'Vitamin_B6', \n",
    "                 'Potassium', 'Vitamin_B1', 'Iron','Vitamin_B2', 'Vitamin_E', 'Zinc', \n",
    "                 'Vitamin_B5', 'Vitamin_B3','Calcium', 'Selenium', 'num_words_instructions',\n",
    "                 'num_steps_instructions']"
   ]
  },
  {
   "cell_type": "code",
   "execution_count": 10,
   "metadata": {},
   "outputs": [],
   "source": [
    "ss = StandardScaler()"
   ]
  },
  {
   "cell_type": "code",
   "execution_count": 11,
   "metadata": {},
   "outputs": [],
   "source": [
    "df_ss = pd.DataFrame(ss.fit_transform(df[cols_to_scale].values), columns=cols_to_scale)"
   ]
  },
  {
   "cell_type": "code",
   "execution_count": 12,
   "metadata": {},
   "outputs": [],
   "source": [
    "diets_list = ['whole30','vegan', 'vegetarian', 'paleo', 'primal']\n",
    "for diet in diets_list:\n",
    "    df_ss[diet] = df[diet]"
   ]
  },
  {
   "cell_type": "code",
   "execution_count": 13,
   "metadata": {},
   "outputs": [],
   "source": [
    "df_ss['aggregateLikes'] = df['aggregateLikes']\n",
    "categorical_list = 'ingredients_list', 'ingredient_types', 'title', 'spoonacularSourceUrl'\n",
    "for category in categorical_list:\n",
    "    df_ss[category] = df[category]"
   ]
  },
  {
   "cell_type": "code",
   "execution_count": 14,
   "metadata": {},
   "outputs": [],
   "source": [
    "df_ss_paleo = df_ss[df_ss['paleo'] == 1]\n",
    "df_ss_primal = df_ss[df_ss['primal'] == 1]\n",
    "df_ss_whole30 = df_ss[df_ss['whole30'] == True]\n",
    "df_ss_vegetarian = df_ss[df_ss['vegetarian'] == True]\n",
    "df_ss_vegan = df_ss[df_ss['vegan'] == True]"
   ]
  },
  {
   "cell_type": "code",
   "execution_count": 15,
   "metadata": {},
   "outputs": [],
   "source": [
    "df_ss_paleo.to_csv('../Data/scaled_paleo.csv')\n",
    "df_ss_whole30.to_csv('../Data/scaled_whole30.csv')\n",
    "df_ss_primal.to_csv('../Data/scaled_primal.csv')\n",
    "df_ss_vegetarian.to_csv('../Data/scaled_vegetarian.csv')\n",
    "df_ss_vegan.to_csv('../Data/scaled_vegan.csv')"
   ]
  },
  {
   "cell_type": "code",
   "execution_count": 19,
   "metadata": {},
   "outputs": [
    {
     "data": {
      "text/plain": [
       "0     -0.029409\n",
       "1     -0.057251\n",
       "3     -0.066531\n",
       "6     -0.075812\n",
       "8     -0.075812\n",
       "         ...   \n",
       "993   -0.060963\n",
       "995   -0.047970\n",
       "996         NaN\n",
       "998         NaN\n",
       "999   -0.057251\n",
       "Name: cookingMinutes, Length: 477, dtype: float64"
      ]
     },
     "execution_count": 19,
     "metadata": {},
     "output_type": "execute_result"
    }
   ],
   "source": []
  }
 ],
 "metadata": {
  "kernelspec": {
   "display_name": "Python 3",
   "language": "python",
   "name": "python3"
  },
  "language_info": {
   "codemirror_mode": {
    "name": "ipython",
    "version": 3
   },
   "file_extension": ".py",
   "mimetype": "text/x-python",
   "name": "python",
   "nbconvert_exporter": "python",
   "pygments_lexer": "ipython3",
   "version": "3.7.4"
  }
 },
 "nbformat": 4,
 "nbformat_minor": 2
}
