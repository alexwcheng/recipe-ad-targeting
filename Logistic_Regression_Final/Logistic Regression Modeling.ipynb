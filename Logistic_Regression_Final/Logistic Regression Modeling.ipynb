{
 "cells": [
  {
   "cell_type": "markdown",
   "metadata": {},
   "source": [
    "# Technical Notebook"
   ]
  },
  {
   "cell_type": "markdown",
   "metadata": {},
   "source": [
    "___"
   ]
  },
  {
   "cell_type": "markdown",
   "metadata": {},
   "source": [
    "### Goal: Manage ad placement on social recipe app Spoonacular\n",
    "We aim to more effectively target ads to Spoonacular app users. To do so, we predict which recipes will be popular - or whether or not to post an ad on the recipe's webpage. \n",
    "\n",
    "### Data: [Spoonacular API](https://spoonacular.com/food-api/docs)\n",
    "We were able to call 1000 *unique* recipes using the Spoonacular API. Each recipe contains extensive information from nutritional content to dietary classifications. A number of \"Likes\" is also provided for each recipe. In lieu of webpage traffic, we use Likes as our dependent variable. From recipe information, we developed and/or utilized a total of 35 numerical predictors (indepedent variables) of Likes. The numerical data is standardized below.\n",
    "\n",
    "As a note for future work, natural language processing may be useful to cluster text such as ingredient types - such as to predict the most visited recipe webpages with respect to the use of \"avacado\".\n",
    "\n",
    "### Model: Binary Logistic Regression\n",
    "#### Categorization of \"Likes\"\n",
    "We utilize median Likes as a cutoff between well-liked recipes and those receiving low Likes.  This helps ensure that our model trains on proportional amounts of well-liked and lesser-liked recipes. \n",
    "#### Assumptions\n",
    "- Dependent variable (Likes) is binary.\n",
    "- Large sample size. \n",
    " - Our data fulfills the general guideline of 10 cases with the least frequent outcome for each independent variable. In this case, p(outcome) = 0.5, and for a total of 1000 cases, we *could in some cases* utilize a maximum of 50 indepedent variables in the model.\n",
    "- Observations (recipes) are independent of each other. \n",
    " - While recipes often reference one another within another recipe (i.e. frosting for a cake), we do not osberve this on Spoonacular.\n",
    "- Little or no multicollinearity among the independent variables. \n",
    " - We understand that macro and micronutrients are likely to have high multicollinearity and test for this.\n",
    "- Linearity of independent variables and log odds. \n",
    " - In our [exploratory data analysis](https://github.com/alexwcheng/recipe-strategy/blob/master/Logistic_Regression_Final/Exploratory%20Data%20Analysis.ipynb), we see that the dependent variable, Likes, has an exponential distribution. While, there exists a linear relationship between log odds and some predictors, this is not a majority case."
   ]
  },
  {
   "cell_type": "markdown",
   "metadata": {},
   "source": [
    "___"
   ]
  },
  {
   "cell_type": "markdown",
   "metadata": {},
   "source": [
    "### Import Packages, Data, and Functions"
   ]
  },
  {
   "cell_type": "code",
   "execution_count": 1,
   "metadata": {},
   "outputs": [],
   "source": [
    "import sys\n",
    "sys.path.append(\"..\")"
   ]
  },
  {
   "cell_type": "code",
   "execution_count": 2,
   "metadata": {},
   "outputs": [],
   "source": [
    "# Import necessary python packages and functions\n",
    "from Python_Files.imports import *\n",
    "%matplotlib inline"
   ]
  },
  {
   "cell_type": "code",
   "execution_count": 3,
   "metadata": {},
   "outputs": [],
   "source": [
    "# Read in data\n",
    "df = pd.read_csv('../Data/Recipes_raw.csv', index_col=0)"
   ]
  },
  {
   "cell_type": "code",
   "execution_count": 4,
   "metadata": {},
   "outputs": [],
   "source": [
    "# Ignore unnecessary warnings\n",
    "import warnings\n",
    "warnings.filterwarnings('ignore')"
   ]
  },
  {
   "cell_type": "markdown",
   "metadata": {},
   "source": [
    "### Prepare Data\n",
    "Scale numerical predictors using StandardScaler and copy non-numerical predictors from original dataframe."
   ]
  },
  {
   "cell_type": "code",
   "execution_count": 5,
   "metadata": {},
   "outputs": [],
   "source": [
    "from Python_Files.data_cleaning import *\n",
    "#scale_num_vars, categorize_likes, produce_roc_curve"
   ]
  },
  {
   "cell_type": "code",
   "execution_count": 6,
   "metadata": {},
   "outputs": [],
   "source": [
    "# Create new dataframe containing both scaled and unscaled predictors\n",
    "df_ss = scale_num_vars(df)"
   ]
  },
  {
   "cell_type": "markdown",
   "metadata": {},
   "source": [
    "Categorize Likes as binary outcome using median value to equalize training."
   ]
  },
  {
   "cell_type": "code",
   "execution_count": 7,
   "metadata": {},
   "outputs": [
    {
     "data": {
      "text/plain": [
       "1    500\n",
       "0    500\n",
       "Name: high_likes, dtype: int64"
      ]
     },
     "execution_count": 7,
     "metadata": {},
     "output_type": "execute_result"
    }
   ],
   "source": [
    "# Create new column for outcome\n",
    "df_ss['high_likes'] = categorize_likes(df_ss, 'aggregateLikes')\n",
    "# Ensure proportional binary outcome\n",
    "df_ss['high_likes'].value_counts()"
   ]
  },
  {
   "cell_type": "markdown",
   "metadata": {},
   "source": [
    "### Feature Selection\n",
    "**1. What predictors are available?**"
   ]
  },
  {
   "cell_type": "code",
   "execution_count": 8,
   "metadata": {},
   "outputs": [
    {
     "data": {
      "text/plain": [
       "['cookingMinutes',\n",
       " 'num_ingredients',\n",
       " 'preparationMinutes',\n",
       " 'pricePerServing',\n",
       " 'readyInMinutes',\n",
       " 'servings',\n",
       " 'weightWatcherSmartPoints',\n",
       " 'Calories',\n",
       " 'Fat',\n",
       " 'Saturated_Fat',\n",
       " 'Carbohydrates',\n",
       " 'Sugar',\n",
       " 'Cholesterol',\n",
       " 'Sodium',\n",
       " 'Protein',\n",
       " 'Vitamin_K',\n",
       " 'Vitamin_A',\n",
       " 'Vitamin_C',\n",
       " 'Manganese',\n",
       " 'Folate',\n",
       " 'Fiber',\n",
       " 'Copper',\n",
       " 'Magnesium',\n",
       " 'Phosphorus',\n",
       " 'Vitamin_B6',\n",
       " 'Potassium',\n",
       " 'Vitamin_B1',\n",
       " 'Iron',\n",
       " 'Vitamin_B2',\n",
       " 'Vitamin_E',\n",
       " 'Zinc',\n",
       " 'Vitamin_B5',\n",
       " 'Vitamin_B3',\n",
       " 'Calcium',\n",
       " 'Selenium',\n",
       " 'num_words_instructions',\n",
       " 'num_steps_instructions',\n",
       " 'aggregateLikes',\n",
       " 'ingredients_list',\n",
       " 'ingredient_types',\n",
       " 'title',\n",
       " 'spoonacularSourceUrl',\n",
       " 'high_likes']"
      ]
     },
     "execution_count": 8,
     "metadata": {},
     "output_type": "execute_result"
    }
   ],
   "source": [
    "x_variables_1 = list(df_ss.columns)\n",
    "x_variables_1"
   ]
  },
  {
   "cell_type": "markdown",
   "metadata": {},
   "source": [
    "We next drop the original count of Likes (\"aggregateLikes\") in favor of the binary (\"high_likes\") as well as the text-based information in list items [-5:-1]. **This leaves us with only numerical variables to consider in our model.**"
   ]
  },
  {
   "cell_type": "markdown",
   "metadata": {},
   "source": [
    "<b>Note:</b> Due to an error raised from the Statsmodels library: <i>\"PerfectSeparationError: Perfect separation detected, results not available.\"</i> We have removed a predictor that was essentially \"unsolvable\" for its coefficients. The predictor <b>\"num_steps_instructions\"</b> is being removed for this reason."
   ]
  },
  {
   "cell_type": "code",
   "execution_count": 9,
   "metadata": {},
   "outputs": [
    {
     "data": {
      "text/plain": [
       "['cookingMinutes',\n",
       " 'num_ingredients',\n",
       " 'preparationMinutes',\n",
       " 'pricePerServing',\n",
       " 'readyInMinutes',\n",
       " 'servings',\n",
       " 'weightWatcherSmartPoints',\n",
       " 'Calories',\n",
       " 'Fat',\n",
       " 'Saturated_Fat',\n",
       " 'Carbohydrates',\n",
       " 'Sugar',\n",
       " 'Cholesterol',\n",
       " 'Sodium',\n",
       " 'Protein',\n",
       " 'Vitamin_K',\n",
       " 'Vitamin_A',\n",
       " 'Vitamin_C',\n",
       " 'Manganese',\n",
       " 'Folate',\n",
       " 'Fiber',\n",
       " 'Copper',\n",
       " 'Magnesium',\n",
       " 'Phosphorus',\n",
       " 'Vitamin_B6',\n",
       " 'Potassium',\n",
       " 'Vitamin_B1',\n",
       " 'Iron',\n",
       " 'Vitamin_B2',\n",
       " 'Vitamin_E',\n",
       " 'Zinc',\n",
       " 'Vitamin_B5',\n",
       " 'Vitamin_B3',\n",
       " 'Calcium',\n",
       " 'Selenium',\n",
       " 'num_words_instructions']"
      ]
     },
     "execution_count": 9,
     "metadata": {},
     "output_type": "execute_result"
    }
   ],
   "source": [
    "# Call list of numerical independent variables by column names\n",
    "numerical_variables_1 = x_variables_1\n",
    "del numerical_variables_1[-6:-1]\n",
    "numerical_variables_1.remove('high_likes')\n",
    "numerical_variables_1.remove('num_steps_instructions')\n",
    "numerical_variables_1"
   ]
  },
  {
   "cell_type": "markdown",
   "metadata": {},
   "source": [
    "**2. Train-test split the data 0.75:0.25.**"
   ]
  },
  {
   "cell_type": "code",
   "execution_count": 10,
   "metadata": {},
   "outputs": [],
   "source": [
    "y = df_ss.high_likes\n",
    "X = df_ss[numerical_variables_1]\n",
    "X = X.fillna(0)\n",
    "\n",
    "X_train, X_test, y_train, y_test = train_test_split(X, y, random_state=2020, stratify = y)"
   ]
  },
  {
   "cell_type": "markdown",
   "metadata": {},
   "source": [
    "**3. Initialize logistic regression model using Statsmodels.**"
   ]
  },
  {
   "cell_type": "code",
   "execution_count": 11,
   "metadata": {},
   "outputs": [
    {
     "name": "stdout",
     "output_type": "stream",
     "text": [
      "Optimization terminated successfully.\n",
      "         Current function value: 0.624687\n",
      "         Iterations 9\n"
     ]
    },
    {
     "data": {
      "text/html": [
       "<table class=\"simpletable\">\n",
       "<caption>Logit Regression Results</caption>\n",
       "<tr>\n",
       "  <th>Dep. Variable:</th>      <td>high_likes</td>    <th>  No. Observations:  </th>  <td>   750</td>  \n",
       "</tr>\n",
       "<tr>\n",
       "  <th>Model:</th>                 <td>Logit</td>      <th>  Df Residuals:      </th>  <td>   713</td>  \n",
       "</tr>\n",
       "<tr>\n",
       "  <th>Method:</th>                 <td>MLE</td>       <th>  Df Model:          </th>  <td>    36</td>  \n",
       "</tr>\n",
       "<tr>\n",
       "  <th>Date:</th>            <td>Thu, 23 Jan 2020</td> <th>  Pseudo R-squ.:     </th>  <td>0.09877</td> \n",
       "</tr>\n",
       "<tr>\n",
       "  <th>Time:</th>                <td>19:44:56</td>     <th>  Log-Likelihood:    </th> <td> -468.52</td> \n",
       "</tr>\n",
       "<tr>\n",
       "  <th>converged:</th>             <td>True</td>       <th>  LL-Null:           </th> <td> -519.86</td> \n",
       "</tr>\n",
       "<tr>\n",
       "  <th>Covariance Type:</th>     <td>nonrobust</td>    <th>  LLR p-value:       </th> <td>2.497e-08</td>\n",
       "</tr>\n",
       "</table>\n",
       "<table class=\"simpletable\">\n",
       "<tr>\n",
       "              <td></td>                <th>coef</th>     <th>std err</th>      <th>z</th>      <th>P>|z|</th>  <th>[0.025</th>    <th>0.975]</th>  \n",
       "</tr>\n",
       "<tr>\n",
       "  <th>const</th>                    <td>    0.1973</td> <td>    0.137</td> <td>    1.443</td> <td> 0.149</td> <td>   -0.071</td> <td>    0.465</td>\n",
       "</tr>\n",
       "<tr>\n",
       "  <th>cookingMinutes</th>           <td>    4.1266</td> <td>    4.090</td> <td>    1.009</td> <td> 0.313</td> <td>   -3.889</td> <td>   12.142</td>\n",
       "</tr>\n",
       "<tr>\n",
       "  <th>num_ingredients</th>          <td>    0.0418</td> <td>    0.107</td> <td>    0.392</td> <td> 0.695</td> <td>   -0.167</td> <td>    0.251</td>\n",
       "</tr>\n",
       "<tr>\n",
       "  <th>preparationMinutes</th>       <td>    0.3100</td> <td>    0.193</td> <td>    1.605</td> <td> 0.108</td> <td>   -0.069</td> <td>    0.688</td>\n",
       "</tr>\n",
       "<tr>\n",
       "  <th>pricePerServing</th>          <td>    0.2148</td> <td>    0.147</td> <td>    1.461</td> <td> 0.144</td> <td>   -0.073</td> <td>    0.503</td>\n",
       "</tr>\n",
       "<tr>\n",
       "  <th>readyInMinutes</th>           <td>    0.1861</td> <td>    0.437</td> <td>    0.426</td> <td> 0.670</td> <td>   -0.670</td> <td>    1.042</td>\n",
       "</tr>\n",
       "<tr>\n",
       "  <th>servings</th>                 <td>    0.1357</td> <td>    0.112</td> <td>    1.217</td> <td> 0.224</td> <td>   -0.083</td> <td>    0.354</td>\n",
       "</tr>\n",
       "<tr>\n",
       "  <th>weightWatcherSmartPoints</th> <td>    0.2420</td> <td>    0.431</td> <td>    0.561</td> <td> 0.575</td> <td>   -0.603</td> <td>    1.087</td>\n",
       "</tr>\n",
       "<tr>\n",
       "  <th>Calories</th>                 <td>    1.3655</td> <td>    2.127</td> <td>    0.642</td> <td> 0.521</td> <td>   -2.804</td> <td>    5.535</td>\n",
       "</tr>\n",
       "<tr>\n",
       "  <th>Fat</th>                      <td>   -1.0441</td> <td>    1.213</td> <td>   -0.861</td> <td> 0.389</td> <td>   -3.421</td> <td>    1.333</td>\n",
       "</tr>\n",
       "<tr>\n",
       "  <th>Saturated_Fat</th>            <td>    0.6678</td> <td>    0.286</td> <td>    2.334</td> <td> 0.020</td> <td>    0.107</td> <td>    1.229</td>\n",
       "</tr>\n",
       "<tr>\n",
       "  <th>Carbohydrates</th>            <td>   -0.6696</td> <td>    1.032</td> <td>   -0.649</td> <td> 0.517</td> <td>   -2.693</td> <td>    1.354</td>\n",
       "</tr>\n",
       "<tr>\n",
       "  <th>Sugar</th>                    <td>    0.1584</td> <td>    0.132</td> <td>    1.204</td> <td> 0.229</td> <td>   -0.099</td> <td>    0.416</td>\n",
       "</tr>\n",
       "<tr>\n",
       "  <th>Cholesterol</th>              <td>    0.0088</td> <td>    0.143</td> <td>    0.062</td> <td> 0.951</td> <td>   -0.271</td> <td>    0.289</td>\n",
       "</tr>\n",
       "<tr>\n",
       "  <th>Sodium</th>                   <td>    0.3662</td> <td>    0.130</td> <td>    2.820</td> <td> 0.005</td> <td>    0.112</td> <td>    0.621</td>\n",
       "</tr>\n",
       "<tr>\n",
       "  <th>Protein</th>                  <td>   -0.3970</td> <td>    0.691</td> <td>   -0.574</td> <td> 0.566</td> <td>   -1.752</td> <td>    0.958</td>\n",
       "</tr>\n",
       "<tr>\n",
       "  <th>Vitamin_K</th>                <td>   -0.1567</td> <td>    0.121</td> <td>   -1.291</td> <td> 0.197</td> <td>   -0.395</td> <td>    0.081</td>\n",
       "</tr>\n",
       "<tr>\n",
       "  <th>Vitamin_A</th>                <td>   -0.0354</td> <td>    0.096</td> <td>   -0.371</td> <td> 0.711</td> <td>   -0.223</td> <td>    0.152</td>\n",
       "</tr>\n",
       "<tr>\n",
       "  <th>Vitamin_C</th>                <td>   -0.1207</td> <td>    0.114</td> <td>   -1.059</td> <td> 0.290</td> <td>   -0.344</td> <td>    0.103</td>\n",
       "</tr>\n",
       "<tr>\n",
       "  <th>Manganese</th>                <td>   -0.0500</td> <td>    0.134</td> <td>   -0.373</td> <td> 0.709</td> <td>   -0.313</td> <td>    0.213</td>\n",
       "</tr>\n",
       "<tr>\n",
       "  <th>Folate</th>                   <td>   -0.1499</td> <td>    0.131</td> <td>   -1.141</td> <td> 0.254</td> <td>   -0.407</td> <td>    0.108</td>\n",
       "</tr>\n",
       "<tr>\n",
       "  <th>Fiber</th>                    <td>   -0.2657</td> <td>    0.191</td> <td>   -1.394</td> <td> 0.163</td> <td>   -0.639</td> <td>    0.108</td>\n",
       "</tr>\n",
       "<tr>\n",
       "  <th>Copper</th>                   <td>   -0.0226</td> <td>    0.088</td> <td>   -0.258</td> <td> 0.796</td> <td>   -0.194</td> <td>    0.149</td>\n",
       "</tr>\n",
       "<tr>\n",
       "  <th>Magnesium</th>                <td>   -0.0080</td> <td>    0.209</td> <td>   -0.038</td> <td> 0.970</td> <td>   -0.417</td> <td>    0.401</td>\n",
       "</tr>\n",
       "<tr>\n",
       "  <th>Phosphorus</th>               <td>    0.0208</td> <td>    0.239</td> <td>    0.087</td> <td> 0.931</td> <td>   -0.448</td> <td>    0.490</td>\n",
       "</tr>\n",
       "<tr>\n",
       "  <th>Vitamin_B6</th>               <td>   -0.0329</td> <td>    0.194</td> <td>   -0.170</td> <td> 0.865</td> <td>   -0.412</td> <td>    0.346</td>\n",
       "</tr>\n",
       "<tr>\n",
       "  <th>Potassium</th>                <td>   -0.0006</td> <td>    0.169</td> <td>   -0.004</td> <td> 0.997</td> <td>   -0.333</td> <td>    0.331</td>\n",
       "</tr>\n",
       "<tr>\n",
       "  <th>Vitamin_B1</th>               <td>   -0.2414</td> <td>    0.154</td> <td>   -1.570</td> <td> 0.116</td> <td>   -0.543</td> <td>    0.060</td>\n",
       "</tr>\n",
       "<tr>\n",
       "  <th>Iron</th>                     <td>    0.0289</td> <td>    0.115</td> <td>    0.251</td> <td> 0.802</td> <td>   -0.197</td> <td>    0.255</td>\n",
       "</tr>\n",
       "<tr>\n",
       "  <th>Vitamin_B2</th>               <td>    0.0038</td> <td>    0.195</td> <td>    0.019</td> <td> 0.985</td> <td>   -0.379</td> <td>    0.387</td>\n",
       "</tr>\n",
       "<tr>\n",
       "  <th>Vitamin_E</th>                <td>   -0.0332</td> <td>    0.136</td> <td>   -0.245</td> <td> 0.806</td> <td>   -0.299</td> <td>    0.232</td>\n",
       "</tr>\n",
       "<tr>\n",
       "  <th>Zinc</th>                     <td>    0.0432</td> <td>    0.181</td> <td>    0.239</td> <td> 0.811</td> <td>   -0.311</td> <td>    0.397</td>\n",
       "</tr>\n",
       "<tr>\n",
       "  <th>Vitamin_B5</th>               <td>    0.1678</td> <td>    0.235</td> <td>    0.713</td> <td> 0.476</td> <td>   -0.294</td> <td>    0.629</td>\n",
       "</tr>\n",
       "<tr>\n",
       "  <th>Vitamin_B3</th>               <td>   -0.0707</td> <td>    0.220</td> <td>   -0.321</td> <td> 0.748</td> <td>   -0.503</td> <td>    0.361</td>\n",
       "</tr>\n",
       "<tr>\n",
       "  <th>Calcium</th>                  <td>   -0.0261</td> <td>    0.137</td> <td>   -0.191</td> <td> 0.849</td> <td>   -0.294</td> <td>    0.242</td>\n",
       "</tr>\n",
       "<tr>\n",
       "  <th>Selenium</th>                 <td>   -0.2082</td> <td>    0.162</td> <td>   -1.284</td> <td> 0.199</td> <td>   -0.526</td> <td>    0.110</td>\n",
       "</tr>\n",
       "<tr>\n",
       "  <th>num_words_instructions</th>   <td>   -0.0228</td> <td>    0.091</td> <td>   -0.249</td> <td> 0.803</td> <td>   -0.202</td> <td>    0.156</td>\n",
       "</tr>\n",
       "</table>"
      ],
      "text/plain": [
       "<class 'statsmodels.iolib.summary.Summary'>\n",
       "\"\"\"\n",
       "                           Logit Regression Results                           \n",
       "==============================================================================\n",
       "Dep. Variable:             high_likes   No. Observations:                  750\n",
       "Model:                          Logit   Df Residuals:                      713\n",
       "Method:                           MLE   Df Model:                           36\n",
       "Date:                Thu, 23 Jan 2020   Pseudo R-squ.:                 0.09877\n",
       "Time:                        19:44:56   Log-Likelihood:                -468.52\n",
       "converged:                       True   LL-Null:                       -519.86\n",
       "Covariance Type:            nonrobust   LLR p-value:                 2.497e-08\n",
       "============================================================================================\n",
       "                               coef    std err          z      P>|z|      [0.025      0.975]\n",
       "--------------------------------------------------------------------------------------------\n",
       "const                        0.1973      0.137      1.443      0.149      -0.071       0.465\n",
       "cookingMinutes               4.1266      4.090      1.009      0.313      -3.889      12.142\n",
       "num_ingredients              0.0418      0.107      0.392      0.695      -0.167       0.251\n",
       "preparationMinutes           0.3100      0.193      1.605      0.108      -0.069       0.688\n",
       "pricePerServing              0.2148      0.147      1.461      0.144      -0.073       0.503\n",
       "readyInMinutes               0.1861      0.437      0.426      0.670      -0.670       1.042\n",
       "servings                     0.1357      0.112      1.217      0.224      -0.083       0.354\n",
       "weightWatcherSmartPoints     0.2420      0.431      0.561      0.575      -0.603       1.087\n",
       "Calories                     1.3655      2.127      0.642      0.521      -2.804       5.535\n",
       "Fat                         -1.0441      1.213     -0.861      0.389      -3.421       1.333\n",
       "Saturated_Fat                0.6678      0.286      2.334      0.020       0.107       1.229\n",
       "Carbohydrates               -0.6696      1.032     -0.649      0.517      -2.693       1.354\n",
       "Sugar                        0.1584      0.132      1.204      0.229      -0.099       0.416\n",
       "Cholesterol                  0.0088      0.143      0.062      0.951      -0.271       0.289\n",
       "Sodium                       0.3662      0.130      2.820      0.005       0.112       0.621\n",
       "Protein                     -0.3970      0.691     -0.574      0.566      -1.752       0.958\n",
       "Vitamin_K                   -0.1567      0.121     -1.291      0.197      -0.395       0.081\n",
       "Vitamin_A                   -0.0354      0.096     -0.371      0.711      -0.223       0.152\n",
       "Vitamin_C                   -0.1207      0.114     -1.059      0.290      -0.344       0.103\n",
       "Manganese                   -0.0500      0.134     -0.373      0.709      -0.313       0.213\n",
       "Folate                      -0.1499      0.131     -1.141      0.254      -0.407       0.108\n",
       "Fiber                       -0.2657      0.191     -1.394      0.163      -0.639       0.108\n",
       "Copper                      -0.0226      0.088     -0.258      0.796      -0.194       0.149\n",
       "Magnesium                   -0.0080      0.209     -0.038      0.970      -0.417       0.401\n",
       "Phosphorus                   0.0208      0.239      0.087      0.931      -0.448       0.490\n",
       "Vitamin_B6                  -0.0329      0.194     -0.170      0.865      -0.412       0.346\n",
       "Potassium                   -0.0006      0.169     -0.004      0.997      -0.333       0.331\n",
       "Vitamin_B1                  -0.2414      0.154     -1.570      0.116      -0.543       0.060\n",
       "Iron                         0.0289      0.115      0.251      0.802      -0.197       0.255\n",
       "Vitamin_B2                   0.0038      0.195      0.019      0.985      -0.379       0.387\n",
       "Vitamin_E                   -0.0332      0.136     -0.245      0.806      -0.299       0.232\n",
       "Zinc                         0.0432      0.181      0.239      0.811      -0.311       0.397\n",
       "Vitamin_B5                   0.1678      0.235      0.713      0.476      -0.294       0.629\n",
       "Vitamin_B3                  -0.0707      0.220     -0.321      0.748      -0.503       0.361\n",
       "Calcium                     -0.0261      0.137     -0.191      0.849      -0.294       0.242\n",
       "Selenium                    -0.2082      0.162     -1.284      0.199      -0.526       0.110\n",
       "num_words_instructions      -0.0228      0.091     -0.249      0.803      -0.202       0.156\n",
       "============================================================================================\n",
       "\"\"\""
      ]
     },
     "execution_count": 11,
     "metadata": {},
     "output_type": "execute_result"
    }
   ],
   "source": [
    "X_const = sm.add_constant(X_train)\n",
    "model = sm.Logit(y_train, X_const)\n",
    "results = model.fit()\n",
    "results.summary()"
   ]
  },
  {
   "cell_type": "markdown",
   "metadata": {},
   "source": [
    "**4. Check for multicolinearity and high p-values among predictors.**\n",
    "\n",
    "We use an alpha/confidence level of 0.05 to accept predictors as significant correlants to the outcome. Posting ads on less popular recipe pages could potentially waste ad investments, or at least not optimize investments."
   ]
  },
  {
   "cell_type": "code",
   "execution_count": 12,
   "metadata": {},
   "outputs": [
    {
     "data": {
      "text/plain": [
       "[('cookingMinutes', 1.0694203145434178),\n",
       " ('num_ingredients', 1.6498865882774663),\n",
       " ('preparationMinutes', 1.2809468585342518),\n",
       " ('pricePerServing', 3.480003145789723),\n",
       " ('readyInMinutes', 1.4095735709963229),\n",
       " ('servings', 1.5583417340115544),\n",
       " ('weightWatcherSmartPoints', 26.952629405478493),\n",
       " ('Calories', 713.994715652959),\n",
       " ('Fat', 240.39097782670126),\n",
       " ('Saturated_Fat', 3.2743120129176515),\n",
       " ('Carbohydrates', 173.80034465398052),\n",
       " ('Sugar', 2.6455978626262904),\n",
       " ('Cholesterol', 3.6604362819004557),\n",
       " ('Sodium', 1.519542775018452),\n",
       " ('Protein', 77.07195156198922),\n",
       " ('Vitamin_K', 2.1632983277784765),\n",
       " ('Vitamin_A', 1.5594151807625842),\n",
       " ('Vitamin_C', 1.9674382112122224),\n",
       " ('Manganese', 2.8208443701596084),\n",
       " ('Folate', 2.8660085894390033),\n",
       " ('Fiber', 5.506085979403955),\n",
       " ('Copper', 1.5018570727924245),\n",
       " ('Magnesium', 6.986587101330752),\n",
       " ('Phosphorus', 8.611569115894659),\n",
       " ('Vitamin_B6', 5.4480634015552845),\n",
       " ('Potassium', 4.595812562292188),\n",
       " ('Vitamin_B1', 2.7089493703146563),\n",
       " ('Iron', 2.194788121180716),\n",
       " ('Vitamin_B2', 5.749119806314953),\n",
       " ('Vitamin_E', 3.0470005025981046),\n",
       " ('Zinc', 3.393507774123599),\n",
       " ('Vitamin_B5', 7.619926296042353),\n",
       " ('Vitamin_B3', 2.4419310564518715),\n",
       " ('Calcium', 2.291342131461292),\n",
       " ('Selenium', 3.851470805971655),\n",
       " ('num_words_instructions', 1.347337680393323)]"
      ]
     },
     "execution_count": 12,
     "metadata": {},
     "output_type": "execute_result"
    }
   ],
   "source": [
    "# Read out variance inflation factor for each predictor. \n",
    "X = df_ss[numerical_variables_1]\n",
    "X = X.fillna(0)\n",
    "vif = [variance_inflation_factor(X.values, i) for i in range(X.shape[1])]\n",
    "list(zip(numerical_variables_1, vif))"
   ]
  },
  {
   "cell_type": "code",
   "execution_count": 13,
   "metadata": {},
   "outputs": [],
   "source": [
    "# Based on VIF of all variables, drop all predictors where VIF > 8 \n",
    "unwanted = {'Calories', 'Carbohydrates', 'Sugar', 'Cholesterol', }\n",
    "numerical_variables_2 = [e for e in x_variables_1 if e not in unwanted]\n",
    "\n",
    "# Drop all predictors where p value > 0.3 after first logistic regression\n",
    "numerical_variables_3 = ['num_ingredients', 'pricePerServing', 'readyInMinutes', 'servings', \n",
    "                 'Saturated_Fat', 'Sodium', 'Vitamin_K', 'Vitamin_C', 'Fiber', 'Vitamin_B1',\n",
    "                'Selenium']\n",
    "\n",
    "# After dropping these variables, all VIF scores < 3\n",
    "\n",
    "# Drop all predictors where p value > 0.1 after second logistic regression\n",
    "numerical_variables_4 = ['num_ingredients', 'pricePerServing', 'readyInMinutes', \n",
    "                 'Saturated_Fat', 'Sodium', 'Vitamin_K', 'Vitamin_C', 'Fiber']\n",
    "\n",
    "# Drop all predictors where p value > 0.1 after third logistic regression\n",
    "numerical_variables_5 = ['num_ingredients', 'readyInMinutes', \n",
    "                 'Saturated_Fat', 'Sodium', 'Vitamin_K', 'Fiber']"
   ]
  },
  {
   "cell_type": "markdown",
   "metadata": {},
   "source": [
    "**5. Run model using selected features.**"
   ]
  },
  {
   "cell_type": "code",
   "execution_count": 14,
   "metadata": {},
   "outputs": [
    {
     "name": "stdout",
     "output_type": "stream",
     "text": [
      "Optimization terminated successfully.\n",
      "         Current function value: 0.639949\n",
      "         Iterations 7\n"
     ]
    },
    {
     "data": {
      "text/html": [
       "<table class=\"simpletable\">\n",
       "<caption>Logit Regression Results</caption>\n",
       "<tr>\n",
       "  <th>Dep. Variable:</th>      <td>high_likes</td>    <th>  No. Observations:  </th>  <td>   750</td>  \n",
       "</tr>\n",
       "<tr>\n",
       "  <th>Model:</th>                 <td>Logit</td>      <th>  Df Residuals:      </th>  <td>   743</td>  \n",
       "</tr>\n",
       "<tr>\n",
       "  <th>Method:</th>                 <td>MLE</td>       <th>  Df Model:          </th>  <td>     6</td>  \n",
       "</tr>\n",
       "<tr>\n",
       "  <th>Date:</th>            <td>Thu, 23 Jan 2020</td> <th>  Pseudo R-squ.:     </th>  <td>0.07675</td> \n",
       "</tr>\n",
       "<tr>\n",
       "  <th>Time:</th>                <td>19:44:58</td>     <th>  Log-Likelihood:    </th> <td> -479.96</td> \n",
       "</tr>\n",
       "<tr>\n",
       "  <th>converged:</th>             <td>True</td>       <th>  LL-Null:           </th> <td> -519.86</td> \n",
       "</tr>\n",
       "<tr>\n",
       "  <th>Covariance Type:</th>     <td>nonrobust</td>    <th>  LLR p-value:       </th> <td>3.934e-15</td>\n",
       "</tr>\n",
       "</table>\n",
       "<table class=\"simpletable\">\n",
       "<tr>\n",
       "         <td></td>            <th>coef</th>     <th>std err</th>      <th>z</th>      <th>P>|z|</th>  <th>[0.025</th>    <th>0.975]</th>  \n",
       "</tr>\n",
       "<tr>\n",
       "  <th>const</th>           <td>    0.0747</td> <td>    0.080</td> <td>    0.931</td> <td> 0.352</td> <td>   -0.083</td> <td>    0.232</td>\n",
       "</tr>\n",
       "<tr>\n",
       "  <th>num_ingredients</th> <td>    0.1352</td> <td>    0.089</td> <td>    1.517</td> <td> 0.129</td> <td>   -0.039</td> <td>    0.310</td>\n",
       "</tr>\n",
       "<tr>\n",
       "  <th>readyInMinutes</th>  <td>    0.6296</td> <td>    0.183</td> <td>    3.446</td> <td> 0.001</td> <td>    0.271</td> <td>    0.988</td>\n",
       "</tr>\n",
       "<tr>\n",
       "  <th>Saturated_Fat</th>   <td>    0.5701</td> <td>    0.133</td> <td>    4.299</td> <td> 0.000</td> <td>    0.310</td> <td>    0.830</td>\n",
       "</tr>\n",
       "<tr>\n",
       "  <th>Sodium</th>          <td>    0.2756</td> <td>    0.107</td> <td>    2.576</td> <td> 0.010</td> <td>    0.066</td> <td>    0.485</td>\n",
       "</tr>\n",
       "<tr>\n",
       "  <th>Vitamin_K</th>       <td>   -0.2472</td> <td>    0.087</td> <td>   -2.827</td> <td> 0.005</td> <td>   -0.419</td> <td>   -0.076</td>\n",
       "</tr>\n",
       "<tr>\n",
       "  <th>Fiber</th>           <td>   -0.3040</td> <td>    0.088</td> <td>   -3.437</td> <td> 0.001</td> <td>   -0.477</td> <td>   -0.131</td>\n",
       "</tr>\n",
       "</table>"
      ],
      "text/plain": [
       "<class 'statsmodels.iolib.summary.Summary'>\n",
       "\"\"\"\n",
       "                           Logit Regression Results                           \n",
       "==============================================================================\n",
       "Dep. Variable:             high_likes   No. Observations:                  750\n",
       "Model:                          Logit   Df Residuals:                      743\n",
       "Method:                           MLE   Df Model:                            6\n",
       "Date:                Thu, 23 Jan 2020   Pseudo R-squ.:                 0.07675\n",
       "Time:                        19:44:58   Log-Likelihood:                -479.96\n",
       "converged:                       True   LL-Null:                       -519.86\n",
       "Covariance Type:            nonrobust   LLR p-value:                 3.934e-15\n",
       "===================================================================================\n",
       "                      coef    std err          z      P>|z|      [0.025      0.975]\n",
       "-----------------------------------------------------------------------------------\n",
       "const               0.0747      0.080      0.931      0.352      -0.083       0.232\n",
       "num_ingredients     0.1352      0.089      1.517      0.129      -0.039       0.310\n",
       "readyInMinutes      0.6296      0.183      3.446      0.001       0.271       0.988\n",
       "Saturated_Fat       0.5701      0.133      4.299      0.000       0.310       0.830\n",
       "Sodium              0.2756      0.107      2.576      0.010       0.066       0.485\n",
       "Vitamin_K          -0.2472      0.087     -2.827      0.005      -0.419      -0.076\n",
       "Fiber              -0.3040      0.088     -3.437      0.001      -0.477      -0.131\n",
       "===================================================================================\n",
       "\"\"\""
      ]
     },
     "execution_count": 14,
     "metadata": {},
     "output_type": "execute_result"
    }
   ],
   "source": [
    "y = df_ss.high_likes\n",
    "X = df_ss[numerical_variables_5]\n",
    "\n",
    "X_train, X_test, y_train, y_test = train_test_split(X, y, random_state=2020, stratify = y)\n",
    "\n",
    "# Print preliminary results\n",
    "X_const = sm.add_constant(X_train)\n",
    "model = sm.Logit(y_train, X_const)\n",
    "results = model.fit()\n",
    "results.summary()"
   ]
  },
  {
   "cell_type": "markdown",
   "metadata": {},
   "source": [
    "### Model Parameter Optimization\n",
    "We use RandomSearchCV to optimize the hyper parameters of our logistic regression model, this time using ScikitLearn instead of Statsmodels."
   ]
  },
  {
   "cell_type": "code",
   "execution_count": 15,
   "metadata": {},
   "outputs": [
    {
     "data": {
      "text/plain": [
       "LogisticRegression(C=1292.9296464646466, class_weight=None, dual=False,\n",
       "                   fit_intercept=True, intercept_scaling=1, l1_ratio=None,\n",
       "                   max_iter=589589.1783567134, multi_class='warn', n_jobs=None,\n",
       "                   penalty='l2', random_state=None, solver='liblinear',\n",
       "                   tol=0.002011981981981982, verbose=0, warm_start=False)"
      ]
     },
     "execution_count": 15,
     "metadata": {},
     "output_type": "execute_result"
    }
   ],
   "source": [
    "# Specify logistic regression parameters and distributions to sample from\n",
    "param_dist = {'tol' : np.linspace(.00001, 1, 1000),\n",
    "              'C': np.linspace(.001, 2000, 100),\n",
    "              'max_iter': np.linspace(1000, 100**3, 500)}\n",
    "\n",
    "logreg = LogisticRegression(solver = 'liblinear')\n",
    "\n",
    "rs = RandomizedSearchCV(logreg, param_dist, n_iter = 1000)\n",
    "rs.fit(X_train, y_train)\n",
    "\n",
    "# Print optimized hyper parameter values\n",
    "rs.best_estimator_"
   ]
  },
  {
   "cell_type": "markdown",
   "metadata": {},
   "source": [
    "**Re-run model using optimized hyper parameters.**"
   ]
  },
  {
   "cell_type": "code",
   "execution_count": 16,
   "metadata": {},
   "outputs": [
    {
     "data": {
      "text/plain": [
       "LogisticRegression(C=1656, class_weight=None, dual=False, fit_intercept=True,\n",
       "                   intercept_scaling=1, l1_ratio=None, max_iter=751751,\n",
       "                   multi_class='warn', n_jobs=None, penalty='l2',\n",
       "                   random_state=2020, solver='liblinear', tol=0.005, verbose=0,\n",
       "                   warm_start=False)"
      ]
     },
     "execution_count": 16,
     "metadata": {},
     "output_type": "execute_result"
    }
   ],
   "source": [
    "logreg = LogisticRegression(fit_intercept=True, C=1656, \n",
    "                            solver='liblinear', random_state=2020, \n",
    "                            max_iter = 751751, tol = 0.005)\n",
    "logreg.fit(X_train, y_train)"
   ]
  },
  {
   "cell_type": "markdown",
   "metadata": {},
   "source": [
    "**Result**"
   ]
  },
  {
   "cell_type": "code",
   "execution_count": 17,
   "metadata": {},
   "outputs": [
    {
     "data": {
      "text/plain": [
       "0.636"
      ]
     },
     "execution_count": 17,
     "metadata": {},
     "output_type": "execute_result"
    }
   ],
   "source": [
    "rs.score(X_train, y_train)"
   ]
  },
  {
   "cell_type": "markdown",
   "metadata": {},
   "source": [
    "This score represents the mean accuracy of our model. While low, it is certainly better than randomized ad placement. We analyze these results below."
   ]
  },
  {
   "cell_type": "markdown",
   "metadata": {},
   "source": [
    "### Cross-validate Model Performance\n",
    "Assess model performance across 3 different folds of the training dataset."
   ]
  },
  {
   "cell_type": "code",
   "execution_count": 18,
   "metadata": {},
   "outputs": [
    {
     "data": {
      "text/plain": [
       "array([0.62 , 0.62 , 0.648])"
      ]
     },
     "execution_count": 18,
     "metadata": {},
     "output_type": "execute_result"
    }
   ],
   "source": [
    "cross_val_score(logreg, X_train, y_train, cv=3)"
   ]
  },
  {
   "cell_type": "markdown",
   "metadata": {},
   "source": [
    "Our variance among training sample sets is low and matches the score for the entire training set."
   ]
  },
  {
   "cell_type": "markdown",
   "metadata": {},
   "source": [
    "### Testing the Model"
   ]
  },
  {
   "cell_type": "code",
   "execution_count": 19,
   "metadata": {
    "scrolled": true
   },
   "outputs": [
    {
     "data": {
      "text/plain": [
       "0.664"
      ]
     },
     "execution_count": 19,
     "metadata": {},
     "output_type": "execute_result"
    }
   ],
   "source": [
    "# Input test data for the first time\n",
    "rs.score(X_test, y_test)"
   ]
  },
  {
   "cell_type": "markdown",
   "metadata": {},
   "source": [
    "This score is very close to that of the training set; **our model is precise.** We investigate precision more closely below."
   ]
  },
  {
   "cell_type": "markdown",
   "metadata": {},
   "source": [
    "### Analyzing the Model"
   ]
  },
  {
   "cell_type": "markdown",
   "metadata": {},
   "source": [
    "**Assess ROC curves and difference in area under ROC curves.**"
   ]
  },
  {
   "cell_type": "code",
   "execution_count": 20,
   "metadata": {},
   "outputs": [
    {
     "name": "stdout",
     "output_type": "stream",
     "text": [
      "Train AUC: 0.6884195555555556\n",
      "Test AUC: 0.6648959999999999\n"
     ]
    },
    {
     "data": {
      "image/png": "[encoded data removed]",
      "text/plain": [
       "<Figure size 720x576 with 1 Axes>"
      ]
     },
     "metadata": {
      "needs_background": "light"
     },
     "output_type": "display_data"
    }
   ],
   "source": [
    "produce_roc_curve(X_train, X_test, y_train, y_test)"
   ]
  },
  {
   "cell_type": "markdown",
   "metadata": {},
   "source": [
    "A small difference between the training and test AUC scores means higher model accuracy.\n",
    " - All predictors (35): ~0.06 \n",
    " - Culled predictors (6): ~0.02 \n",
    " \n",
    "A greater psuedo-R-squared means that our model explains more variance in the training set.\n",
    "- All predictors (35): ~0.08 \n",
    "- Culled predictors (6): ~0.06\n",
    "\n",
    "Therefore, our model sacrifices stronger fit - or overfitting - for higher predictive accuracy.\n",
    "\n",
    "The Test ROC curve shows that TPR increases faster than FPR at low rates. The slope at low rates is more consistent for the model using culled predictors. At high rates, the curve slope decreases, as expected."
   ]
  },
  {
   "cell_type": "markdown",
   "metadata": {},
   "source": [
    "The changes in these differences are very small (~0.002), so we will keep the original reegularization parameter."
   ]
  },
  {
   "cell_type": "markdown",
   "metadata": {},
   "source": [
    "### Confusion matrix for TRAIN data"
   ]
  },
  {
   "cell_type": "code",
   "execution_count": 21,
   "metadata": {},
   "outputs": [
    {
     "data": {
      "text/html": [
       "<div>\n",
       "<style scoped>\n",
       "    .dataframe tbody tr th:only-of-type {\n",
       "        vertical-align: middle;\n",
       "    }\n",
       "\n",
       "    .dataframe tbody tr th {\n",
       "        vertical-align: top;\n",
       "    }\n",
       "\n",
       "    .dataframe thead th {\n",
       "        text-align: right;\n",
       "    }\n",
       "</style>\n",
       "<table border=\"1\" class=\"dataframe\">\n",
       "  <thead>\n",
       "    <tr style=\"text-align: right;\">\n",
       "      <th></th>\n",
       "      <th>Predicted: Few Likes</th>\n",
       "      <th>Predicted: High Likes</th>\n",
       "    </tr>\n",
       "  </thead>\n",
       "  <tbody>\n",
       "    <tr>\n",
       "      <td>Actual: Few Likes</td>\n",
       "      <td>251</td>\n",
       "      <td>124</td>\n",
       "    </tr>\n",
       "    <tr>\n",
       "      <td>Actual: High Likes</td>\n",
       "      <td>149</td>\n",
       "      <td>226</td>\n",
       "    </tr>\n",
       "  </tbody>\n",
       "</table>\n",
       "</div>"
      ],
      "text/plain": [
       "                    Predicted: Few Likes  Predicted: High Likes\n",
       "Actual: Few Likes                    251                    124\n",
       "Actual: High Likes                   149                    226"
      ]
     },
     "execution_count": 21,
     "metadata": {},
     "output_type": "execute_result"
    }
   ],
   "source": [
    "predictions = logreg.predict(X_train)\n",
    "actual = y_train\n",
    "\n",
    "conf_mat_1 = pd.DataFrame(confusion_matrix(actual, predictions), \n",
    "             columns = ['Predicted: Few Likes', 'Predicted: High Likes'], \n",
    "             index = ['Actual: Few Likes', 'Actual: High Likes'])\n",
    "conf_mat_1"
   ]
  },
  {
   "cell_type": "code",
   "execution_count": 22,
   "metadata": {},
   "outputs": [
    {
     "data": {
      "image/png": "[encoded data removed]",
      "text/plain": [
       "<Figure size 864x720 with 2 Axes>"
      ]
     },
     "metadata": {
      "needs_background": "light"
     },
     "output_type": "display_data"
    }
   ],
   "source": [
    "fig, ax = plt.subplots()\n",
    "fig.set_size_inches(12,10)\n",
    "cm_1 = conf_mat_1.astype('float') / conf_mat_1.sum(axis=1)[:, np.newaxis]\n",
    "sns.heatmap(cm_1, annot=False, ax = ax, cmap=\"Blues\", cbar=True)\n",
    "ax.set_xlabel('Predicted', fontsize=20, weight = 'bold');\n",
    "ax.set_ylabel('True', fontsize=20, weight = 'bold'); \n",
    "ax.set_title('Confusion Matrix - Train Data', fontsize=20, weight = 'bold'); \n",
    "ax.xaxis.set_ticklabels(['Loser', 'Winner'], fontsize=12, weight = 'bold');\n",
    "ax.yaxis.set_ticklabels(['Loser', 'Winner'], fontsize=12, weight = 'bold');\n",
    "plt.show()"
   ]
  },
  {
   "cell_type": "markdown",
   "metadata": {},
   "source": [
    "**Confusion Matrix Results (TRAIN DATA)**"
   ]
  },
  {
   "cell_type": "markdown",
   "metadata": {},
   "source": [
    "<b>Out of 750 observations:</b>\n",
    "\n",
    "- 226 recipes were predicted as a \"winner\" when it really was a \"winner\". <b>(True Positives)</b>\n",
    "- 124 recipes were predicted as a \"winner\" when it really was a \"loser\". <b>(False Positives)</b>\n",
    "- 251 recipes were predicted as a \"loser\" when it really was a \"loser\". <b>(True Negatives)</b>\n",
    "- 149 recipes were predicted as a \"loser\" when it really was a \"winner\". <b>(False Negatives)</b>"
   ]
  },
  {
   "cell_type": "markdown",
   "metadata": {},
   "source": [
    "___"
   ]
  },
  {
   "cell_type": "markdown",
   "metadata": {},
   "source": [
    "### Confusion matrix for TEST data"
   ]
  },
  {
   "cell_type": "code",
   "execution_count": 23,
   "metadata": {},
   "outputs": [
    {
     "data": {
      "text/html": [
       "<div>\n",
       "<style scoped>\n",
       "    .dataframe tbody tr th:only-of-type {\n",
       "        vertical-align: middle;\n",
       "    }\n",
       "\n",
       "    .dataframe tbody tr th {\n",
       "        vertical-align: top;\n",
       "    }\n",
       "\n",
       "    .dataframe thead th {\n",
       "        text-align: right;\n",
       "    }\n",
       "</style>\n",
       "<table border=\"1\" class=\"dataframe\">\n",
       "  <thead>\n",
       "    <tr style=\"text-align: right;\">\n",
       "      <th></th>\n",
       "      <th>Predicted: Few Likes</th>\n",
       "      <th>Predicted: High Likes</th>\n",
       "    </tr>\n",
       "  </thead>\n",
       "  <tbody>\n",
       "    <tr>\n",
       "      <td>Actual: Few Likes</td>\n",
       "      <td>89</td>\n",
       "      <td>36</td>\n",
       "    </tr>\n",
       "    <tr>\n",
       "      <td>Actual: High Likes</td>\n",
       "      <td>48</td>\n",
       "      <td>77</td>\n",
       "    </tr>\n",
       "  </tbody>\n",
       "</table>\n",
       "</div>"
      ],
      "text/plain": [
       "                    Predicted: Few Likes  Predicted: High Likes\n",
       "Actual: Few Likes                     89                     36\n",
       "Actual: High Likes                    48                     77"
      ]
     },
     "execution_count": 23,
     "metadata": {},
     "output_type": "execute_result"
    }
   ],
   "source": [
    "predictions_test = logreg.predict(X_test)\n",
    "actual_test = y_test\n",
    "\n",
    "conf_mat_2 = pd.DataFrame(confusion_matrix(actual_test, predictions_test), \n",
    "             columns = ['Predicted: Few Likes', 'Predicted: High Likes'], \n",
    "             index = ['Actual: Few Likes', 'Actual: High Likes'])\n",
    "conf_mat_2"
   ]
  },
  {
   "cell_type": "code",
   "execution_count": 24,
   "metadata": {},
   "outputs": [
    {
     "data": {
      "image/png": "[encoded data removed]",
      "text/plain": [
       "<Figure size 864x720 with 2 Axes>"
      ]
     },
     "metadata": {
      "needs_background": "light"
     },
     "output_type": "display_data"
    }
   ],
   "source": [
    "fig, ax = plt.subplots()\n",
    "fig.set_size_inches(12,10)\n",
    "cm_2 = conf_mat_2.astype('float') / conf_mat_2.sum(axis=1)[:, np.newaxis]\n",
    "sns.heatmap(cm_2, annot=False, ax = ax, cmap=\"Greens\", cbar=True)\n",
    "ax.set_xlabel('Predicted', fontsize=20, weight = 'bold');\n",
    "ax.set_ylabel('True', fontsize=20, weight = 'bold'); \n",
    "ax.set_title('Confusion Matrix - Test Data', fontsize=20, weight = 'bold'); \n",
    "ax.xaxis.set_ticklabels(['Loser', 'Winner'], fontsize=12, weight = 'bold');\n",
    "ax.yaxis.set_ticklabels(['Winner', 'Loser'], fontsize=12, weight = 'bold');\n",
    "plt.show()\n",
    "# plt.savefig(\"matrix.pdf\", dpi=300)"
   ]
  },
  {
   "cell_type": "markdown",
   "metadata": {},
   "source": [
    "**Confusion Matrix Results (TEST DATA)**"
   ]
  },
  {
   "cell_type": "markdown",
   "metadata": {},
   "source": [
    "<b>Out of 250 observations:</b>\n",
    "\n",
    "- 77 recipes were predicted as a \"winner\" when it really was a \"winner\". <b>(True Positives)</b>\n",
    "- 36 recipes were predicted as a \"winner\" when it really was a \"loser\". <b>(False Positives)</b>\n",
    "- 89 recipes were predicted as a \"loser\" when it really was a \"loser\". <b>(True Negatives)</b>\n",
    "- 48 recipes were predicted as a \"loser\" when it really was a \"winner\". <b>(False Negatives)</b>"
   ]
  },
  {
   "cell_type": "markdown",
   "metadata": {},
   "source": [
    "___"
   ]
  },
  {
   "cell_type": "markdown",
   "metadata": {},
   "source": [
    "### Conclusion and Recommendations"
   ]
  },
  {
   "cell_type": "markdown",
   "metadata": {},
   "source": [
    "- We want to <b>maximize</b> the potential to <b>predict correctly and make money.</b>\n",
    "- We want to <b>minimize</b> the potential to <b>predict wrong and waste money.</b>\n",
    "- So, the <b>“precision”</b> of our model is the most important metric to consider.\n",
    "\n",
    "\n",
    "- Precision = Number Of Good Investments / Total Number Of Investments\n",
    "- Precision = True Positives / (True Positives + False Positives)\n",
    "- <b>Precision = 77 / (77 + 36) = 68.1%</b>"
   ]
  },
  {
   "cell_type": "markdown",
   "metadata": {},
   "source": [
    "<b>With a precision of 68.1% on our test data, for every 3 ads invested, 2 ads will be a good investment and 1 ad may be a loss.<br>\n",
    "With these odds, we recommend that our clients follow the model to invest in ads on Spoonacular!"
   ]
  },
  {
   "cell_type": "markdown",
   "metadata": {},
   "source": [
    "___"
   ]
  },
  {
   "cell_type": "markdown",
   "metadata": {},
   "source": [
    "### Future Improvements For Project"
   ]
  },
  {
   "cell_type": "markdown",
   "metadata": {},
   "source": [
    "- Obtain web-traffic metrics instead of using “Likes\" as a proxy.\n",
    "- Pull more data from the Spoonacular database.\n",
    "- Use Natural Language Processing (NLP) to obtain better predictors. "
   ]
  }
 ],
 "metadata": {
  "kernelspec": {
   "display_name": "Python 3",
   "language": "python",
   "name": "python3"
  },
  "language_info": {
   "codemirror_mode": {
    "name": "ipython",
    "version": 3
   },
   "file_extension": ".py",
   "mimetype": "text/x-python",
   "name": "python",
   "nbconvert_exporter": "python",
   "pygments_lexer": "ipython3",
   "version": "3.7.4"
  }
 },
 "nbformat": 4,
 "nbformat_minor": 2
}
