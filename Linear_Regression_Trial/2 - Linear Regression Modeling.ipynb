{
 "cells": [
  {
   "cell_type": "markdown",
   "metadata": {},
   "source": [
    "# Modeling"
   ]
  },
  {
   "cell_type": "markdown",
   "metadata": {},
   "source": [
    "___"
   ]
  },
  {
   "cell_type": "markdown",
   "metadata": {},
   "source": [
    "### 1. Import Libraries"
   ]
  },
  {
   "cell_type": "code",
   "execution_count": 79,
   "metadata": {},
   "outputs": [],
   "source": [
    "import matplotlib.pyplot as plt\n",
    "import matplotlib.ticker as ticker\n",
    "%matplotlib inline\n",
    "import seaborn as sns\n",
    "import numpy as np\n",
    "import pandas as pd\n",
    "import requests\n",
    "import json\n",
    "import sklearn\n",
    "from scipy import stats\n",
    "from scipy.stats import norm\n",
    "from sklearn.utils import resample\n",
    "import pickle\n",
    "import statsmodels.api as sm\n",
    "from statsmodels.formula.api import ols\n",
    "import scipy.stats as stats\n",
    "from wordcloud import WordCloud\n",
    "import random\n",
    "from collections import Counter\n",
    "from statsmodels.stats.outliers_influence import variance_inflation_factor\n",
    "from sklearn.model_selection import train_test_split\n",
    "from sklearn.linear_model import LassoCV, Lasso, LinearRegression, Ridge\n",
    "from sklearn.preprocessing import StandardScaler"
   ]
  },
  {
   "cell_type": "markdown",
   "metadata": {},
   "source": [
    "___"
   ]
  },
  {
   "cell_type": "markdown",
   "metadata": {},
   "source": [
    "### 2. Expand maximum range of rows"
   ]
  },
  {
   "cell_type": "code",
   "execution_count": 2,
   "metadata": {},
   "outputs": [],
   "source": [
    "pd.set_option('display.max_rows', 1000)\n",
    "pd.set_option('display.max_columns', 1000)\n",
    "pd.set_option('display.width', 1000)"
   ]
  },
  {
   "cell_type": "markdown",
   "metadata": {},
   "source": [
    "___"
   ]
  },
  {
   "cell_type": "markdown",
   "metadata": {},
   "source": [
    "### 3. Load Data"
   ]
  },
  {
   "cell_type": "code",
   "execution_count": 3,
   "metadata": {},
   "outputs": [],
   "source": [
    "paleo = pd.read_csv('../Data/scaled_paleo.csv', index_col=0)\n",
    "primal = pd.read_csv('../Data/scaled_primal.csv', index_col=0) \n",
    "vegan = pd.read_csv('../Data/scaled_vegan.csv', index_col=0) \n",
    "vegetarian = pd.read_csv('../Data/scaled_vegetarian.csv', index_col=0) \n",
    "whole30 = pd.read_csv('../Data/scaled_whole30.csv', index_col=0)"
   ]
  },
  {
   "cell_type": "markdown",
   "metadata": {},
   "source": [
    "___"
   ]
  },
  {
   "cell_type": "markdown",
   "metadata": {},
   "source": [
    "### 4. Train / Test Split Data"
   ]
  },
  {
   "cell_type": "markdown",
   "metadata": {},
   "source": [
    "For train/test splits, as your dataset gets bigger and bigger, the split can lean more and more towards the \"train\" set. As your dataset gets really small (100 observations) then the split should be closer to 50/50 for train/test."
   ]
  },
  {
   "cell_type": "code",
   "execution_count": 4,
   "metadata": {},
   "outputs": [],
   "source": [
    "x_variables_1 = ['num_ingredients', \n",
    "              'pricePerServing', \n",
    "              'readyInMinutes', \n",
    "              'servings', \n",
    "              'weightWatcherSmartPoints', \n",
    "              'Calories', \n",
    "              'Fat', \n",
    "              'Saturated_Fat', \n",
    "              'Carbohydrates', \n",
    "              'Sugar', \n",
    "              'Cholesterol', \n",
    "              'Sodium', \n",
    "              'Protein', \n",
    "              'Vitamin_K', \n",
    "              'Vitamin_A', \n",
    "              'Vitamin_C', \n",
    "              'Manganese', \n",
    "              'Folate', \n",
    "              'Fiber', \n",
    "              'Copper', \n",
    "              'Magnesium', \n",
    "              'Phosphorus', \n",
    "              'Vitamin_B6', \n",
    "              'Potassium', \n",
    "              'Vitamin_B1', \n",
    "              'Iron', \n",
    "              'Vitamin_B2', \n",
    "              'Vitamin_E', \n",
    "              'Zinc', \n",
    "              'Vitamin_B5', \n",
    "              'Vitamin_B3', \n",
    "              'Calcium', \n",
    "              'Selenium', \n",
    "              'num_words_instructions', \n",
    "              'num_steps_instructions']"
   ]
  },
  {
   "cell_type": "code",
   "execution_count": 5,
   "metadata": {},
   "outputs": [],
   "source": [
    "predictors = vegetarian[x_variables_1]"
   ]
  },
  {
   "cell_type": "code",
   "execution_count": 6,
   "metadata": {},
   "outputs": [],
   "source": [
    "target = vegetarian['aggregateLikes']"
   ]
  },
  {
   "cell_type": "code",
   "execution_count": 7,
   "metadata": {},
   "outputs": [],
   "source": [
    "x_train, x_test, y_train, y_test = train_test_split(predictors, target, random_state = 2020, test_size = .25) "
   ]
  },
  {
   "cell_type": "markdown",
   "metadata": {},
   "source": [
    "___"
   ]
  },
  {
   "cell_type": "markdown",
   "metadata": {},
   "source": [
    "### 5. Run Regression 1, Fit, & Cull Non-Significant Predictors"
   ]
  },
  {
   "cell_type": "markdown",
   "metadata": {},
   "source": [
    "#### Regression 1 - fit to model, check for p-values less than 0.3"
   ]
  },
  {
   "cell_type": "code",
   "execution_count": 8,
   "metadata": {
    "scrolled": false
   },
   "outputs": [
    {
     "name": "stderr",
     "output_type": "stream",
     "text": [
      "/opt/anaconda3/envs/learn-env/lib/python3.6/site-packages/numpy/core/fromnumeric.py:2389: FutureWarning: Method .ptp is deprecated and will be removed in a future version. Use numpy.ptp instead.\n",
      "  return ptp(axis=axis, out=out, **kwargs)\n"
     ]
    },
    {
     "data": {
      "text/html": [
       "<table class=\"simpletable\">\n",
       "<caption>OLS Regression Results</caption>\n",
       "<tr>\n",
       "  <th>Dep. Variable:</th>     <td>aggregateLikes</td>  <th>  R-squared:         </th> <td>   0.173</td> \n",
       "</tr>\n",
       "<tr>\n",
       "  <th>Model:</th>                   <td>OLS</td>       <th>  Adj. R-squared:    </th> <td>   0.106</td> \n",
       "</tr>\n",
       "<tr>\n",
       "  <th>Method:</th>             <td>Least Squares</td>  <th>  F-statistic:       </th> <td>   2.598</td> \n",
       "</tr>\n",
       "<tr>\n",
       "  <th>Date:</th>             <td>Tue, 21 Jan 2020</td> <th>  Prob (F-statistic):</th> <td>3.93e-06</td> \n",
       "</tr>\n",
       "<tr>\n",
       "  <th>Time:</th>                 <td>14:47:22</td>     <th>  Log-Likelihood:    </th> <td> -5403.8</td> \n",
       "</tr>\n",
       "<tr>\n",
       "  <th>No. Observations:</th>      <td>   471</td>      <th>  AIC:               </th> <td>1.088e+04</td>\n",
       "</tr>\n",
       "<tr>\n",
       "  <th>Df Residuals:</th>          <td>   435</td>      <th>  BIC:               </th> <td>1.103e+04</td>\n",
       "</tr>\n",
       "<tr>\n",
       "  <th>Df Model:</th>              <td>    35</td>      <th>                     </th>     <td> </td>    \n",
       "</tr>\n",
       "<tr>\n",
       "  <th>Covariance Type:</th>      <td>nonrobust</td>    <th>                     </th>     <td> </td>    \n",
       "</tr>\n",
       "</table>\n",
       "<table class=\"simpletable\">\n",
       "<tr>\n",
       "              <td></td>                <th>coef</th>     <th>std err</th>      <th>t</th>      <th>P>|t|</th>  <th>[0.025</th>    <th>0.975]</th>  \n",
       "</tr>\n",
       "<tr>\n",
       "  <th>const</th>                    <td> 1899.4616</td> <td> 4404.677</td> <td>    0.431</td> <td> 0.667</td> <td>-6757.634</td> <td> 1.06e+04</td>\n",
       "</tr>\n",
       "<tr>\n",
       "  <th>num_ingredients</th>          <td> 1240.9808</td> <td> 1488.430</td> <td>    0.834</td> <td> 0.405</td> <td>-1684.429</td> <td> 4166.390</td>\n",
       "</tr>\n",
       "<tr>\n",
       "  <th>pricePerServing</th>          <td>-2534.0664</td> <td> 2664.038</td> <td>   -0.951</td> <td> 0.342</td> <td>-7770.053</td> <td> 2701.920</td>\n",
       "</tr>\n",
       "<tr>\n",
       "  <th>readyInMinutes</th>           <td> 2434.6581</td> <td> 1432.080</td> <td>    1.700</td> <td> 0.090</td> <td> -379.999</td> <td> 5249.315</td>\n",
       "</tr>\n",
       "<tr>\n",
       "  <th>servings</th>                 <td>-2173.0608</td> <td> 1421.548</td> <td>   -1.529</td> <td> 0.127</td> <td>-4967.017</td> <td>  620.896</td>\n",
       "</tr>\n",
       "<tr>\n",
       "  <th>weightWatcherSmartPoints</th> <td> -853.5684</td> <td> 6456.150</td> <td>   -0.132</td> <td> 0.895</td> <td>-1.35e+04</td> <td> 1.18e+04</td>\n",
       "</tr>\n",
       "<tr>\n",
       "  <th>Calories</th>                 <td> 1.133e+04</td> <td> 3.44e+04</td> <td>    0.330</td> <td> 0.742</td> <td>-5.62e+04</td> <td> 7.89e+04</td>\n",
       "</tr>\n",
       "<tr>\n",
       "  <th>Fat</th>                      <td>-6450.2818</td> <td> 1.98e+04</td> <td>   -0.326</td> <td> 0.744</td> <td>-4.53e+04</td> <td> 3.24e+04</td>\n",
       "</tr>\n",
       "<tr>\n",
       "  <th>Saturated_Fat</th>            <td>  661.8762</td> <td> 2363.526</td> <td>    0.280</td> <td> 0.780</td> <td>-3983.475</td> <td> 5307.228</td>\n",
       "</tr>\n",
       "<tr>\n",
       "  <th>Carbohydrates</th>            <td>-4329.5485</td> <td> 1.69e+04</td> <td>   -0.256</td> <td> 0.798</td> <td>-3.75e+04</td> <td> 2.89e+04</td>\n",
       "</tr>\n",
       "<tr>\n",
       "  <th>Sugar</th>                    <td> -808.5016</td> <td> 1992.874</td> <td>   -0.406</td> <td> 0.685</td> <td>-4725.362</td> <td> 3108.358</td>\n",
       "</tr>\n",
       "<tr>\n",
       "  <th>Cholesterol</th>              <td>-1.647e+04</td> <td> 1.12e+04</td> <td>   -1.475</td> <td> 0.141</td> <td>-3.84e+04</td> <td> 5481.580</td>\n",
       "</tr>\n",
       "<tr>\n",
       "  <th>Sodium</th>                   <td> 6606.1902</td> <td> 1321.048</td> <td>    5.001</td> <td> 0.000</td> <td> 4009.759</td> <td> 9202.622</td>\n",
       "</tr>\n",
       "<tr>\n",
       "  <th>Protein</th>                  <td>-1.659e+04</td> <td> 1.15e+04</td> <td>   -1.440</td> <td> 0.151</td> <td>-3.92e+04</td> <td> 6049.687</td>\n",
       "</tr>\n",
       "<tr>\n",
       "  <th>Vitamin_K</th>                <td>-2258.5241</td> <td> 1681.420</td> <td>   -1.343</td> <td> 0.180</td> <td>-5563.242</td> <td> 1046.194</td>\n",
       "</tr>\n",
       "<tr>\n",
       "  <th>Vitamin_A</th>                <td> -887.1487</td> <td> 1269.095</td> <td>   -0.699</td> <td> 0.485</td> <td>-3381.469</td> <td> 1607.172</td>\n",
       "</tr>\n",
       "<tr>\n",
       "  <th>Vitamin_C</th>                <td>  -69.1657</td> <td> 1714.269</td> <td>   -0.040</td> <td> 0.968</td> <td>-3438.446</td> <td> 3300.115</td>\n",
       "</tr>\n",
       "<tr>\n",
       "  <th>Manganese</th>                <td> 1060.3634</td> <td> 2013.020</td> <td>    0.527</td> <td> 0.599</td> <td>-2896.091</td> <td> 5016.817</td>\n",
       "</tr>\n",
       "<tr>\n",
       "  <th>Folate</th>                   <td>  -89.9394</td> <td> 2248.162</td> <td>   -0.040</td> <td> 0.968</td> <td>-4508.549</td> <td> 4328.671</td>\n",
       "</tr>\n",
       "<tr>\n",
       "  <th>Fiber</th>                    <td>-5614.5450</td> <td> 2960.986</td> <td>   -1.896</td> <td> 0.059</td> <td>-1.14e+04</td> <td>  205.073</td>\n",
       "</tr>\n",
       "<tr>\n",
       "  <th>Copper</th>                   <td> -997.3799</td> <td> 1288.200</td> <td>   -0.774</td> <td> 0.439</td> <td>-3529.250</td> <td> 1534.490</td>\n",
       "</tr>\n",
       "<tr>\n",
       "  <th>Magnesium</th>                <td>-2797.4663</td> <td> 3189.384</td> <td>   -0.877</td> <td> 0.381</td> <td>-9065.985</td> <td> 3471.053</td>\n",
       "</tr>\n",
       "<tr>\n",
       "  <th>Phosphorus</th>               <td> 7818.6493</td> <td> 4769.958</td> <td>    1.639</td> <td> 0.102</td> <td>-1556.382</td> <td> 1.72e+04</td>\n",
       "</tr>\n",
       "<tr>\n",
       "  <th>Vitamin_B6</th>               <td>-4132.3764</td> <td> 3186.117</td> <td>   -1.297</td> <td> 0.195</td> <td>-1.04e+04</td> <td> 2129.721</td>\n",
       "</tr>\n",
       "<tr>\n",
       "  <th>Potassium</th>                <td>  188.3991</td> <td> 2890.608</td> <td>    0.065</td> <td> 0.948</td> <td>-5492.895</td> <td> 5869.693</td>\n",
       "</tr>\n",
       "<tr>\n",
       "  <th>Vitamin_B1</th>               <td>-2817.3884</td> <td> 3714.115</td> <td>   -0.759</td> <td> 0.449</td> <td>-1.01e+04</td> <td> 4482.453</td>\n",
       "</tr>\n",
       "<tr>\n",
       "  <th>Iron</th>                     <td> -220.5380</td> <td> 2041.372</td> <td>   -0.108</td> <td> 0.914</td> <td>-4232.716</td> <td> 3791.640</td>\n",
       "</tr>\n",
       "<tr>\n",
       "  <th>Vitamin_B2</th>               <td>   1.2e+04</td> <td> 3838.364</td> <td>    3.126</td> <td> 0.002</td> <td> 4455.343</td> <td> 1.95e+04</td>\n",
       "</tr>\n",
       "<tr>\n",
       "  <th>Vitamin_E</th>                <td>-1135.7953</td> <td> 2097.471</td> <td>   -0.542</td> <td> 0.588</td> <td>-5258.232</td> <td> 2986.641</td>\n",
       "</tr>\n",
       "<tr>\n",
       "  <th>Zinc</th>                     <td> 4802.7104</td> <td> 5091.051</td> <td>    0.943</td> <td> 0.346</td> <td>-5203.406</td> <td> 1.48e+04</td>\n",
       "</tr>\n",
       "<tr>\n",
       "  <th>Vitamin_B5</th>               <td> 6967.6527</td> <td> 4598.299</td> <td>    1.515</td> <td> 0.130</td> <td>-2069.993</td> <td>  1.6e+04</td>\n",
       "</tr>\n",
       "<tr>\n",
       "  <th>Vitamin_B3</th>               <td> 1585.8341</td> <td> 7095.828</td> <td>    0.223</td> <td> 0.823</td> <td>-1.24e+04</td> <td> 1.55e+04</td>\n",
       "</tr>\n",
       "<tr>\n",
       "  <th>Calcium</th>                  <td>-2591.0158</td> <td> 2682.347</td> <td>   -0.966</td> <td> 0.335</td> <td>-7862.988</td> <td> 2680.956</td>\n",
       "</tr>\n",
       "<tr>\n",
       "  <th>Selenium</th>                 <td>-1549.0454</td> <td> 3742.412</td> <td>   -0.414</td> <td> 0.679</td> <td>-8904.504</td> <td> 5806.413</td>\n",
       "</tr>\n",
       "<tr>\n",
       "  <th>num_words_instructions</th>   <td> 1175.7399</td> <td> 1664.456</td> <td>    0.706</td> <td> 0.480</td> <td>-2095.636</td> <td> 4447.116</td>\n",
       "</tr>\n",
       "<tr>\n",
       "  <th>num_steps_instructions</th>   <td>-1029.7493</td> <td> 1604.663</td> <td>   -0.642</td> <td> 0.521</td> <td>-4183.606</td> <td> 2124.107</td>\n",
       "</tr>\n",
       "</table>\n",
       "<table class=\"simpletable\">\n",
       "<tr>\n",
       "  <th>Omnibus:</th>       <td>608.620</td> <th>  Durbin-Watson:     </th> <td>   2.019</td> \n",
       "</tr>\n",
       "<tr>\n",
       "  <th>Prob(Omnibus):</th> <td> 0.000</td>  <th>  Jarque-Bera (JB):  </th> <td>63702.639</td>\n",
       "</tr>\n",
       "<tr>\n",
       "  <th>Skew:</th>          <td> 6.404</td>  <th>  Prob(JB):          </th> <td>    0.00</td> \n",
       "</tr>\n",
       "<tr>\n",
       "  <th>Kurtosis:</th>      <td>58.516</td>  <th>  Cond. No.          </th> <td>    123.</td> \n",
       "</tr>\n",
       "</table><br/><br/>Warnings:<br/>[1] Standard Errors assume that the covariance matrix of the errors is correctly specified."
      ],
      "text/plain": [
       "<class 'statsmodels.iolib.summary.Summary'>\n",
       "\"\"\"\n",
       "                            OLS Regression Results                            \n",
       "==============================================================================\n",
       "Dep. Variable:         aggregateLikes   R-squared:                       0.173\n",
       "Model:                            OLS   Adj. R-squared:                  0.106\n",
       "Method:                 Least Squares   F-statistic:                     2.598\n",
       "Date:                Tue, 21 Jan 2020   Prob (F-statistic):           3.93e-06\n",
       "Time:                        14:47:22   Log-Likelihood:                -5403.8\n",
       "No. Observations:                 471   AIC:                         1.088e+04\n",
       "Df Residuals:                     435   BIC:                         1.103e+04\n",
       "Df Model:                          35                                         \n",
       "Covariance Type:            nonrobust                                         \n",
       "============================================================================================\n",
       "                               coef    std err          t      P>|t|      [0.025      0.975]\n",
       "--------------------------------------------------------------------------------------------\n",
       "const                     1899.4616   4404.677      0.431      0.667   -6757.634    1.06e+04\n",
       "num_ingredients           1240.9808   1488.430      0.834      0.405   -1684.429    4166.390\n",
       "pricePerServing          -2534.0664   2664.038     -0.951      0.342   -7770.053    2701.920\n",
       "readyInMinutes            2434.6581   1432.080      1.700      0.090    -379.999    5249.315\n",
       "servings                 -2173.0608   1421.548     -1.529      0.127   -4967.017     620.896\n",
       "weightWatcherSmartPoints  -853.5684   6456.150     -0.132      0.895   -1.35e+04    1.18e+04\n",
       "Calories                  1.133e+04   3.44e+04      0.330      0.742   -5.62e+04    7.89e+04\n",
       "Fat                      -6450.2818   1.98e+04     -0.326      0.744   -4.53e+04    3.24e+04\n",
       "Saturated_Fat              661.8762   2363.526      0.280      0.780   -3983.475    5307.228\n",
       "Carbohydrates            -4329.5485   1.69e+04     -0.256      0.798   -3.75e+04    2.89e+04\n",
       "Sugar                     -808.5016   1992.874     -0.406      0.685   -4725.362    3108.358\n",
       "Cholesterol              -1.647e+04   1.12e+04     -1.475      0.141   -3.84e+04    5481.580\n",
       "Sodium                    6606.1902   1321.048      5.001      0.000    4009.759    9202.622\n",
       "Protein                  -1.659e+04   1.15e+04     -1.440      0.151   -3.92e+04    6049.687\n",
       "Vitamin_K                -2258.5241   1681.420     -1.343      0.180   -5563.242    1046.194\n",
       "Vitamin_A                 -887.1487   1269.095     -0.699      0.485   -3381.469    1607.172\n",
       "Vitamin_C                  -69.1657   1714.269     -0.040      0.968   -3438.446    3300.115\n",
       "Manganese                 1060.3634   2013.020      0.527      0.599   -2896.091    5016.817\n",
       "Folate                     -89.9394   2248.162     -0.040      0.968   -4508.549    4328.671\n",
       "Fiber                    -5614.5450   2960.986     -1.896      0.059   -1.14e+04     205.073\n",
       "Copper                    -997.3799   1288.200     -0.774      0.439   -3529.250    1534.490\n",
       "Magnesium                -2797.4663   3189.384     -0.877      0.381   -9065.985    3471.053\n",
       "Phosphorus                7818.6493   4769.958      1.639      0.102   -1556.382    1.72e+04\n",
       "Vitamin_B6               -4132.3764   3186.117     -1.297      0.195   -1.04e+04    2129.721\n",
       "Potassium                  188.3991   2890.608      0.065      0.948   -5492.895    5869.693\n",
       "Vitamin_B1               -2817.3884   3714.115     -0.759      0.449   -1.01e+04    4482.453\n",
       "Iron                      -220.5380   2041.372     -0.108      0.914   -4232.716    3791.640\n",
       "Vitamin_B2                  1.2e+04   3838.364      3.126      0.002    4455.343    1.95e+04\n",
       "Vitamin_E                -1135.7953   2097.471     -0.542      0.588   -5258.232    2986.641\n",
       "Zinc                      4802.7104   5091.051      0.943      0.346   -5203.406    1.48e+04\n",
       "Vitamin_B5                6967.6527   4598.299      1.515      0.130   -2069.993     1.6e+04\n",
       "Vitamin_B3                1585.8341   7095.828      0.223      0.823   -1.24e+04    1.55e+04\n",
       "Calcium                  -2591.0158   2682.347     -0.966      0.335   -7862.988    2680.956\n",
       "Selenium                 -1549.0454   3742.412     -0.414      0.679   -8904.504    5806.413\n",
       "num_words_instructions    1175.7399   1664.456      0.706      0.480   -2095.636    4447.116\n",
       "num_steps_instructions   -1029.7493   1604.663     -0.642      0.521   -4183.606    2124.107\n",
       "==============================================================================\n",
       "Omnibus:                      608.620   Durbin-Watson:                   2.019\n",
       "Prob(Omnibus):                  0.000   Jarque-Bera (JB):            63702.639\n",
       "Skew:                           6.404   Prob(JB):                         0.00\n",
       "Kurtosis:                      58.516   Cond. No.                         123.\n",
       "==============================================================================\n",
       "\n",
       "Warnings:\n",
       "[1] Standard Errors assume that the covariance matrix of the errors is correctly specified.\n",
       "\"\"\""
      ]
     },
     "execution_count": 8,
     "metadata": {},
     "output_type": "execute_result"
    }
   ],
   "source": [
    "x = x_train #predictor variables\n",
    "y = y_train #target variable\n",
    "x = sm.add_constant(x) #add (1) as the constant since we are using statsmodels\n",
    "lr = sm.OLS(y, x, hasconst= True) #assign to the x and y variables with constant to the sm.OLS() function\n",
    "results = lr.fit() #assign the result of the OLS to fit the data\n",
    "results.summary() #show the summary"
   ]
  },
  {
   "cell_type": "markdown",
   "metadata": {},
   "source": [
    "#### Notes \n",
    "It looks like many variables are non-significant predictors for \"likes\" so we will use a fairly high alpha cutoff (0.3) in our round 1 culling of predictors."
   ]
  },
  {
   "cell_type": "markdown",
   "metadata": {},
   "source": [
    "#### Regression 2  - provide updated list of predictors (p < 0.3) and fit to model again, check for p-values less than 0.05"
   ]
  },
  {
   "cell_type": "code",
   "execution_count": 9,
   "metadata": {},
   "outputs": [],
   "source": [
    "x_train = x_train[[\n",
    "    'num_ingredients',  \n",
    "    'readyInMinutes', \n",
    "    'servings', \n",
    "    'Sodium',\n",
    "    'Vitamin_K', \n",
    "    'Fiber', \n",
    "    'Phosphorus', \n",
    "    'Vitamin_B1', \n",
    "    'Vitamin_B2', \n",
    "    'Vitamin_B5', \n",
    "    'num_steps_instructions']]"
   ]
  },
  {
   "cell_type": "code",
   "execution_count": 10,
   "metadata": {
    "scrolled": true
   },
   "outputs": [
    {
     "data": {
      "text/html": [
       "<table class=\"simpletable\">\n",
       "<caption>OLS Regression Results</caption>\n",
       "<tr>\n",
       "  <th>Dep. Variable:</th>     <td>aggregateLikes</td>  <th>  R-squared:         </th> <td>   0.120</td> \n",
       "</tr>\n",
       "<tr>\n",
       "  <th>Model:</th>                   <td>OLS</td>       <th>  Adj. R-squared:    </th> <td>   0.099</td> \n",
       "</tr>\n",
       "<tr>\n",
       "  <th>Method:</th>             <td>Least Squares</td>  <th>  F-statistic:       </th> <td>   5.671</td> \n",
       "</tr>\n",
       "<tr>\n",
       "  <th>Date:</th>             <td>Tue, 21 Jan 2020</td> <th>  Prob (F-statistic):</th> <td>1.39e-08</td> \n",
       "</tr>\n",
       "<tr>\n",
       "  <th>Time:</th>                 <td>14:47:38</td>     <th>  Log-Likelihood:    </th> <td> -5418.5</td> \n",
       "</tr>\n",
       "<tr>\n",
       "  <th>No. Observations:</th>      <td>   471</td>      <th>  AIC:               </th> <td>1.086e+04</td>\n",
       "</tr>\n",
       "<tr>\n",
       "  <th>Df Residuals:</th>          <td>   459</td>      <th>  BIC:               </th> <td>1.091e+04</td>\n",
       "</tr>\n",
       "<tr>\n",
       "  <th>Df Model:</th>              <td>    11</td>      <th>                     </th>     <td> </td>    \n",
       "</tr>\n",
       "<tr>\n",
       "  <th>Covariance Type:</th>      <td>nonrobust</td>    <th>                     </th>     <td> </td>    \n",
       "</tr>\n",
       "</table>\n",
       "<table class=\"simpletable\">\n",
       "<tr>\n",
       "             <td></td>               <th>coef</th>     <th>std err</th>      <th>t</th>      <th>P>|t|</th>  <th>[0.025</th>    <th>0.975]</th>  \n",
       "</tr>\n",
       "<tr>\n",
       "  <th>const</th>                  <td> 1.076e+04</td> <td> 1454.171</td> <td>    7.396</td> <td> 0.000</td> <td> 7897.566</td> <td> 1.36e+04</td>\n",
       "</tr>\n",
       "<tr>\n",
       "  <th>num_ingredients</th>        <td> 1718.2004</td> <td> 1335.307</td> <td>    1.287</td> <td> 0.199</td> <td> -905.872</td> <td> 4342.273</td>\n",
       "</tr>\n",
       "<tr>\n",
       "  <th>readyInMinutes</th>         <td> 1995.2089</td> <td> 1375.127</td> <td>    1.451</td> <td> 0.147</td> <td> -707.116</td> <td> 4697.534</td>\n",
       "</tr>\n",
       "<tr>\n",
       "  <th>servings</th>               <td>-1387.8394</td> <td> 1254.940</td> <td>   -1.106</td> <td> 0.269</td> <td>-3853.980</td> <td> 1078.302</td>\n",
       "</tr>\n",
       "<tr>\n",
       "  <th>Sodium</th>                 <td> 5486.5802</td> <td> 1159.758</td> <td>    4.731</td> <td> 0.000</td> <td> 3207.487</td> <td> 7765.674</td>\n",
       "</tr>\n",
       "<tr>\n",
       "  <th>Vitamin_K</th>              <td>-3468.9791</td> <td> 1157.952</td> <td>   -2.996</td> <td> 0.003</td> <td>-5744.524</td> <td>-1193.434</td>\n",
       "</tr>\n",
       "<tr>\n",
       "  <th>Fiber</th>                  <td>-5222.0584</td> <td> 1801.462</td> <td>   -2.899</td> <td> 0.004</td> <td>-8762.194</td> <td>-1681.922</td>\n",
       "</tr>\n",
       "<tr>\n",
       "  <th>Phosphorus</th>             <td>  493.1670</td> <td> 2323.284</td> <td>    0.212</td> <td> 0.832</td> <td>-4072.425</td> <td> 5058.759</td>\n",
       "</tr>\n",
       "<tr>\n",
       "  <th>Vitamin_B1</th>             <td>-3203.0933</td> <td> 2921.233</td> <td>   -1.096</td> <td> 0.273</td> <td>-8943.742</td> <td> 2537.555</td>\n",
       "</tr>\n",
       "<tr>\n",
       "  <th>Vitamin_B2</th>             <td> 3215.6180</td> <td> 2459.164</td> <td>    1.308</td> <td> 0.192</td> <td>-1616.997</td> <td> 8048.233</td>\n",
       "</tr>\n",
       "<tr>\n",
       "  <th>Vitamin_B5</th>             <td> 9226.3803</td> <td> 2953.015</td> <td>    3.124</td> <td> 0.002</td> <td> 3423.275</td> <td>  1.5e+04</td>\n",
       "</tr>\n",
       "<tr>\n",
       "  <th>num_steps_instructions</th> <td> -456.7005</td> <td> 1206.012</td> <td>   -0.379</td> <td> 0.705</td> <td>-2826.689</td> <td> 1913.288</td>\n",
       "</tr>\n",
       "</table>\n",
       "<table class=\"simpletable\">\n",
       "<tr>\n",
       "  <th>Omnibus:</th>       <td>631.672</td> <th>  Durbin-Watson:     </th> <td>   2.038</td> \n",
       "</tr>\n",
       "<tr>\n",
       "  <th>Prob(Omnibus):</th> <td> 0.000</td>  <th>  Jarque-Bera (JB):  </th> <td>71804.116</td>\n",
       "</tr>\n",
       "<tr>\n",
       "  <th>Skew:</th>          <td> 6.833</td>  <th>  Prob(JB):          </th> <td>    0.00</td> \n",
       "</tr>\n",
       "<tr>\n",
       "  <th>Kurtosis:</th>      <td>61.924</td>  <th>  Cond. No.          </th> <td>    5.64</td> \n",
       "</tr>\n",
       "</table><br/><br/>Warnings:<br/>[1] Standard Errors assume that the covariance matrix of the errors is correctly specified."
      ],
      "text/plain": [
       "<class 'statsmodels.iolib.summary.Summary'>\n",
       "\"\"\"\n",
       "                            OLS Regression Results                            \n",
       "==============================================================================\n",
       "Dep. Variable:         aggregateLikes   R-squared:                       0.120\n",
       "Model:                            OLS   Adj. R-squared:                  0.099\n",
       "Method:                 Least Squares   F-statistic:                     5.671\n",
       "Date:                Tue, 21 Jan 2020   Prob (F-statistic):           1.39e-08\n",
       "Time:                        14:47:38   Log-Likelihood:                -5418.5\n",
       "No. Observations:                 471   AIC:                         1.086e+04\n",
       "Df Residuals:                     459   BIC:                         1.091e+04\n",
       "Df Model:                          11                                         \n",
       "Covariance Type:            nonrobust                                         \n",
       "==========================================================================================\n",
       "                             coef    std err          t      P>|t|      [0.025      0.975]\n",
       "------------------------------------------------------------------------------------------\n",
       "const                   1.076e+04   1454.171      7.396      0.000    7897.566    1.36e+04\n",
       "num_ingredients         1718.2004   1335.307      1.287      0.199    -905.872    4342.273\n",
       "readyInMinutes          1995.2089   1375.127      1.451      0.147    -707.116    4697.534\n",
       "servings               -1387.8394   1254.940     -1.106      0.269   -3853.980    1078.302\n",
       "Sodium                  5486.5802   1159.758      4.731      0.000    3207.487    7765.674\n",
       "Vitamin_K              -3468.9791   1157.952     -2.996      0.003   -5744.524   -1193.434\n",
       "Fiber                  -5222.0584   1801.462     -2.899      0.004   -8762.194   -1681.922\n",
       "Phosphorus               493.1670   2323.284      0.212      0.832   -4072.425    5058.759\n",
       "Vitamin_B1             -3203.0933   2921.233     -1.096      0.273   -8943.742    2537.555\n",
       "Vitamin_B2              3215.6180   2459.164      1.308      0.192   -1616.997    8048.233\n",
       "Vitamin_B5              9226.3803   2953.015      3.124      0.002    3423.275     1.5e+04\n",
       "num_steps_instructions  -456.7005   1206.012     -0.379      0.705   -2826.689    1913.288\n",
       "==============================================================================\n",
       "Omnibus:                      631.672   Durbin-Watson:                   2.038\n",
       "Prob(Omnibus):                  0.000   Jarque-Bera (JB):            71804.116\n",
       "Skew:                           6.833   Prob(JB):                         0.00\n",
       "Kurtosis:                      61.924   Cond. No.                         5.64\n",
       "==============================================================================\n",
       "\n",
       "Warnings:\n",
       "[1] Standard Errors assume that the covariance matrix of the errors is correctly specified.\n",
       "\"\"\""
      ]
     },
     "execution_count": 10,
     "metadata": {},
     "output_type": "execute_result"
    }
   ],
   "source": [
    "x = x_train #predictor variables\n",
    "y = y_train #target variable\n",
    "x = sm.add_constant(x) #add (1) as the constant since we are using statsmodels\n",
    "lr = sm.OLS(y, x, hasconst= True) #assign to the x and y variables with constant to the sm.OLS() function\n",
    "results = lr.fit() #assign the result of the OLS to fit the data\n",
    "results.summary() #show the summary"
   ]
  },
  {
   "cell_type": "markdown",
   "metadata": {},
   "source": [
    "#### Notes \n",
    "Now that we are in round 2, we will use a lower alpha cutoff (0.05) in our culling of predictors."
   ]
  },
  {
   "cell_type": "markdown",
   "metadata": {},
   "source": [
    "#### Regression 3 -  provide updated list of predictors (p < .05) and fit to model again, check for p-values less than 0.05 again."
   ]
  },
  {
   "cell_type": "code",
   "execution_count": 11,
   "metadata": {},
   "outputs": [],
   "source": [
    "x_train = x_train[[\n",
    "    'num_ingredients',  \n",
    "    'Sodium',\n",
    "    'Vitamin_K', \n",
    "    'Fiber', \n",
    "    'Vitamin_B5']]"
   ]
  },
  {
   "cell_type": "code",
   "execution_count": 35,
   "metadata": {
    "scrolled": true
   },
   "outputs": [
    {
     "data": {
      "text/html": [
       "<table class=\"simpletable\">\n",
       "<caption>OLS Regression Results</caption>\n",
       "<tr>\n",
       "  <th>Dep. Variable:</th>     <td>aggregateLikes</td>  <th>  R-squared:         </th> <td>   0.104</td> \n",
       "</tr>\n",
       "<tr>\n",
       "  <th>Model:</th>                   <td>OLS</td>       <th>  Adj. R-squared:    </th> <td>   0.096</td> \n",
       "</tr>\n",
       "<tr>\n",
       "  <th>Method:</th>             <td>Least Squares</td>  <th>  F-statistic:       </th> <td>   13.53</td> \n",
       "</tr>\n",
       "<tr>\n",
       "  <th>Date:</th>             <td>Tue, 21 Jan 2020</td> <th>  Prob (F-statistic):</th> <td>1.94e-10</td> \n",
       "</tr>\n",
       "<tr>\n",
       "  <th>Time:</th>                 <td>15:01:56</td>     <th>  Log-Likelihood:    </th> <td> -5422.7</td> \n",
       "</tr>\n",
       "<tr>\n",
       "  <th>No. Observations:</th>      <td>   471</td>      <th>  AIC:               </th> <td>1.086e+04</td>\n",
       "</tr>\n",
       "<tr>\n",
       "  <th>Df Residuals:</th>          <td>   466</td>      <th>  BIC:               </th> <td>1.088e+04</td>\n",
       "</tr>\n",
       "<tr>\n",
       "  <th>Df Model:</th>              <td>     4</td>      <th>                     </th>     <td> </td>    \n",
       "</tr>\n",
       "<tr>\n",
       "  <th>Covariance Type:</th>      <td>nonrobust</td>    <th>                     </th>     <td> </td>    \n",
       "</tr>\n",
       "</table>\n",
       "<table class=\"simpletable\">\n",
       "<tr>\n",
       "       <td></td>         <th>coef</th>     <th>std err</th>      <th>t</th>      <th>P>|t|</th>  <th>[0.025</th>    <th>0.975]</th>  \n",
       "</tr>\n",
       "<tr>\n",
       "  <th>const</th>      <td> 1.054e+04</td> <td> 1345.864</td> <td>    7.834</td> <td> 0.000</td> <td> 7898.151</td> <td> 1.32e+04</td>\n",
       "</tr>\n",
       "<tr>\n",
       "  <th>Sodium</th>     <td> 6053.6953</td> <td> 1111.490</td> <td>    5.446</td> <td> 0.000</td> <td> 3869.542</td> <td> 8237.849</td>\n",
       "</tr>\n",
       "<tr>\n",
       "  <th>Vitamin_K</th>  <td>-3124.5436</td> <td> 1134.626</td> <td>   -2.754</td> <td> 0.006</td> <td>-5354.161</td> <td> -894.926</td>\n",
       "</tr>\n",
       "<tr>\n",
       "  <th>Fiber</th>      <td>-5502.6165</td> <td> 1492.006</td> <td>   -3.688</td> <td> 0.000</td> <td>-8434.509</td> <td>-2570.724</td>\n",
       "</tr>\n",
       "<tr>\n",
       "  <th>Vitamin_B5</th> <td> 1.069e+04</td> <td> 2663.336</td> <td>    4.013</td> <td> 0.000</td> <td> 5454.288</td> <td> 1.59e+04</td>\n",
       "</tr>\n",
       "</table>\n",
       "<table class=\"simpletable\">\n",
       "<tr>\n",
       "  <th>Omnibus:</th>       <td>639.187</td> <th>  Durbin-Watson:     </th> <td>   2.035</td> \n",
       "</tr>\n",
       "<tr>\n",
       "  <th>Prob(Omnibus):</th> <td> 0.000</td>  <th>  Jarque-Bera (JB):  </th> <td>74645.926</td>\n",
       "</tr>\n",
       "<tr>\n",
       "  <th>Skew:</th>          <td> 6.977</td>  <th>  Prob(JB):          </th> <td>    0.00</td> \n",
       "</tr>\n",
       "<tr>\n",
       "  <th>Kurtosis:</th>      <td>63.074</td>  <th>  Cond. No.          </th> <td>    3.61</td> \n",
       "</tr>\n",
       "</table><br/><br/>Warnings:<br/>[1] Standard Errors assume that the covariance matrix of the errors is correctly specified."
      ],
      "text/plain": [
       "<class 'statsmodels.iolib.summary.Summary'>\n",
       "\"\"\"\n",
       "                            OLS Regression Results                            \n",
       "==============================================================================\n",
       "Dep. Variable:         aggregateLikes   R-squared:                       0.104\n",
       "Model:                            OLS   Adj. R-squared:                  0.096\n",
       "Method:                 Least Squares   F-statistic:                     13.53\n",
       "Date:                Tue, 21 Jan 2020   Prob (F-statistic):           1.94e-10\n",
       "Time:                        15:01:56   Log-Likelihood:                -5422.7\n",
       "No. Observations:                 471   AIC:                         1.086e+04\n",
       "Df Residuals:                     466   BIC:                         1.088e+04\n",
       "Df Model:                           4                                         \n",
       "Covariance Type:            nonrobust                                         \n",
       "==============================================================================\n",
       "                 coef    std err          t      P>|t|      [0.025      0.975]\n",
       "------------------------------------------------------------------------------\n",
       "const       1.054e+04   1345.864      7.834      0.000    7898.151    1.32e+04\n",
       "Sodium      6053.6953   1111.490      5.446      0.000    3869.542    8237.849\n",
       "Vitamin_K  -3124.5436   1134.626     -2.754      0.006   -5354.161    -894.926\n",
       "Fiber      -5502.6165   1492.006     -3.688      0.000   -8434.509   -2570.724\n",
       "Vitamin_B5  1.069e+04   2663.336      4.013      0.000    5454.288    1.59e+04\n",
       "==============================================================================\n",
       "Omnibus:                      639.187   Durbin-Watson:                   2.035\n",
       "Prob(Omnibus):                  0.000   Jarque-Bera (JB):            74645.926\n",
       "Skew:                           6.977   Prob(JB):                         0.00\n",
       "Kurtosis:                      63.074   Cond. No.                         3.61\n",
       "==============================================================================\n",
       "\n",
       "Warnings:\n",
       "[1] Standard Errors assume that the covariance matrix of the errors is correctly specified.\n",
       "\"\"\""
      ]
     },
     "execution_count": 35,
     "metadata": {},
     "output_type": "execute_result"
    }
   ],
   "source": [
    "x = x_train #predictor variables\n",
    "y = y_train #target variable\n",
    "x = sm.add_constant(x) #add (1) as the constant since we are using statsmodels\n",
    "lr = sm.OLS(y, x, hasconst= True) #assign to the x and y variables with constant to the sm.OLS() function\n",
    "results = lr.fit() #assign the result of the OLS to fit the data\n",
    "results.summary() #show the summary"
   ]
  },
  {
   "cell_type": "markdown",
   "metadata": {},
   "source": [
    "#### Notes \n",
    "Now that we are in round 3, we will still use a low alpha cutoff (0.05) in our culling of predictors."
   ]
  },
  {
   "cell_type": "markdown",
   "metadata": {},
   "source": [
    "#### Run regression with updated list of predictors and fit to model again, check for p-values less than 0.05"
   ]
  },
  {
   "cell_type": "code",
   "execution_count": 36,
   "metadata": {},
   "outputs": [],
   "source": [
    "x_train = x_train[[  \n",
    "    'Sodium',\n",
    "    'Vitamin_K', \n",
    "    'Fiber', \n",
    "    'Vitamin_B5']]"
   ]
  },
  {
   "cell_type": "code",
   "execution_count": 48,
   "metadata": {
    "scrolled": true
   },
   "outputs": [
    {
     "data": {
      "text/html": [
       "<table class=\"simpletable\">\n",
       "<caption>OLS Regression Results</caption>\n",
       "<tr>\n",
       "  <th>Dep. Variable:</th>     <td>aggregateLikes</td>  <th>  R-squared:         </th> <td>   0.104</td> \n",
       "</tr>\n",
       "<tr>\n",
       "  <th>Model:</th>                   <td>OLS</td>       <th>  Adj. R-squared:    </th> <td>   0.096</td> \n",
       "</tr>\n",
       "<tr>\n",
       "  <th>Method:</th>             <td>Least Squares</td>  <th>  F-statistic:       </th> <td>   13.53</td> \n",
       "</tr>\n",
       "<tr>\n",
       "  <th>Date:</th>             <td>Tue, 21 Jan 2020</td> <th>  Prob (F-statistic):</th> <td>1.94e-10</td> \n",
       "</tr>\n",
       "<tr>\n",
       "  <th>Time:</th>                 <td>15:12:38</td>     <th>  Log-Likelihood:    </th> <td> -5422.7</td> \n",
       "</tr>\n",
       "<tr>\n",
       "  <th>No. Observations:</th>      <td>   471</td>      <th>  AIC:               </th> <td>1.086e+04</td>\n",
       "</tr>\n",
       "<tr>\n",
       "  <th>Df Residuals:</th>          <td>   466</td>      <th>  BIC:               </th> <td>1.088e+04</td>\n",
       "</tr>\n",
       "<tr>\n",
       "  <th>Df Model:</th>              <td>     4</td>      <th>                     </th>     <td> </td>    \n",
       "</tr>\n",
       "<tr>\n",
       "  <th>Covariance Type:</th>      <td>nonrobust</td>    <th>                     </th>     <td> </td>    \n",
       "</tr>\n",
       "</table>\n",
       "<table class=\"simpletable\">\n",
       "<tr>\n",
       "       <td></td>         <th>coef</th>     <th>std err</th>      <th>t</th>      <th>P>|t|</th>  <th>[0.025</th>    <th>0.975]</th>  \n",
       "</tr>\n",
       "<tr>\n",
       "  <th>const</th>      <td> 1.054e+04</td> <td> 1345.864</td> <td>    7.834</td> <td> 0.000</td> <td> 7898.151</td> <td> 1.32e+04</td>\n",
       "</tr>\n",
       "<tr>\n",
       "  <th>Sodium</th>     <td> 6053.6953</td> <td> 1111.490</td> <td>    5.446</td> <td> 0.000</td> <td> 3869.542</td> <td> 8237.849</td>\n",
       "</tr>\n",
       "<tr>\n",
       "  <th>Vitamin_K</th>  <td>-3124.5436</td> <td> 1134.626</td> <td>   -2.754</td> <td> 0.006</td> <td>-5354.161</td> <td> -894.926</td>\n",
       "</tr>\n",
       "<tr>\n",
       "  <th>Fiber</th>      <td>-5502.6165</td> <td> 1492.006</td> <td>   -3.688</td> <td> 0.000</td> <td>-8434.509</td> <td>-2570.724</td>\n",
       "</tr>\n",
       "<tr>\n",
       "  <th>Vitamin_B5</th> <td> 1.069e+04</td> <td> 2663.336</td> <td>    4.013</td> <td> 0.000</td> <td> 5454.288</td> <td> 1.59e+04</td>\n",
       "</tr>\n",
       "</table>\n",
       "<table class=\"simpletable\">\n",
       "<tr>\n",
       "  <th>Omnibus:</th>       <td>639.187</td> <th>  Durbin-Watson:     </th> <td>   2.035</td> \n",
       "</tr>\n",
       "<tr>\n",
       "  <th>Prob(Omnibus):</th> <td> 0.000</td>  <th>  Jarque-Bera (JB):  </th> <td>74645.926</td>\n",
       "</tr>\n",
       "<tr>\n",
       "  <th>Skew:</th>          <td> 6.977</td>  <th>  Prob(JB):          </th> <td>    0.00</td> \n",
       "</tr>\n",
       "<tr>\n",
       "  <th>Kurtosis:</th>      <td>63.074</td>  <th>  Cond. No.          </th> <td>    3.61</td> \n",
       "</tr>\n",
       "</table><br/><br/>Warnings:<br/>[1] Standard Errors assume that the covariance matrix of the errors is correctly specified."
      ],
      "text/plain": [
       "<class 'statsmodels.iolib.summary.Summary'>\n",
       "\"\"\"\n",
       "                            OLS Regression Results                            \n",
       "==============================================================================\n",
       "Dep. Variable:         aggregateLikes   R-squared:                       0.104\n",
       "Model:                            OLS   Adj. R-squared:                  0.096\n",
       "Method:                 Least Squares   F-statistic:                     13.53\n",
       "Date:                Tue, 21 Jan 2020   Prob (F-statistic):           1.94e-10\n",
       "Time:                        15:12:38   Log-Likelihood:                -5422.7\n",
       "No. Observations:                 471   AIC:                         1.086e+04\n",
       "Df Residuals:                     466   BIC:                         1.088e+04\n",
       "Df Model:                           4                                         \n",
       "Covariance Type:            nonrobust                                         \n",
       "==============================================================================\n",
       "                 coef    std err          t      P>|t|      [0.025      0.975]\n",
       "------------------------------------------------------------------------------\n",
       "const       1.054e+04   1345.864      7.834      0.000    7898.151    1.32e+04\n",
       "Sodium      6053.6953   1111.490      5.446      0.000    3869.542    8237.849\n",
       "Vitamin_K  -3124.5436   1134.626     -2.754      0.006   -5354.161    -894.926\n",
       "Fiber      -5502.6165   1492.006     -3.688      0.000   -8434.509   -2570.724\n",
       "Vitamin_B5  1.069e+04   2663.336      4.013      0.000    5454.288    1.59e+04\n",
       "==============================================================================\n",
       "Omnibus:                      639.187   Durbin-Watson:                   2.035\n",
       "Prob(Omnibus):                  0.000   Jarque-Bera (JB):            74645.926\n",
       "Skew:                           6.977   Prob(JB):                         0.00\n",
       "Kurtosis:                      63.074   Cond. No.                         3.61\n",
       "==============================================================================\n",
       "\n",
       "Warnings:\n",
       "[1] Standard Errors assume that the covariance matrix of the errors is correctly specified.\n",
       "\"\"\""
      ]
     },
     "execution_count": 48,
     "metadata": {},
     "output_type": "execute_result"
    }
   ],
   "source": [
    "X = x_train \n",
    "y = y_train \n",
    "X = sm.add_constant(X) \n",
    "\n",
    "model = sm.OLS(y, X).fit() ## sm.OLS(output, input)\n",
    "predictions = model.predict(X)\n",
    "\n",
    "model.summary()"
   ]
  },
  {
   "cell_type": "markdown",
   "metadata": {},
   "source": [
    "___"
   ]
  },
  {
   "cell_type": "markdown",
   "metadata": {},
   "source": [
    "### 6. Variance Inflation Factor (VIF) check for multicollinearity"
   ]
  },
  {
   "cell_type": "markdown",
   "metadata": {},
   "source": [
    "#### Now, we will check for multicollinearity between our remaining predictors using Variance Inflation Factor.\n",
    "We are doing this because cutting more collinearity means you can rely more on your Betas (coefficients) to predict more reliably."
   ]
  },
  {
   "cell_type": "code",
   "execution_count": 49,
   "metadata": {},
   "outputs": [
    {
     "data": {
      "text/plain": [
       "[('Sodium', 1.2058539199016247),\n",
       " ('Vitamin_K', 1.1027127768555258),\n",
       " ('Fiber', 1.6122069024664532),\n",
       " ('Vitamin_B5', 1.471937768488792)]"
      ]
     },
     "execution_count": 49,
     "metadata": {},
     "output_type": "execute_result"
    }
   ],
   "source": [
    "X = vegetarian[x_train.columns]\n",
    "vif = [variance_inflation_factor(X.values, i) for i in range(X.shape[1])]\n",
    "list(zip(x_train.columns, vif))"
   ]
  },
  {
   "cell_type": "markdown",
   "metadata": {},
   "source": [
    "#### Notes\n",
    "Typically, variables with a VIF of 5 or greater (or more definitively 10 or greater) are displaying multicollinearity with other variables in the feature set. None of our predictors have a VIF greater than 5 or 10, so <b>multicollinearity between our predictors does not seem to be an issue.</b>\n",
    "\n",
    "The way VIF works is that each variable becomes the target, with all other variables predicting it, and you get an R-Squared for each variable. So for example, if VIF for Sodium is 9, then 9 = 1/(1-R^2). R^2 for Sodium would be = .88."
   ]
  },
  {
   "cell_type": "markdown",
   "metadata": {},
   "source": [
    "___"
   ]
  },
  {
   "cell_type": "markdown",
   "metadata": {},
   "source": [
    "### 7. QQ-Plot check for normally distributed residuals"
   ]
  },
  {
   "cell_type": "code",
   "execution_count": 50,
   "metadata": {},
   "outputs": [
    {
     "data": {
      "image/png": "[encoded data removed]",
      "text/plain": [
       "<Figure size 432x288 with 1 Axes>"
      ]
     },
     "metadata": {
      "needs_background": "light"
     },
     "output_type": "display_data"
    }
   ],
   "source": [
    "fig = sm.graphics.qqplot(results.resid, dist=stats.norm, line='45', fit=True)"
   ]
  },
  {
   "cell_type": "markdown",
   "metadata": {},
   "source": [
    "<b>Notes:</b>\n",
    "\n",
    "A Q-Q plot checks to ensure that our residuals are normally distributed. Theoretically, we would expect all \"blue dots\" which represents the residuals for our data, to be normally distributed, and would follow the red line in the plot perfectly. However, <b>our sample has a non-normal distribution of residuals</b> because it snakes around the red line, and then takes a sharp turn upwards towards higher sample quantile values of 10+, when theoretically, it should be around 2 or 3 at the same quantile."
   ]
  },
  {
   "cell_type": "markdown",
   "metadata": {},
   "source": [
    "___"
   ]
  },
  {
   "cell_type": "markdown",
   "metadata": {},
   "source": [
    "### 8. Ensure homoscedasticity by checking for heteroscedasticity"
   ]
  },
  {
   "cell_type": "markdown",
   "metadata": {},
   "source": [
    "#### Check for homoscedacity\n",
    "Need to check that errors do not display heteroscedasticity; if the errors appear to increase or decrease based on the target variable, then the model does not meet the initial assumptions. Scatterplot of residual quantity on the x-axis against standard deviation on the y-axis."
   ]
  },
  {
   "cell_type": "code",
   "execution_count": 53,
   "metadata": {},
   "outputs": [
    {
     "data": {
      "image/png": "[encoded data removed]",
      "text/plain": [
       "<Figure size 432x288 with 1 Axes>"
      ]
     },
     "metadata": {
      "needs_background": "light"
     },
     "output_type": "display_data"
    }
   ],
   "source": [
    "plt.scatter(predictions, results.resid)\n",
    "plt.plot(predictions, [0 for i in range(len(x_train))], color = 'r')\n",
    "plt.show()"
   ]
  },
  {
   "cell_type": "code",
   "execution_count": 60,
   "metadata": {},
   "outputs": [
    {
     "data": {
      "image/png": "[encoded data removed]",
      "text/plain": [
       "<Figure size 432x288 with 1 Axes>"
      ]
     },
     "metadata": {
      "needs_background": "light"
     },
     "output_type": "display_data"
    }
   ],
   "source": [
    "fig, ax = plt.subplots()\n",
    "x_tr = np.linspace(-10, 20, len(x_train))\n",
    "x_te = np.linspace(-10, 20, len(x_test))\n",
    "ax.plot(x_tr, y_train, 'o', label=\"Train Data\")\n",
    "ax.plot(x_te, y_test, 'v', label=\"Test Data\")\n",
    "ax.plot(x_tr, predictions, 'b-', label=\"Train Pred\")\n",
    "ax.plot(x_te, predictions_test, 'r-', label=\"Test Pred\")\n",
    "plt.ylim(0, 100000)\n",
    "# ax.plot(np.hstack((x1, x1n)), np.hstack((ypred, ynewpred)), 'r', label=\"OLS prediction\")\n",
    "ax.legend(loc=\"best\");"
   ]
  },
  {
   "cell_type": "markdown",
   "metadata": {},
   "source": [
    "# Vegan Regressions"
   ]
  },
  {
   "cell_type": "code",
   "execution_count": 63,
   "metadata": {},
   "outputs": [
    {
     "data": {
      "text/html": [
       "<table class=\"simpletable\">\n",
       "<caption>OLS Regression Results</caption>\n",
       "<tr>\n",
       "  <th>Dep. Variable:</th>     <td>aggregateLikes</td>  <th>  R-squared:         </th> <td>   0.271</td>\n",
       "</tr>\n",
       "<tr>\n",
       "  <th>Model:</th>                   <td>OLS</td>       <th>  Adj. R-squared:    </th> <td>   0.192</td>\n",
       "</tr>\n",
       "<tr>\n",
       "  <th>Method:</th>             <td>Least Squares</td>  <th>  F-statistic:       </th> <td>   3.414</td>\n",
       "</tr>\n",
       "<tr>\n",
       "  <th>Date:</th>             <td>Tue, 21 Jan 2020</td> <th>  Prob (F-statistic):</th> <td>3.68e-09</td>\n",
       "</tr>\n",
       "<tr>\n",
       "  <th>Time:</th>                 <td>16:31:23</td>     <th>  Log-Likelihood:    </th> <td> -4059.1</td>\n",
       "</tr>\n",
       "<tr>\n",
       "  <th>No. Observations:</th>      <td>   357</td>      <th>  AIC:               </th> <td>   8190.</td>\n",
       "</tr>\n",
       "<tr>\n",
       "  <th>Df Residuals:</th>          <td>   321</td>      <th>  BIC:               </th> <td>   8330.</td>\n",
       "</tr>\n",
       "<tr>\n",
       "  <th>Df Model:</th>              <td>    35</td>      <th>                     </th>     <td> </td>   \n",
       "</tr>\n",
       "<tr>\n",
       "  <th>Covariance Type:</th>      <td>nonrobust</td>    <th>                     </th>     <td> </td>   \n",
       "</tr>\n",
       "</table>\n",
       "<table class=\"simpletable\">\n",
       "<tr>\n",
       "              <td></td>                <th>coef</th>     <th>std err</th>      <th>t</th>      <th>P>|t|</th>  <th>[0.025</th>    <th>0.975]</th>  \n",
       "</tr>\n",
       "<tr>\n",
       "  <th>const</th>                    <td> 4.179e+05</td> <td> 6.71e+05</td> <td>    0.623</td> <td> 0.534</td> <td>-9.02e+05</td> <td> 1.74e+06</td>\n",
       "</tr>\n",
       "<tr>\n",
       "  <th>num_ingredients</th>          <td> -265.7972</td> <td> 1601.171</td> <td>   -0.166</td> <td> 0.868</td> <td>-3415.912</td> <td> 2884.318</td>\n",
       "</tr>\n",
       "<tr>\n",
       "  <th>pricePerServing</th>          <td> -655.6758</td> <td> 3335.399</td> <td>   -0.197</td> <td> 0.844</td> <td>-7217.679</td> <td> 5906.328</td>\n",
       "</tr>\n",
       "<tr>\n",
       "  <th>readyInMinutes</th>           <td> 2805.2863</td> <td> 1519.437</td> <td>    1.846</td> <td> 0.066</td> <td> -184.027</td> <td> 5794.600</td>\n",
       "</tr>\n",
       "<tr>\n",
       "  <th>servings</th>                 <td>-2878.5064</td> <td> 1967.450</td> <td>   -1.463</td> <td> 0.144</td> <td>-6749.232</td> <td>  992.219</td>\n",
       "</tr>\n",
       "<tr>\n",
       "  <th>weightWatcherSmartPoints</th> <td> 5095.5230</td> <td> 7243.279</td> <td>    0.703</td> <td> 0.482</td> <td>-9154.772</td> <td> 1.93e+04</td>\n",
       "</tr>\n",
       "<tr>\n",
       "  <th>Calories</th>                 <td> 5.161e+04</td> <td> 3.78e+04</td> <td>    1.364</td> <td> 0.173</td> <td>-2.28e+04</td> <td> 1.26e+05</td>\n",
       "</tr>\n",
       "<tr>\n",
       "  <th>Fat</th>                      <td>-3.465e+04</td> <td> 2.19e+04</td> <td>   -1.582</td> <td> 0.115</td> <td>-7.77e+04</td> <td> 8441.581</td>\n",
       "</tr>\n",
       "<tr>\n",
       "  <th>Saturated_Fat</th>            <td>  726.5974</td> <td> 3103.721</td> <td>    0.234</td> <td> 0.815</td> <td>-5379.606</td> <td> 6832.800</td>\n",
       "</tr>\n",
       "<tr>\n",
       "  <th>Carbohydrates</th>            <td> -3.02e+04</td> <td> 1.86e+04</td> <td>   -1.621</td> <td> 0.106</td> <td>-6.69e+04</td> <td> 6451.001</td>\n",
       "</tr>\n",
       "<tr>\n",
       "  <th>Sugar</th>                    <td> 2408.3283</td> <td> 2397.621</td> <td>    1.004</td> <td> 0.316</td> <td>-2308.708</td> <td> 7125.365</td>\n",
       "</tr>\n",
       "<tr>\n",
       "  <th>Cholesterol</th>              <td> 9.936e+05</td> <td> 1.65e+06</td> <td>    0.602</td> <td> 0.548</td> <td>-2.25e+06</td> <td> 4.24e+06</td>\n",
       "</tr>\n",
       "<tr>\n",
       "  <th>Sodium</th>                   <td> 5960.9315</td> <td> 1373.862</td> <td>    4.339</td> <td> 0.000</td> <td> 3258.021</td> <td> 8663.842</td>\n",
       "</tr>\n",
       "<tr>\n",
       "  <th>Protein</th>                  <td>-2.404e+04</td> <td> 1.25e+04</td> <td>   -1.923</td> <td> 0.055</td> <td>-4.86e+04</td> <td>  553.215</td>\n",
       "</tr>\n",
       "<tr>\n",
       "  <th>Vitamin_K</th>                <td>-1394.6631</td> <td> 1739.363</td> <td>   -0.802</td> <td> 0.423</td> <td>-4816.655</td> <td> 2027.328</td>\n",
       "</tr>\n",
       "<tr>\n",
       "  <th>Vitamin_A</th>                <td> -745.9180</td> <td> 1553.492</td> <td>   -0.480</td> <td> 0.631</td> <td>-3802.231</td> <td> 2310.395</td>\n",
       "</tr>\n",
       "<tr>\n",
       "  <th>Vitamin_C</th>                <td>-1580.6149</td> <td> 1895.364</td> <td>   -0.834</td> <td> 0.405</td> <td>-5309.519</td> <td> 2148.289</td>\n",
       "</tr>\n",
       "<tr>\n",
       "  <th>Manganese</th>                <td> 1940.1842</td> <td> 2416.356</td> <td>    0.803</td> <td> 0.423</td> <td>-2813.711</td> <td> 6694.079</td>\n",
       "</tr>\n",
       "<tr>\n",
       "  <th>Folate</th>                   <td>  943.1229</td> <td> 2360.940</td> <td>    0.399</td> <td> 0.690</td> <td>-3701.746</td> <td> 5587.992</td>\n",
       "</tr>\n",
       "<tr>\n",
       "  <th>Fiber</th>                    <td>-3732.6749</td> <td> 3071.939</td> <td>   -1.215</td> <td> 0.225</td> <td>-9776.352</td> <td> 2311.002</td>\n",
       "</tr>\n",
       "<tr>\n",
       "  <th>Copper</th>                   <td> 1275.8626</td> <td> 1507.217</td> <td>    0.847</td> <td> 0.398</td> <td>-1689.409</td> <td> 4241.135</td>\n",
       "</tr>\n",
       "<tr>\n",
       "  <th>Magnesium</th>                <td>-2222.6034</td> <td> 3273.546</td> <td>   -0.679</td> <td> 0.498</td> <td>-8662.917</td> <td> 4217.710</td>\n",
       "</tr>\n",
       "<tr>\n",
       "  <th>Phosphorus</th>               <td> 5554.0027</td> <td> 4774.436</td> <td>    1.163</td> <td> 0.246</td> <td>-3839.135</td> <td> 1.49e+04</td>\n",
       "</tr>\n",
       "<tr>\n",
       "  <th>Vitamin_B6</th>               <td>-2530.6921</td> <td> 4075.749</td> <td>   -0.621</td> <td> 0.535</td> <td>-1.05e+04</td> <td> 5487.862</td>\n",
       "</tr>\n",
       "<tr>\n",
       "  <th>Potassium</th>                <td>  546.9021</td> <td> 3271.918</td> <td>    0.167</td> <td> 0.867</td> <td>-5890.210</td> <td> 6984.014</td>\n",
       "</tr>\n",
       "<tr>\n",
       "  <th>Vitamin_B1</th>               <td>-6165.4773</td> <td> 3830.930</td> <td>   -1.609</td> <td> 0.109</td> <td>-1.37e+04</td> <td> 1371.424</td>\n",
       "</tr>\n",
       "<tr>\n",
       "  <th>Iron</th>                     <td>-3990.9936</td> <td> 5487.781</td> <td>   -0.727</td> <td> 0.468</td> <td>-1.48e+04</td> <td> 6805.566</td>\n",
       "</tr>\n",
       "<tr>\n",
       "  <th>Vitamin_B2</th>               <td> 1.629e+04</td> <td> 4515.948</td> <td>    3.607</td> <td> 0.000</td> <td> 7402.310</td> <td> 2.52e+04</td>\n",
       "</tr>\n",
       "<tr>\n",
       "  <th>Vitamin_E</th>                <td>-2886.7006</td> <td> 2240.447</td> <td>   -1.288</td> <td> 0.199</td> <td>-7294.515</td> <td> 1521.114</td>\n",
       "</tr>\n",
       "<tr>\n",
       "  <th>Zinc</th>                     <td> 3398.3735</td> <td> 5074.720</td> <td>    0.670</td> <td> 0.504</td> <td>-6585.538</td> <td> 1.34e+04</td>\n",
       "</tr>\n",
       "<tr>\n",
       "  <th>Vitamin_B5</th>               <td> 9786.4733</td> <td> 5277.541</td> <td>    1.854</td> <td> 0.065</td> <td> -596.464</td> <td> 2.02e+04</td>\n",
       "</tr>\n",
       "<tr>\n",
       "  <th>Vitamin_B3</th>               <td>   43.3787</td> <td> 1563.922</td> <td>    0.028</td> <td> 0.978</td> <td>-3033.453</td> <td> 3120.210</td>\n",
       "</tr>\n",
       "<tr>\n",
       "  <th>Calcium</th>                  <td>-2737.0121</td> <td> 2927.085</td> <td>   -0.935</td> <td> 0.350</td> <td>-8495.706</td> <td> 3021.682</td>\n",
       "</tr>\n",
       "<tr>\n",
       "  <th>Selenium</th>                 <td> 3043.0025</td> <td> 3807.174</td> <td>    0.799</td> <td> 0.425</td> <td>-4447.161</td> <td> 1.05e+04</td>\n",
       "</tr>\n",
       "<tr>\n",
       "  <th>num_words_instructions</th>   <td> 2525.7056</td> <td> 1834.350</td> <td>    1.377</td> <td> 0.170</td> <td>-1083.161</td> <td> 6134.572</td>\n",
       "</tr>\n",
       "<tr>\n",
       "  <th>num_steps_instructions</th>   <td> -958.8708</td> <td> 2010.229</td> <td>   -0.477</td> <td> 0.634</td> <td>-4913.759</td> <td> 2996.017</td>\n",
       "</tr>\n",
       "</table>\n",
       "<table class=\"simpletable\">\n",
       "<tr>\n",
       "  <th>Omnibus:</th>       <td>357.569</td> <th>  Durbin-Watson:     </th> <td>   1.954</td> \n",
       "</tr>\n",
       "<tr>\n",
       "  <th>Prob(Omnibus):</th> <td> 0.000</td>  <th>  Jarque-Bera (JB):  </th> <td>12257.760</td>\n",
       "</tr>\n",
       "<tr>\n",
       "  <th>Skew:</th>          <td> 4.305</td>  <th>  Prob(JB):          </th> <td>    0.00</td> \n",
       "</tr>\n",
       "<tr>\n",
       "  <th>Kurtosis:</th>      <td>30.385</td>  <th>  Cond. No.          </th> <td>4.57e+03</td> \n",
       "</tr>\n",
       "</table><br/><br/>Warnings:<br/>[1] Standard Errors assume that the covariance matrix of the errors is correctly specified.<br/>[2] The condition number is large, 4.57e+03. This might indicate that there are<br/>strong multicollinearity or other numerical problems."
      ],
      "text/plain": [
       "<class 'statsmodels.iolib.summary.Summary'>\n",
       "\"\"\"\n",
       "                            OLS Regression Results                            \n",
       "==============================================================================\n",
       "Dep. Variable:         aggregateLikes   R-squared:                       0.271\n",
       "Model:                            OLS   Adj. R-squared:                  0.192\n",
       "Method:                 Least Squares   F-statistic:                     3.414\n",
       "Date:                Tue, 21 Jan 2020   Prob (F-statistic):           3.68e-09\n",
       "Time:                        16:31:23   Log-Likelihood:                -4059.1\n",
       "No. Observations:                 357   AIC:                             8190.\n",
       "Df Residuals:                     321   BIC:                             8330.\n",
       "Df Model:                          35                                         \n",
       "Covariance Type:            nonrobust                                         \n",
       "============================================================================================\n",
       "                               coef    std err          t      P>|t|      [0.025      0.975]\n",
       "--------------------------------------------------------------------------------------------\n",
       "const                     4.179e+05   6.71e+05      0.623      0.534   -9.02e+05    1.74e+06\n",
       "num_ingredients           -265.7972   1601.171     -0.166      0.868   -3415.912    2884.318\n",
       "pricePerServing           -655.6758   3335.399     -0.197      0.844   -7217.679    5906.328\n",
       "readyInMinutes            2805.2863   1519.437      1.846      0.066    -184.027    5794.600\n",
       "servings                 -2878.5064   1967.450     -1.463      0.144   -6749.232     992.219\n",
       "weightWatcherSmartPoints  5095.5230   7243.279      0.703      0.482   -9154.772    1.93e+04\n",
       "Calories                  5.161e+04   3.78e+04      1.364      0.173   -2.28e+04    1.26e+05\n",
       "Fat                      -3.465e+04   2.19e+04     -1.582      0.115   -7.77e+04    8441.581\n",
       "Saturated_Fat              726.5974   3103.721      0.234      0.815   -5379.606    6832.800\n",
       "Carbohydrates             -3.02e+04   1.86e+04     -1.621      0.106   -6.69e+04    6451.001\n",
       "Sugar                     2408.3283   2397.621      1.004      0.316   -2308.708    7125.365\n",
       "Cholesterol               9.936e+05   1.65e+06      0.602      0.548   -2.25e+06    4.24e+06\n",
       "Sodium                    5960.9315   1373.862      4.339      0.000    3258.021    8663.842\n",
       "Protein                  -2.404e+04   1.25e+04     -1.923      0.055   -4.86e+04     553.215\n",
       "Vitamin_K                -1394.6631   1739.363     -0.802      0.423   -4816.655    2027.328\n",
       "Vitamin_A                 -745.9180   1553.492     -0.480      0.631   -3802.231    2310.395\n",
       "Vitamin_C                -1580.6149   1895.364     -0.834      0.405   -5309.519    2148.289\n",
       "Manganese                 1940.1842   2416.356      0.803      0.423   -2813.711    6694.079\n",
       "Folate                     943.1229   2360.940      0.399      0.690   -3701.746    5587.992\n",
       "Fiber                    -3732.6749   3071.939     -1.215      0.225   -9776.352    2311.002\n",
       "Copper                    1275.8626   1507.217      0.847      0.398   -1689.409    4241.135\n",
       "Magnesium                -2222.6034   3273.546     -0.679      0.498   -8662.917    4217.710\n",
       "Phosphorus                5554.0027   4774.436      1.163      0.246   -3839.135    1.49e+04\n",
       "Vitamin_B6               -2530.6921   4075.749     -0.621      0.535   -1.05e+04    5487.862\n",
       "Potassium                  546.9021   3271.918      0.167      0.867   -5890.210    6984.014\n",
       "Vitamin_B1               -6165.4773   3830.930     -1.609      0.109   -1.37e+04    1371.424\n",
       "Iron                     -3990.9936   5487.781     -0.727      0.468   -1.48e+04    6805.566\n",
       "Vitamin_B2                1.629e+04   4515.948      3.607      0.000    7402.310    2.52e+04\n",
       "Vitamin_E                -2886.7006   2240.447     -1.288      0.199   -7294.515    1521.114\n",
       "Zinc                      3398.3735   5074.720      0.670      0.504   -6585.538    1.34e+04\n",
       "Vitamin_B5                9786.4733   5277.541      1.854      0.065    -596.464    2.02e+04\n",
       "Vitamin_B3                  43.3787   1563.922      0.028      0.978   -3033.453    3120.210\n",
       "Calcium                  -2737.0121   2927.085     -0.935      0.350   -8495.706    3021.682\n",
       "Selenium                  3043.0025   3807.174      0.799      0.425   -4447.161    1.05e+04\n",
       "num_words_instructions    2525.7056   1834.350      1.377      0.170   -1083.161    6134.572\n",
       "num_steps_instructions    -958.8708   2010.229     -0.477      0.634   -4913.759    2996.017\n",
       "==============================================================================\n",
       "Omnibus:                      357.569   Durbin-Watson:                   1.954\n",
       "Prob(Omnibus):                  0.000   Jarque-Bera (JB):            12257.760\n",
       "Skew:                           4.305   Prob(JB):                         0.00\n",
       "Kurtosis:                      30.385   Cond. No.                     4.57e+03\n",
       "==============================================================================\n",
       "\n",
       "Warnings:\n",
       "[1] Standard Errors assume that the covariance matrix of the errors is correctly specified.\n",
       "[2] The condition number is large, 4.57e+03. This might indicate that there are\n",
       "strong multicollinearity or other numerical problems.\n",
       "\"\"\""
      ]
     },
     "execution_count": 63,
     "metadata": {},
     "output_type": "execute_result"
    }
   ],
   "source": [
    "predictors = vegan[x_variables_1]\n",
    "target = vegan['aggregateLikes']\n",
    "x_train, x_test, y_train, y_test = train_test_split(predictors, target, random_state = 2020, test_size = .25) \n",
    "\n",
    "X = x_train \n",
    "y = y_train \n",
    "X = sm.add_constant(X) \n",
    "\n",
    "model = sm.OLS(y, X).fit() ## sm.OLS(output, input)\n",
    "predictions = model.predict(X)\n",
    "\n",
    "model.summary()"
   ]
  },
  {
   "cell_type": "code",
   "execution_count": 64,
   "metadata": {},
   "outputs": [
    {
     "data": {
      "text/html": [
       "<table class=\"simpletable\">\n",
       "<caption>OLS Regression Results</caption>\n",
       "<tr>\n",
       "  <th>Dep. Variable:</th>     <td>aggregateLikes</td>  <th>  R-squared:         </th> <td>   0.220</td>\n",
       "</tr>\n",
       "<tr>\n",
       "  <th>Model:</th>                   <td>OLS</td>       <th>  Adj. R-squared:    </th> <td>   0.188</td>\n",
       "</tr>\n",
       "<tr>\n",
       "  <th>Method:</th>             <td>Least Squares</td>  <th>  F-statistic:       </th> <td>   6.875</td>\n",
       "</tr>\n",
       "<tr>\n",
       "  <th>Date:</th>             <td>Tue, 21 Jan 2020</td> <th>  Prob (F-statistic):</th> <td>1.92e-12</td>\n",
       "</tr>\n",
       "<tr>\n",
       "  <th>Time:</th>                 <td>16:38:29</td>     <th>  Log-Likelihood:    </th> <td> -4071.3</td>\n",
       "</tr>\n",
       "<tr>\n",
       "  <th>No. Observations:</th>      <td>   357</td>      <th>  AIC:               </th> <td>   8173.</td>\n",
       "</tr>\n",
       "<tr>\n",
       "  <th>Df Residuals:</th>          <td>   342</td>      <th>  BIC:               </th> <td>   8231.</td>\n",
       "</tr>\n",
       "<tr>\n",
       "  <th>Df Model:</th>              <td>    14</td>      <th>                     </th>     <td> </td>   \n",
       "</tr>\n",
       "<tr>\n",
       "  <th>Covariance Type:</th>      <td>nonrobust</td>    <th>                     </th>     <td> </td>   \n",
       "</tr>\n",
       "</table>\n",
       "<table class=\"simpletable\">\n",
       "<tr>\n",
       "             <td></td>               <th>coef</th>     <th>std err</th>      <th>t</th>      <th>P>|t|</th>  <th>[0.025</th>    <th>0.975]</th>  \n",
       "</tr>\n",
       "<tr>\n",
       "  <th>const</th>                  <td> 1.394e+04</td> <td> 2372.343</td> <td>    5.878</td> <td> 0.000</td> <td> 9277.399</td> <td> 1.86e+04</td>\n",
       "</tr>\n",
       "<tr>\n",
       "  <th>readyInMinutes</th>         <td> 2791.6383</td> <td> 1473.317</td> <td>    1.895</td> <td> 0.059</td> <td> -106.266</td> <td> 5689.542</td>\n",
       "</tr>\n",
       "<tr>\n",
       "  <th>servings</th>               <td>-2635.5316</td> <td> 1645.023</td> <td>   -1.602</td> <td> 0.110</td> <td>-5871.167</td> <td>  600.104</td>\n",
       "</tr>\n",
       "<tr>\n",
       "  <th>Calories</th>               <td>  8.35e+04</td> <td> 2.79e+04</td> <td>    2.988</td> <td> 0.003</td> <td> 2.85e+04</td> <td> 1.38e+05</td>\n",
       "</tr>\n",
       "<tr>\n",
       "  <th>Fat</th>                    <td>-4.985e+04</td> <td> 1.71e+04</td> <td>   -2.917</td> <td> 0.004</td> <td>-8.35e+04</td> <td>-1.62e+04</td>\n",
       "</tr>\n",
       "<tr>\n",
       "  <th>Carbohydrates</th>          <td>-4.271e+04</td> <td> 1.39e+04</td> <td>   -3.077</td> <td> 0.002</td> <td>   -7e+04</td> <td>-1.54e+04</td>\n",
       "</tr>\n",
       "<tr>\n",
       "  <th>Sodium</th>                 <td> 5193.6653</td> <td> 1133.711</td> <td>    4.581</td> <td> 0.000</td> <td> 2963.742</td> <td> 7423.589</td>\n",
       "</tr>\n",
       "<tr>\n",
       "  <th>Protein</th>                <td>-3.385e+04</td> <td> 1.02e+04</td> <td>   -3.332</td> <td> 0.001</td> <td>-5.38e+04</td> <td>-1.39e+04</td>\n",
       "</tr>\n",
       "<tr>\n",
       "  <th>Fiber</th>                  <td>-2802.2188</td> <td> 2080.190</td> <td>   -1.347</td> <td> 0.179</td> <td>-6893.795</td> <td> 1289.358</td>\n",
       "</tr>\n",
       "<tr>\n",
       "  <th>Phosphorus</th>             <td> 6469.4341</td> <td> 3804.650</td> <td>    1.700</td> <td> 0.090</td> <td>-1014.025</td> <td>  1.4e+04</td>\n",
       "</tr>\n",
       "<tr>\n",
       "  <th>Vitamin_B1</th>             <td>-4847.6264</td> <td> 3054.486</td> <td>   -1.587</td> <td> 0.113</td> <td>-1.09e+04</td> <td> 1160.317</td>\n",
       "</tr>\n",
       "<tr>\n",
       "  <th>Vitamin_B2</th>             <td> 1.448e+04</td> <td> 3747.658</td> <td>    3.865</td> <td> 0.000</td> <td> 7111.969</td> <td> 2.19e+04</td>\n",
       "</tr>\n",
       "<tr>\n",
       "  <th>Vitamin_E</th>              <td>-3464.6096</td> <td> 1856.959</td> <td>   -1.866</td> <td> 0.063</td> <td>-7117.109</td> <td>  187.890</td>\n",
       "</tr>\n",
       "<tr>\n",
       "  <th>Vitamin_B5</th>             <td> 1.211e+04</td> <td> 3919.337</td> <td>    3.089</td> <td> 0.002</td> <td> 4397.581</td> <td> 1.98e+04</td>\n",
       "</tr>\n",
       "<tr>\n",
       "  <th>num_words_instructions</th> <td> 1432.1847</td> <td> 1374.250</td> <td>    1.042</td> <td> 0.298</td> <td>-1270.861</td> <td> 4135.230</td>\n",
       "</tr>\n",
       "</table>\n",
       "<table class=\"simpletable\">\n",
       "<tr>\n",
       "  <th>Omnibus:</th>       <td>374.795</td> <th>  Durbin-Watson:     </th> <td>   1.942</td> \n",
       "</tr>\n",
       "<tr>\n",
       "  <th>Prob(Omnibus):</th> <td> 0.000</td>  <th>  Jarque-Bera (JB):  </th> <td>14016.538</td>\n",
       "</tr>\n",
       "<tr>\n",
       "  <th>Skew:</th>          <td> 4.619</td>  <th>  Prob(JB):          </th> <td>    0.00</td> \n",
       "</tr>\n",
       "<tr>\n",
       "  <th>Kurtosis:</th>      <td>32.274</td>  <th>  Cond. No.          </th> <td>    67.9</td> \n",
       "</tr>\n",
       "</table><br/><br/>Warnings:<br/>[1] Standard Errors assume that the covariance matrix of the errors is correctly specified."
      ],
      "text/plain": [
       "<class 'statsmodels.iolib.summary.Summary'>\n",
       "\"\"\"\n",
       "                            OLS Regression Results                            \n",
       "==============================================================================\n",
       "Dep. Variable:         aggregateLikes   R-squared:                       0.220\n",
       "Model:                            OLS   Adj. R-squared:                  0.188\n",
       "Method:                 Least Squares   F-statistic:                     6.875\n",
       "Date:                Tue, 21 Jan 2020   Prob (F-statistic):           1.92e-12\n",
       "Time:                        16:38:29   Log-Likelihood:                -4071.3\n",
       "No. Observations:                 357   AIC:                             8173.\n",
       "Df Residuals:                     342   BIC:                             8231.\n",
       "Df Model:                          14                                         \n",
       "Covariance Type:            nonrobust                                         \n",
       "==========================================================================================\n",
       "                             coef    std err          t      P>|t|      [0.025      0.975]\n",
       "------------------------------------------------------------------------------------------\n",
       "const                   1.394e+04   2372.343      5.878      0.000    9277.399    1.86e+04\n",
       "readyInMinutes          2791.6383   1473.317      1.895      0.059    -106.266    5689.542\n",
       "servings               -2635.5316   1645.023     -1.602      0.110   -5871.167     600.104\n",
       "Calories                 8.35e+04   2.79e+04      2.988      0.003    2.85e+04    1.38e+05\n",
       "Fat                    -4.985e+04   1.71e+04     -2.917      0.004   -8.35e+04   -1.62e+04\n",
       "Carbohydrates          -4.271e+04   1.39e+04     -3.077      0.002      -7e+04   -1.54e+04\n",
       "Sodium                  5193.6653   1133.711      4.581      0.000    2963.742    7423.589\n",
       "Protein                -3.385e+04   1.02e+04     -3.332      0.001   -5.38e+04   -1.39e+04\n",
       "Fiber                  -2802.2188   2080.190     -1.347      0.179   -6893.795    1289.358\n",
       "Phosphorus              6469.4341   3804.650      1.700      0.090   -1014.025     1.4e+04\n",
       "Vitamin_B1             -4847.6264   3054.486     -1.587      0.113   -1.09e+04    1160.317\n",
       "Vitamin_B2              1.448e+04   3747.658      3.865      0.000    7111.969    2.19e+04\n",
       "Vitamin_E              -3464.6096   1856.959     -1.866      0.063   -7117.109     187.890\n",
       "Vitamin_B5              1.211e+04   3919.337      3.089      0.002    4397.581    1.98e+04\n",
       "num_words_instructions  1432.1847   1374.250      1.042      0.298   -1270.861    4135.230\n",
       "==============================================================================\n",
       "Omnibus:                      374.795   Durbin-Watson:                   1.942\n",
       "Prob(Omnibus):                  0.000   Jarque-Bera (JB):            14016.538\n",
       "Skew:                           4.619   Prob(JB):                         0.00\n",
       "Kurtosis:                      32.274   Cond. No.                         67.9\n",
       "==============================================================================\n",
       "\n",
       "Warnings:\n",
       "[1] Standard Errors assume that the covariance matrix of the errors is correctly specified.\n",
       "\"\"\""
      ]
     },
     "execution_count": 64,
     "metadata": {},
     "output_type": "execute_result"
    }
   ],
   "source": [
    "x_variables_2 = ['readyInMinutes', \n",
    "              'servings', \n",
    "              'Calories', \n",
    "              'Fat', \n",
    "             'Carbohydrates', \n",
    "              'Sodium', \n",
    "              'Protein', \n",
    "              'Fiber', \n",
    "              'Phosphorus', \n",
    "              'Vitamin_B1', \n",
    "              'Vitamin_B2', \n",
    "              'Vitamin_E', \n",
    "              'Vitamin_B5', \n",
    "              'num_words_instructions']\n",
    "\n",
    "\n",
    "predictors_2 = vegan[x_variables_2]\n",
    "target = vegan['aggregateLikes']\n",
    "x_train, x_test, y_train, y_test = train_test_split(predictors_2, target, random_state = 2020, test_size = .25) \n",
    "\n",
    "X = x_train \n",
    "y = y_train \n",
    "X = sm.add_constant(X) \n",
    "\n",
    "model = sm.OLS(y, X).fit() ## sm.OLS(output, input)\n",
    "predictions = model.predict(X)\n",
    "\n",
    "model.summary()"
   ]
  },
  {
   "cell_type": "code",
   "execution_count": 69,
   "metadata": {},
   "outputs": [
    {
     "data": {
      "text/html": [
       "<table class=\"simpletable\">\n",
       "<caption>OLS Regression Results</caption>\n",
       "<tr>\n",
       "  <th>Dep. Variable:</th>     <td>aggregateLikes</td>  <th>  R-squared:         </th> <td>   0.156</td>\n",
       "</tr>\n",
       "<tr>\n",
       "  <th>Model:</th>                   <td>OLS</td>       <th>  Adj. R-squared:    </th> <td>   0.146</td>\n",
       "</tr>\n",
       "<tr>\n",
       "  <th>Method:</th>             <td>Least Squares</td>  <th>  F-statistic:       </th> <td>   16.21</td>\n",
       "</tr>\n",
       "<tr>\n",
       "  <th>Date:</th>             <td>Tue, 21 Jan 2020</td> <th>  Prob (F-statistic):</th> <td>3.37e-12</td>\n",
       "</tr>\n",
       "<tr>\n",
       "  <th>Time:</th>                 <td>16:42:59</td>     <th>  Log-Likelihood:    </th> <td> -4085.4</td>\n",
       "</tr>\n",
       "<tr>\n",
       "  <th>No. Observations:</th>      <td>   357</td>      <th>  AIC:               </th> <td>   8181.</td>\n",
       "</tr>\n",
       "<tr>\n",
       "  <th>Df Residuals:</th>          <td>   352</td>      <th>  BIC:               </th> <td>   8200.</td>\n",
       "</tr>\n",
       "<tr>\n",
       "  <th>Df Model:</th>              <td>     4</td>      <th>                     </th>     <td> </td>   \n",
       "</tr>\n",
       "<tr>\n",
       "  <th>Covariance Type:</th>      <td>nonrobust</td>    <th>                     </th>     <td> </td>   \n",
       "</tr>\n",
       "</table>\n",
       "<table class=\"simpletable\">\n",
       "<tr>\n",
       "        <td></td>           <th>coef</th>     <th>std err</th>      <th>t</th>      <th>P>|t|</th>  <th>[0.025</th>    <th>0.975]</th>  \n",
       "</tr>\n",
       "<tr>\n",
       "  <th>const</th>         <td> 1.315e+04</td> <td> 1537.974</td> <td>    8.548</td> <td> 0.000</td> <td> 1.01e+04</td> <td> 1.62e+04</td>\n",
       "</tr>\n",
       "<tr>\n",
       "  <th>Carbohydrates</th> <td>-4257.3820</td> <td> 1424.631</td> <td>   -2.988</td> <td> 0.003</td> <td>-7059.241</td> <td>-1455.523</td>\n",
       "</tr>\n",
       "<tr>\n",
       "  <th>Sodium</th>        <td> 4246.8400</td> <td> 1105.718</td> <td>    3.841</td> <td> 0.000</td> <td> 2072.196</td> <td> 6421.484</td>\n",
       "</tr>\n",
       "<tr>\n",
       "  <th>Vitamin_B2</th>    <td> 1.023e+04</td> <td> 2859.477</td> <td>    3.576</td> <td> 0.000</td> <td> 4602.500</td> <td> 1.59e+04</td>\n",
       "</tr>\n",
       "<tr>\n",
       "  <th>Vitamin_B5</th>    <td> 8013.3975</td> <td> 2858.124</td> <td>    2.804</td> <td> 0.005</td> <td> 2392.249</td> <td> 1.36e+04</td>\n",
       "</tr>\n",
       "</table>\n",
       "<table class=\"simpletable\">\n",
       "<tr>\n",
       "  <th>Omnibus:</th>       <td>404.557</td> <th>  Durbin-Watson:     </th> <td>   2.033</td> \n",
       "</tr>\n",
       "<tr>\n",
       "  <th>Prob(Omnibus):</th> <td> 0.000</td>  <th>  Jarque-Bera (JB):  </th> <td>19167.398</td>\n",
       "</tr>\n",
       "<tr>\n",
       "  <th>Skew:</th>          <td> 5.146</td>  <th>  Prob(JB):          </th> <td>    0.00</td> \n",
       "</tr>\n",
       "<tr>\n",
       "  <th>Kurtosis:</th>      <td>37.390</td>  <th>  Cond. No.          </th> <td>    3.88</td> \n",
       "</tr>\n",
       "</table><br/><br/>Warnings:<br/>[1] Standard Errors assume that the covariance matrix of the errors is correctly specified."
      ],
      "text/plain": [
       "<class 'statsmodels.iolib.summary.Summary'>\n",
       "\"\"\"\n",
       "                            OLS Regression Results                            \n",
       "==============================================================================\n",
       "Dep. Variable:         aggregateLikes   R-squared:                       0.156\n",
       "Model:                            OLS   Adj. R-squared:                  0.146\n",
       "Method:                 Least Squares   F-statistic:                     16.21\n",
       "Date:                Tue, 21 Jan 2020   Prob (F-statistic):           3.37e-12\n",
       "Time:                        16:42:59   Log-Likelihood:                -4085.4\n",
       "No. Observations:                 357   AIC:                             8181.\n",
       "Df Residuals:                     352   BIC:                             8200.\n",
       "Df Model:                           4                                         \n",
       "Covariance Type:            nonrobust                                         \n",
       "=================================================================================\n",
       "                    coef    std err          t      P>|t|      [0.025      0.975]\n",
       "---------------------------------------------------------------------------------\n",
       "const          1.315e+04   1537.974      8.548      0.000    1.01e+04    1.62e+04\n",
       "Carbohydrates -4257.3820   1424.631     -2.988      0.003   -7059.241   -1455.523\n",
       "Sodium         4246.8400   1105.718      3.841      0.000    2072.196    6421.484\n",
       "Vitamin_B2     1.023e+04   2859.477      3.576      0.000    4602.500    1.59e+04\n",
       "Vitamin_B5     8013.3975   2858.124      2.804      0.005    2392.249    1.36e+04\n",
       "==============================================================================\n",
       "Omnibus:                      404.557   Durbin-Watson:                   2.033\n",
       "Prob(Omnibus):                  0.000   Jarque-Bera (JB):            19167.398\n",
       "Skew:                           5.146   Prob(JB):                         0.00\n",
       "Kurtosis:                      37.390   Cond. No.                         3.88\n",
       "==============================================================================\n",
       "\n",
       "Warnings:\n",
       "[1] Standard Errors assume that the covariance matrix of the errors is correctly specified.\n",
       "\"\"\""
      ]
     },
     "execution_count": 69,
     "metadata": {},
     "output_type": "execute_result"
    }
   ],
   "source": [
    "x_variables_3 = [\n",
    "             'Carbohydrates', \n",
    "              'Sodium', \n",
    "              'Vitamin_B2', \n",
    "              'Vitamin_B5']\n",
    "\n",
    "\n",
    "predictors_3 = vegan[x_variables_3]\n",
    "target = vegan['aggregateLikes']\n",
    "x_train, x_test, y_train, y_test = train_test_split(predictors_3, target, random_state = 2020, test_size = .25) \n",
    "\n",
    "X = x_train \n",
    "y = y_train \n",
    "X = sm.add_constant(X) \n",
    "\n",
    "model = sm.OLS(y, X).fit() ## sm.OLS(output, input)\n",
    "predictions = model.predict(X)\n",
    "\n",
    "model.summary()"
   ]
  },
  {
   "cell_type": "code",
   "execution_count": 70,
   "metadata": {},
   "outputs": [
    {
     "data": {
      "text/plain": [
       "[('Carbohydrates', 1.26520403106819),\n",
       " ('Sodium', 1.1844376807670296),\n",
       " ('Vitamin_B2', 1.6495210984961015),\n",
       " ('Vitamin_B5', 1.75128331892018)]"
      ]
     },
     "execution_count": 70,
     "metadata": {},
     "output_type": "execute_result"
    }
   ],
   "source": [
    "X = vegan[x_train.columns]\n",
    "vif = [variance_inflation_factor(X.values, i) for i in range(X.shape[1])]\n",
    "list(zip(x_train.columns, vif))"
   ]
  },
  {
   "cell_type": "code",
   "execution_count": 72,
   "metadata": {},
   "outputs": [
    {
     "data": {
      "image/png": "[encoded data removed]",
      "text/plain": [
       "<Figure size 432x288 with 1 Axes>"
      ]
     },
     "metadata": {
      "needs_background": "light"
     },
     "output_type": "display_data"
    }
   ],
   "source": [
    "fig = sm.graphics.qqplot(model.resid, dist=stats.norm, line='45', fit=True)"
   ]
  },
  {
   "cell_type": "code",
   "execution_count": 74,
   "metadata": {},
   "outputs": [
    {
     "data": {
      "image/png": "[encoded data removed]",
      "text/plain": [
       "<Figure size 432x288 with 1 Axes>"
      ]
     },
     "metadata": {
      "needs_background": "light"
     },
     "output_type": "display_data"
    }
   ],
   "source": [
    "plt.scatter(predictions, model.resid)\n",
    "plt.plot(predictions, [0 for i in range(len(x_train))], color = 'r')\n",
    "plt.show()"
   ]
  },
  {
   "cell_type": "code",
   "execution_count": 76,
   "metadata": {},
   "outputs": [
    {
     "data": {
      "text/plain": [
       "'lasso coefficients'"
      ]
     },
     "metadata": {},
     "output_type": "display_data"
    },
    {
     "data": {
      "text/plain": [
       "{'num_ingredients': -4257.240790127536,\n",
       " 'pricePerServing': 4246.812928331814,\n",
       " 'readyInMinutes': 10226.145442896479,\n",
       " 'servings': 8013.207672645637}"
      ]
     },
     "metadata": {},
     "output_type": "display_data"
    },
    {
     "data": {
      "text/plain": [
       "'lasso train score'"
      ]
     },
     "metadata": {},
     "output_type": "display_data"
    },
    {
     "data": {
      "text/plain": [
       "0.1555770133399469"
      ]
     },
     "metadata": {},
     "output_type": "display_data"
    },
    {
     "data": {
      "text/plain": [
       "'lasso test score'"
      ]
     },
     "metadata": {},
     "output_type": "display_data"
    },
    {
     "data": {
      "text/plain": [
       "-0.06334777792239277"
      ]
     },
     "metadata": {},
     "output_type": "display_data"
    }
   ],
   "source": [
    "lasso = Lasso(alpha = 0.05, max_iter=10000)\n",
    "lasso.fit(x_train, y_train)\n",
    "# sample_models['lasso'] = lasso\n",
    "# y_lasso_test.append(lasso.score(X_test, y_test))\n",
    "lasso_coefficients = dict(zip(x_variables_1, list(lasso.coef_)))\n",
    "display('lasso coefficients')\n",
    "display(lasso_coefficients)\n",
    "display('lasso train score')\n",
    "display(lasso.score(x_train, y_train))\n",
    "display('lasso test score')\n",
    "display(lasso.score(x_test, y_test))"
   ]
  },
  {
   "cell_type": "code",
   "execution_count": 81,
   "metadata": {},
   "outputs": [
    {
     "data": {
      "text/plain": [
       "'ridge coefficients'"
      ]
     },
     "metadata": {},
     "output_type": "display_data"
    },
    {
     "data": {
      "text/plain": [
       "{'num_ingredients': -4254.878718578185,\n",
       " 'pricePerServing': 4246.839714597419,\n",
       " 'readyInMinutes': 10220.790974913001,\n",
       " 'servings': 8010.23889521946}"
      ]
     },
     "metadata": {},
     "output_type": "display_data"
    },
    {
     "data": {
      "text/plain": [
       "'ridge train score'"
      ]
     },
     "metadata": {},
     "output_type": "display_data"
    },
    {
     "data": {
      "text/plain": [
       "0.15557699195373986"
      ]
     },
     "metadata": {},
     "output_type": "display_data"
    },
    {
     "data": {
      "text/plain": [
       "'ridge test score'"
      ]
     },
     "metadata": {},
     "output_type": "display_data"
    },
    {
     "data": {
      "text/plain": [
       "-0.06326786534391649"
      ]
     },
     "metadata": {},
     "output_type": "display_data"
    }
   ],
   "source": [
    "ridge = Ridge(alpha = .05, max_iter= 10000)\n",
    "ridge.fit(x_train, y_train)\n",
    "ridge_coefficients = dict(zip(x_variables_1, list(ridge.coef_)))\n",
    "display('ridge coefficients')\n",
    "display(ridge_coefficients)\n",
    "display('ridge train score')\n",
    "display(ridge.score(x_train, y_train))\n",
    "display('ridge test score')\n",
    "display(ridge.score(x_test, y_test))"
   ]
  },
  {
   "cell_type": "markdown",
   "metadata": {},
   "source": [
    "# Whole30 Regressions"
   ]
  },
  {
   "cell_type": "code",
   "execution_count": 82,
   "metadata": {},
   "outputs": [
    {
     "name": "stderr",
     "output_type": "stream",
     "text": [
      "/opt/anaconda3/envs/learn-env/lib/python3.6/site-packages/numpy/core/fromnumeric.py:2389: FutureWarning: Method .ptp is deprecated and will be removed in a future version. Use numpy.ptp instead.\n",
      "  return ptp(axis=axis, out=out, **kwargs)\n"
     ]
    },
    {
     "data": {
      "text/html": [
       "<table class=\"simpletable\">\n",
       "<caption>OLS Regression Results</caption>\n",
       "<tr>\n",
       "  <th>Dep. Variable:</th>     <td>aggregateLikes</td>  <th>  R-squared:         </th> <td>   0.257</td>\n",
       "</tr>\n",
       "<tr>\n",
       "  <th>Model:</th>                   <td>OLS</td>       <th>  Adj. R-squared:    </th> <td>   0.076</td>\n",
       "</tr>\n",
       "<tr>\n",
       "  <th>Method:</th>             <td>Least Squares</td>  <th>  F-statistic:       </th> <td>   1.416</td>\n",
       "</tr>\n",
       "<tr>\n",
       "  <th>Date:</th>             <td>Tue, 21 Jan 2020</td> <th>  Prob (F-statistic):</th>  <td>0.0810</td> \n",
       "</tr>\n",
       "<tr>\n",
       "  <th>Time:</th>                 <td>16:48:28</td>     <th>  Log-Likelihood:    </th> <td> -2255.9</td>\n",
       "</tr>\n",
       "<tr>\n",
       "  <th>No. Observations:</th>      <td>   179</td>      <th>  AIC:               </th> <td>   4584.</td>\n",
       "</tr>\n",
       "<tr>\n",
       "  <th>Df Residuals:</th>          <td>   143</td>      <th>  BIC:               </th> <td>   4699.</td>\n",
       "</tr>\n",
       "<tr>\n",
       "  <th>Df Model:</th>              <td>    35</td>      <th>                     </th>     <td> </td>   \n",
       "</tr>\n",
       "<tr>\n",
       "  <th>Covariance Type:</th>      <td>nonrobust</td>    <th>                     </th>     <td> </td>   \n",
       "</tr>\n",
       "</table>\n",
       "<table class=\"simpletable\">\n",
       "<tr>\n",
       "              <td></td>                <th>coef</th>     <th>std err</th>      <th>t</th>      <th>P>|t|</th>  <th>[0.025</th>    <th>0.975]</th>  \n",
       "</tr>\n",
       "<tr>\n",
       "  <th>const</th>                    <td> 1.428e+04</td> <td> 2.29e+04</td> <td>    0.623</td> <td> 0.534</td> <td> -3.1e+04</td> <td> 5.96e+04</td>\n",
       "</tr>\n",
       "<tr>\n",
       "  <th>num_ingredients</th>          <td>-1.187e+04</td> <td>  1.1e+04</td> <td>   -1.076</td> <td> 0.284</td> <td>-3.37e+04</td> <td> 9939.433</td>\n",
       "</tr>\n",
       "<tr>\n",
       "  <th>pricePerServing</th>          <td> 2.227e+04</td> <td>  1.5e+04</td> <td>    1.482</td> <td> 0.141</td> <td>-7437.828</td> <td>  5.2e+04</td>\n",
       "</tr>\n",
       "<tr>\n",
       "  <th>readyInMinutes</th>           <td> -515.3225</td> <td> 6900.106</td> <td>   -0.075</td> <td> 0.941</td> <td>-1.42e+04</td> <td> 1.31e+04</td>\n",
       "</tr>\n",
       "<tr>\n",
       "  <th>servings</th>                 <td> 1.542e+04</td> <td> 8361.520</td> <td>    1.844</td> <td> 0.067</td> <td>-1105.949</td> <td>  3.2e+04</td>\n",
       "</tr>\n",
       "<tr>\n",
       "  <th>weightWatcherSmartPoints</th> <td>-1.347e+04</td> <td> 4.42e+04</td> <td>   -0.305</td> <td> 0.761</td> <td>-1.01e+05</td> <td> 7.39e+04</td>\n",
       "</tr>\n",
       "<tr>\n",
       "  <th>Calories</th>                 <td> -6.13e+04</td> <td> 2.17e+05</td> <td>   -0.282</td> <td> 0.778</td> <td>-4.91e+05</td> <td> 3.68e+05</td>\n",
       "</tr>\n",
       "<tr>\n",
       "  <th>Fat</th>                      <td> 1.765e+04</td> <td> 1.34e+05</td> <td>    0.132</td> <td> 0.895</td> <td>-2.46e+05</td> <td> 2.82e+05</td>\n",
       "</tr>\n",
       "<tr>\n",
       "  <th>Saturated_Fat</th>            <td> 4.635e+04</td> <td> 6.05e+04</td> <td>    0.766</td> <td> 0.445</td> <td>-7.32e+04</td> <td> 1.66e+05</td>\n",
       "</tr>\n",
       "<tr>\n",
       "  <th>Carbohydrates</th>            <td> 5.096e+04</td> <td> 1.14e+05</td> <td>    0.448</td> <td> 0.655</td> <td>-1.74e+05</td> <td> 2.76e+05</td>\n",
       "</tr>\n",
       "<tr>\n",
       "  <th>Sugar</th>                    <td>-2.104e+04</td> <td> 1.59e+04</td> <td>   -1.324</td> <td> 0.188</td> <td>-5.24e+04</td> <td> 1.04e+04</td>\n",
       "</tr>\n",
       "<tr>\n",
       "  <th>Cholesterol</th>              <td>-7032.2019</td> <td> 1.93e+04</td> <td>   -0.364</td> <td> 0.716</td> <td>-4.52e+04</td> <td> 3.12e+04</td>\n",
       "</tr>\n",
       "<tr>\n",
       "  <th>Sodium</th>                   <td> 1.063e+04</td> <td> 1.32e+04</td> <td>    0.808</td> <td> 0.420</td> <td>-1.54e+04</td> <td> 3.66e+04</td>\n",
       "</tr>\n",
       "<tr>\n",
       "  <th>Protein</th>                  <td> -4.49e+04</td> <td> 8.74e+04</td> <td>   -0.514</td> <td> 0.608</td> <td>-2.18e+05</td> <td> 1.28e+05</td>\n",
       "</tr>\n",
       "<tr>\n",
       "  <th>Vitamin_K</th>                <td>-2650.6464</td> <td> 9172.988</td> <td>   -0.289</td> <td> 0.773</td> <td>-2.08e+04</td> <td> 1.55e+04</td>\n",
       "</tr>\n",
       "<tr>\n",
       "  <th>Vitamin_A</th>                <td> 1134.6668</td> <td> 7688.589</td> <td>    0.148</td> <td> 0.883</td> <td>-1.41e+04</td> <td> 1.63e+04</td>\n",
       "</tr>\n",
       "<tr>\n",
       "  <th>Vitamin_C</th>                <td>-1.555e+04</td> <td> 1.12e+04</td> <td>   -1.388</td> <td> 0.167</td> <td>-3.77e+04</td> <td> 6591.231</td>\n",
       "</tr>\n",
       "<tr>\n",
       "  <th>Manganese</th>                <td>  501.4683</td> <td> 1.53e+04</td> <td>    0.033</td> <td> 0.974</td> <td>-2.98e+04</td> <td> 3.08e+04</td>\n",
       "</tr>\n",
       "<tr>\n",
       "  <th>Folate</th>                   <td>-1.667e+04</td> <td> 1.62e+04</td> <td>   -1.027</td> <td> 0.306</td> <td>-4.88e+04</td> <td> 1.54e+04</td>\n",
       "</tr>\n",
       "<tr>\n",
       "  <th>Fiber</th>                    <td>-1.368e+04</td> <td> 2.44e+04</td> <td>   -0.562</td> <td> 0.575</td> <td>-6.18e+04</td> <td> 3.45e+04</td>\n",
       "</tr>\n",
       "<tr>\n",
       "  <th>Copper</th>                   <td>-3885.3410</td> <td> 7045.260</td> <td>   -0.551</td> <td> 0.582</td> <td>-1.78e+04</td> <td>    1e+04</td>\n",
       "</tr>\n",
       "<tr>\n",
       "  <th>Magnesium</th>                <td> 1.728e+04</td> <td> 2.63e+04</td> <td>    0.656</td> <td> 0.513</td> <td>-3.48e+04</td> <td> 6.94e+04</td>\n",
       "</tr>\n",
       "<tr>\n",
       "  <th>Phosphorus</th>               <td> 3.708e+04</td> <td> 3.99e+04</td> <td>    0.928</td> <td> 0.355</td> <td>-4.19e+04</td> <td> 1.16e+05</td>\n",
       "</tr>\n",
       "<tr>\n",
       "  <th>Vitamin_B6</th>               <td> 1.644e+04</td> <td> 2.66e+04</td> <td>    0.618</td> <td> 0.538</td> <td>-3.62e+04</td> <td> 6.91e+04</td>\n",
       "</tr>\n",
       "<tr>\n",
       "  <th>Potassium</th>                <td> 5739.3969</td> <td> 2.21e+04</td> <td>    0.259</td> <td> 0.796</td> <td> -3.8e+04</td> <td> 4.95e+04</td>\n",
       "</tr>\n",
       "<tr>\n",
       "  <th>Vitamin_B1</th>               <td>-1.615e+04</td> <td> 2.17e+04</td> <td>   -0.746</td> <td> 0.457</td> <td>-5.89e+04</td> <td> 2.66e+04</td>\n",
       "</tr>\n",
       "<tr>\n",
       "  <th>Iron</th>                     <td>-3.241e+04</td> <td> 3.37e+04</td> <td>   -0.961</td> <td> 0.338</td> <td>-9.91e+04</td> <td> 3.42e+04</td>\n",
       "</tr>\n",
       "<tr>\n",
       "  <th>Vitamin_B2</th>               <td> 4.121e+04</td> <td> 2.22e+04</td> <td>    1.859</td> <td> 0.065</td> <td>-2603.738</td> <td>  8.5e+04</td>\n",
       "</tr>\n",
       "<tr>\n",
       "  <th>Vitamin_E</th>                <td>-1.458e+04</td> <td> 1.61e+04</td> <td>   -0.904</td> <td> 0.367</td> <td>-4.64e+04</td> <td> 1.73e+04</td>\n",
       "</tr>\n",
       "<tr>\n",
       "  <th>Zinc</th>                     <td>-1.123e+04</td> <td> 1.56e+04</td> <td>   -0.721</td> <td> 0.472</td> <td> -4.2e+04</td> <td> 1.96e+04</td>\n",
       "</tr>\n",
       "<tr>\n",
       "  <th>Vitamin_B5</th>               <td>-1.906e+04</td> <td> 2.67e+04</td> <td>   -0.713</td> <td> 0.477</td> <td>-7.19e+04</td> <td> 3.37e+04</td>\n",
       "</tr>\n",
       "<tr>\n",
       "  <th>Vitamin_B3</th>               <td> 1.857e+04</td> <td> 3.42e+04</td> <td>    0.542</td> <td> 0.589</td> <td>-4.91e+04</td> <td> 8.63e+04</td>\n",
       "</tr>\n",
       "<tr>\n",
       "  <th>Calcium</th>                  <td>-4952.5782</td> <td> 1.86e+04</td> <td>   -0.267</td> <td> 0.790</td> <td>-4.16e+04</td> <td> 3.17e+04</td>\n",
       "</tr>\n",
       "<tr>\n",
       "  <th>Selenium</th>                 <td> 1.494e+04</td> <td> 2.76e+04</td> <td>    0.542</td> <td> 0.589</td> <td>-3.96e+04</td> <td> 6.94e+04</td>\n",
       "</tr>\n",
       "<tr>\n",
       "  <th>num_words_instructions</th>   <td> 2.727e+04</td> <td> 1.26e+04</td> <td>    2.156</td> <td> 0.033</td> <td> 2268.400</td> <td> 5.23e+04</td>\n",
       "</tr>\n",
       "<tr>\n",
       "  <th>num_steps_instructions</th>   <td>-3.552e+04</td> <td> 1.49e+04</td> <td>   -2.391</td> <td> 0.018</td> <td>-6.49e+04</td> <td>-6156.392</td>\n",
       "</tr>\n",
       "</table>\n",
       "<table class=\"simpletable\">\n",
       "<tr>\n",
       "  <th>Omnibus:</th>       <td>210.143</td> <th>  Durbin-Watson:     </th> <td>   1.982</td>\n",
       "</tr>\n",
       "<tr>\n",
       "  <th>Prob(Omnibus):</th> <td> 0.000</td>  <th>  Jarque-Bera (JB):  </th> <td>8463.112</td>\n",
       "</tr>\n",
       "<tr>\n",
       "  <th>Skew:</th>          <td> 4.613</td>  <th>  Prob(JB):          </th> <td>    0.00</td>\n",
       "</tr>\n",
       "<tr>\n",
       "  <th>Kurtosis:</th>      <td>35.397</td>  <th>  Cond. No.          </th> <td>    164.</td>\n",
       "</tr>\n",
       "</table><br/><br/>Warnings:<br/>[1] Standard Errors assume that the covariance matrix of the errors is correctly specified."
      ],
      "text/plain": [
       "<class 'statsmodels.iolib.summary.Summary'>\n",
       "\"\"\"\n",
       "                            OLS Regression Results                            \n",
       "==============================================================================\n",
       "Dep. Variable:         aggregateLikes   R-squared:                       0.257\n",
       "Model:                            OLS   Adj. R-squared:                  0.076\n",
       "Method:                 Least Squares   F-statistic:                     1.416\n",
       "Date:                Tue, 21 Jan 2020   Prob (F-statistic):             0.0810\n",
       "Time:                        16:48:28   Log-Likelihood:                -2255.9\n",
       "No. Observations:                 179   AIC:                             4584.\n",
       "Df Residuals:                     143   BIC:                             4699.\n",
       "Df Model:                          35                                         \n",
       "Covariance Type:            nonrobust                                         \n",
       "============================================================================================\n",
       "                               coef    std err          t      P>|t|      [0.025      0.975]\n",
       "--------------------------------------------------------------------------------------------\n",
       "const                     1.428e+04   2.29e+04      0.623      0.534    -3.1e+04    5.96e+04\n",
       "num_ingredients          -1.187e+04    1.1e+04     -1.076      0.284   -3.37e+04    9939.433\n",
       "pricePerServing           2.227e+04    1.5e+04      1.482      0.141   -7437.828     5.2e+04\n",
       "readyInMinutes            -515.3225   6900.106     -0.075      0.941   -1.42e+04    1.31e+04\n",
       "servings                  1.542e+04   8361.520      1.844      0.067   -1105.949     3.2e+04\n",
       "weightWatcherSmartPoints -1.347e+04   4.42e+04     -0.305      0.761   -1.01e+05    7.39e+04\n",
       "Calories                  -6.13e+04   2.17e+05     -0.282      0.778   -4.91e+05    3.68e+05\n",
       "Fat                       1.765e+04   1.34e+05      0.132      0.895   -2.46e+05    2.82e+05\n",
       "Saturated_Fat             4.635e+04   6.05e+04      0.766      0.445   -7.32e+04    1.66e+05\n",
       "Carbohydrates             5.096e+04   1.14e+05      0.448      0.655   -1.74e+05    2.76e+05\n",
       "Sugar                    -2.104e+04   1.59e+04     -1.324      0.188   -5.24e+04    1.04e+04\n",
       "Cholesterol              -7032.2019   1.93e+04     -0.364      0.716   -4.52e+04    3.12e+04\n",
       "Sodium                    1.063e+04   1.32e+04      0.808      0.420   -1.54e+04    3.66e+04\n",
       "Protein                   -4.49e+04   8.74e+04     -0.514      0.608   -2.18e+05    1.28e+05\n",
       "Vitamin_K                -2650.6464   9172.988     -0.289      0.773   -2.08e+04    1.55e+04\n",
       "Vitamin_A                 1134.6668   7688.589      0.148      0.883   -1.41e+04    1.63e+04\n",
       "Vitamin_C                -1.555e+04   1.12e+04     -1.388      0.167   -3.77e+04    6591.231\n",
       "Manganese                  501.4683   1.53e+04      0.033      0.974   -2.98e+04    3.08e+04\n",
       "Folate                   -1.667e+04   1.62e+04     -1.027      0.306   -4.88e+04    1.54e+04\n",
       "Fiber                    -1.368e+04   2.44e+04     -0.562      0.575   -6.18e+04    3.45e+04\n",
       "Copper                   -3885.3410   7045.260     -0.551      0.582   -1.78e+04       1e+04\n",
       "Magnesium                 1.728e+04   2.63e+04      0.656      0.513   -3.48e+04    6.94e+04\n",
       "Phosphorus                3.708e+04   3.99e+04      0.928      0.355   -4.19e+04    1.16e+05\n",
       "Vitamin_B6                1.644e+04   2.66e+04      0.618      0.538   -3.62e+04    6.91e+04\n",
       "Potassium                 5739.3969   2.21e+04      0.259      0.796    -3.8e+04    4.95e+04\n",
       "Vitamin_B1               -1.615e+04   2.17e+04     -0.746      0.457   -5.89e+04    2.66e+04\n",
       "Iron                     -3.241e+04   3.37e+04     -0.961      0.338   -9.91e+04    3.42e+04\n",
       "Vitamin_B2                4.121e+04   2.22e+04      1.859      0.065   -2603.738     8.5e+04\n",
       "Vitamin_E                -1.458e+04   1.61e+04     -0.904      0.367   -4.64e+04    1.73e+04\n",
       "Zinc                     -1.123e+04   1.56e+04     -0.721      0.472    -4.2e+04    1.96e+04\n",
       "Vitamin_B5               -1.906e+04   2.67e+04     -0.713      0.477   -7.19e+04    3.37e+04\n",
       "Vitamin_B3                1.857e+04   3.42e+04      0.542      0.589   -4.91e+04    8.63e+04\n",
       "Calcium                  -4952.5782   1.86e+04     -0.267      0.790   -4.16e+04    3.17e+04\n",
       "Selenium                  1.494e+04   2.76e+04      0.542      0.589   -3.96e+04    6.94e+04\n",
       "num_words_instructions    2.727e+04   1.26e+04      2.156      0.033    2268.400    5.23e+04\n",
       "num_steps_instructions   -3.552e+04   1.49e+04     -2.391      0.018   -6.49e+04   -6156.392\n",
       "==============================================================================\n",
       "Omnibus:                      210.143   Durbin-Watson:                   1.982\n",
       "Prob(Omnibus):                  0.000   Jarque-Bera (JB):             8463.112\n",
       "Skew:                           4.613   Prob(JB):                         0.00\n",
       "Kurtosis:                      35.397   Cond. No.                         164.\n",
       "==============================================================================\n",
       "\n",
       "Warnings:\n",
       "[1] Standard Errors assume that the covariance matrix of the errors is correctly specified.\n",
       "\"\"\""
      ]
     },
     "execution_count": 82,
     "metadata": {},
     "output_type": "execute_result"
    }
   ],
   "source": [
    "predictors = whole30[x_variables_1]\n",
    "target = whole30['aggregateLikes']\n",
    "x_train, x_test, y_train, y_test = train_test_split(predictors, target, random_state = 2020, test_size = .25) \n",
    "\n",
    "X = x_train \n",
    "y = y_train \n",
    "X = sm.add_constant(X) \n",
    "\n",
    "model = sm.OLS(y, X).fit() ## sm.OLS(output, input)\n",
    "predictions = model.predict(X)\n",
    "\n",
    "model.summary()"
   ]
  },
  {
   "cell_type": "code",
   "execution_count": 88,
   "metadata": {},
   "outputs": [
    {
     "data": {
      "text/html": [
       "<table class=\"simpletable\">\n",
       "<caption>OLS Regression Results</caption>\n",
       "<tr>\n",
       "  <th>Dep. Variable:</th>     <td>aggregateLikes</td>  <th>  R-squared:         </th> <td>   0.083</td>\n",
       "</tr>\n",
       "<tr>\n",
       "  <th>Model:</th>                   <td>OLS</td>       <th>  Adj. R-squared:    </th> <td>   0.078</td>\n",
       "</tr>\n",
       "<tr>\n",
       "  <th>Method:</th>             <td>Least Squares</td>  <th>  F-statistic:       </th> <td>   15.97</td>\n",
       "</tr>\n",
       "<tr>\n",
       "  <th>Date:</th>             <td>Tue, 21 Jan 2020</td> <th>  Prob (F-statistic):</th> <td>9.42e-05</td>\n",
       "</tr>\n",
       "<tr>\n",
       "  <th>Time:</th>                 <td>16:53:20</td>     <th>  Log-Likelihood:    </th> <td> -2274.8</td>\n",
       "</tr>\n",
       "<tr>\n",
       "  <th>No. Observations:</th>      <td>   179</td>      <th>  AIC:               </th> <td>   4554.</td>\n",
       "</tr>\n",
       "<tr>\n",
       "  <th>Df Residuals:</th>          <td>   177</td>      <th>  BIC:               </th> <td>   4560.</td>\n",
       "</tr>\n",
       "<tr>\n",
       "  <th>Df Model:</th>              <td>     1</td>      <th>                     </th>     <td> </td>   \n",
       "</tr>\n",
       "<tr>\n",
       "  <th>Covariance Type:</th>      <td>nonrobust</td>    <th>                     </th>     <td> </td>   \n",
       "</tr>\n",
       "</table>\n",
       "<table class=\"simpletable\">\n",
       "<tr>\n",
       "       <td></td>         <th>coef</th>     <th>std err</th>      <th>t</th>      <th>P>|t|</th>  <th>[0.025</th>    <th>0.975]</th>  \n",
       "</tr>\n",
       "<tr>\n",
       "  <th>const</th>      <td> 2.177e+04</td> <td> 6098.438</td> <td>    3.570</td> <td> 0.000</td> <td> 9738.289</td> <td> 3.38e+04</td>\n",
       "</tr>\n",
       "<tr>\n",
       "  <th>Vitamin_B2</th> <td> 2.898e+04</td> <td> 7252.488</td> <td>    3.996</td> <td> 0.000</td> <td> 1.47e+04</td> <td> 4.33e+04</td>\n",
       "</tr>\n",
       "</table>\n",
       "<table class=\"simpletable\">\n",
       "<tr>\n",
       "  <th>Omnibus:</th>       <td>238.975</td> <th>  Durbin-Watson:     </th> <td>   2.010</td> \n",
       "</tr>\n",
       "<tr>\n",
       "  <th>Prob(Omnibus):</th> <td> 0.000</td>  <th>  Jarque-Bera (JB):  </th> <td>12198.991</td>\n",
       "</tr>\n",
       "<tr>\n",
       "  <th>Skew:</th>          <td> 5.670</td>  <th>  Prob(JB):          </th> <td>    0.00</td> \n",
       "</tr>\n",
       "<tr>\n",
       "  <th>Kurtosis:</th>      <td>41.820</td>  <th>  Cond. No.          </th> <td>    1.28</td> \n",
       "</tr>\n",
       "</table><br/><br/>Warnings:<br/>[1] Standard Errors assume that the covariance matrix of the errors is correctly specified."
      ],
      "text/plain": [
       "<class 'statsmodels.iolib.summary.Summary'>\n",
       "\"\"\"\n",
       "                            OLS Regression Results                            \n",
       "==============================================================================\n",
       "Dep. Variable:         aggregateLikes   R-squared:                       0.083\n",
       "Model:                            OLS   Adj. R-squared:                  0.078\n",
       "Method:                 Least Squares   F-statistic:                     15.97\n",
       "Date:                Tue, 21 Jan 2020   Prob (F-statistic):           9.42e-05\n",
       "Time:                        16:53:20   Log-Likelihood:                -2274.8\n",
       "No. Observations:                 179   AIC:                             4554.\n",
       "Df Residuals:                     177   BIC:                             4560.\n",
       "Df Model:                           1                                         \n",
       "Covariance Type:            nonrobust                                         \n",
       "==============================================================================\n",
       "                 coef    std err          t      P>|t|      [0.025      0.975]\n",
       "------------------------------------------------------------------------------\n",
       "const       2.177e+04   6098.438      3.570      0.000    9738.289    3.38e+04\n",
       "Vitamin_B2  2.898e+04   7252.488      3.996      0.000    1.47e+04    4.33e+04\n",
       "==============================================================================\n",
       "Omnibus:                      238.975   Durbin-Watson:                   2.010\n",
       "Prob(Omnibus):                  0.000   Jarque-Bera (JB):            12198.991\n",
       "Skew:                           5.670   Prob(JB):                         0.00\n",
       "Kurtosis:                      41.820   Cond. No.                         1.28\n",
       "==============================================================================\n",
       "\n",
       "Warnings:\n",
       "[1] Standard Errors assume that the covariance matrix of the errors is correctly specified.\n",
       "\"\"\""
      ]
     },
     "execution_count": 88,
     "metadata": {},
     "output_type": "execute_result"
    }
   ],
   "source": [
    "x_variables_2 = [\n",
    "              'Vitamin_B2']\n",
    "\n",
    "\n",
    "predictors_2 = whole30[x_variables_2]\n",
    "target = whole30['aggregateLikes']\n",
    "x_train, x_test, y_train, y_test = train_test_split(predictors_2, target, random_state = 2020, test_size = .25) \n",
    "\n",
    "X = x_train \n",
    "y = y_train \n",
    "X = sm.add_constant(X) \n",
    "\n",
    "model = sm.OLS(y, X).fit() ## sm.OLS(output, input)\n",
    "predictions = model.predict(X)\n",
    "\n",
    "model.summary()"
   ]
  },
  {
   "cell_type": "code",
   "execution_count": 92,
   "metadata": {},
   "outputs": [
    {
     "data": {
      "image/png": "[encoded data removed]",
      "text/plain": [
       "<Figure size 432x288 with 1 Axes>"
      ]
     },
     "metadata": {
      "needs_background": "light"
     },
     "output_type": "display_data"
    }
   ],
   "source": [
    "fig = sm.graphics.qqplot(model.resid, dist=stats.norm, line='45', fit=True)"
   ]
  },
  {
   "cell_type": "code",
   "execution_count": 93,
   "metadata": {},
   "outputs": [
    {
     "data": {
      "image/png": "[encoded data removed]",
      "text/plain": [
       "<Figure size 432x288 with 1 Axes>"
      ]
     },
     "metadata": {
      "needs_background": "light"
     },
     "output_type": "display_data"
    }
   ],
   "source": [
    "plt.scatter(predictions, model.resid)\n",
    "plt.plot(predictions, [0 for i in range(len(x_train))], color = 'r')\n",
    "plt.show()"
   ]
  },
  {
   "cell_type": "code",
   "execution_count": 91,
   "metadata": {},
   "outputs": [
    {
     "data": {
      "text/plain": [
       "'lasso coefficients'"
      ]
     },
     "metadata": {},
     "output_type": "display_data"
    },
    {
     "data": {
      "text/plain": [
       "{'Vitamin_B2': 28984.311231700012}"
      ]
     },
     "metadata": {},
     "output_type": "display_data"
    },
    {
     "data": {
      "text/plain": [
       "'lasso train score'"
      ]
     },
     "metadata": {},
     "output_type": "display_data"
    },
    {
     "data": {
      "text/plain": [
       "0.08276757336077734"
      ]
     },
     "metadata": {},
     "output_type": "display_data"
    },
    {
     "data": {
      "text/plain": [
       "'lasso test score'"
      ]
     },
     "metadata": {},
     "output_type": "display_data"
    },
    {
     "data": {
      "text/plain": [
       "-1.3484487140563672"
      ]
     },
     "metadata": {},
     "output_type": "display_data"
    }
   ],
   "source": [
    "lasso = Lasso(alpha = 0.05, max_iter=10000)\n",
    "lasso.fit(x_train, y_train)\n",
    "# sample_models['lasso'] = lasso\n",
    "# y_lasso_test.append(lasso.score(X_test, y_test))\n",
    "lasso_coefficients = dict(zip(x_variables_1, list(lasso.coef_)))\n",
    "display('lasso coefficients')\n",
    "display(lasso_coefficients)\n",
    "display('lasso train score')\n",
    "display(lasso.score(x_train, y_train))\n",
    "display('lasso test score')\n",
    "display(lasso.score(x_test, y_test))"
   ]
  },
  {
   "cell_type": "code",
   "execution_count": 90,
   "metadata": {},
   "outputs": [
    {
     "data": {
      "text/plain": [
       "'ridge coefficients'"
      ]
     },
     "metadata": {},
     "output_type": "display_data"
    },
    {
     "data": {
      "text/plain": [
       "{'Vitamin_B2': 28972.606520403548}"
      ]
     },
     "metadata": {},
     "output_type": "display_data"
    },
    {
     "data": {
      "text/plain": [
       "'ridge train score'"
      ]
     },
     "metadata": {},
     "output_type": "display_data"
    },
    {
     "data": {
      "text/plain": [
       "0.08276755969545402"
      ]
     },
     "metadata": {},
     "output_type": "display_data"
    },
    {
     "data": {
      "text/plain": [
       "'ridge test score'"
      ]
     },
     "metadata": {},
     "output_type": "display_data"
    },
    {
     "data": {
      "text/plain": [
       "-1.3473931963542949"
      ]
     },
     "metadata": {},
     "output_type": "display_data"
    }
   ],
   "source": [
    "ridge = Ridge(alpha = .05, max_iter= 10000)\n",
    "ridge.fit(x_train, y_train)\n",
    "ridge_coefficients = dict(zip(x_variables_1, list(ridge.coef_)))\n",
    "display('ridge coefficients')\n",
    "display(ridge_coefficients)\n",
    "display('ridge train score')\n",
    "display(ridge.score(x_train, y_train))\n",
    "display('ridge test score')\n",
    "display(ridge.score(x_test, y_test))"
   ]
  },
  {
   "cell_type": "code",
   "execution_count": null,
   "metadata": {},
   "outputs": [],
   "source": []
  }
 ],
 "metadata": {
  "kernelspec": {
   "display_name": "Python 3",
   "language": "python",
   "name": "python3"
  },
  "language_info": {
   "codemirror_mode": {
    "name": "ipython",
    "version": 3
   },
   "file_extension": ".py",
   "mimetype": "text/x-python",
   "name": "python",
   "nbconvert_exporter": "python",
   "pygments_lexer": "ipython3",
   "version": "3.6.9"
  }
 },
 "nbformat": 4,
 "nbformat_minor": 2
}
