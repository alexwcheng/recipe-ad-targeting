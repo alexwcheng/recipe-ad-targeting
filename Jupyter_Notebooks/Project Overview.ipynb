{
 "cells": [
  {
   "cell_type": "markdown",
   "metadata": {},
   "source": [
    "# Project Overview"
   ]
  },
  {
   "cell_type": "markdown",
   "metadata": {},
   "source": [
    "### Scenario"
   ]
  },
  {
   "cell_type": "markdown",
   "metadata": {},
   "source": [
    "Our client is a <b>startup meal-kit delivery service</b> in competition with the likes of Hello Fresh, Blue Apron, and others in the US. The startup thinks that there is a market to cater to people with a <b>specific diet</b>. The leadership wants to figure out which key metrics about a recipe makes people like it more. If they know what people like about a recipe, then they can optimize those metrics, which hopefully leads to more popular recipes, and therefore more revenue. From this work, we hope to answer the question:\n",
    "\n",
    "<b>Which qualities of a recipe predicts how many \"Likes\" a recipe gets?</b>\n",
    "\n",
    "\n",
    "We will consider the following predictors:\n",
    "- Recipe price\n",
    "- Recipe calories\n",
    "- Recipe preparation time\n",
    "- Recipe nutrition"
   ]
  },
  {
   "cell_type": "markdown",
   "metadata": {},
   "source": [
    "### Data Source"
   ]
  },
  {
   "cell_type": "markdown",
   "metadata": {},
   "source": [
    "Our data source is https://spoonacular.com - an aggregating website and app for people to collect and store all of their favorite recipes all in one place.\n",
    "\n",
    "\n",
    "The <b>Spoonacular Nutrition, Recipe, and Food API</b> allows us to access over <b>365,000 recipes and 86,000 food products.</b> The API makes it possible to search for recipes using natural language queries, such as \"gluten free brownies without sugar\" or \"low fat vegan cupcakes.\" The API allows us to find the nutritional information for any recipe, analyze recipe cost, see ingredient lists, find recipes by ingredient, find recipes by diet, filter by nutritional criteria, or sort recipes by popularity.\n",
    "\n",
    "\n",
    "Documentation for the Spoonacular API is here: https://spoonacular.com/food-api/docs"
   ]
  }
 ],
 "metadata": {
  "kernelspec": {
   "display_name": "Python 3",
   "language": "python",
   "name": "python3"
  },
  "language_info": {
   "codemirror_mode": {
    "name": "ipython",
    "version": 3
   },
   "file_extension": ".py",
   "mimetype": "text/x-python",
   "name": "python",
   "nbconvert_exporter": "python",
   "pygments_lexer": "ipython3",
   "version": "3.7.4"
  }
 },
 "nbformat": 4,
 "nbformat_minor": 2
}
