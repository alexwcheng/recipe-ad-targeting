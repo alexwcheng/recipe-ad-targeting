{
 "cells": [
  {
   "cell_type": "markdown",
   "metadata": {},
   "source": [
    "# Modeling"
   ]
  },
  {
   "cell_type": "markdown",
   "metadata": {},
   "source": [
    "___"
   ]
  },
  {
   "cell_type": "markdown",
   "metadata": {},
   "source": [
    "### 1. Import Libraries"
   ]
  },
  {
   "cell_type": "code",
   "execution_count": 63,
   "metadata": {},
   "outputs": [],
   "source": [
    "import matplotlib.pyplot as plt\n",
    "import matplotlib.ticker as ticker\n",
    "%matplotlib inline\n",
    "import seaborn as sns\n",
    "import numpy as np\n",
    "import pandas as pd\n",
    "import requests\n",
    "import json\n",
    "import sklearn\n",
    "from scipy import stats\n",
    "from scipy.stats import norm\n",
    "from sklearn.utils import resample\n",
    "import pickle\n",
    "import statsmodels.api as sm\n",
    "from statsmodels.formula.api import ols\n",
    "import scipy.stats as stats\n",
    "from wordcloud import WordCloud\n",
    "import random\n",
    "from collections import Counter\n",
    "from statsmodels.stats.outliers_influence import variance_inflation_factor\n",
    "from sklearn.model_selection import train_test_split\n",
    "from sklearn.linear_model import LassoCV, Lasso, LinearRegression\n",
    "from sklearn.preprocessing import StandardScaler"
   ]
  },
  {
   "cell_type": "markdown",
   "metadata": {},
   "source": [
    "___"
   ]
  },
  {
   "cell_type": "markdown",
   "metadata": {},
   "source": [
    "### 2. Expand maximum range of rows"
   ]
  },
  {
   "cell_type": "code",
   "execution_count": 2,
   "metadata": {},
   "outputs": [],
   "source": [
    "pd.set_option('display.max_rows', 1000)\n",
    "pd.set_option('display.max_columns', 1000)\n",
    "pd.set_option('display.width', 1000)"
   ]
  },
  {
   "cell_type": "markdown",
   "metadata": {},
   "source": [
    "___"
   ]
  },
  {
   "cell_type": "markdown",
   "metadata": {},
   "source": [
    "### 3. Load Data"
   ]
  },
  {
   "cell_type": "code",
   "execution_count": 8,
   "metadata": {},
   "outputs": [],
   "source": [
    "paleo = pd.read_csv('../Data/scaled_paleo.csv', index_col=0)\n",
    "primal = pd.read_csv('../Data/scaled_primal.csv', index_col=0) \n",
    "vegan = pd.read_csv('../Data/scaled_vegan.csv', index_col=0) \n",
    "vegetarian = pd.read_csv('../Data/scaled_vegetarian.csv', index_col=0) \n",
    "whole30 = pd.read_csv('../Data/scaled_whole30.csv', index_col=0)"
   ]
  },
  {
   "cell_type": "markdown",
   "metadata": {},
   "source": [
    "___"
   ]
  },
  {
   "cell_type": "markdown",
   "metadata": {},
   "source": [
    "### 4. Train / Test Split Data"
   ]
  },
  {
   "cell_type": "markdown",
   "metadata": {},
   "source": [
    "For train/test splits, as your dataset gets bigger and bigger, the split can lean more and more towards the \"train\" set. As your dataset gets really small (100 observations) then the split should be closer to 50/50 for train/test."
   ]
  },
  {
   "cell_type": "code",
   "execution_count": 88,
   "metadata": {},
   "outputs": [],
   "source": [
    "x_variables_1 = ['num_ingredients', \n",
    "              'pricePerServing', \n",
    "              'readyInMinutes', \n",
    "              'servings', \n",
    "              'weightWatcherSmartPoints', \n",
    "              'Calories', \n",
    "              'Fat', \n",
    "              'Saturated_Fat', \n",
    "              'Carbohydrates', \n",
    "              'Sugar', \n",
    "              'Cholesterol', \n",
    "              'Sodium', \n",
    "              'Protein', \n",
    "              'Vitamin_K', \n",
    "              'Vitamin_A', \n",
    "              'Vitamin_C', \n",
    "              'Manganese', \n",
    "              'Folate', \n",
    "              'Fiber', \n",
    "              'Copper', \n",
    "              'Magnesium', \n",
    "              'Phosphorus', \n",
    "              'Vitamin_B6', \n",
    "              'Potassium', \n",
    "              'Vitamin_B1', \n",
    "              'Iron', \n",
    "              'Vitamin_B2', \n",
    "              'Vitamin_E', \n",
    "              'Zinc', \n",
    "              'Vitamin_B5', \n",
    "              'Vitamin_B3', \n",
    "              'Calcium', \n",
    "              'Selenium', \n",
    "              'num_words_instructions', \n",
    "              'num_steps_instructions']"
   ]
  },
  {
   "cell_type": "code",
   "execution_count": 89,
   "metadata": {},
   "outputs": [],
   "source": [
    "predictors = vegetarian[x_variables_1]"
   ]
  },
  {
   "cell_type": "code",
   "execution_count": 90,
   "metadata": {},
   "outputs": [],
   "source": [
    "target = vegetarian['aggregateLikes']"
   ]
  },
  {
   "cell_type": "code",
   "execution_count": 91,
   "metadata": {},
   "outputs": [],
   "source": [
    "x_train, x_test, y_train, y_test = train_test_split(predictors, target, random_state = 2020, test_size = .25) "
   ]
  },
  {
   "cell_type": "markdown",
   "metadata": {},
   "source": [
    "___"
   ]
  },
  {
   "cell_type": "markdown",
   "metadata": {},
   "source": [
    "### 5. Run Regression 1, Fit, & Cull Non-Significant Predictors"
   ]
  },
  {
   "cell_type": "markdown",
   "metadata": {},
   "source": [
    "#### Regression 1 - fit to model, check for p-values less than 0.3"
   ]
  },
  {
   "cell_type": "code",
   "execution_count": 92,
   "metadata": {
    "scrolled": false
   },
   "outputs": [
    {
     "data": {
      "text/html": [
       "<table class=\"simpletable\">\n",
       "<caption>OLS Regression Results</caption>\n",
       "<tr>\n",
       "  <th>Dep. Variable:</th>     <td>aggregateLikes</td>  <th>  R-squared:         </th> <td>   0.173</td> \n",
       "</tr>\n",
       "<tr>\n",
       "  <th>Model:</th>                   <td>OLS</td>       <th>  Adj. R-squared:    </th> <td>   0.106</td> \n",
       "</tr>\n",
       "<tr>\n",
       "  <th>Method:</th>             <td>Least Squares</td>  <th>  F-statistic:       </th> <td>   2.598</td> \n",
       "</tr>\n",
       "<tr>\n",
       "  <th>Date:</th>             <td>Tue, 21 Jan 2020</td> <th>  Prob (F-statistic):</th> <td>3.93e-06</td> \n",
       "</tr>\n",
       "<tr>\n",
       "  <th>Time:</th>                 <td>14:32:50</td>     <th>  Log-Likelihood:    </th> <td> -5403.8</td> \n",
       "</tr>\n",
       "<tr>\n",
       "  <th>No. Observations:</th>      <td>   471</td>      <th>  AIC:               </th> <td>1.088e+04</td>\n",
       "</tr>\n",
       "<tr>\n",
       "  <th>Df Residuals:</th>          <td>   435</td>      <th>  BIC:               </th> <td>1.103e+04</td>\n",
       "</tr>\n",
       "<tr>\n",
       "  <th>Df Model:</th>              <td>    35</td>      <th>                     </th>     <td> </td>    \n",
       "</tr>\n",
       "<tr>\n",
       "  <th>Covariance Type:</th>      <td>nonrobust</td>    <th>                     </th>     <td> </td>    \n",
       "</tr>\n",
       "</table>\n",
       "<table class=\"simpletable\">\n",
       "<tr>\n",
       "              <td></td>                <th>coef</th>     <th>std err</th>      <th>t</th>      <th>P>|t|</th>  <th>[0.025</th>    <th>0.975]</th>  \n",
       "</tr>\n",
       "<tr>\n",
       "  <th>const</th>                    <td> 1899.4616</td> <td> 4404.677</td> <td>    0.431</td> <td> 0.667</td> <td>-6757.634</td> <td> 1.06e+04</td>\n",
       "</tr>\n",
       "<tr>\n",
       "  <th>num_ingredients</th>          <td> 1240.9808</td> <td> 1488.430</td> <td>    0.834</td> <td> 0.405</td> <td>-1684.429</td> <td> 4166.390</td>\n",
       "</tr>\n",
       "<tr>\n",
       "  <th>pricePerServing</th>          <td>-2534.0664</td> <td> 2664.038</td> <td>   -0.951</td> <td> 0.342</td> <td>-7770.053</td> <td> 2701.920</td>\n",
       "</tr>\n",
       "<tr>\n",
       "  <th>readyInMinutes</th>           <td> 2434.6581</td> <td> 1432.080</td> <td>    1.700</td> <td> 0.090</td> <td> -379.999</td> <td> 5249.315</td>\n",
       "</tr>\n",
       "<tr>\n",
       "  <th>servings</th>                 <td>-2173.0608</td> <td> 1421.548</td> <td>   -1.529</td> <td> 0.127</td> <td>-4967.017</td> <td>  620.896</td>\n",
       "</tr>\n",
       "<tr>\n",
       "  <th>weightWatcherSmartPoints</th> <td> -853.5684</td> <td> 6456.150</td> <td>   -0.132</td> <td> 0.895</td> <td>-1.35e+04</td> <td> 1.18e+04</td>\n",
       "</tr>\n",
       "<tr>\n",
       "  <th>Calories</th>                 <td> 1.133e+04</td> <td> 3.44e+04</td> <td>    0.330</td> <td> 0.742</td> <td>-5.62e+04</td> <td> 7.89e+04</td>\n",
       "</tr>\n",
       "<tr>\n",
       "  <th>Fat</th>                      <td>-6450.2818</td> <td> 1.98e+04</td> <td>   -0.326</td> <td> 0.744</td> <td>-4.53e+04</td> <td> 3.24e+04</td>\n",
       "</tr>\n",
       "<tr>\n",
       "  <th>Saturated_Fat</th>            <td>  661.8762</td> <td> 2363.526</td> <td>    0.280</td> <td> 0.780</td> <td>-3983.475</td> <td> 5307.228</td>\n",
       "</tr>\n",
       "<tr>\n",
       "  <th>Carbohydrates</th>            <td>-4329.5485</td> <td> 1.69e+04</td> <td>   -0.256</td> <td> 0.798</td> <td>-3.75e+04</td> <td> 2.89e+04</td>\n",
       "</tr>\n",
       "<tr>\n",
       "  <th>Sugar</th>                    <td> -808.5016</td> <td> 1992.874</td> <td>   -0.406</td> <td> 0.685</td> <td>-4725.362</td> <td> 3108.358</td>\n",
       "</tr>\n",
       "<tr>\n",
       "  <th>Cholesterol</th>              <td>-1.647e+04</td> <td> 1.12e+04</td> <td>   -1.475</td> <td> 0.141</td> <td>-3.84e+04</td> <td> 5481.580</td>\n",
       "</tr>\n",
       "<tr>\n",
       "  <th>Sodium</th>                   <td> 6606.1902</td> <td> 1321.048</td> <td>    5.001</td> <td> 0.000</td> <td> 4009.759</td> <td> 9202.622</td>\n",
       "</tr>\n",
       "<tr>\n",
       "  <th>Protein</th>                  <td>-1.659e+04</td> <td> 1.15e+04</td> <td>   -1.440</td> <td> 0.151</td> <td>-3.92e+04</td> <td> 6049.687</td>\n",
       "</tr>\n",
       "<tr>\n",
       "  <th>Vitamin_K</th>                <td>-2258.5241</td> <td> 1681.420</td> <td>   -1.343</td> <td> 0.180</td> <td>-5563.242</td> <td> 1046.194</td>\n",
       "</tr>\n",
       "<tr>\n",
       "  <th>Vitamin_A</th>                <td> -887.1487</td> <td> 1269.095</td> <td>   -0.699</td> <td> 0.485</td> <td>-3381.469</td> <td> 1607.172</td>\n",
       "</tr>\n",
       "<tr>\n",
       "  <th>Vitamin_C</th>                <td>  -69.1657</td> <td> 1714.269</td> <td>   -0.040</td> <td> 0.968</td> <td>-3438.446</td> <td> 3300.115</td>\n",
       "</tr>\n",
       "<tr>\n",
       "  <th>Manganese</th>                <td> 1060.3634</td> <td> 2013.020</td> <td>    0.527</td> <td> 0.599</td> <td>-2896.091</td> <td> 5016.817</td>\n",
       "</tr>\n",
       "<tr>\n",
       "  <th>Folate</th>                   <td>  -89.9394</td> <td> 2248.162</td> <td>   -0.040</td> <td> 0.968</td> <td>-4508.549</td> <td> 4328.671</td>\n",
       "</tr>\n",
       "<tr>\n",
       "  <th>Fiber</th>                    <td>-5614.5450</td> <td> 2960.986</td> <td>   -1.896</td> <td> 0.059</td> <td>-1.14e+04</td> <td>  205.073</td>\n",
       "</tr>\n",
       "<tr>\n",
       "  <th>Copper</th>                   <td> -997.3799</td> <td> 1288.200</td> <td>   -0.774</td> <td> 0.439</td> <td>-3529.250</td> <td> 1534.490</td>\n",
       "</tr>\n",
       "<tr>\n",
       "  <th>Magnesium</th>                <td>-2797.4663</td> <td> 3189.384</td> <td>   -0.877</td> <td> 0.381</td> <td>-9065.985</td> <td> 3471.053</td>\n",
       "</tr>\n",
       "<tr>\n",
       "  <th>Phosphorus</th>               <td> 7818.6493</td> <td> 4769.958</td> <td>    1.639</td> <td> 0.102</td> <td>-1556.382</td> <td> 1.72e+04</td>\n",
       "</tr>\n",
       "<tr>\n",
       "  <th>Vitamin_B6</th>               <td>-4132.3764</td> <td> 3186.117</td> <td>   -1.297</td> <td> 0.195</td> <td>-1.04e+04</td> <td> 2129.721</td>\n",
       "</tr>\n",
       "<tr>\n",
       "  <th>Potassium</th>                <td>  188.3991</td> <td> 2890.608</td> <td>    0.065</td> <td> 0.948</td> <td>-5492.895</td> <td> 5869.693</td>\n",
       "</tr>\n",
       "<tr>\n",
       "  <th>Vitamin_B1</th>               <td>-2817.3884</td> <td> 3714.115</td> <td>   -0.759</td> <td> 0.449</td> <td>-1.01e+04</td> <td> 4482.453</td>\n",
       "</tr>\n",
       "<tr>\n",
       "  <th>Iron</th>                     <td> -220.5380</td> <td> 2041.372</td> <td>   -0.108</td> <td> 0.914</td> <td>-4232.716</td> <td> 3791.640</td>\n",
       "</tr>\n",
       "<tr>\n",
       "  <th>Vitamin_B2</th>               <td>   1.2e+04</td> <td> 3838.364</td> <td>    3.126</td> <td> 0.002</td> <td> 4455.343</td> <td> 1.95e+04</td>\n",
       "</tr>\n",
       "<tr>\n",
       "  <th>Vitamin_E</th>                <td>-1135.7953</td> <td> 2097.471</td> <td>   -0.542</td> <td> 0.588</td> <td>-5258.232</td> <td> 2986.641</td>\n",
       "</tr>\n",
       "<tr>\n",
       "  <th>Zinc</th>                     <td> 4802.7104</td> <td> 5091.051</td> <td>    0.943</td> <td> 0.346</td> <td>-5203.406</td> <td> 1.48e+04</td>\n",
       "</tr>\n",
       "<tr>\n",
       "  <th>Vitamin_B5</th>               <td> 6967.6527</td> <td> 4598.299</td> <td>    1.515</td> <td> 0.130</td> <td>-2069.993</td> <td>  1.6e+04</td>\n",
       "</tr>\n",
       "<tr>\n",
       "  <th>Vitamin_B3</th>               <td> 1585.8341</td> <td> 7095.828</td> <td>    0.223</td> <td> 0.823</td> <td>-1.24e+04</td> <td> 1.55e+04</td>\n",
       "</tr>\n",
       "<tr>\n",
       "  <th>Calcium</th>                  <td>-2591.0158</td> <td> 2682.347</td> <td>   -0.966</td> <td> 0.335</td> <td>-7862.988</td> <td> 2680.956</td>\n",
       "</tr>\n",
       "<tr>\n",
       "  <th>Selenium</th>                 <td>-1549.0454</td> <td> 3742.412</td> <td>   -0.414</td> <td> 0.679</td> <td>-8904.504</td> <td> 5806.413</td>\n",
       "</tr>\n",
       "<tr>\n",
       "  <th>num_words_instructions</th>   <td> 1175.7399</td> <td> 1664.456</td> <td>    0.706</td> <td> 0.480</td> <td>-2095.636</td> <td> 4447.116</td>\n",
       "</tr>\n",
       "<tr>\n",
       "  <th>num_steps_instructions</th>   <td>-1029.7493</td> <td> 1604.663</td> <td>   -0.642</td> <td> 0.521</td> <td>-4183.606</td> <td> 2124.107</td>\n",
       "</tr>\n",
       "</table>\n",
       "<table class=\"simpletable\">\n",
       "<tr>\n",
       "  <th>Omnibus:</th>       <td>608.620</td> <th>  Durbin-Watson:     </th> <td>   2.019</td> \n",
       "</tr>\n",
       "<tr>\n",
       "  <th>Prob(Omnibus):</th> <td> 0.000</td>  <th>  Jarque-Bera (JB):  </th> <td>63702.639</td>\n",
       "</tr>\n",
       "<tr>\n",
       "  <th>Skew:</th>          <td> 6.404</td>  <th>  Prob(JB):          </th> <td>    0.00</td> \n",
       "</tr>\n",
       "<tr>\n",
       "  <th>Kurtosis:</th>      <td>58.516</td>  <th>  Cond. No.          </th> <td>    123.</td> \n",
       "</tr>\n",
       "</table><br/><br/>Warnings:<br/>[1] Standard Errors assume that the covariance matrix of the errors is correctly specified."
      ],
      "text/plain": [
       "<class 'statsmodels.iolib.summary.Summary'>\n",
       "\"\"\"\n",
       "                            OLS Regression Results                            \n",
       "==============================================================================\n",
       "Dep. Variable:         aggregateLikes   R-squared:                       0.173\n",
       "Model:                            OLS   Adj. R-squared:                  0.106\n",
       "Method:                 Least Squares   F-statistic:                     2.598\n",
       "Date:                Tue, 21 Jan 2020   Prob (F-statistic):           3.93e-06\n",
       "Time:                        14:32:50   Log-Likelihood:                -5403.8\n",
       "No. Observations:                 471   AIC:                         1.088e+04\n",
       "Df Residuals:                     435   BIC:                         1.103e+04\n",
       "Df Model:                          35                                         \n",
       "Covariance Type:            nonrobust                                         \n",
       "============================================================================================\n",
       "                               coef    std err          t      P>|t|      [0.025      0.975]\n",
       "--------------------------------------------------------------------------------------------\n",
       "const                     1899.4616   4404.677      0.431      0.667   -6757.634    1.06e+04\n",
       "num_ingredients           1240.9808   1488.430      0.834      0.405   -1684.429    4166.390\n",
       "pricePerServing          -2534.0664   2664.038     -0.951      0.342   -7770.053    2701.920\n",
       "readyInMinutes            2434.6581   1432.080      1.700      0.090    -379.999    5249.315\n",
       "servings                 -2173.0608   1421.548     -1.529      0.127   -4967.017     620.896\n",
       "weightWatcherSmartPoints  -853.5684   6456.150     -0.132      0.895   -1.35e+04    1.18e+04\n",
       "Calories                  1.133e+04   3.44e+04      0.330      0.742   -5.62e+04    7.89e+04\n",
       "Fat                      -6450.2818   1.98e+04     -0.326      0.744   -4.53e+04    3.24e+04\n",
       "Saturated_Fat              661.8762   2363.526      0.280      0.780   -3983.475    5307.228\n",
       "Carbohydrates            -4329.5485   1.69e+04     -0.256      0.798   -3.75e+04    2.89e+04\n",
       "Sugar                     -808.5016   1992.874     -0.406      0.685   -4725.362    3108.358\n",
       "Cholesterol              -1.647e+04   1.12e+04     -1.475      0.141   -3.84e+04    5481.580\n",
       "Sodium                    6606.1902   1321.048      5.001      0.000    4009.759    9202.622\n",
       "Protein                  -1.659e+04   1.15e+04     -1.440      0.151   -3.92e+04    6049.687\n",
       "Vitamin_K                -2258.5241   1681.420     -1.343      0.180   -5563.242    1046.194\n",
       "Vitamin_A                 -887.1487   1269.095     -0.699      0.485   -3381.469    1607.172\n",
       "Vitamin_C                  -69.1657   1714.269     -0.040      0.968   -3438.446    3300.115\n",
       "Manganese                 1060.3634   2013.020      0.527      0.599   -2896.091    5016.817\n",
       "Folate                     -89.9394   2248.162     -0.040      0.968   -4508.549    4328.671\n",
       "Fiber                    -5614.5450   2960.986     -1.896      0.059   -1.14e+04     205.073\n",
       "Copper                    -997.3799   1288.200     -0.774      0.439   -3529.250    1534.490\n",
       "Magnesium                -2797.4663   3189.384     -0.877      0.381   -9065.985    3471.053\n",
       "Phosphorus                7818.6493   4769.958      1.639      0.102   -1556.382    1.72e+04\n",
       "Vitamin_B6               -4132.3764   3186.117     -1.297      0.195   -1.04e+04    2129.721\n",
       "Potassium                  188.3991   2890.608      0.065      0.948   -5492.895    5869.693\n",
       "Vitamin_B1               -2817.3884   3714.115     -0.759      0.449   -1.01e+04    4482.453\n",
       "Iron                      -220.5380   2041.372     -0.108      0.914   -4232.716    3791.640\n",
       "Vitamin_B2                  1.2e+04   3838.364      3.126      0.002    4455.343    1.95e+04\n",
       "Vitamin_E                -1135.7953   2097.471     -0.542      0.588   -5258.232    2986.641\n",
       "Zinc                      4802.7104   5091.051      0.943      0.346   -5203.406    1.48e+04\n",
       "Vitamin_B5                6967.6527   4598.299      1.515      0.130   -2069.993     1.6e+04\n",
       "Vitamin_B3                1585.8341   7095.828      0.223      0.823   -1.24e+04    1.55e+04\n",
       "Calcium                  -2591.0158   2682.347     -0.966      0.335   -7862.988    2680.956\n",
       "Selenium                 -1549.0454   3742.412     -0.414      0.679   -8904.504    5806.413\n",
       "num_words_instructions    1175.7399   1664.456      0.706      0.480   -2095.636    4447.116\n",
       "num_steps_instructions   -1029.7493   1604.663     -0.642      0.521   -4183.606    2124.107\n",
       "==============================================================================\n",
       "Omnibus:                      608.620   Durbin-Watson:                   2.019\n",
       "Prob(Omnibus):                  0.000   Jarque-Bera (JB):            63702.639\n",
       "Skew:                           6.404   Prob(JB):                         0.00\n",
       "Kurtosis:                      58.516   Cond. No.                         123.\n",
       "==============================================================================\n",
       "\n",
       "Warnings:\n",
       "[1] Standard Errors assume that the covariance matrix of the errors is correctly specified.\n",
       "\"\"\""
      ]
     },
     "execution_count": 92,
     "metadata": {},
     "output_type": "execute_result"
    }
   ],
   "source": [
    "x = x_train #predictor variables\n",
    "y = y_train #target variable\n",
    "x = sm.add_constant(x) #add (1) as the constant since we are using statsmodels\n",
    "lr = sm.OLS(y, x, hasconst= True) #assign to the x and y variables with constant to the sm.OLS() function\n",
    "results = lr.fit() #assign the result of the OLS to fit the data\n",
    "results.summary() #show the summary"
   ]
  },
  {
   "cell_type": "markdown",
   "metadata": {},
   "source": [
    "#### Notes \n",
    "It looks like many variables are non-significant predictors for \"likes\" so we will use a fairly high alpha cutoff (0.3) in our round 1 culling of predictors."
   ]
  },
  {
   "cell_type": "markdown",
   "metadata": {},
   "source": [
    "#### Regression 2  - provide updated list of predictors (p < 0.3) and fit to model again, check for p-values less than 0.05"
   ]
  },
  {
   "cell_type": "code",
   "execution_count": 96,
   "metadata": {},
   "outputs": [],
   "source": [
    "x_train = x_train[[\n",
    "    'num_ingredients',  \n",
    "    'readyInMinutes', \n",
    "    'servings', \n",
    "    'Sodium',\n",
    "    'Vitamin_K', \n",
    "    'Fiber', \n",
    "    'Phosphorus', \n",
    "    'Vitamin_B1', \n",
    "    'Vitamin_B2', \n",
    "    'Vitamin_B5', \n",
    "    'num_steps_instructions']]"
   ]
  },
  {
   "cell_type": "code",
   "execution_count": 97,
   "metadata": {
    "scrolled": true
   },
   "outputs": [
    {
     "data": {
      "text/html": [
       "<table class=\"simpletable\">\n",
       "<caption>OLS Regression Results</caption>\n",
       "<tr>\n",
       "  <th>Dep. Variable:</th>     <td>aggregateLikes</td>  <th>  R-squared:         </th> <td>   0.120</td> \n",
       "</tr>\n",
       "<tr>\n",
       "  <th>Model:</th>                   <td>OLS</td>       <th>  Adj. R-squared:    </th> <td>   0.099</td> \n",
       "</tr>\n",
       "<tr>\n",
       "  <th>Method:</th>             <td>Least Squares</td>  <th>  F-statistic:       </th> <td>   5.671</td> \n",
       "</tr>\n",
       "<tr>\n",
       "  <th>Date:</th>             <td>Tue, 21 Jan 2020</td> <th>  Prob (F-statistic):</th> <td>1.39e-08</td> \n",
       "</tr>\n",
       "<tr>\n",
       "  <th>Time:</th>                 <td>14:33:47</td>     <th>  Log-Likelihood:    </th> <td> -5418.5</td> \n",
       "</tr>\n",
       "<tr>\n",
       "  <th>No. Observations:</th>      <td>   471</td>      <th>  AIC:               </th> <td>1.086e+04</td>\n",
       "</tr>\n",
       "<tr>\n",
       "  <th>Df Residuals:</th>          <td>   459</td>      <th>  BIC:               </th> <td>1.091e+04</td>\n",
       "</tr>\n",
       "<tr>\n",
       "  <th>Df Model:</th>              <td>    11</td>      <th>                     </th>     <td> </td>    \n",
       "</tr>\n",
       "<tr>\n",
       "  <th>Covariance Type:</th>      <td>nonrobust</td>    <th>                     </th>     <td> </td>    \n",
       "</tr>\n",
       "</table>\n",
       "<table class=\"simpletable\">\n",
       "<tr>\n",
       "             <td></td>               <th>coef</th>     <th>std err</th>      <th>t</th>      <th>P>|t|</th>  <th>[0.025</th>    <th>0.975]</th>  \n",
       "</tr>\n",
       "<tr>\n",
       "  <th>const</th>                  <td> 1.076e+04</td> <td> 1454.171</td> <td>    7.396</td> <td> 0.000</td> <td> 7897.566</td> <td> 1.36e+04</td>\n",
       "</tr>\n",
       "<tr>\n",
       "  <th>num_ingredients</th>        <td> 1718.2004</td> <td> 1335.307</td> <td>    1.287</td> <td> 0.199</td> <td> -905.872</td> <td> 4342.273</td>\n",
       "</tr>\n",
       "<tr>\n",
       "  <th>readyInMinutes</th>         <td> 1995.2089</td> <td> 1375.127</td> <td>    1.451</td> <td> 0.147</td> <td> -707.116</td> <td> 4697.534</td>\n",
       "</tr>\n",
       "<tr>\n",
       "  <th>servings</th>               <td>-1387.8394</td> <td> 1254.940</td> <td>   -1.106</td> <td> 0.269</td> <td>-3853.980</td> <td> 1078.302</td>\n",
       "</tr>\n",
       "<tr>\n",
       "  <th>Sodium</th>                 <td> 5486.5802</td> <td> 1159.758</td> <td>    4.731</td> <td> 0.000</td> <td> 3207.487</td> <td> 7765.674</td>\n",
       "</tr>\n",
       "<tr>\n",
       "  <th>Vitamin_K</th>              <td>-3468.9791</td> <td> 1157.952</td> <td>   -2.996</td> <td> 0.003</td> <td>-5744.524</td> <td>-1193.434</td>\n",
       "</tr>\n",
       "<tr>\n",
       "  <th>Fiber</th>                  <td>-5222.0584</td> <td> 1801.462</td> <td>   -2.899</td> <td> 0.004</td> <td>-8762.194</td> <td>-1681.922</td>\n",
       "</tr>\n",
       "<tr>\n",
       "  <th>Phosphorus</th>             <td>  493.1670</td> <td> 2323.284</td> <td>    0.212</td> <td> 0.832</td> <td>-4072.425</td> <td> 5058.759</td>\n",
       "</tr>\n",
       "<tr>\n",
       "  <th>Vitamin_B1</th>             <td>-3203.0933</td> <td> 2921.233</td> <td>   -1.096</td> <td> 0.273</td> <td>-8943.742</td> <td> 2537.555</td>\n",
       "</tr>\n",
       "<tr>\n",
       "  <th>Vitamin_B2</th>             <td> 3215.6180</td> <td> 2459.164</td> <td>    1.308</td> <td> 0.192</td> <td>-1616.997</td> <td> 8048.233</td>\n",
       "</tr>\n",
       "<tr>\n",
       "  <th>Vitamin_B5</th>             <td> 9226.3803</td> <td> 2953.015</td> <td>    3.124</td> <td> 0.002</td> <td> 3423.275</td> <td>  1.5e+04</td>\n",
       "</tr>\n",
       "<tr>\n",
       "  <th>num_steps_instructions</th> <td> -456.7005</td> <td> 1206.012</td> <td>   -0.379</td> <td> 0.705</td> <td>-2826.689</td> <td> 1913.288</td>\n",
       "</tr>\n",
       "</table>\n",
       "<table class=\"simpletable\">\n",
       "<tr>\n",
       "  <th>Omnibus:</th>       <td>631.672</td> <th>  Durbin-Watson:     </th> <td>   2.038</td> \n",
       "</tr>\n",
       "<tr>\n",
       "  <th>Prob(Omnibus):</th> <td> 0.000</td>  <th>  Jarque-Bera (JB):  </th> <td>71804.116</td>\n",
       "</tr>\n",
       "<tr>\n",
       "  <th>Skew:</th>          <td> 6.833</td>  <th>  Prob(JB):          </th> <td>    0.00</td> \n",
       "</tr>\n",
       "<tr>\n",
       "  <th>Kurtosis:</th>      <td>61.924</td>  <th>  Cond. No.          </th> <td>    5.64</td> \n",
       "</tr>\n",
       "</table><br/><br/>Warnings:<br/>[1] Standard Errors assume that the covariance matrix of the errors is correctly specified."
      ],
      "text/plain": [
       "<class 'statsmodels.iolib.summary.Summary'>\n",
       "\"\"\"\n",
       "                            OLS Regression Results                            \n",
       "==============================================================================\n",
       "Dep. Variable:         aggregateLikes   R-squared:                       0.120\n",
       "Model:                            OLS   Adj. R-squared:                  0.099\n",
       "Method:                 Least Squares   F-statistic:                     5.671\n",
       "Date:                Tue, 21 Jan 2020   Prob (F-statistic):           1.39e-08\n",
       "Time:                        14:33:47   Log-Likelihood:                -5418.5\n",
       "No. Observations:                 471   AIC:                         1.086e+04\n",
       "Df Residuals:                     459   BIC:                         1.091e+04\n",
       "Df Model:                          11                                         \n",
       "Covariance Type:            nonrobust                                         \n",
       "==========================================================================================\n",
       "                             coef    std err          t      P>|t|      [0.025      0.975]\n",
       "------------------------------------------------------------------------------------------\n",
       "const                   1.076e+04   1454.171      7.396      0.000    7897.566    1.36e+04\n",
       "num_ingredients         1718.2004   1335.307      1.287      0.199    -905.872    4342.273\n",
       "readyInMinutes          1995.2089   1375.127      1.451      0.147    -707.116    4697.534\n",
       "servings               -1387.8394   1254.940     -1.106      0.269   -3853.980    1078.302\n",
       "Sodium                  5486.5802   1159.758      4.731      0.000    3207.487    7765.674\n",
       "Vitamin_K              -3468.9791   1157.952     -2.996      0.003   -5744.524   -1193.434\n",
       "Fiber                  -5222.0584   1801.462     -2.899      0.004   -8762.194   -1681.922\n",
       "Phosphorus               493.1670   2323.284      0.212      0.832   -4072.425    5058.759\n",
       "Vitamin_B1             -3203.0933   2921.233     -1.096      0.273   -8943.742    2537.555\n",
       "Vitamin_B2              3215.6180   2459.164      1.308      0.192   -1616.997    8048.233\n",
       "Vitamin_B5              9226.3803   2953.015      3.124      0.002    3423.275     1.5e+04\n",
       "num_steps_instructions  -456.7005   1206.012     -0.379      0.705   -2826.689    1913.288\n",
       "==============================================================================\n",
       "Omnibus:                      631.672   Durbin-Watson:                   2.038\n",
       "Prob(Omnibus):                  0.000   Jarque-Bera (JB):            71804.116\n",
       "Skew:                           6.833   Prob(JB):                         0.00\n",
       "Kurtosis:                      61.924   Cond. No.                         5.64\n",
       "==============================================================================\n",
       "\n",
       "Warnings:\n",
       "[1] Standard Errors assume that the covariance matrix of the errors is correctly specified.\n",
       "\"\"\""
      ]
     },
     "execution_count": 97,
     "metadata": {},
     "output_type": "execute_result"
    }
   ],
   "source": [
    "x = x_train #predictor variables\n",
    "y = y_train #target variable\n",
    "x = sm.add_constant(x) #add (1) as the constant since we are using statsmodels\n",
    "lr = sm.OLS(y, x, hasconst= True) #assign to the x and y variables with constant to the sm.OLS() function\n",
    "results = lr.fit() #assign the result of the OLS to fit the data\n",
    "results.summary() #show the summary"
   ]
  },
  {
   "cell_type": "markdown",
   "metadata": {},
   "source": [
    "#### Notes \n",
    "Now that we are in round 2, we will use a lower alpha cutoff (0.05) in our culling of predictors."
   ]
  },
  {
   "cell_type": "markdown",
   "metadata": {},
   "source": [
    "#### Regression 3 -  provide updated list of predictors (p < .05) and fit to model again, check for p-values less than 0.05 again."
   ]
  },
  {
   "cell_type": "code",
   "execution_count": 100,
   "metadata": {},
   "outputs": [],
   "source": [
    "x_train = x_train[[\n",
    "    'num_ingredients',  \n",
    "    'Sodium',\n",
    "    'Vitamin_K', \n",
    "    'Fiber', \n",
    "    'Vitamin_B5']]"
   ]
  },
  {
   "cell_type": "code",
   "execution_count": 101,
   "metadata": {
    "scrolled": true
   },
   "outputs": [
    {
     "data": {
      "text/html": [
       "<table class=\"simpletable\">\n",
       "<caption>OLS Regression Results</caption>\n",
       "<tr>\n",
       "  <th>Dep. Variable:</th>     <td>aggregateLikes</td>  <th>  R-squared:         </th> <td>   0.106</td> \n",
       "</tr>\n",
       "<tr>\n",
       "  <th>Model:</th>                   <td>OLS</td>       <th>  Adj. R-squared:    </th> <td>   0.096</td> \n",
       "</tr>\n",
       "<tr>\n",
       "  <th>Method:</th>             <td>Least Squares</td>  <th>  F-statistic:       </th> <td>   11.02</td> \n",
       "</tr>\n",
       "<tr>\n",
       "  <th>Date:</th>             <td>Tue, 21 Jan 2020</td> <th>  Prob (F-statistic):</th> <td>4.81e-10</td> \n",
       "</tr>\n",
       "<tr>\n",
       "  <th>Time:</th>                 <td>14:36:09</td>     <th>  Log-Likelihood:    </th> <td> -5422.2</td> \n",
       "</tr>\n",
       "<tr>\n",
       "  <th>No. Observations:</th>      <td>   471</td>      <th>  AIC:               </th> <td>1.086e+04</td>\n",
       "</tr>\n",
       "<tr>\n",
       "  <th>Df Residuals:</th>          <td>   465</td>      <th>  BIC:               </th> <td>1.088e+04</td>\n",
       "</tr>\n",
       "<tr>\n",
       "  <th>Df Model:</th>              <td>     5</td>      <th>                     </th>     <td> </td>    \n",
       "</tr>\n",
       "<tr>\n",
       "  <th>Covariance Type:</th>      <td>nonrobust</td>    <th>                     </th>     <td> </td>    \n",
       "</tr>\n",
       "</table>\n",
       "<table class=\"simpletable\">\n",
       "<tr>\n",
       "         <td></td>            <th>coef</th>     <th>std err</th>      <th>t</th>      <th>P>|t|</th>  <th>[0.025</th>    <th>0.975]</th>  \n",
       "</tr>\n",
       "<tr>\n",
       "  <th>const</th>           <td> 1.059e+04</td> <td> 1346.792</td> <td>    7.865</td> <td> 0.000</td> <td> 7946.486</td> <td> 1.32e+04</td>\n",
       "</tr>\n",
       "<tr>\n",
       "  <th>num_ingredients</th> <td> 1183.7529</td> <td> 1181.953</td> <td>    1.002</td> <td> 0.317</td> <td>-1138.877</td> <td> 3506.383</td>\n",
       "</tr>\n",
       "<tr>\n",
       "  <th>Sodium</th>          <td> 5825.7039</td> <td> 1134.559</td> <td>    5.135</td> <td> 0.000</td> <td> 3596.206</td> <td> 8055.202</td>\n",
       "</tr>\n",
       "<tr>\n",
       "  <th>Vitamin_K</th>       <td>-3090.3662</td> <td> 1135.136</td> <td>   -2.722</td> <td> 0.007</td> <td>-5320.997</td> <td> -859.736</td>\n",
       "</tr>\n",
       "<tr>\n",
       "  <th>Fiber</th>           <td>-5750.5265</td> <td> 1512.395</td> <td>   -3.802</td> <td> 0.000</td> <td>-8722.503</td> <td>-2778.551</td>\n",
       "</tr>\n",
       "<tr>\n",
       "  <th>Vitamin_B5</th>      <td> 1.072e+04</td> <td> 2663.465</td> <td>    4.023</td> <td> 0.000</td> <td> 5481.150</td> <td> 1.59e+04</td>\n",
       "</tr>\n",
       "</table>\n",
       "<table class=\"simpletable\">\n",
       "<tr>\n",
       "  <th>Omnibus:</th>       <td>637.128</td> <th>  Durbin-Watson:     </th> <td>   2.042</td> \n",
       "</tr>\n",
       "<tr>\n",
       "  <th>Prob(Omnibus):</th> <td> 0.000</td>  <th>  Jarque-Bera (JB):  </th> <td>73691.402</td>\n",
       "</tr>\n",
       "<tr>\n",
       "  <th>Skew:</th>          <td> 6.939</td>  <th>  Prob(JB):          </th> <td>    0.00</td> \n",
       "</tr>\n",
       "<tr>\n",
       "  <th>Kurtosis:</th>      <td>62.686</td>  <th>  Cond. No.          </th> <td>    3.82</td> \n",
       "</tr>\n",
       "</table><br/><br/>Warnings:<br/>[1] Standard Errors assume that the covariance matrix of the errors is correctly specified."
      ],
      "text/plain": [
       "<class 'statsmodels.iolib.summary.Summary'>\n",
       "\"\"\"\n",
       "                            OLS Regression Results                            \n",
       "==============================================================================\n",
       "Dep. Variable:         aggregateLikes   R-squared:                       0.106\n",
       "Model:                            OLS   Adj. R-squared:                  0.096\n",
       "Method:                 Least Squares   F-statistic:                     11.02\n",
       "Date:                Tue, 21 Jan 2020   Prob (F-statistic):           4.81e-10\n",
       "Time:                        14:36:09   Log-Likelihood:                -5422.2\n",
       "No. Observations:                 471   AIC:                         1.086e+04\n",
       "Df Residuals:                     465   BIC:                         1.088e+04\n",
       "Df Model:                           5                                         \n",
       "Covariance Type:            nonrobust                                         \n",
       "===================================================================================\n",
       "                      coef    std err          t      P>|t|      [0.025      0.975]\n",
       "-----------------------------------------------------------------------------------\n",
       "const            1.059e+04   1346.792      7.865      0.000    7946.486    1.32e+04\n",
       "num_ingredients  1183.7529   1181.953      1.002      0.317   -1138.877    3506.383\n",
       "Sodium           5825.7039   1134.559      5.135      0.000    3596.206    8055.202\n",
       "Vitamin_K       -3090.3662   1135.136     -2.722      0.007   -5320.997    -859.736\n",
       "Fiber           -5750.5265   1512.395     -3.802      0.000   -8722.503   -2778.551\n",
       "Vitamin_B5       1.072e+04   2663.465      4.023      0.000    5481.150    1.59e+04\n",
       "==============================================================================\n",
       "Omnibus:                      637.128   Durbin-Watson:                   2.042\n",
       "Prob(Omnibus):                  0.000   Jarque-Bera (JB):            73691.402\n",
       "Skew:                           6.939   Prob(JB):                         0.00\n",
       "Kurtosis:                      62.686   Cond. No.                         3.82\n",
       "==============================================================================\n",
       "\n",
       "Warnings:\n",
       "[1] Standard Errors assume that the covariance matrix of the errors is correctly specified.\n",
       "\"\"\""
      ]
     },
     "execution_count": 101,
     "metadata": {},
     "output_type": "execute_result"
    }
   ],
   "source": [
    "x = x_train #predictor variables\n",
    "y = y_train #target variable\n",
    "x = sm.add_constant(x) #add (1) as the constant since we are using statsmodels\n",
    "lr = sm.OLS(y, x, hasconst= True) #assign to the x and y variables with constant to the sm.OLS() function\n",
    "results = lr.fit() #assign the result of the OLS to fit the data\n",
    "results.summary() #show the summary"
   ]
  },
  {
   "cell_type": "markdown",
   "metadata": {},
   "source": [
    "#### Notes \n",
    "Now that we are in round 3, we will still use a low alpha cutoff (0.05) in our culling of predictors."
   ]
  },
  {
   "cell_type": "markdown",
   "metadata": {},
   "source": [
    "#### Run regression with updated list of predictors and fit to model again, check for p-values less than 0.05"
   ]
  },
  {
   "cell_type": "code",
   "execution_count": 102,
   "metadata": {},
   "outputs": [],
   "source": [
    "x_train = x_train[[  \n",
    "    'Sodium',\n",
    "    'Vitamin_K', \n",
    "    'Fiber', \n",
    "    'Vitamin_B5']]"
   ]
  },
  {
   "cell_type": "code",
   "execution_count": 103,
   "metadata": {
    "scrolled": true
   },
   "outputs": [
    {
     "data": {
      "text/html": [
       "<table class=\"simpletable\">\n",
       "<caption>OLS Regression Results</caption>\n",
       "<tr>\n",
       "  <th>Dep. Variable:</th>     <td>aggregateLikes</td>  <th>  R-squared:         </th> <td>   0.104</td> \n",
       "</tr>\n",
       "<tr>\n",
       "  <th>Model:</th>                   <td>OLS</td>       <th>  Adj. R-squared:    </th> <td>   0.096</td> \n",
       "</tr>\n",
       "<tr>\n",
       "  <th>Method:</th>             <td>Least Squares</td>  <th>  F-statistic:       </th> <td>   13.53</td> \n",
       "</tr>\n",
       "<tr>\n",
       "  <th>Date:</th>             <td>Tue, 21 Jan 2020</td> <th>  Prob (F-statistic):</th> <td>1.94e-10</td> \n",
       "</tr>\n",
       "<tr>\n",
       "  <th>Time:</th>                 <td>14:38:23</td>     <th>  Log-Likelihood:    </th> <td> -5422.7</td> \n",
       "</tr>\n",
       "<tr>\n",
       "  <th>No. Observations:</th>      <td>   471</td>      <th>  AIC:               </th> <td>1.086e+04</td>\n",
       "</tr>\n",
       "<tr>\n",
       "  <th>Df Residuals:</th>          <td>   466</td>      <th>  BIC:               </th> <td>1.088e+04</td>\n",
       "</tr>\n",
       "<tr>\n",
       "  <th>Df Model:</th>              <td>     4</td>      <th>                     </th>     <td> </td>    \n",
       "</tr>\n",
       "<tr>\n",
       "  <th>Covariance Type:</th>      <td>nonrobust</td>    <th>                     </th>     <td> </td>    \n",
       "</tr>\n",
       "</table>\n",
       "<table class=\"simpletable\">\n",
       "<tr>\n",
       "       <td></td>         <th>coef</th>     <th>std err</th>      <th>t</th>      <th>P>|t|</th>  <th>[0.025</th>    <th>0.975]</th>  \n",
       "</tr>\n",
       "<tr>\n",
       "  <th>const</th>      <td> 1.054e+04</td> <td> 1345.864</td> <td>    7.834</td> <td> 0.000</td> <td> 7898.151</td> <td> 1.32e+04</td>\n",
       "</tr>\n",
       "<tr>\n",
       "  <th>Sodium</th>     <td> 6053.6953</td> <td> 1111.490</td> <td>    5.446</td> <td> 0.000</td> <td> 3869.542</td> <td> 8237.849</td>\n",
       "</tr>\n",
       "<tr>\n",
       "  <th>Vitamin_K</th>  <td>-3124.5436</td> <td> 1134.626</td> <td>   -2.754</td> <td> 0.006</td> <td>-5354.161</td> <td> -894.926</td>\n",
       "</tr>\n",
       "<tr>\n",
       "  <th>Fiber</th>      <td>-5502.6165</td> <td> 1492.006</td> <td>   -3.688</td> <td> 0.000</td> <td>-8434.509</td> <td>-2570.724</td>\n",
       "</tr>\n",
       "<tr>\n",
       "  <th>Vitamin_B5</th> <td> 1.069e+04</td> <td> 2663.336</td> <td>    4.013</td> <td> 0.000</td> <td> 5454.288</td> <td> 1.59e+04</td>\n",
       "</tr>\n",
       "</table>\n",
       "<table class=\"simpletable\">\n",
       "<tr>\n",
       "  <th>Omnibus:</th>       <td>639.187</td> <th>  Durbin-Watson:     </th> <td>   2.035</td> \n",
       "</tr>\n",
       "<tr>\n",
       "  <th>Prob(Omnibus):</th> <td> 0.000</td>  <th>  Jarque-Bera (JB):  </th> <td>74645.926</td>\n",
       "</tr>\n",
       "<tr>\n",
       "  <th>Skew:</th>          <td> 6.977</td>  <th>  Prob(JB):          </th> <td>    0.00</td> \n",
       "</tr>\n",
       "<tr>\n",
       "  <th>Kurtosis:</th>      <td>63.074</td>  <th>  Cond. No.          </th> <td>    3.61</td> \n",
       "</tr>\n",
       "</table><br/><br/>Warnings:<br/>[1] Standard Errors assume that the covariance matrix of the errors is correctly specified."
      ],
      "text/plain": [
       "<class 'statsmodels.iolib.summary.Summary'>\n",
       "\"\"\"\n",
       "                            OLS Regression Results                            \n",
       "==============================================================================\n",
       "Dep. Variable:         aggregateLikes   R-squared:                       0.104\n",
       "Model:                            OLS   Adj. R-squared:                  0.096\n",
       "Method:                 Least Squares   F-statistic:                     13.53\n",
       "Date:                Tue, 21 Jan 2020   Prob (F-statistic):           1.94e-10\n",
       "Time:                        14:38:23   Log-Likelihood:                -5422.7\n",
       "No. Observations:                 471   AIC:                         1.086e+04\n",
       "Df Residuals:                     466   BIC:                         1.088e+04\n",
       "Df Model:                           4                                         \n",
       "Covariance Type:            nonrobust                                         \n",
       "==============================================================================\n",
       "                 coef    std err          t      P>|t|      [0.025      0.975]\n",
       "------------------------------------------------------------------------------\n",
       "const       1.054e+04   1345.864      7.834      0.000    7898.151    1.32e+04\n",
       "Sodium      6053.6953   1111.490      5.446      0.000    3869.542    8237.849\n",
       "Vitamin_K  -3124.5436   1134.626     -2.754      0.006   -5354.161    -894.926\n",
       "Fiber      -5502.6165   1492.006     -3.688      0.000   -8434.509   -2570.724\n",
       "Vitamin_B5  1.069e+04   2663.336      4.013      0.000    5454.288    1.59e+04\n",
       "==============================================================================\n",
       "Omnibus:                      639.187   Durbin-Watson:                   2.035\n",
       "Prob(Omnibus):                  0.000   Jarque-Bera (JB):            74645.926\n",
       "Skew:                           6.977   Prob(JB):                         0.00\n",
       "Kurtosis:                      63.074   Cond. No.                         3.61\n",
       "==============================================================================\n",
       "\n",
       "Warnings:\n",
       "[1] Standard Errors assume that the covariance matrix of the errors is correctly specified.\n",
       "\"\"\""
      ]
     },
     "execution_count": 103,
     "metadata": {},
     "output_type": "execute_result"
    }
   ],
   "source": [
    "x = x_train #predictor variables\n",
    "y = y_train #target variable\n",
    "x = sm.add_constant(x) #add (1) as the constant since we are using statsmodels\n",
    "lr = sm.OLS(y, x, hasconst= True) #assign to the x and y variables with constant to the sm.OLS() function\n",
    "results = lr.fit() #assign the result of the OLS to fit the data\n",
    "results.summary() #show the summary"
   ]
  },
  {
   "cell_type": "markdown",
   "metadata": {},
   "source": [
    "___"
   ]
  },
  {
   "cell_type": "markdown",
   "metadata": {},
   "source": [
    "### 6. Variance Inflation Factor (VIF) check for multicollinearity"
   ]
  },
  {
   "cell_type": "markdown",
   "metadata": {},
   "source": [
    "#### Now, we will check for multicollinearity between our remaining predictors using Variance Inflation Factor.\n",
    "We are doing this because cutting more collinearity means you can rely more on your Betas (coefficients) to predict more reliably."
   ]
  },
  {
   "cell_type": "code",
   "execution_count": 104,
   "metadata": {},
   "outputs": [
    {
     "data": {
      "text/plain": [
       "[('Sodium', 1.2058539199016247),\n",
       " ('Vitamin_K', 1.1027127768555258),\n",
       " ('Fiber', 1.6122069024664532),\n",
       " ('Vitamin_B5', 1.471937768488792)]"
      ]
     },
     "execution_count": 104,
     "metadata": {},
     "output_type": "execute_result"
    }
   ],
   "source": [
    "X = vegetarian[x_train.columns]\n",
    "vif = [variance_inflation_factor(X.values, i) for i in range(X.shape[1])]\n",
    "list(zip(x_train.columns, vif))"
   ]
  },
  {
   "cell_type": "markdown",
   "metadata": {},
   "source": [
    "#### Notes\n",
    "Typically, variables with a VIF of 5 or greater (or more definitively 10 or greater) are displaying multicollinearity with other variables in the feature set. None of our predictors have a VIF greater than 5 or 10, so <b>multicollinearity between our predictors does not seem to be an issue.</b>\n",
    "\n",
    "The way VIF works is that each variable becomes the target, with all other variables predicting it, and you get an R-Squared for each variable. So for example, if VIF for Sodium is 9, then 9 = 1/(1-R^2). R^2 for Sodium would be = .88."
   ]
  },
  {
   "cell_type": "markdown",
   "metadata": {},
   "source": [
    "___"
   ]
  },
  {
   "cell_type": "markdown",
   "metadata": {},
   "source": [
    "### 7. QQ-Plot check for normally distributed residuals"
   ]
  },
  {
   "cell_type": "code",
   "execution_count": 31,
   "metadata": {},
   "outputs": [
    {
     "data": {
      "image/png": "[encoded data removed]",
      "text/plain": [
       "<Figure size 432x288 with 1 Axes>"
      ]
     },
     "metadata": {
      "needs_background": "light"
     },
     "output_type": "display_data"
    }
   ],
   "source": [
    "fig = sm.graphics.qqplot(results.resid, dist=stats.norm, line='45', fit=True)"
   ]
  },
  {
   "cell_type": "markdown",
   "metadata": {},
   "source": [
    "<b>Notes:</b>\n",
    "\n",
    "A Q-Q plot checks to ensure that our residuals are normally distributed. Theoretically, we would expect all \"blue dots\" which represents the residuals for our data, to be normally distributed, and would follow the red line in the plot perfectly. However, <b>our sample has a non-normal distribution of residuals</b> because it snakes around the red line, and then takes a sharp turn upwards towards higher sample quantile values of 10+, when theoretically, it should be around 2 or 3 at the same quantile."
   ]
  },
  {
   "cell_type": "markdown",
   "metadata": {},
   "source": [
    "___"
   ]
  },
  {
   "cell_type": "markdown",
   "metadata": {},
   "source": [
    "### 8. Ensure homoscedasticity by checking for heteroscedasticity"
   ]
  },
  {
   "cell_type": "markdown",
   "metadata": {},
   "source": [
    "#### Check for homoscedacity\n",
    "Need to check that errors do not display heteroscedasticity; if the errors appear to increase or decrease based on the target variable, then the model does not meet the initial assumptions. Scatterplot of residual quantity on the x-axis against standard deviation on the y-axis."
   ]
  },
  {
   "cell_type": "code",
   "execution_count": 54,
   "metadata": {},
   "outputs": [
    {
     "data": {
      "text/plain": [
       "(628, 4)"
      ]
     },
     "execution_count": 54,
     "metadata": {},
     "output_type": "execute_result"
    }
   ],
   "source": [
    "vegetarian[predictors_new_3].shape"
   ]
  },
  {
   "cell_type": "code",
   "execution_count": 55,
   "metadata": {},
   "outputs": [
    {
     "data": {
      "text/plain": [
       "<bound method RegressionResults.summary of <statsmodels.regression.linear_model.OLSResults object at 0x7f959a7a9ad0>>"
      ]
     },
     "execution_count": 55,
     "metadata": {},
     "output_type": "execute_result"
    }
   ],
   "source": [
    "results.summary"
   ]
  },
  {
   "cell_type": "code",
   "execution_count": 56,
   "metadata": {},
   "outputs": [
    {
     "data": {
      "text/plain": [
       "(628,)"
      ]
     },
     "execution_count": 56,
     "metadata": {},
     "output_type": "execute_result"
    }
   ],
   "source": [
    "results.resid.shape"
   ]
  },
  {
   "cell_type": "code",
   "execution_count": 57,
   "metadata": {},
   "outputs": [
    {
     "data": {
      "text/plain": [
       "(628, 4)"
      ]
     },
     "execution_count": 57,
     "metadata": {},
     "output_type": "execute_result"
    }
   ],
   "source": [
    "vegetarian[predictors_new_3].shape"
   ]
  },
  {
   "cell_type": "code",
   "execution_count": 58,
   "metadata": {},
   "outputs": [
    {
     "data": {
      "text/plain": [
       "628"
      ]
     },
     "execution_count": 58,
     "metadata": {},
     "output_type": "execute_result"
    }
   ],
   "source": [
    "len(vegetarian)"
   ]
  },
  {
   "cell_type": "code",
   "execution_count": 59,
   "metadata": {},
   "outputs": [
    {
     "ename": "ValueError",
     "evalue": "shapes (628,4) and (5,) not aligned: 4 (dim 1) != 5 (dim 0)",
     "output_type": "error",
     "traceback": [
      "\u001b[0;31m---------------------------------------------------------------------------\u001b[0m",
      "\u001b[0;31mValueError\u001b[0m                                Traceback (most recent call last)",
      "\u001b[0;32m<ipython-input-59-70ce1f033efd>\u001b[0m in \u001b[0;36m<module>\u001b[0;34m\u001b[0m\n\u001b[0;32m----> 1\u001b[0;31m \u001b[0mplt\u001b[0m\u001b[0;34m.\u001b[0m\u001b[0mscatter\u001b[0m\u001b[0;34m(\u001b[0m\u001b[0mresults\u001b[0m\u001b[0;34m.\u001b[0m\u001b[0mpredict\u001b[0m\u001b[0;34m(\u001b[0m\u001b[0mvegetarian\u001b[0m\u001b[0;34m[\u001b[0m\u001b[0mpredictors_new_3\u001b[0m\u001b[0;34m]\u001b[0m\u001b[0;34m)\u001b[0m\u001b[0;34m,\u001b[0m \u001b[0mresults\u001b[0m\u001b[0;34m.\u001b[0m\u001b[0mresid\u001b[0m\u001b[0;34m)\u001b[0m\u001b[0;34m\u001b[0m\u001b[0;34m\u001b[0m\u001b[0m\n\u001b[0m\u001b[1;32m      2\u001b[0m \u001b[0mplt\u001b[0m\u001b[0;34m.\u001b[0m\u001b[0mplot\u001b[0m\u001b[0;34m(\u001b[0m\u001b[0mresults\u001b[0m\u001b[0;34m.\u001b[0m\u001b[0mpredict\u001b[0m\u001b[0;34m(\u001b[0m\u001b[0mvegetarian\u001b[0m\u001b[0;34m[\u001b[0m\u001b[0mpredictors_new_3\u001b[0m\u001b[0;34m]\u001b[0m\u001b[0;34m)\u001b[0m\u001b[0;34m,\u001b[0m \u001b[0;34m[\u001b[0m\u001b[0;36m0\u001b[0m \u001b[0;32mfor\u001b[0m \u001b[0mi\u001b[0m \u001b[0;32min\u001b[0m \u001b[0mrange\u001b[0m\u001b[0;34m(\u001b[0m\u001b[0mlen\u001b[0m\u001b[0;34m(\u001b[0m\u001b[0mvegetarian\u001b[0m\u001b[0;34m)\u001b[0m\u001b[0;34m)\u001b[0m\u001b[0;34m]\u001b[0m\u001b[0;34m)\u001b[0m\u001b[0;34m\u001b[0m\u001b[0;34m\u001b[0m\u001b[0m\n",
      "\u001b[0;32m/opt/anaconda3/lib/python3.7/site-packages/statsmodels/base/model.py\u001b[0m in \u001b[0;36mpredict\u001b[0;34m(self, exog, transform, *args, **kwargs)\u001b[0m\n\u001b[1;32m   1036\u001b[0m \u001b[0;34m\u001b[0m\u001b[0m\n\u001b[1;32m   1037\u001b[0m         predict_results = self.model.predict(self.params, exog, *args,\n\u001b[0;32m-> 1038\u001b[0;31m                                              **kwargs)\n\u001b[0m\u001b[1;32m   1039\u001b[0m \u001b[0;34m\u001b[0m\u001b[0m\n\u001b[1;32m   1040\u001b[0m         if exog_index is not None and not hasattr(predict_results,\n",
      "\u001b[0;32m/opt/anaconda3/lib/python3.7/site-packages/statsmodels/regression/linear_model.py\u001b[0m in \u001b[0;36mpredict\u001b[0;34m(self, params, exog)\u001b[0m\n\u001b[1;32m    362\u001b[0m             \u001b[0mexog\u001b[0m \u001b[0;34m=\u001b[0m \u001b[0mself\u001b[0m\u001b[0;34m.\u001b[0m\u001b[0mexog\u001b[0m\u001b[0;34m\u001b[0m\u001b[0;34m\u001b[0m\u001b[0m\n\u001b[1;32m    363\u001b[0m \u001b[0;34m\u001b[0m\u001b[0m\n\u001b[0;32m--> 364\u001b[0;31m         \u001b[0;32mreturn\u001b[0m \u001b[0mnp\u001b[0m\u001b[0;34m.\u001b[0m\u001b[0mdot\u001b[0m\u001b[0;34m(\u001b[0m\u001b[0mexog\u001b[0m\u001b[0;34m,\u001b[0m \u001b[0mparams\u001b[0m\u001b[0;34m)\u001b[0m\u001b[0;34m\u001b[0m\u001b[0;34m\u001b[0m\u001b[0m\n\u001b[0m\u001b[1;32m    365\u001b[0m \u001b[0;34m\u001b[0m\u001b[0m\n\u001b[1;32m    366\u001b[0m     \u001b[0;32mdef\u001b[0m \u001b[0mget_distribution\u001b[0m\u001b[0;34m(\u001b[0m\u001b[0mself\u001b[0m\u001b[0;34m,\u001b[0m \u001b[0mparams\u001b[0m\u001b[0;34m,\u001b[0m \u001b[0mscale\u001b[0m\u001b[0;34m,\u001b[0m \u001b[0mexog\u001b[0m\u001b[0;34m=\u001b[0m\u001b[0;32mNone\u001b[0m\u001b[0;34m,\u001b[0m \u001b[0mdist_class\u001b[0m\u001b[0;34m=\u001b[0m\u001b[0;32mNone\u001b[0m\u001b[0;34m)\u001b[0m\u001b[0;34m:\u001b[0m\u001b[0;34m\u001b[0m\u001b[0;34m\u001b[0m\u001b[0m\n",
      "\u001b[0;32m<__array_function__ internals>\u001b[0m in \u001b[0;36mdot\u001b[0;34m(*args, **kwargs)\u001b[0m\n",
      "\u001b[0;31mValueError\u001b[0m: shapes (628,4) and (5,) not aligned: 4 (dim 1) != 5 (dim 0)"
     ]
    }
   ],
   "source": [
    "plt.scatter(results.predict(vegetarian[predictors_new_3]), results.resid)\n",
    "plt.plot(results.predict(vegetarian[predictors_new_3]), [0 for i in range(len(vegetarian))])\n",
    "\n",
    "#len vegetarian = 628\n",
    "#len of results.resid = 1000\n",
    "#shape of vegetarian[predictors_new_3] = (628,4)\n",
    "#shape of ??? = (5,)"
   ]
  }
 ],
 "metadata": {
  "kernelspec": {
   "display_name": "Python 3",
   "language": "python",
   "name": "python3"
  },
  "language_info": {
   "codemirror_mode": {
    "name": "ipython",
    "version": 3
   },
   "file_extension": ".py",
   "mimetype": "text/x-python",
   "name": "python",
   "nbconvert_exporter": "python",
   "pygments_lexer": "ipython3",
   "version": "3.7.4"
  }
 },
 "nbformat": 4,
 "nbformat_minor": 2
}
