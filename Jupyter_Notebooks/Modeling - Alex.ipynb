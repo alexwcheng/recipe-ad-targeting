{
 "cells": [
  {
   "cell_type": "markdown",
   "metadata": {},
   "source": [
    "# Modeling"
   ]
  },
  {
   "cell_type": "markdown",
   "metadata": {},
   "source": [
    "___"
   ]
  },
  {
   "cell_type": "markdown",
   "metadata": {},
   "source": [
    "### 1. Import Libraries"
   ]
  },
  {
   "cell_type": "code",
   "execution_count": 124,
   "metadata": {},
   "outputs": [],
   "source": [
    "import matplotlib.pyplot as plt\n",
    "import matplotlib.ticker as ticker\n",
    "%matplotlib inline\n",
    "import seaborn as sns\n",
    "import numpy as np\n",
    "import pandas as pd\n",
    "import requests\n",
    "import json\n",
    "import sklearn\n",
    "from scipy import stats\n",
    "from scipy.stats import norm\n",
    "from sklearn.utils import resample\n",
    "import pickle\n",
    "import statsmodels.api as sm\n",
    "from statsmodels.formula.api import ols\n",
    "import scipy.stats as stats\n",
    "from wordcloud import WordCloud\n",
    "import random\n",
    "from collections import Counter\n",
    "from statsmodels.stats.outliers_influence import variance_inflation_factor\n",
    "from sklearn.model_selection import train_test_split\n",
    "from sklearn.linear_model import LassoCV, Lasso, Ridge, LinearRegression\n",
    "from sklearn.preprocessing import StandardScaler"
   ]
  },
  {
   "cell_type": "markdown",
   "metadata": {},
   "source": [
    "___"
   ]
  },
  {
   "cell_type": "markdown",
   "metadata": {},
   "source": [
    "### 2. Expand maximum range of rows"
   ]
  },
  {
   "cell_type": "code",
   "execution_count": 2,
   "metadata": {},
   "outputs": [],
   "source": [
    "pd.set_option('display.max_rows', 1000)\n",
    "pd.set_option('display.max_columns', 1000)\n",
    "pd.set_option('display.width', 1000)"
   ]
  },
  {
   "cell_type": "markdown",
   "metadata": {},
   "source": [
    "___"
   ]
  },
  {
   "cell_type": "markdown",
   "metadata": {},
   "source": [
    "### 3. Load Data"
   ]
  },
  {
   "cell_type": "code",
   "execution_count": 8,
   "metadata": {},
   "outputs": [],
   "source": [
    "paleo = pd.read_csv('../Data/scaled_paleo.csv', index_col=0)\n",
    "primal = pd.read_csv('../Data/scaled_primal.csv', index_col=0) \n",
    "vegan = pd.read_csv('../Data/scaled_vegan.csv', index_col=0) \n",
    "vegetarian = pd.read_csv('../Data/scaled_vegetarian.csv', index_col=0) \n",
    "whole30 = pd.read_csv('../Data/scaled_whole30.csv', index_col=0)"
   ]
  },
  {
   "cell_type": "markdown",
   "metadata": {},
   "source": [
    "___"
   ]
  },
  {
   "cell_type": "markdown",
   "metadata": {},
   "source": [
    "# Vegetarian Data"
   ]
  },
  {
   "cell_type": "markdown",
   "metadata": {},
   "source": [
    "### 4. Train / Test Split Data"
   ]
  },
  {
   "cell_type": "markdown",
   "metadata": {},
   "source": [
    "For train/test splits, as your dataset gets bigger and bigger, the split can lean more and more towards the \"train\" set. As your dataset gets really small (100 observations) then the split should be closer to 50/50 for train/test."
   ]
  },
  {
   "cell_type": "code",
   "execution_count": 217,
   "metadata": {},
   "outputs": [],
   "source": [
    "x_variables_1 = ['num_ingredients', \n",
    "              'pricePerServing', \n",
    "              'readyInMinutes', \n",
    "              'servings', \n",
    "              'weightWatcherSmartPoints', \n",
    "              'Calories', \n",
    "              'Fat', \n",
    "              'Saturated_Fat', \n",
    "              'Carbohydrates', \n",
    "              'Sugar', \n",
    "              'Cholesterol', \n",
    "              'Sodium', \n",
    "              'Protein', \n",
    "              'Vitamin_K', \n",
    "              'Vitamin_A', \n",
    "              'Vitamin_C', \n",
    "              'Manganese', \n",
    "              'Folate', \n",
    "              'Fiber', \n",
    "              'Copper', \n",
    "              'Magnesium', \n",
    "              'Phosphorus', \n",
    "              'Vitamin_B6', \n",
    "              'Potassium', \n",
    "              'Vitamin_B1', \n",
    "              'Iron', \n",
    "              'Vitamin_B2', \n",
    "              'Vitamin_E', \n",
    "              'Zinc', \n",
    "              'Vitamin_B5', \n",
    "              'Vitamin_B3', \n",
    "              'Calcium', \n",
    "              'Selenium', \n",
    "              'num_words_instructions', \n",
    "              'num_steps_instructions']"
   ]
  },
  {
   "cell_type": "code",
   "execution_count": 218,
   "metadata": {},
   "outputs": [],
   "source": [
    "predictors = vegetarian[x_variables_1]"
   ]
  },
  {
   "cell_type": "code",
   "execution_count": 219,
   "metadata": {},
   "outputs": [],
   "source": [
    "target = vegetarian['aggregateLikes']"
   ]
  },
  {
   "cell_type": "code",
   "execution_count": 220,
   "metadata": {},
   "outputs": [],
   "source": [
    "x_train, x_test, y_train, y_test = train_test_split(predictors, target, random_state = 2020, test_size = .25) "
   ]
  },
  {
   "cell_type": "markdown",
   "metadata": {},
   "source": [
    "___"
   ]
  },
  {
   "cell_type": "markdown",
   "metadata": {},
   "source": [
    "### 5. Run Regression 1, Fit, & Cull Non-Significant Predictors"
   ]
  },
  {
   "cell_type": "markdown",
   "metadata": {},
   "source": [
    "### Lasso Model"
   ]
  },
  {
   "cell_type": "code",
   "execution_count": 221,
   "metadata": {},
   "outputs": [
    {
     "data": {
      "text/plain": [
       "'lasso coefficients'"
      ]
     },
     "metadata": {},
     "output_type": "display_data"
    },
    {
     "data": {
      "text/plain": [
       "{'num_ingredients': 1240.9133125586823,\n",
       " 'pricePerServing': -2533.0038844699166,\n",
       " 'readyInMinutes': 2434.5534980351204,\n",
       " 'servings': -2172.590588482734,\n",
       " 'weightWatcherSmartPoints': -843.5871563924436,\n",
       " 'Calories': 11207.865193283511,\n",
       " 'Fat': -6382.230980570306,\n",
       " 'Saturated_Fat': 659.8204266369121,\n",
       " 'Carbohydrates': -4272.0811767686655,\n",
       " 'Sugar': -809.2410316657312,\n",
       " 'Cholesterol': -16457.743765278345,\n",
       " 'Sodium': 6606.070685835637,\n",
       " 'Protein': -16549.883354941678,\n",
       " 'Vitamin_K': -2259.213072517756,\n",
       " 'Vitamin_A': -886.6298658146507,\n",
       " 'Vitamin_C': -68.71662531591203,\n",
       " 'Manganese': 1059.1422211657264,\n",
       " 'Folate': -89.33683721275408,\n",
       " 'Fiber': -5615.285704597482,\n",
       " 'Copper': -997.1899871878235,\n",
       " 'Magnesium': -2798.534031543237,\n",
       " 'Phosphorus': 7814.864139686285,\n",
       " 'Vitamin_B6': -4130.3910670480645,\n",
       " 'Potassium': 186.5103328344698,\n",
       " 'Vitamin_B1': -2815.809204030713,\n",
       " 'Iron': -218.7277455673183,\n",
       " 'Vitamin_B2': 11999.609553021453,\n",
       " 'Vitamin_E': -1135.4826857550515,\n",
       " 'Zinc': 4803.227903891544,\n",
       " 'Vitamin_B5': 6964.136767628708,\n",
       " 'Vitamin_B3': 1582.017298130162,\n",
       " 'Calcium': -2592.4589772126665,\n",
       " 'Selenium': -1549.9861733023297,\n",
       " 'num_words_instructions': 1175.841702143636,\n",
       " 'num_steps_instructions': -1029.8346997073454}"
      ]
     },
     "metadata": {},
     "output_type": "display_data"
    },
    {
     "data": {
      "text/plain": [
       "'lasso train score'"
      ]
     },
     "metadata": {},
     "output_type": "display_data"
    },
    {
     "data": {
      "text/plain": [
       "0.17291249919541962"
      ]
     },
     "metadata": {},
     "output_type": "display_data"
    },
    {
     "data": {
      "text/plain": [
       "'lasso test score'"
      ]
     },
     "metadata": {},
     "output_type": "display_data"
    },
    {
     "data": {
      "text/plain": [
       "-0.15835830638917292"
      ]
     },
     "metadata": {},
     "output_type": "display_data"
    }
   ],
   "source": [
    "lasso = Lasso(alpha = 0.05, max_iter=10000)\n",
    "lasso.fit(x_train, y_train)\n",
    "# sample_models['lasso'] = lasso\n",
    "# y_lasso_test.append(lasso.score(X_test, y_test))\n",
    "\n",
    "lasso_coefficients = dict(zip(x_variables, list(lasso.coef_)))\n",
    "display('lasso coefficients')\n",
    "display(lasso_coefficients)\n",
    "\n",
    "display('lasso train score')\n",
    "display(lasso.score(x_train, y_train))\n",
    "\n",
    "display('lasso test score')\n",
    "display(lasso.score(x_test, y_test))"
   ]
  },
  {
   "cell_type": "markdown",
   "metadata": {},
   "source": [
    "### Ridge Model"
   ]
  },
  {
   "cell_type": "code",
   "execution_count": 222,
   "metadata": {},
   "outputs": [
    {
     "data": {
      "text/plain": [
       "'ridge coefficients'"
      ]
     },
     "metadata": {},
     "output_type": "display_data"
    },
    {
     "data": {
      "text/plain": [
       "{'num_ingredients': 1242.309503283804,\n",
       " 'pricePerServing': -2520.2868464559915,\n",
       " 'readyInMinutes': 2433.797868283072,\n",
       " 'servings': -2167.258099866938,\n",
       " 'weightWatcherSmartPoints': -705.0584032953681,\n",
       " 'Calories': 9319.083876260629,\n",
       " 'Fat': -5310.879364563956,\n",
       " 'Saturated_Fat': 624.8260679195679,\n",
       " 'Carbohydrates': -3374.568291123304,\n",
       " 'Sugar': -821.1179912327268,\n",
       " 'Cholesterol': -16160.234416287985,\n",
       " 'Sodium': 6603.495213920859,\n",
       " 'Protein': -15946.111600228123,\n",
       " 'Vitamin_K': -2267.89513599419,\n",
       " 'Vitamin_A': -878.0882235421251,\n",
       " 'Vitamin_C': -63.05853694677732,\n",
       " 'Manganese': 1043.1073460913983,\n",
       " 'Folate': -80.0920649103681,\n",
       " 'Fiber': -5629.487503564938,\n",
       " 'Copper': -995.6565154401636,\n",
       " 'Magnesium': -2812.0265342273683,\n",
       " 'Phosphorus': 7745.090623415504,\n",
       " 'Vitamin_B6': -4105.355465624372,\n",
       " 'Potassium': 162.31543170907298,\n",
       " 'Vitamin_B1': -2797.5237568405596,\n",
       " 'Iron': -193.46831818131906,\n",
       " 'Vitamin_B2': 11993.748221450156,\n",
       " 'Vitamin_E': -1131.6824158313652,\n",
       " 'Zinc': 4821.067591660976,\n",
       " 'Vitamin_B5': 6903.418468852785,\n",
       " 'Vitamin_B3': 1567.976112857611,\n",
       " 'Calcium': -2627.981351876944,\n",
       " 'Selenium': -1578.7555220870413,\n",
       " 'num_words_instructions': 1179.6369968690328,\n",
       " 'num_steps_instructions': -1033.5426125372173}"
      ]
     },
     "metadata": {},
     "output_type": "display_data"
    },
    {
     "data": {
      "text/plain": [
       "'lasso train score'"
      ]
     },
     "metadata": {},
     "output_type": "display_data"
    },
    {
     "data": {
      "text/plain": [
       "0.1729053185634858"
      ]
     },
     "metadata": {},
     "output_type": "display_data"
    },
    {
     "data": {
      "text/plain": [
       "'lasso test score'"
      ]
     },
     "metadata": {},
     "output_type": "display_data"
    },
    {
     "data": {
      "text/plain": [
       "-0.1576998163532699"
      ]
     },
     "metadata": {},
     "output_type": "display_data"
    }
   ],
   "source": [
    "ridge = Ridge(alpha = .05, max_iter= 10000)\n",
    "ridge.fit(x_train, y_train)\n",
    "\n",
    "ridge_coefficients = dict(zip(x_variables, list(ridge.coef_)))\n",
    "display('ridge coefficients')\n",
    "display(ridge_coefficients)\n",
    "\n",
    "display('lasso train score')\n",
    "display(ridge.score(x_train, y_train))\n",
    "\n",
    "display('lasso test score')\n",
    "display(ridge.score(x_test, y_test))"
   ]
  },
  {
   "cell_type": "markdown",
   "metadata": {},
   "source": [
    "### OLS Model"
   ]
  },
  {
   "cell_type": "markdown",
   "metadata": {},
   "source": [
    "#### Regression 1 - fit to model, check for p-values less than 0.3"
   ]
  },
  {
   "cell_type": "code",
   "execution_count": 223,
   "metadata": {
    "scrolled": true
   },
   "outputs": [
    {
     "name": "stderr",
     "output_type": "stream",
     "text": [
      "/opt/anaconda3/lib/python3.7/site-packages/numpy/core/fromnumeric.py:2495: FutureWarning: Method .ptp is deprecated and will be removed in a future version. Use numpy.ptp instead.\n",
      "  return ptp(axis=axis, out=out, **kwargs)\n"
     ]
    },
    {
     "data": {
      "text/html": [
       "<table class=\"simpletable\">\n",
       "<caption>OLS Regression Results</caption>\n",
       "<tr>\n",
       "  <th>Dep. Variable:</th>     <td>aggregateLikes</td>  <th>  R-squared:         </th> <td>   0.173</td> \n",
       "</tr>\n",
       "<tr>\n",
       "  <th>Model:</th>                   <td>OLS</td>       <th>  Adj. R-squared:    </th> <td>   0.106</td> \n",
       "</tr>\n",
       "<tr>\n",
       "  <th>Method:</th>             <td>Least Squares</td>  <th>  F-statistic:       </th> <td>   2.598</td> \n",
       "</tr>\n",
       "<tr>\n",
       "  <th>Date:</th>             <td>Tue, 21 Jan 2020</td> <th>  Prob (F-statistic):</th> <td>3.93e-06</td> \n",
       "</tr>\n",
       "<tr>\n",
       "  <th>Time:</th>                 <td>16:38:30</td>     <th>  Log-Likelihood:    </th> <td> -5403.8</td> \n",
       "</tr>\n",
       "<tr>\n",
       "  <th>No. Observations:</th>      <td>   471</td>      <th>  AIC:               </th> <td>1.088e+04</td>\n",
       "</tr>\n",
       "<tr>\n",
       "  <th>Df Residuals:</th>          <td>   435</td>      <th>  BIC:               </th> <td>1.103e+04</td>\n",
       "</tr>\n",
       "<tr>\n",
       "  <th>Df Model:</th>              <td>    35</td>      <th>                     </th>     <td> </td>    \n",
       "</tr>\n",
       "<tr>\n",
       "  <th>Covariance Type:</th>      <td>nonrobust</td>    <th>                     </th>     <td> </td>    \n",
       "</tr>\n",
       "</table>\n",
       "<table class=\"simpletable\">\n",
       "<tr>\n",
       "              <td></td>                <th>coef</th>     <th>std err</th>      <th>t</th>      <th>P>|t|</th>  <th>[0.025</th>    <th>0.975]</th>  \n",
       "</tr>\n",
       "<tr>\n",
       "  <th>const</th>                    <td> 1899.4616</td> <td> 4404.677</td> <td>    0.431</td> <td> 0.667</td> <td>-6757.634</td> <td> 1.06e+04</td>\n",
       "</tr>\n",
       "<tr>\n",
       "  <th>num_ingredients</th>          <td> 1240.9808</td> <td> 1488.430</td> <td>    0.834</td> <td> 0.405</td> <td>-1684.429</td> <td> 4166.390</td>\n",
       "</tr>\n",
       "<tr>\n",
       "  <th>pricePerServing</th>          <td>-2534.0664</td> <td> 2664.038</td> <td>   -0.951</td> <td> 0.342</td> <td>-7770.053</td> <td> 2701.920</td>\n",
       "</tr>\n",
       "<tr>\n",
       "  <th>readyInMinutes</th>           <td> 2434.6581</td> <td> 1432.080</td> <td>    1.700</td> <td> 0.090</td> <td> -379.999</td> <td> 5249.315</td>\n",
       "</tr>\n",
       "<tr>\n",
       "  <th>servings</th>                 <td>-2173.0608</td> <td> 1421.548</td> <td>   -1.529</td> <td> 0.127</td> <td>-4967.017</td> <td>  620.896</td>\n",
       "</tr>\n",
       "<tr>\n",
       "  <th>weightWatcherSmartPoints</th> <td> -853.5684</td> <td> 6456.150</td> <td>   -0.132</td> <td> 0.895</td> <td>-1.35e+04</td> <td> 1.18e+04</td>\n",
       "</tr>\n",
       "<tr>\n",
       "  <th>Calories</th>                 <td> 1.133e+04</td> <td> 3.44e+04</td> <td>    0.330</td> <td> 0.742</td> <td>-5.62e+04</td> <td> 7.89e+04</td>\n",
       "</tr>\n",
       "<tr>\n",
       "  <th>Fat</th>                      <td>-6450.2818</td> <td> 1.98e+04</td> <td>   -0.326</td> <td> 0.744</td> <td>-4.53e+04</td> <td> 3.24e+04</td>\n",
       "</tr>\n",
       "<tr>\n",
       "  <th>Saturated_Fat</th>            <td>  661.8762</td> <td> 2363.526</td> <td>    0.280</td> <td> 0.780</td> <td>-3983.475</td> <td> 5307.228</td>\n",
       "</tr>\n",
       "<tr>\n",
       "  <th>Carbohydrates</th>            <td>-4329.5485</td> <td> 1.69e+04</td> <td>   -0.256</td> <td> 0.798</td> <td>-3.75e+04</td> <td> 2.89e+04</td>\n",
       "</tr>\n",
       "<tr>\n",
       "  <th>Sugar</th>                    <td> -808.5016</td> <td> 1992.874</td> <td>   -0.406</td> <td> 0.685</td> <td>-4725.362</td> <td> 3108.358</td>\n",
       "</tr>\n",
       "<tr>\n",
       "  <th>Cholesterol</th>              <td>-1.647e+04</td> <td> 1.12e+04</td> <td>   -1.475</td> <td> 0.141</td> <td>-3.84e+04</td> <td> 5481.580</td>\n",
       "</tr>\n",
       "<tr>\n",
       "  <th>Sodium</th>                   <td> 6606.1902</td> <td> 1321.048</td> <td>    5.001</td> <td> 0.000</td> <td> 4009.759</td> <td> 9202.622</td>\n",
       "</tr>\n",
       "<tr>\n",
       "  <th>Protein</th>                  <td>-1.659e+04</td> <td> 1.15e+04</td> <td>   -1.440</td> <td> 0.151</td> <td>-3.92e+04</td> <td> 6049.687</td>\n",
       "</tr>\n",
       "<tr>\n",
       "  <th>Vitamin_K</th>                <td>-2258.5241</td> <td> 1681.420</td> <td>   -1.343</td> <td> 0.180</td> <td>-5563.242</td> <td> 1046.194</td>\n",
       "</tr>\n",
       "<tr>\n",
       "  <th>Vitamin_A</th>                <td> -887.1487</td> <td> 1269.095</td> <td>   -0.699</td> <td> 0.485</td> <td>-3381.469</td> <td> 1607.172</td>\n",
       "</tr>\n",
       "<tr>\n",
       "  <th>Vitamin_C</th>                <td>  -69.1657</td> <td> 1714.269</td> <td>   -0.040</td> <td> 0.968</td> <td>-3438.446</td> <td> 3300.115</td>\n",
       "</tr>\n",
       "<tr>\n",
       "  <th>Manganese</th>                <td> 1060.3634</td> <td> 2013.020</td> <td>    0.527</td> <td> 0.599</td> <td>-2896.091</td> <td> 5016.817</td>\n",
       "</tr>\n",
       "<tr>\n",
       "  <th>Folate</th>                   <td>  -89.9394</td> <td> 2248.162</td> <td>   -0.040</td> <td> 0.968</td> <td>-4508.549</td> <td> 4328.671</td>\n",
       "</tr>\n",
       "<tr>\n",
       "  <th>Fiber</th>                    <td>-5614.5450</td> <td> 2960.986</td> <td>   -1.896</td> <td> 0.059</td> <td>-1.14e+04</td> <td>  205.073</td>\n",
       "</tr>\n",
       "<tr>\n",
       "  <th>Copper</th>                   <td> -997.3799</td> <td> 1288.200</td> <td>   -0.774</td> <td> 0.439</td> <td>-3529.250</td> <td> 1534.490</td>\n",
       "</tr>\n",
       "<tr>\n",
       "  <th>Magnesium</th>                <td>-2797.4663</td> <td> 3189.384</td> <td>   -0.877</td> <td> 0.381</td> <td>-9065.985</td> <td> 3471.053</td>\n",
       "</tr>\n",
       "<tr>\n",
       "  <th>Phosphorus</th>               <td> 7818.6493</td> <td> 4769.958</td> <td>    1.639</td> <td> 0.102</td> <td>-1556.382</td> <td> 1.72e+04</td>\n",
       "</tr>\n",
       "<tr>\n",
       "  <th>Vitamin_B6</th>               <td>-4132.3764</td> <td> 3186.117</td> <td>   -1.297</td> <td> 0.195</td> <td>-1.04e+04</td> <td> 2129.721</td>\n",
       "</tr>\n",
       "<tr>\n",
       "  <th>Potassium</th>                <td>  188.3991</td> <td> 2890.608</td> <td>    0.065</td> <td> 0.948</td> <td>-5492.895</td> <td> 5869.693</td>\n",
       "</tr>\n",
       "<tr>\n",
       "  <th>Vitamin_B1</th>               <td>-2817.3884</td> <td> 3714.115</td> <td>   -0.759</td> <td> 0.449</td> <td>-1.01e+04</td> <td> 4482.453</td>\n",
       "</tr>\n",
       "<tr>\n",
       "  <th>Iron</th>                     <td> -220.5380</td> <td> 2041.372</td> <td>   -0.108</td> <td> 0.914</td> <td>-4232.716</td> <td> 3791.640</td>\n",
       "</tr>\n",
       "<tr>\n",
       "  <th>Vitamin_B2</th>               <td>   1.2e+04</td> <td> 3838.364</td> <td>    3.126</td> <td> 0.002</td> <td> 4455.343</td> <td> 1.95e+04</td>\n",
       "</tr>\n",
       "<tr>\n",
       "  <th>Vitamin_E</th>                <td>-1135.7953</td> <td> 2097.471</td> <td>   -0.542</td> <td> 0.588</td> <td>-5258.232</td> <td> 2986.641</td>\n",
       "</tr>\n",
       "<tr>\n",
       "  <th>Zinc</th>                     <td> 4802.7104</td> <td> 5091.051</td> <td>    0.943</td> <td> 0.346</td> <td>-5203.406</td> <td> 1.48e+04</td>\n",
       "</tr>\n",
       "<tr>\n",
       "  <th>Vitamin_B5</th>               <td> 6967.6527</td> <td> 4598.299</td> <td>    1.515</td> <td> 0.130</td> <td>-2069.993</td> <td>  1.6e+04</td>\n",
       "</tr>\n",
       "<tr>\n",
       "  <th>Vitamin_B3</th>               <td> 1585.8341</td> <td> 7095.828</td> <td>    0.223</td> <td> 0.823</td> <td>-1.24e+04</td> <td> 1.55e+04</td>\n",
       "</tr>\n",
       "<tr>\n",
       "  <th>Calcium</th>                  <td>-2591.0158</td> <td> 2682.347</td> <td>   -0.966</td> <td> 0.335</td> <td>-7862.988</td> <td> 2680.956</td>\n",
       "</tr>\n",
       "<tr>\n",
       "  <th>Selenium</th>                 <td>-1549.0454</td> <td> 3742.412</td> <td>   -0.414</td> <td> 0.679</td> <td>-8904.504</td> <td> 5806.413</td>\n",
       "</tr>\n",
       "<tr>\n",
       "  <th>num_words_instructions</th>   <td> 1175.7399</td> <td> 1664.456</td> <td>    0.706</td> <td> 0.480</td> <td>-2095.636</td> <td> 4447.116</td>\n",
       "</tr>\n",
       "<tr>\n",
       "  <th>num_steps_instructions</th>   <td>-1029.7493</td> <td> 1604.663</td> <td>   -0.642</td> <td> 0.521</td> <td>-4183.606</td> <td> 2124.107</td>\n",
       "</tr>\n",
       "</table>\n",
       "<table class=\"simpletable\">\n",
       "<tr>\n",
       "  <th>Omnibus:</th>       <td>608.620</td> <th>  Durbin-Watson:     </th> <td>   2.019</td> \n",
       "</tr>\n",
       "<tr>\n",
       "  <th>Prob(Omnibus):</th> <td> 0.000</td>  <th>  Jarque-Bera (JB):  </th> <td>63702.639</td>\n",
       "</tr>\n",
       "<tr>\n",
       "  <th>Skew:</th>          <td> 6.404</td>  <th>  Prob(JB):          </th> <td>    0.00</td> \n",
       "</tr>\n",
       "<tr>\n",
       "  <th>Kurtosis:</th>      <td>58.516</td>  <th>  Cond. No.          </th> <td>    123.</td> \n",
       "</tr>\n",
       "</table><br/><br/>Warnings:<br/>[1] Standard Errors assume that the covariance matrix of the errors is correctly specified."
      ],
      "text/plain": [
       "<class 'statsmodels.iolib.summary.Summary'>\n",
       "\"\"\"\n",
       "                            OLS Regression Results                            \n",
       "==============================================================================\n",
       "Dep. Variable:         aggregateLikes   R-squared:                       0.173\n",
       "Model:                            OLS   Adj. R-squared:                  0.106\n",
       "Method:                 Least Squares   F-statistic:                     2.598\n",
       "Date:                Tue, 21 Jan 2020   Prob (F-statistic):           3.93e-06\n",
       "Time:                        16:38:30   Log-Likelihood:                -5403.8\n",
       "No. Observations:                 471   AIC:                         1.088e+04\n",
       "Df Residuals:                     435   BIC:                         1.103e+04\n",
       "Df Model:                          35                                         \n",
       "Covariance Type:            nonrobust                                         \n",
       "============================================================================================\n",
       "                               coef    std err          t      P>|t|      [0.025      0.975]\n",
       "--------------------------------------------------------------------------------------------\n",
       "const                     1899.4616   4404.677      0.431      0.667   -6757.634    1.06e+04\n",
       "num_ingredients           1240.9808   1488.430      0.834      0.405   -1684.429    4166.390\n",
       "pricePerServing          -2534.0664   2664.038     -0.951      0.342   -7770.053    2701.920\n",
       "readyInMinutes            2434.6581   1432.080      1.700      0.090    -379.999    5249.315\n",
       "servings                 -2173.0608   1421.548     -1.529      0.127   -4967.017     620.896\n",
       "weightWatcherSmartPoints  -853.5684   6456.150     -0.132      0.895   -1.35e+04    1.18e+04\n",
       "Calories                  1.133e+04   3.44e+04      0.330      0.742   -5.62e+04    7.89e+04\n",
       "Fat                      -6450.2818   1.98e+04     -0.326      0.744   -4.53e+04    3.24e+04\n",
       "Saturated_Fat              661.8762   2363.526      0.280      0.780   -3983.475    5307.228\n",
       "Carbohydrates            -4329.5485   1.69e+04     -0.256      0.798   -3.75e+04    2.89e+04\n",
       "Sugar                     -808.5016   1992.874     -0.406      0.685   -4725.362    3108.358\n",
       "Cholesterol              -1.647e+04   1.12e+04     -1.475      0.141   -3.84e+04    5481.580\n",
       "Sodium                    6606.1902   1321.048      5.001      0.000    4009.759    9202.622\n",
       "Protein                  -1.659e+04   1.15e+04     -1.440      0.151   -3.92e+04    6049.687\n",
       "Vitamin_K                -2258.5241   1681.420     -1.343      0.180   -5563.242    1046.194\n",
       "Vitamin_A                 -887.1487   1269.095     -0.699      0.485   -3381.469    1607.172\n",
       "Vitamin_C                  -69.1657   1714.269     -0.040      0.968   -3438.446    3300.115\n",
       "Manganese                 1060.3634   2013.020      0.527      0.599   -2896.091    5016.817\n",
       "Folate                     -89.9394   2248.162     -0.040      0.968   -4508.549    4328.671\n",
       "Fiber                    -5614.5450   2960.986     -1.896      0.059   -1.14e+04     205.073\n",
       "Copper                    -997.3799   1288.200     -0.774      0.439   -3529.250    1534.490\n",
       "Magnesium                -2797.4663   3189.384     -0.877      0.381   -9065.985    3471.053\n",
       "Phosphorus                7818.6493   4769.958      1.639      0.102   -1556.382    1.72e+04\n",
       "Vitamin_B6               -4132.3764   3186.117     -1.297      0.195   -1.04e+04    2129.721\n",
       "Potassium                  188.3991   2890.608      0.065      0.948   -5492.895    5869.693\n",
       "Vitamin_B1               -2817.3884   3714.115     -0.759      0.449   -1.01e+04    4482.453\n",
       "Iron                      -220.5380   2041.372     -0.108      0.914   -4232.716    3791.640\n",
       "Vitamin_B2                  1.2e+04   3838.364      3.126      0.002    4455.343    1.95e+04\n",
       "Vitamin_E                -1135.7953   2097.471     -0.542      0.588   -5258.232    2986.641\n",
       "Zinc                      4802.7104   5091.051      0.943      0.346   -5203.406    1.48e+04\n",
       "Vitamin_B5                6967.6527   4598.299      1.515      0.130   -2069.993     1.6e+04\n",
       "Vitamin_B3                1585.8341   7095.828      0.223      0.823   -1.24e+04    1.55e+04\n",
       "Calcium                  -2591.0158   2682.347     -0.966      0.335   -7862.988    2680.956\n",
       "Selenium                 -1549.0454   3742.412     -0.414      0.679   -8904.504    5806.413\n",
       "num_words_instructions    1175.7399   1664.456      0.706      0.480   -2095.636    4447.116\n",
       "num_steps_instructions   -1029.7493   1604.663     -0.642      0.521   -4183.606    2124.107\n",
       "==============================================================================\n",
       "Omnibus:                      608.620   Durbin-Watson:                   2.019\n",
       "Prob(Omnibus):                  0.000   Jarque-Bera (JB):            63702.639\n",
       "Skew:                           6.404   Prob(JB):                         0.00\n",
       "Kurtosis:                      58.516   Cond. No.                         123.\n",
       "==============================================================================\n",
       "\n",
       "Warnings:\n",
       "[1] Standard Errors assume that the covariance matrix of the errors is correctly specified.\n",
       "\"\"\""
      ]
     },
     "execution_count": 223,
     "metadata": {},
     "output_type": "execute_result"
    }
   ],
   "source": [
    "x = x_train #predictor variables\n",
    "y = y_train #target variable\n",
    "x = sm.add_constant(x) #add (1) as the constant since we are using statsmodels\n",
    "model = sm.OLS(y, x).fit() #assign to the x and y variables with constant to the sm.OLS() function and fit the data\n",
    "predictions = model.predict(x)#assign the result of the OLS to predict the data\n",
    "model.summary()#show the summary"
   ]
  },
  {
   "cell_type": "markdown",
   "metadata": {},
   "source": [
    "#### Notes \n",
    "It looks like many variables are non-significant predictors for \"likes\" so we will use a fairly high alpha cutoff (0.3) in our round 1 culling of predictors."
   ]
  },
  {
   "cell_type": "markdown",
   "metadata": {},
   "source": [
    "#### Regression 2  - provide updated list of predictors (p < 0.3) and fit to model again, check for p-values less than 0.05"
   ]
  },
  {
   "cell_type": "code",
   "execution_count": 224,
   "metadata": {},
   "outputs": [],
   "source": [
    "x_train = x_train[[\n",
    "    'num_ingredients',  \n",
    "    'readyInMinutes', \n",
    "    'servings', \n",
    "    'Sodium',\n",
    "    'Vitamin_K', \n",
    "    'Fiber', \n",
    "    'Phosphorus', \n",
    "    'Vitamin_B1', \n",
    "    'Vitamin_B2', \n",
    "    'Vitamin_B5', \n",
    "    'num_steps_instructions']]"
   ]
  },
  {
   "cell_type": "code",
   "execution_count": 225,
   "metadata": {
    "scrolled": true
   },
   "outputs": [
    {
     "data": {
      "text/html": [
       "<table class=\"simpletable\">\n",
       "<caption>OLS Regression Results</caption>\n",
       "<tr>\n",
       "  <th>Dep. Variable:</th>     <td>aggregateLikes</td>  <th>  R-squared:         </th> <td>   0.120</td> \n",
       "</tr>\n",
       "<tr>\n",
       "  <th>Model:</th>                   <td>OLS</td>       <th>  Adj. R-squared:    </th> <td>   0.099</td> \n",
       "</tr>\n",
       "<tr>\n",
       "  <th>Method:</th>             <td>Least Squares</td>  <th>  F-statistic:       </th> <td>   5.671</td> \n",
       "</tr>\n",
       "<tr>\n",
       "  <th>Date:</th>             <td>Tue, 21 Jan 2020</td> <th>  Prob (F-statistic):</th> <td>1.39e-08</td> \n",
       "</tr>\n",
       "<tr>\n",
       "  <th>Time:</th>                 <td>16:38:31</td>     <th>  Log-Likelihood:    </th> <td> -5418.5</td> \n",
       "</tr>\n",
       "<tr>\n",
       "  <th>No. Observations:</th>      <td>   471</td>      <th>  AIC:               </th> <td>1.086e+04</td>\n",
       "</tr>\n",
       "<tr>\n",
       "  <th>Df Residuals:</th>          <td>   459</td>      <th>  BIC:               </th> <td>1.091e+04</td>\n",
       "</tr>\n",
       "<tr>\n",
       "  <th>Df Model:</th>              <td>    11</td>      <th>                     </th>     <td> </td>    \n",
       "</tr>\n",
       "<tr>\n",
       "  <th>Covariance Type:</th>      <td>nonrobust</td>    <th>                     </th>     <td> </td>    \n",
       "</tr>\n",
       "</table>\n",
       "<table class=\"simpletable\">\n",
       "<tr>\n",
       "             <td></td>               <th>coef</th>     <th>std err</th>      <th>t</th>      <th>P>|t|</th>  <th>[0.025</th>    <th>0.975]</th>  \n",
       "</tr>\n",
       "<tr>\n",
       "  <th>const</th>                  <td> 1.076e+04</td> <td> 1454.171</td> <td>    7.396</td> <td> 0.000</td> <td> 7897.566</td> <td> 1.36e+04</td>\n",
       "</tr>\n",
       "<tr>\n",
       "  <th>num_ingredients</th>        <td> 1718.2004</td> <td> 1335.307</td> <td>    1.287</td> <td> 0.199</td> <td> -905.872</td> <td> 4342.273</td>\n",
       "</tr>\n",
       "<tr>\n",
       "  <th>readyInMinutes</th>         <td> 1995.2089</td> <td> 1375.127</td> <td>    1.451</td> <td> 0.147</td> <td> -707.116</td> <td> 4697.534</td>\n",
       "</tr>\n",
       "<tr>\n",
       "  <th>servings</th>               <td>-1387.8394</td> <td> 1254.940</td> <td>   -1.106</td> <td> 0.269</td> <td>-3853.980</td> <td> 1078.302</td>\n",
       "</tr>\n",
       "<tr>\n",
       "  <th>Sodium</th>                 <td> 5486.5802</td> <td> 1159.758</td> <td>    4.731</td> <td> 0.000</td> <td> 3207.487</td> <td> 7765.674</td>\n",
       "</tr>\n",
       "<tr>\n",
       "  <th>Vitamin_K</th>              <td>-3468.9791</td> <td> 1157.952</td> <td>   -2.996</td> <td> 0.003</td> <td>-5744.524</td> <td>-1193.434</td>\n",
       "</tr>\n",
       "<tr>\n",
       "  <th>Fiber</th>                  <td>-5222.0584</td> <td> 1801.462</td> <td>   -2.899</td> <td> 0.004</td> <td>-8762.194</td> <td>-1681.922</td>\n",
       "</tr>\n",
       "<tr>\n",
       "  <th>Phosphorus</th>             <td>  493.1670</td> <td> 2323.284</td> <td>    0.212</td> <td> 0.832</td> <td>-4072.425</td> <td> 5058.759</td>\n",
       "</tr>\n",
       "<tr>\n",
       "  <th>Vitamin_B1</th>             <td>-3203.0933</td> <td> 2921.233</td> <td>   -1.096</td> <td> 0.273</td> <td>-8943.742</td> <td> 2537.555</td>\n",
       "</tr>\n",
       "<tr>\n",
       "  <th>Vitamin_B2</th>             <td> 3215.6180</td> <td> 2459.164</td> <td>    1.308</td> <td> 0.192</td> <td>-1616.997</td> <td> 8048.233</td>\n",
       "</tr>\n",
       "<tr>\n",
       "  <th>Vitamin_B5</th>             <td> 9226.3803</td> <td> 2953.015</td> <td>    3.124</td> <td> 0.002</td> <td> 3423.275</td> <td>  1.5e+04</td>\n",
       "</tr>\n",
       "<tr>\n",
       "  <th>num_steps_instructions</th> <td> -456.7005</td> <td> 1206.012</td> <td>   -0.379</td> <td> 0.705</td> <td>-2826.689</td> <td> 1913.288</td>\n",
       "</tr>\n",
       "</table>\n",
       "<table class=\"simpletable\">\n",
       "<tr>\n",
       "  <th>Omnibus:</th>       <td>631.672</td> <th>  Durbin-Watson:     </th> <td>   2.038</td> \n",
       "</tr>\n",
       "<tr>\n",
       "  <th>Prob(Omnibus):</th> <td> 0.000</td>  <th>  Jarque-Bera (JB):  </th> <td>71804.116</td>\n",
       "</tr>\n",
       "<tr>\n",
       "  <th>Skew:</th>          <td> 6.833</td>  <th>  Prob(JB):          </th> <td>    0.00</td> \n",
       "</tr>\n",
       "<tr>\n",
       "  <th>Kurtosis:</th>      <td>61.924</td>  <th>  Cond. No.          </th> <td>    5.64</td> \n",
       "</tr>\n",
       "</table><br/><br/>Warnings:<br/>[1] Standard Errors assume that the covariance matrix of the errors is correctly specified."
      ],
      "text/plain": [
       "<class 'statsmodels.iolib.summary.Summary'>\n",
       "\"\"\"\n",
       "                            OLS Regression Results                            \n",
       "==============================================================================\n",
       "Dep. Variable:         aggregateLikes   R-squared:                       0.120\n",
       "Model:                            OLS   Adj. R-squared:                  0.099\n",
       "Method:                 Least Squares   F-statistic:                     5.671\n",
       "Date:                Tue, 21 Jan 2020   Prob (F-statistic):           1.39e-08\n",
       "Time:                        16:38:31   Log-Likelihood:                -5418.5\n",
       "No. Observations:                 471   AIC:                         1.086e+04\n",
       "Df Residuals:                     459   BIC:                         1.091e+04\n",
       "Df Model:                          11                                         \n",
       "Covariance Type:            nonrobust                                         \n",
       "==========================================================================================\n",
       "                             coef    std err          t      P>|t|      [0.025      0.975]\n",
       "------------------------------------------------------------------------------------------\n",
       "const                   1.076e+04   1454.171      7.396      0.000    7897.566    1.36e+04\n",
       "num_ingredients         1718.2004   1335.307      1.287      0.199    -905.872    4342.273\n",
       "readyInMinutes          1995.2089   1375.127      1.451      0.147    -707.116    4697.534\n",
       "servings               -1387.8394   1254.940     -1.106      0.269   -3853.980    1078.302\n",
       "Sodium                  5486.5802   1159.758      4.731      0.000    3207.487    7765.674\n",
       "Vitamin_K              -3468.9791   1157.952     -2.996      0.003   -5744.524   -1193.434\n",
       "Fiber                  -5222.0584   1801.462     -2.899      0.004   -8762.194   -1681.922\n",
       "Phosphorus               493.1670   2323.284      0.212      0.832   -4072.425    5058.759\n",
       "Vitamin_B1             -3203.0933   2921.233     -1.096      0.273   -8943.742    2537.555\n",
       "Vitamin_B2              3215.6180   2459.164      1.308      0.192   -1616.997    8048.233\n",
       "Vitamin_B5              9226.3803   2953.015      3.124      0.002    3423.275     1.5e+04\n",
       "num_steps_instructions  -456.7005   1206.012     -0.379      0.705   -2826.689    1913.288\n",
       "==============================================================================\n",
       "Omnibus:                      631.672   Durbin-Watson:                   2.038\n",
       "Prob(Omnibus):                  0.000   Jarque-Bera (JB):            71804.116\n",
       "Skew:                           6.833   Prob(JB):                         0.00\n",
       "Kurtosis:                      61.924   Cond. No.                         5.64\n",
       "==============================================================================\n",
       "\n",
       "Warnings:\n",
       "[1] Standard Errors assume that the covariance matrix of the errors is correctly specified.\n",
       "\"\"\""
      ]
     },
     "execution_count": 225,
     "metadata": {},
     "output_type": "execute_result"
    }
   ],
   "source": [
    "x = x_train \n",
    "y = y_train \n",
    "x = sm.add_constant(x) \n",
    "model = sm.OLS(y, x).fit() ## sm.OLS(output, input)\n",
    "predictions = model.predict(x)\n",
    "model.summary()"
   ]
  },
  {
   "cell_type": "markdown",
   "metadata": {},
   "source": [
    "#### Notes \n",
    "Now that we are in round 2, we will use a lower alpha cutoff (0.05) in our culling of predictors."
   ]
  },
  {
   "cell_type": "markdown",
   "metadata": {},
   "source": [
    "#### Regression 3 -  provide updated list of predictors (p < .05) and fit to model again, check for p-values less than 0.05 again."
   ]
  },
  {
   "cell_type": "code",
   "execution_count": 226,
   "metadata": {},
   "outputs": [],
   "source": [
    "x_train = x_train[[\n",
    "    'num_ingredients',  \n",
    "    'Sodium',\n",
    "    'Vitamin_K', \n",
    "    'Fiber', \n",
    "    'Vitamin_B5']]"
   ]
  },
  {
   "cell_type": "code",
   "execution_count": 227,
   "metadata": {
    "scrolled": true
   },
   "outputs": [
    {
     "data": {
      "text/html": [
       "<table class=\"simpletable\">\n",
       "<caption>OLS Regression Results</caption>\n",
       "<tr>\n",
       "  <th>Dep. Variable:</th>     <td>aggregateLikes</td>  <th>  R-squared:         </th> <td>   0.106</td> \n",
       "</tr>\n",
       "<tr>\n",
       "  <th>Model:</th>                   <td>OLS</td>       <th>  Adj. R-squared:    </th> <td>   0.096</td> \n",
       "</tr>\n",
       "<tr>\n",
       "  <th>Method:</th>             <td>Least Squares</td>  <th>  F-statistic:       </th> <td>   11.02</td> \n",
       "</tr>\n",
       "<tr>\n",
       "  <th>Date:</th>             <td>Tue, 21 Jan 2020</td> <th>  Prob (F-statistic):</th> <td>4.81e-10</td> \n",
       "</tr>\n",
       "<tr>\n",
       "  <th>Time:</th>                 <td>16:38:32</td>     <th>  Log-Likelihood:    </th> <td> -5422.2</td> \n",
       "</tr>\n",
       "<tr>\n",
       "  <th>No. Observations:</th>      <td>   471</td>      <th>  AIC:               </th> <td>1.086e+04</td>\n",
       "</tr>\n",
       "<tr>\n",
       "  <th>Df Residuals:</th>          <td>   465</td>      <th>  BIC:               </th> <td>1.088e+04</td>\n",
       "</tr>\n",
       "<tr>\n",
       "  <th>Df Model:</th>              <td>     5</td>      <th>                     </th>     <td> </td>    \n",
       "</tr>\n",
       "<tr>\n",
       "  <th>Covariance Type:</th>      <td>nonrobust</td>    <th>                     </th>     <td> </td>    \n",
       "</tr>\n",
       "</table>\n",
       "<table class=\"simpletable\">\n",
       "<tr>\n",
       "         <td></td>            <th>coef</th>     <th>std err</th>      <th>t</th>      <th>P>|t|</th>  <th>[0.025</th>    <th>0.975]</th>  \n",
       "</tr>\n",
       "<tr>\n",
       "  <th>const</th>           <td> 1.059e+04</td> <td> 1346.792</td> <td>    7.865</td> <td> 0.000</td> <td> 7946.486</td> <td> 1.32e+04</td>\n",
       "</tr>\n",
       "<tr>\n",
       "  <th>num_ingredients</th> <td> 1183.7529</td> <td> 1181.953</td> <td>    1.002</td> <td> 0.317</td> <td>-1138.877</td> <td> 3506.383</td>\n",
       "</tr>\n",
       "<tr>\n",
       "  <th>Sodium</th>          <td> 5825.7039</td> <td> 1134.559</td> <td>    5.135</td> <td> 0.000</td> <td> 3596.206</td> <td> 8055.202</td>\n",
       "</tr>\n",
       "<tr>\n",
       "  <th>Vitamin_K</th>       <td>-3090.3662</td> <td> 1135.136</td> <td>   -2.722</td> <td> 0.007</td> <td>-5320.997</td> <td> -859.736</td>\n",
       "</tr>\n",
       "<tr>\n",
       "  <th>Fiber</th>           <td>-5750.5265</td> <td> 1512.395</td> <td>   -3.802</td> <td> 0.000</td> <td>-8722.503</td> <td>-2778.551</td>\n",
       "</tr>\n",
       "<tr>\n",
       "  <th>Vitamin_B5</th>      <td> 1.072e+04</td> <td> 2663.465</td> <td>    4.023</td> <td> 0.000</td> <td> 5481.150</td> <td> 1.59e+04</td>\n",
       "</tr>\n",
       "</table>\n",
       "<table class=\"simpletable\">\n",
       "<tr>\n",
       "  <th>Omnibus:</th>       <td>637.128</td> <th>  Durbin-Watson:     </th> <td>   2.042</td> \n",
       "</tr>\n",
       "<tr>\n",
       "  <th>Prob(Omnibus):</th> <td> 0.000</td>  <th>  Jarque-Bera (JB):  </th> <td>73691.402</td>\n",
       "</tr>\n",
       "<tr>\n",
       "  <th>Skew:</th>          <td> 6.939</td>  <th>  Prob(JB):          </th> <td>    0.00</td> \n",
       "</tr>\n",
       "<tr>\n",
       "  <th>Kurtosis:</th>      <td>62.686</td>  <th>  Cond. No.          </th> <td>    3.82</td> \n",
       "</tr>\n",
       "</table><br/><br/>Warnings:<br/>[1] Standard Errors assume that the covariance matrix of the errors is correctly specified."
      ],
      "text/plain": [
       "<class 'statsmodels.iolib.summary.Summary'>\n",
       "\"\"\"\n",
       "                            OLS Regression Results                            \n",
       "==============================================================================\n",
       "Dep. Variable:         aggregateLikes   R-squared:                       0.106\n",
       "Model:                            OLS   Adj. R-squared:                  0.096\n",
       "Method:                 Least Squares   F-statistic:                     11.02\n",
       "Date:                Tue, 21 Jan 2020   Prob (F-statistic):           4.81e-10\n",
       "Time:                        16:38:32   Log-Likelihood:                -5422.2\n",
       "No. Observations:                 471   AIC:                         1.086e+04\n",
       "Df Residuals:                     465   BIC:                         1.088e+04\n",
       "Df Model:                           5                                         \n",
       "Covariance Type:            nonrobust                                         \n",
       "===================================================================================\n",
       "                      coef    std err          t      P>|t|      [0.025      0.975]\n",
       "-----------------------------------------------------------------------------------\n",
       "const            1.059e+04   1346.792      7.865      0.000    7946.486    1.32e+04\n",
       "num_ingredients  1183.7529   1181.953      1.002      0.317   -1138.877    3506.383\n",
       "Sodium           5825.7039   1134.559      5.135      0.000    3596.206    8055.202\n",
       "Vitamin_K       -3090.3662   1135.136     -2.722      0.007   -5320.997    -859.736\n",
       "Fiber           -5750.5265   1512.395     -3.802      0.000   -8722.503   -2778.551\n",
       "Vitamin_B5       1.072e+04   2663.465      4.023      0.000    5481.150    1.59e+04\n",
       "==============================================================================\n",
       "Omnibus:                      637.128   Durbin-Watson:                   2.042\n",
       "Prob(Omnibus):                  0.000   Jarque-Bera (JB):            73691.402\n",
       "Skew:                           6.939   Prob(JB):                         0.00\n",
       "Kurtosis:                      62.686   Cond. No.                         3.82\n",
       "==============================================================================\n",
       "\n",
       "Warnings:\n",
       "[1] Standard Errors assume that the covariance matrix of the errors is correctly specified.\n",
       "\"\"\""
      ]
     },
     "execution_count": 227,
     "metadata": {},
     "output_type": "execute_result"
    }
   ],
   "source": [
    "x = x_train \n",
    "y = y_train \n",
    "x = sm.add_constant(x) \n",
    "model = sm.OLS(y, x).fit() ## sm.OLS(output, input)\n",
    "predictions = model.predict(x)\n",
    "model.summary()"
   ]
  },
  {
   "cell_type": "markdown",
   "metadata": {},
   "source": [
    "#### Notes \n",
    "Now that we are in round 3, we will still use a low alpha cutoff (0.05) in our culling of predictors."
   ]
  },
  {
   "cell_type": "markdown",
   "metadata": {},
   "source": [
    "#### Run regression with updated list of predictors and fit to model again, check for p-values less than 0.05"
   ]
  },
  {
   "cell_type": "code",
   "execution_count": 228,
   "metadata": {},
   "outputs": [],
   "source": [
    "x_train = x_train[[  \n",
    "    'Sodium',\n",
    "    'Vitamin_K', \n",
    "    'Fiber', \n",
    "    'Vitamin_B5']]"
   ]
  },
  {
   "cell_type": "code",
   "execution_count": 229,
   "metadata": {
    "scrolled": true
   },
   "outputs": [
    {
     "data": {
      "text/html": [
       "<table class=\"simpletable\">\n",
       "<caption>OLS Regression Results</caption>\n",
       "<tr>\n",
       "  <th>Dep. Variable:</th>     <td>aggregateLikes</td>  <th>  R-squared:         </th> <td>   0.104</td> \n",
       "</tr>\n",
       "<tr>\n",
       "  <th>Model:</th>                   <td>OLS</td>       <th>  Adj. R-squared:    </th> <td>   0.096</td> \n",
       "</tr>\n",
       "<tr>\n",
       "  <th>Method:</th>             <td>Least Squares</td>  <th>  F-statistic:       </th> <td>   13.53</td> \n",
       "</tr>\n",
       "<tr>\n",
       "  <th>Date:</th>             <td>Tue, 21 Jan 2020</td> <th>  Prob (F-statistic):</th> <td>1.94e-10</td> \n",
       "</tr>\n",
       "<tr>\n",
       "  <th>Time:</th>                 <td>16:38:32</td>     <th>  Log-Likelihood:    </th> <td> -5422.7</td> \n",
       "</tr>\n",
       "<tr>\n",
       "  <th>No. Observations:</th>      <td>   471</td>      <th>  AIC:               </th> <td>1.086e+04</td>\n",
       "</tr>\n",
       "<tr>\n",
       "  <th>Df Residuals:</th>          <td>   466</td>      <th>  BIC:               </th> <td>1.088e+04</td>\n",
       "</tr>\n",
       "<tr>\n",
       "  <th>Df Model:</th>              <td>     4</td>      <th>                     </th>     <td> </td>    \n",
       "</tr>\n",
       "<tr>\n",
       "  <th>Covariance Type:</th>      <td>nonrobust</td>    <th>                     </th>     <td> </td>    \n",
       "</tr>\n",
       "</table>\n",
       "<table class=\"simpletable\">\n",
       "<tr>\n",
       "       <td></td>         <th>coef</th>     <th>std err</th>      <th>t</th>      <th>P>|t|</th>  <th>[0.025</th>    <th>0.975]</th>  \n",
       "</tr>\n",
       "<tr>\n",
       "  <th>const</th>      <td> 1.054e+04</td> <td> 1345.864</td> <td>    7.834</td> <td> 0.000</td> <td> 7898.151</td> <td> 1.32e+04</td>\n",
       "</tr>\n",
       "<tr>\n",
       "  <th>Sodium</th>     <td> 6053.6953</td> <td> 1111.490</td> <td>    5.446</td> <td> 0.000</td> <td> 3869.542</td> <td> 8237.849</td>\n",
       "</tr>\n",
       "<tr>\n",
       "  <th>Vitamin_K</th>  <td>-3124.5436</td> <td> 1134.626</td> <td>   -2.754</td> <td> 0.006</td> <td>-5354.161</td> <td> -894.926</td>\n",
       "</tr>\n",
       "<tr>\n",
       "  <th>Fiber</th>      <td>-5502.6165</td> <td> 1492.006</td> <td>   -3.688</td> <td> 0.000</td> <td>-8434.509</td> <td>-2570.724</td>\n",
       "</tr>\n",
       "<tr>\n",
       "  <th>Vitamin_B5</th> <td> 1.069e+04</td> <td> 2663.336</td> <td>    4.013</td> <td> 0.000</td> <td> 5454.288</td> <td> 1.59e+04</td>\n",
       "</tr>\n",
       "</table>\n",
       "<table class=\"simpletable\">\n",
       "<tr>\n",
       "  <th>Omnibus:</th>       <td>639.187</td> <th>  Durbin-Watson:     </th> <td>   2.035</td> \n",
       "</tr>\n",
       "<tr>\n",
       "  <th>Prob(Omnibus):</th> <td> 0.000</td>  <th>  Jarque-Bera (JB):  </th> <td>74645.926</td>\n",
       "</tr>\n",
       "<tr>\n",
       "  <th>Skew:</th>          <td> 6.977</td>  <th>  Prob(JB):          </th> <td>    0.00</td> \n",
       "</tr>\n",
       "<tr>\n",
       "  <th>Kurtosis:</th>      <td>63.074</td>  <th>  Cond. No.          </th> <td>    3.61</td> \n",
       "</tr>\n",
       "</table><br/><br/>Warnings:<br/>[1] Standard Errors assume that the covariance matrix of the errors is correctly specified."
      ],
      "text/plain": [
       "<class 'statsmodels.iolib.summary.Summary'>\n",
       "\"\"\"\n",
       "                            OLS Regression Results                            \n",
       "==============================================================================\n",
       "Dep. Variable:         aggregateLikes   R-squared:                       0.104\n",
       "Model:                            OLS   Adj. R-squared:                  0.096\n",
       "Method:                 Least Squares   F-statistic:                     13.53\n",
       "Date:                Tue, 21 Jan 2020   Prob (F-statistic):           1.94e-10\n",
       "Time:                        16:38:32   Log-Likelihood:                -5422.7\n",
       "No. Observations:                 471   AIC:                         1.086e+04\n",
       "Df Residuals:                     466   BIC:                         1.088e+04\n",
       "Df Model:                           4                                         \n",
       "Covariance Type:            nonrobust                                         \n",
       "==============================================================================\n",
       "                 coef    std err          t      P>|t|      [0.025      0.975]\n",
       "------------------------------------------------------------------------------\n",
       "const       1.054e+04   1345.864      7.834      0.000    7898.151    1.32e+04\n",
       "Sodium      6053.6953   1111.490      5.446      0.000    3869.542    8237.849\n",
       "Vitamin_K  -3124.5436   1134.626     -2.754      0.006   -5354.161    -894.926\n",
       "Fiber      -5502.6165   1492.006     -3.688      0.000   -8434.509   -2570.724\n",
       "Vitamin_B5  1.069e+04   2663.336      4.013      0.000    5454.288    1.59e+04\n",
       "==============================================================================\n",
       "Omnibus:                      639.187   Durbin-Watson:                   2.035\n",
       "Prob(Omnibus):                  0.000   Jarque-Bera (JB):            74645.926\n",
       "Skew:                           6.977   Prob(JB):                         0.00\n",
       "Kurtosis:                      63.074   Cond. No.                         3.61\n",
       "==============================================================================\n",
       "\n",
       "Warnings:\n",
       "[1] Standard Errors assume that the covariance matrix of the errors is correctly specified.\n",
       "\"\"\""
      ]
     },
     "execution_count": 229,
     "metadata": {},
     "output_type": "execute_result"
    }
   ],
   "source": [
    "x = x_train \n",
    "y = y_train \n",
    "x = sm.add_constant(x) \n",
    "model = sm.OLS(y, x).fit() ## sm.OLS(output, input)\n",
    "predictions = model.predict(x)\n",
    "model.summary()"
   ]
  },
  {
   "cell_type": "markdown",
   "metadata": {},
   "source": [
    "___"
   ]
  },
  {
   "cell_type": "markdown",
   "metadata": {},
   "source": [
    "### 6. Variance Inflation Factor (VIF) check for multicollinearity"
   ]
  },
  {
   "cell_type": "markdown",
   "metadata": {},
   "source": [
    "#### Now, we will check for multicollinearity between our remaining predictors using Variance Inflation Factor.\n",
    "We are doing this because cutting more collinearity means you can rely more on your Betas (coefficients) to predict more reliably."
   ]
  },
  {
   "cell_type": "code",
   "execution_count": 230,
   "metadata": {},
   "outputs": [
    {
     "data": {
      "text/plain": [
       "[('Sodium', 1.2058539199016247),\n",
       " ('Vitamin_K', 1.1027127768555258),\n",
       " ('Fiber', 1.6122069024664532),\n",
       " ('Vitamin_B5', 1.471937768488792)]"
      ]
     },
     "execution_count": 230,
     "metadata": {},
     "output_type": "execute_result"
    }
   ],
   "source": [
    "X = vegetarian[x_train.columns]\n",
    "vif = [variance_inflation_factor(X.values, i) for i in range(X.shape[1])]\n",
    "list(zip(x_train.columns, vif))"
   ]
  },
  {
   "cell_type": "markdown",
   "metadata": {},
   "source": [
    "#### Notes\n",
    "Typically, variables with a VIF of 5 or greater (or more definitively 10 or greater) are displaying multicollinearity with other variables in the feature set. None of our predictors have a VIF greater than 5 or 10, so <b>multicollinearity between our predictors does not seem to be an issue.</b>\n",
    "\n",
    "The way VIF works is that each variable becomes the target, with all other variables predicting it, and you get an R-Squared for each variable. So for example, if VIF for Sodium is 9, then 9 = 1/(1-R^2). R^2 for Sodium would be = .88."
   ]
  },
  {
   "cell_type": "markdown",
   "metadata": {},
   "source": [
    "___"
   ]
  },
  {
   "cell_type": "markdown",
   "metadata": {},
   "source": [
    "### 7. QQ-Plot check for normally distributed residuals"
   ]
  },
  {
   "cell_type": "code",
   "execution_count": 231,
   "metadata": {
    "scrolled": true
   },
   "outputs": [
    {
     "data": {
      "image/png": "[encoded data removed]",
      "text/plain": [
       "<Figure size 432x288 with 1 Axes>"
      ]
     },
     "metadata": {
      "needs_background": "light"
     },
     "output_type": "display_data"
    }
   ],
   "source": [
    "fig = sm.graphics.qqplot(results.resid, dist=stats.norm, line='45', fit=True)"
   ]
  },
  {
   "cell_type": "markdown",
   "metadata": {},
   "source": [
    "<b>Notes:</b>\n",
    "\n",
    "A Q-Q plot checks to ensure that our residuals are normally distributed. Theoretically, we would expect all \"blue dots\" which represents the residuals for our data, to be normally distributed, and would follow the red line in the plot perfectly. However, <b>our sample has a non-normal distribution of residuals</b> because it snakes around the red line, and then takes a sharp turn upwards towards higher sample quantile values of 10+, when theoretically, it should be around 2 or 3 at the same quantile."
   ]
  },
  {
   "cell_type": "markdown",
   "metadata": {},
   "source": [
    "___"
   ]
  },
  {
   "cell_type": "markdown",
   "metadata": {},
   "source": [
    "### 8. Ensure homoscedasticity by checking for heteroscedasticity"
   ]
  },
  {
   "cell_type": "markdown",
   "metadata": {},
   "source": [
    "#### Check for homoscedacity\n",
    "Need to check that errors do not display heteroscedasticity; if the errors appear to increase or decrease based on the target variable, then the model does not meet the initial assumptions. Scatterplot of residual quantity on the x-axis against standard deviation on the y-axis."
   ]
  },
  {
   "cell_type": "code",
   "execution_count": 232,
   "metadata": {
    "scrolled": true
   },
   "outputs": [
    {
     "data": {
      "image/png": "[encoded data removed]",
      "text/plain": [
       "<Figure size 432x288 with 1 Axes>"
      ]
     },
     "metadata": {
      "needs_background": "light"
     },
     "output_type": "display_data"
    }
   ],
   "source": [
    "plt.scatter(predictions, results.resid)\n",
    "plt.plot(predictions, [0 for i in range(len(x_train))], color = 'r')\n",
    "plt.show()"
   ]
  },
  {
   "cell_type": "markdown",
   "metadata": {},
   "source": [
    "### 9. Test OLS Model Against Test Data"
   ]
  },
  {
   "cell_type": "code",
   "execution_count": 233,
   "metadata": {},
   "outputs": [
    {
     "data": {
      "text/plain": [
       "(157, 35)"
      ]
     },
     "execution_count": 233,
     "metadata": {},
     "output_type": "execute_result"
    }
   ],
   "source": [
    "x_test.shape"
   ]
  },
  {
   "cell_type": "code",
   "execution_count": 234,
   "metadata": {},
   "outputs": [],
   "source": [
    "x_test = x_test[[  \n",
    "    'Sodium',\n",
    "    'Vitamin_K', \n",
    "    'Fiber', \n",
    "    'Vitamin_B5']]"
   ]
  },
  {
   "cell_type": "code",
   "execution_count": 235,
   "metadata": {},
   "outputs": [
    {
     "data": {
      "text/plain": [
       "262    10431.946363\n",
       "174     7433.740763\n",
       "278     5934.744579\n",
       "999     4750.924961\n",
       "908     8537.581024\n",
       "390     3498.236217\n",
       "372    37947.096234\n",
       "791     7003.167928\n",
       "345      164.192315\n",
       "296     7357.484288\n",
       "686      490.094210\n",
       "862      386.874300\n",
       "232    -6342.997561\n",
       "586     8056.343829\n",
       "327     2381.083767\n",
       "567     7572.313658\n",
       "168     5271.365578\n",
       "238     2891.487482\n",
       "507     1463.837447\n",
       "993    11175.988457\n",
       "733    -1063.093740\n",
       "743     7283.630901\n",
       "123    10727.460263\n",
       "306    21888.004590\n",
       "448      138.659753\n",
       "828     6628.188783\n",
       "632      228.696947\n",
       "700    10650.744310\n",
       "57      2572.273733\n",
       "143     2061.541783\n",
       "84      4042.992700\n",
       "827    13394.884236\n",
       "167     4833.180526\n",
       "749     9958.838707\n",
       "288    34716.014370\n",
       "519    18022.404062\n",
       "873    -2094.896239\n",
       "741   -18097.619720\n",
       "861     3530.060211\n",
       "837     6402.892614\n",
       "322    10686.069518\n",
       "78     23572.825362\n",
       "401     -552.383314\n",
       "848    22632.862479\n",
       "693     6965.361446\n",
       "428     3297.429631\n",
       "46     13000.461092\n",
       "119     2309.031926\n",
       "162    28300.175445\n",
       "930     3036.231497\n",
       "581     7628.737961\n",
       "670     8818.892145\n",
       "126    -4296.815992\n",
       "433     5731.275285\n",
       "594     3274.738430\n",
       "309    13228.100842\n",
       "847    10737.090322\n",
       "801     7948.587807\n",
       "570    11806.757523\n",
       "685    -4850.017401\n",
       "311    -4222.561268\n",
       "459      138.466568\n",
       "102     8314.794766\n",
       "503     8560.845973\n",
       "215     5248.793032\n",
       "882    14779.368827\n",
       "794    -1444.849002\n",
       "435     6395.376585\n",
       "56      4731.727943\n",
       "899      490.094210\n",
       "439     3741.487475\n",
       "757   -12445.614818\n",
       "767     9013.998182\n",
       "329    10422.029190\n",
       "118    17514.593365\n",
       "536     9004.946299\n",
       "906    -1818.173981\n",
       "731    11152.410813\n",
       "136    11311.971347\n",
       "121     9184.779572\n",
       "15      9819.809164\n",
       "926     1649.257811\n",
       "467    11723.339016\n",
       "921     6857.102705\n",
       "508     5707.031276\n",
       "64     -1369.251563\n",
       "782     5044.725894\n",
       "626      192.784400\n",
       "703     5688.718235\n",
       "606     6739.100789\n",
       "2      12693.624989\n",
       "596     5576.818588\n",
       "421       11.419588\n",
       "22      6079.610311\n",
       "192      856.826234\n",
       "962     7426.332342\n",
       "679      958.021536\n",
       "207     6987.347217\n",
       "752     4390.596091\n",
       "870     7081.467346\n",
       "833     2823.976369\n",
       "509     6384.321092\n",
       "831     3536.250496\n",
       "678     5961.071853\n",
       "272    -2324.312760\n",
       "944     6396.138376\n",
       "182     6601.935312\n",
       "341     5659.096340\n",
       "650    16906.951667\n",
       "625    15107.598780\n",
       "236   -11896.973245\n",
       "855      952.738313\n",
       "173     4624.248681\n",
       "689    11568.935300\n",
       "742     8923.538115\n",
       "271     -635.910451\n",
       "319     6683.171275\n",
       "677     5971.259971\n",
       "53      2370.398971\n",
       "623     2093.870889\n",
       "480     6364.748135\n",
       "132     5924.678407\n",
       "872     5322.997364\n",
       "793    -4311.033606\n",
       "505     3581.445291\n",
       "161      688.708531\n",
       "284    -1126.748840\n",
       "350     1750.706699\n",
       "466     3644.578597\n",
       "730    11460.323412\n",
       "995     8158.407825\n",
       "573     5816.378441\n",
       "209     7677.460736\n",
       "290     4600.281475\n",
       "352     6631.034750\n",
       "251    22163.752635\n",
       "14      7614.568259\n",
       "368    -2251.421655\n",
       "832     1941.502530\n",
       "915     1679.392841\n",
       "328      -56.962666\n",
       "489    19858.317754\n",
       "254      514.376128\n",
       "603     7117.742066\n",
       "36      6959.282042\n",
       "175     2266.129581\n",
       "188     2579.163520\n",
       "974      654.028030\n",
       "313     7221.250322\n",
       "621     4723.475887\n",
       "617      890.525350\n",
       "881     6438.839494\n",
       "406      -16.651401\n",
       "210    -3529.921195\n",
       "985     1540.877336\n",
       "667     5909.564140\n",
       "666     7588.025830\n",
       "dtype: float64"
      ]
     },
     "execution_count": 235,
     "metadata": {},
     "output_type": "execute_result"
    }
   ],
   "source": [
    "x_test = sm.add_constant(x_test)\n",
    "predictions_test = model.predict(x_test)\n",
    "predictions_test\n",
    "# train_score = predictions.score(x_train, y_train)\n",
    "# test_score = predictions_test.score(x_test, y_test)"
   ]
  },
  {
   "cell_type": "markdown",
   "metadata": {},
   "source": [
    "#### Graph of OLS Regression Model Against Test Data"
   ]
  },
  {
   "cell_type": "code",
   "execution_count": 236,
   "metadata": {},
   "outputs": [
    {
     "data": {
      "image/png": "[encoded data removed]",
      "text/plain": [
       "<Figure size 2160x720 with 1 Axes>"
      ]
     },
     "metadata": {
      "needs_background": "light"
     },
     "output_type": "display_data"
    }
   ],
   "source": [
    "fig, ax = plt.subplots()\n",
    "fig.set_size_inches(30,10)\n",
    "x_tr = np.linspace(-10, 20, len(x_train))\n",
    "x_te = np.linspace(-10, 20, len(x_test))\n",
    "ax.plot(x_tr, y_train, 'o', label=\"Train Data\")\n",
    "ax.plot(x_te, y_test, 'v', label=\"Test Data\")\n",
    "ax.plot(x_tr, predictions, 'b-', label=\"Train Pred\")\n",
    "ax.plot(x_te, predictions_test, 'r-', label=\"Test Pred\")\n",
    "plt.axis([-10,20,0,30000])\n",
    "# ax.plot(np.hstack((x1, x1n)), np.hstack((ypred, ynewpred)), 'r', label=\"OLS prediction\")\n",
    "ax.legend(loc=\"best\");"
   ]
  },
  {
   "cell_type": "markdown",
   "metadata": {},
   "source": [
    "___"
   ]
  },
  {
   "cell_type": "markdown",
   "metadata": {},
   "source": [
    "# Paleo Data"
   ]
  },
  {
   "cell_type": "markdown",
   "metadata": {},
   "source": [
    "### 4. Train / Test Split Data"
   ]
  },
  {
   "cell_type": "markdown",
   "metadata": {},
   "source": [
    "For train/test splits, as your dataset gets bigger and bigger, the split can lean more and more towards the \"train\" set. As your dataset gets really small (100 observations) then the split should be closer to 50/50 for train/test."
   ]
  },
  {
   "cell_type": "code",
   "execution_count": 237,
   "metadata": {},
   "outputs": [],
   "source": [
    "x_variables_1 = ['num_ingredients', \n",
    "              'pricePerServing', \n",
    "              'readyInMinutes', \n",
    "              'servings', \n",
    "              'weightWatcherSmartPoints', \n",
    "              'Calories', \n",
    "              'Fat', \n",
    "              'Saturated_Fat', \n",
    "              'Carbohydrates', \n",
    "              'Sugar', \n",
    "              'Cholesterol', \n",
    "              'Sodium', \n",
    "              'Protein', \n",
    "              'Vitamin_K', \n",
    "              'Vitamin_A', \n",
    "              'Vitamin_C', \n",
    "              'Manganese', \n",
    "              'Folate', \n",
    "              'Fiber', \n",
    "              'Copper', \n",
    "              'Magnesium', \n",
    "              'Phosphorus', \n",
    "              'Vitamin_B6', \n",
    "              'Potassium', \n",
    "              'Vitamin_B1', \n",
    "              'Iron', \n",
    "              'Vitamin_B2', \n",
    "              'Vitamin_E', \n",
    "              'Zinc', \n",
    "              'Vitamin_B5', \n",
    "              'Vitamin_B3', \n",
    "              'Calcium', \n",
    "              'Selenium', \n",
    "              'num_words_instructions', \n",
    "              'num_steps_instructions']"
   ]
  },
  {
   "cell_type": "code",
   "execution_count": 238,
   "metadata": {},
   "outputs": [],
   "source": [
    "predictors_paleo = paleo[x_variables_1]"
   ]
  },
  {
   "cell_type": "code",
   "execution_count": 239,
   "metadata": {},
   "outputs": [],
   "source": [
    "target = paleo['aggregateLikes']"
   ]
  },
  {
   "cell_type": "code",
   "execution_count": 240,
   "metadata": {},
   "outputs": [],
   "source": [
    "x_train, x_test, y_train, y_test = train_test_split(predictors_paleo, target, random_state = 2020, test_size = .25) "
   ]
  },
  {
   "cell_type": "markdown",
   "metadata": {},
   "source": [
    "___"
   ]
  },
  {
   "cell_type": "markdown",
   "metadata": {},
   "source": [
    "### 5. Run Regression 1, Fit, & Cull Non-Significant Predictors"
   ]
  },
  {
   "cell_type": "markdown",
   "metadata": {},
   "source": [
    "### Lasso Model"
   ]
  },
  {
   "cell_type": "code",
   "execution_count": 241,
   "metadata": {
    "scrolled": true
   },
   "outputs": [
    {
     "name": "stderr",
     "output_type": "stream",
     "text": [
      "/opt/anaconda3/lib/python3.7/site-packages/sklearn/linear_model/coordinate_descent.py:475: ConvergenceWarning: Objective did not converge. You might want to increase the number of iterations. Duality gap: 131997410.45825195, tolerance: 63790534.52389553\n",
      "  positive)\n"
     ]
    },
    {
     "data": {
      "text/plain": [
       "'lasso coefficients'"
      ]
     },
     "metadata": {},
     "output_type": "display_data"
    },
    {
     "data": {
      "text/plain": [
       "{'num_ingredients': -17434.02261293268,\n",
       " 'pricePerServing': 31101.046890132202,\n",
       " 'readyInMinutes': -725.8905062096619,\n",
       " 'servings': 11880.845771364966,\n",
       " 'weightWatcherSmartPoints': -30866.412963364925,\n",
       " 'Calories': 48483.83418363307,\n",
       " 'Fat': 28451.797650468547,\n",
       " 'Saturated_Fat': -22980.423418021797,\n",
       " 'Carbohydrates': -24699.45040852878,\n",
       " 'Sugar': 7475.607106664642,\n",
       " 'Cholesterol': 31343.157733082597,\n",
       " 'Sodium': 11452.404628626282,\n",
       " 'Protein': -8635.180773525663,\n",
       " 'Vitamin_K': -9038.542084653758,\n",
       " 'Vitamin_A': -3607.8875297882555,\n",
       " 'Vitamin_C': -3095.499716964563,\n",
       " 'Manganese': -10577.17683148077,\n",
       " 'Folate': -8469.848162139384,\n",
       " 'Fiber': -4557.990803753685,\n",
       " 'Copper': -3422.527770544169,\n",
       " 'Magnesium': 17974.155265060792,\n",
       " 'Phosphorus': -35197.11832924234,\n",
       " 'Vitamin_B6': 18963.95395544906,\n",
       " 'Potassium': -4420.144182074433,\n",
       " 'Vitamin_B1': 7839.029433481063,\n",
       " 'Iron': -26203.090403008177,\n",
       " 'Vitamin_B2': -7970.567227212416,\n",
       " 'Vitamin_E': -13785.847085277153,\n",
       " 'Zinc': 9241.29257946245,\n",
       " 'Vitamin_B5': -20289.830553421707,\n",
       " 'Vitamin_B3': 4160.596119477947,\n",
       " 'Calcium': 30131.279251529257,\n",
       " 'Selenium': -24148.01586347495,\n",
       " 'num_words_instructions': 4560.314543499252,\n",
       " 'num_steps_instructions': -2966.823276770074}"
      ]
     },
     "metadata": {},
     "output_type": "display_data"
    },
    {
     "data": {
      "text/plain": [
       "'lasso train score'"
      ]
     },
     "metadata": {},
     "output_type": "display_data"
    },
    {
     "data": {
      "text/plain": [
       "0.20264263237106783"
      ]
     },
     "metadata": {},
     "output_type": "display_data"
    },
    {
     "data": {
      "text/plain": [
       "'lasso test score'"
      ]
     },
     "metadata": {},
     "output_type": "display_data"
    },
    {
     "data": {
      "text/plain": [
       "-0.470972503211474"
      ]
     },
     "metadata": {},
     "output_type": "display_data"
    }
   ],
   "source": [
    "lasso = Lasso(alpha = 0.05, max_iter=10000)\n",
    "lasso.fit(x_train, y_train)\n",
    "# sample_models['lasso'] = lasso\n",
    "# y_lasso_test.append(lasso.score(X_test, y_test))\n",
    "\n",
    "lasso_coefficients = dict(zip(x_variables, list(lasso.coef_)))\n",
    "display('lasso coefficients')\n",
    "display(lasso_coefficients)\n",
    "\n",
    "display('lasso train score')\n",
    "display(lasso.score(x_train, y_train))\n",
    "\n",
    "display('lasso test score')\n",
    "display(lasso.score(x_test, y_test))"
   ]
  },
  {
   "cell_type": "markdown",
   "metadata": {},
   "source": [
    "### Ridge Model"
   ]
  },
  {
   "cell_type": "code",
   "execution_count": 242,
   "metadata": {
    "scrolled": true
   },
   "outputs": [
    {
     "data": {
      "text/plain": [
       "'ridge coefficients'"
      ]
     },
     "metadata": {},
     "output_type": "display_data"
    },
    {
     "data": {
      "text/plain": [
       "{'num_ingredients': -17388.49686981861,\n",
       " 'pricePerServing': 30743.998363855957,\n",
       " 'readyInMinutes': -749.0243584373317,\n",
       " 'servings': 11947.781620336336,\n",
       " 'weightWatcherSmartPoints': -29758.515411818124,\n",
       " 'Calories': 34698.13206822384,\n",
       " 'Fat': 35668.33272285386,\n",
       " 'Saturated_Fat': -22583.617076972685,\n",
       " 'Carbohydrates': -18127.404837372134,\n",
       " 'Sugar': 7328.927562918109,\n",
       " 'Cholesterol': 30237.038901241503,\n",
       " 'Sodium': 11378.494870461567,\n",
       " 'Protein': -3960.036273268489,\n",
       " 'Vitamin_K': -8717.159335420338,\n",
       " 'Vitamin_A': -3499.6422928589377,\n",
       " 'Vitamin_C': -2990.9001679947924,\n",
       " 'Manganese': -10104.40472631704,\n",
       " 'Folate': -8497.338782884628,\n",
       " 'Fiber': -4388.155377354732,\n",
       " 'Copper': -3359.7714875536585,\n",
       " 'Magnesium': 17339.852969580166,\n",
       " 'Phosphorus': -34390.81319194039,\n",
       " 'Vitamin_B6': 18877.15896791526,\n",
       " 'Potassium': -4445.351674898595,\n",
       " 'Vitamin_B1': 8294.653469957326,\n",
       " 'Iron': -25333.56348024318,\n",
       " 'Vitamin_B2': -7190.88463759707,\n",
       " 'Vitamin_E': -13704.063408992906,\n",
       " 'Zinc': 7980.31378890386,\n",
       " 'Vitamin_B5': -20603.05925266203,\n",
       " 'Vitamin_B3': 4375.580606046114,\n",
       " 'Calcium': 28221.82718135571,\n",
       " 'Selenium': -23969.691990694817,\n",
       " 'num_words_instructions': 4589.692281489536,\n",
       " 'num_steps_instructions': -2800.5009099330414}"
      ]
     },
     "metadata": {},
     "output_type": "display_data"
    },
    {
     "data": {
      "text/plain": [
       "'lasso train score'"
      ]
     },
     "metadata": {},
     "output_type": "display_data"
    },
    {
     "data": {
      "text/plain": [
       "0.20259672912335358"
      ]
     },
     "metadata": {},
     "output_type": "display_data"
    },
    {
     "data": {
      "text/plain": [
       "'lasso test score'"
      ]
     },
     "metadata": {},
     "output_type": "display_data"
    },
    {
     "data": {
      "text/plain": [
       "-0.4571492414753249"
      ]
     },
     "metadata": {},
     "output_type": "display_data"
    }
   ],
   "source": [
    "ridge = Ridge(alpha = .05, max_iter= 10000)\n",
    "ridge.fit(x_train, y_train)\n",
    "\n",
    "ridge_coefficients = dict(zip(x_variables, list(ridge.coef_)))\n",
    "display('ridge coefficients')\n",
    "display(ridge_coefficients)\n",
    "\n",
    "display('ridge train score')\n",
    "display(ridge.score(x_train, y_train))\n",
    "\n",
    "display('ridge test score')\n",
    "display(ridge.score(x_test, y_test))"
   ]
  },
  {
   "cell_type": "markdown",
   "metadata": {},
   "source": [
    "### OLS Model"
   ]
  },
  {
   "cell_type": "markdown",
   "metadata": {},
   "source": [
    "#### Regression 1 - fit to model, check for p-values less than 0.3"
   ]
  },
  {
   "cell_type": "code",
   "execution_count": 243,
   "metadata": {
    "scrolled": true
   },
   "outputs": [
    {
     "name": "stderr",
     "output_type": "stream",
     "text": [
      "/opt/anaconda3/lib/python3.7/site-packages/numpy/core/fromnumeric.py:2495: FutureWarning: Method .ptp is deprecated and will be removed in a future version. Use numpy.ptp instead.\n",
      "  return ptp(axis=axis, out=out, **kwargs)\n"
     ]
    },
    {
     "data": {
      "text/html": [
       "<table class=\"simpletable\">\n",
       "<caption>OLS Regression Results</caption>\n",
       "<tr>\n",
       "  <th>Dep. Variable:</th>     <td>aggregateLikes</td>  <th>  R-squared:         </th> <td>   0.203</td>\n",
       "</tr>\n",
       "<tr>\n",
       "  <th>Model:</th>                   <td>OLS</td>       <th>  Adj. R-squared:    </th> <td>  -0.082</td>\n",
       "</tr>\n",
       "<tr>\n",
       "  <th>Method:</th>             <td>Least Squares</td>  <th>  F-statistic:       </th> <td>  0.7116</td>\n",
       "</tr>\n",
       "<tr>\n",
       "  <th>Date:</th>             <td>Tue, 21 Jan 2020</td> <th>  Prob (F-statistic):</th>  <td> 0.873</td> \n",
       "</tr>\n",
       "<tr>\n",
       "  <th>Time:</th>                 <td>16:40:36</td>     <th>  Log-Likelihood:    </th> <td> -1668.0</td>\n",
       "</tr>\n",
       "<tr>\n",
       "  <th>No. Observations:</th>      <td>   134</td>      <th>  AIC:               </th> <td>   3408.</td>\n",
       "</tr>\n",
       "<tr>\n",
       "  <th>Df Residuals:</th>          <td>    98</td>      <th>  BIC:               </th> <td>   3512.</td>\n",
       "</tr>\n",
       "<tr>\n",
       "  <th>Df Model:</th>              <td>    35</td>      <th>                     </th>     <td> </td>   \n",
       "</tr>\n",
       "<tr>\n",
       "  <th>Covariance Type:</th>      <td>nonrobust</td>    <th>                     </th>     <td> </td>   \n",
       "</tr>\n",
       "</table>\n",
       "<table class=\"simpletable\">\n",
       "<tr>\n",
       "              <td></td>                <th>coef</th>     <th>std err</th>      <th>t</th>      <th>P>|t|</th>  <th>[0.025</th>    <th>0.975]</th>  \n",
       "</tr>\n",
       "<tr>\n",
       "  <th>const</th>                    <td>-1.315e+04</td> <td> 3.54e+04</td> <td>   -0.372</td> <td> 0.711</td> <td>-8.33e+04</td> <td>  5.7e+04</td>\n",
       "</tr>\n",
       "<tr>\n",
       "  <th>num_ingredients</th>          <td>-1.743e+04</td> <td> 1.08e+04</td> <td>   -1.616</td> <td> 0.109</td> <td>-3.88e+04</td> <td> 3980.610</td>\n",
       "</tr>\n",
       "<tr>\n",
       "  <th>pricePerServing</th>          <td>  3.11e+04</td> <td> 1.65e+04</td> <td>    1.887</td> <td> 0.062</td> <td>-1599.534</td> <td> 6.38e+04</td>\n",
       "</tr>\n",
       "<tr>\n",
       "  <th>readyInMinutes</th>           <td> -725.7805</td> <td> 6125.739</td> <td>   -0.118</td> <td> 0.906</td> <td>-1.29e+04</td> <td> 1.14e+04</td>\n",
       "</tr>\n",
       "<tr>\n",
       "  <th>servings</th>                 <td> 1.188e+04</td> <td> 1.36e+04</td> <td>    0.872</td> <td> 0.385</td> <td>-1.51e+04</td> <td> 3.89e+04</td>\n",
       "</tr>\n",
       "<tr>\n",
       "  <th>weightWatcherSmartPoints</th> <td>-3.087e+04</td> <td> 4.61e+04</td> <td>   -0.670</td> <td> 0.504</td> <td>-1.22e+05</td> <td> 6.06e+04</td>\n",
       "</tr>\n",
       "<tr>\n",
       "  <th>Calories</th>                 <td> 4.856e+04</td> <td>  2.4e+05</td> <td>    0.203</td> <td> 0.840</td> <td>-4.27e+05</td> <td> 5.24e+05</td>\n",
       "</tr>\n",
       "<tr>\n",
       "  <th>Fat</th>                      <td> 2.841e+04</td> <td> 1.49e+05</td> <td>    0.191</td> <td> 0.849</td> <td>-2.67e+05</td> <td> 3.24e+05</td>\n",
       "</tr>\n",
       "<tr>\n",
       "  <th>Saturated_Fat</th>            <td>-2.298e+04</td> <td> 2.86e+04</td> <td>   -0.803</td> <td> 0.424</td> <td>-7.98e+04</td> <td> 3.38e+04</td>\n",
       "</tr>\n",
       "<tr>\n",
       "  <th>Carbohydrates</th>            <td>-2.474e+04</td> <td>  1.2e+05</td> <td>   -0.207</td> <td> 0.836</td> <td>-2.62e+05</td> <td> 2.12e+05</td>\n",
       "</tr>\n",
       "<tr>\n",
       "  <th>Sugar</th>                    <td> 7477.1035</td> <td> 2.08e+04</td> <td>    0.360</td> <td> 0.720</td> <td>-3.38e+04</td> <td> 4.87e+04</td>\n",
       "</tr>\n",
       "<tr>\n",
       "  <th>Cholesterol</th>              <td> 3.135e+04</td> <td> 6.47e+04</td> <td>    0.485</td> <td> 0.629</td> <td> -9.7e+04</td> <td>  1.6e+05</td>\n",
       "</tr>\n",
       "<tr>\n",
       "  <th>Sodium</th>                   <td> 1.145e+04</td> <td> 1.56e+04</td> <td>    0.736</td> <td> 0.464</td> <td>-1.94e+04</td> <td> 4.24e+04</td>\n",
       "</tr>\n",
       "<tr>\n",
       "  <th>Protein</th>                  <td>-8672.1095</td> <td> 1.08e+05</td> <td>   -0.081</td> <td> 0.936</td> <td>-2.22e+05</td> <td> 2.05e+05</td>\n",
       "</tr>\n",
       "<tr>\n",
       "  <th>Vitamin_K</th>                <td>-9040.7106</td> <td> 1.19e+04</td> <td>   -0.763</td> <td> 0.448</td> <td>-3.26e+04</td> <td> 1.45e+04</td>\n",
       "</tr>\n",
       "<tr>\n",
       "  <th>Vitamin_A</th>                <td>-3608.5797</td> <td> 8850.479</td> <td>   -0.408</td> <td> 0.684</td> <td>-2.12e+04</td> <td>  1.4e+04</td>\n",
       "</tr>\n",
       "<tr>\n",
       "  <th>Vitamin_C</th>                <td>-3095.6832</td> <td>  1.7e+04</td> <td>   -0.182</td> <td> 0.856</td> <td>-3.68e+04</td> <td> 3.06e+04</td>\n",
       "</tr>\n",
       "<tr>\n",
       "  <th>Manganese</th>                <td>-1.058e+04</td> <td> 1.97e+04</td> <td>   -0.538</td> <td> 0.592</td> <td>-4.96e+04</td> <td> 2.85e+04</td>\n",
       "</tr>\n",
       "<tr>\n",
       "  <th>Folate</th>                   <td>-8469.1574</td> <td> 1.73e+04</td> <td>   -0.490</td> <td> 0.625</td> <td>-4.28e+04</td> <td> 2.58e+04</td>\n",
       "</tr>\n",
       "<tr>\n",
       "  <th>Fiber</th>                    <td>-4558.2875</td> <td> 2.22e+04</td> <td>   -0.205</td> <td> 0.838</td> <td>-4.86e+04</td> <td> 3.95e+04</td>\n",
       "</tr>\n",
       "<tr>\n",
       "  <th>Copper</th>                   <td>-3422.9422</td> <td> 6613.318</td> <td>   -0.518</td> <td> 0.606</td> <td>-1.65e+04</td> <td> 9700.972</td>\n",
       "</tr>\n",
       "<tr>\n",
       "  <th>Magnesium</th>                <td> 1.798e+04</td> <td> 3.66e+04</td> <td>    0.491</td> <td> 0.624</td> <td>-5.47e+04</td> <td> 9.06e+04</td>\n",
       "</tr>\n",
       "<tr>\n",
       "  <th>Phosphorus</th>               <td> -3.52e+04</td> <td> 5.13e+04</td> <td>   -0.686</td> <td> 0.494</td> <td>-1.37e+05</td> <td> 6.66e+04</td>\n",
       "</tr>\n",
       "<tr>\n",
       "  <th>Vitamin_B6</th>               <td> 1.897e+04</td> <td> 4.23e+04</td> <td>    0.448</td> <td> 0.655</td> <td> -6.5e+04</td> <td> 1.03e+05</td>\n",
       "</tr>\n",
       "<tr>\n",
       "  <th>Potassium</th>                <td>-4421.5507</td> <td>    3e+04</td> <td>   -0.147</td> <td> 0.883</td> <td>-6.39e+04</td> <td> 5.51e+04</td>\n",
       "</tr>\n",
       "<tr>\n",
       "  <th>Vitamin_B1</th>               <td> 7835.4587</td> <td> 4.11e+04</td> <td>    0.191</td> <td> 0.849</td> <td>-7.38e+04</td> <td> 8.95e+04</td>\n",
       "</tr>\n",
       "<tr>\n",
       "  <th>Iron</th>                     <td>-2.621e+04</td> <td> 5.77e+04</td> <td>   -0.455</td> <td> 0.650</td> <td>-1.41e+05</td> <td> 8.82e+04</td>\n",
       "</tr>\n",
       "<tr>\n",
       "  <th>Vitamin_B2</th>               <td>-7976.2590</td> <td> 3.06e+04</td> <td>   -0.261</td> <td> 0.795</td> <td>-6.87e+04</td> <td> 5.27e+04</td>\n",
       "</tr>\n",
       "<tr>\n",
       "  <th>Vitamin_E</th>                <td>-1.379e+04</td> <td> 1.83e+04</td> <td>   -0.755</td> <td> 0.452</td> <td>   -5e+04</td> <td> 2.25e+04</td>\n",
       "</tr>\n",
       "<tr>\n",
       "  <th>Zinc</th>                     <td> 9248.3216</td> <td>    4e+04</td> <td>    0.231</td> <td> 0.818</td> <td>-7.01e+04</td> <td> 8.86e+04</td>\n",
       "</tr>\n",
       "<tr>\n",
       "  <th>Vitamin_B5</th>               <td>-2.029e+04</td> <td> 3.69e+04</td> <td>   -0.550</td> <td> 0.583</td> <td>-9.34e+04</td> <td> 5.29e+04</td>\n",
       "</tr>\n",
       "<tr>\n",
       "  <th>Vitamin_B3</th>               <td> 4163.1805</td> <td> 4.97e+04</td> <td>    0.084</td> <td> 0.933</td> <td>-9.44e+04</td> <td> 1.03e+05</td>\n",
       "</tr>\n",
       "<tr>\n",
       "  <th>Calcium</th>                  <td> 3.014e+04</td> <td> 4.15e+04</td> <td>    0.726</td> <td> 0.470</td> <td>-5.23e+04</td> <td> 1.13e+05</td>\n",
       "</tr>\n",
       "<tr>\n",
       "  <th>Selenium</th>                 <td>-2.415e+04</td> <td> 2.88e+04</td> <td>   -0.837</td> <td> 0.405</td> <td>-8.14e+04</td> <td> 3.31e+04</td>\n",
       "</tr>\n",
       "<tr>\n",
       "  <th>num_words_instructions</th>   <td> 4560.1106</td> <td> 1.03e+04</td> <td>    0.444</td> <td> 0.658</td> <td>-1.58e+04</td> <td> 2.49e+04</td>\n",
       "</tr>\n",
       "<tr>\n",
       "  <th>num_steps_instructions</th>   <td>-2967.9817</td> <td> 1.55e+04</td> <td>   -0.192</td> <td> 0.848</td> <td>-3.36e+04</td> <td> 2.77e+04</td>\n",
       "</tr>\n",
       "</table>\n",
       "<table class=\"simpletable\">\n",
       "<tr>\n",
       "  <th>Omnibus:</th>       <td>234.212</td> <th>  Durbin-Watson:     </th> <td>   2.183</td> \n",
       "</tr>\n",
       "<tr>\n",
       "  <th>Prob(Omnibus):</th> <td> 0.000</td>  <th>  Jarque-Bera (JB):  </th> <td>32963.991</td>\n",
       "</tr>\n",
       "<tr>\n",
       "  <th>Skew:</th>          <td> 7.653</td>  <th>  Prob(JB):          </th> <td>    0.00</td> \n",
       "</tr>\n",
       "<tr>\n",
       "  <th>Kurtosis:</th>      <td>78.298</td>  <th>  Cond. No.          </th> <td>    178.</td> \n",
       "</tr>\n",
       "</table><br/><br/>Warnings:<br/>[1] Standard Errors assume that the covariance matrix of the errors is correctly specified."
      ],
      "text/plain": [
       "<class 'statsmodels.iolib.summary.Summary'>\n",
       "\"\"\"\n",
       "                            OLS Regression Results                            \n",
       "==============================================================================\n",
       "Dep. Variable:         aggregateLikes   R-squared:                       0.203\n",
       "Model:                            OLS   Adj. R-squared:                 -0.082\n",
       "Method:                 Least Squares   F-statistic:                    0.7116\n",
       "Date:                Tue, 21 Jan 2020   Prob (F-statistic):              0.873\n",
       "Time:                        16:40:36   Log-Likelihood:                -1668.0\n",
       "No. Observations:                 134   AIC:                             3408.\n",
       "Df Residuals:                      98   BIC:                             3512.\n",
       "Df Model:                          35                                         \n",
       "Covariance Type:            nonrobust                                         \n",
       "============================================================================================\n",
       "                               coef    std err          t      P>|t|      [0.025      0.975]\n",
       "--------------------------------------------------------------------------------------------\n",
       "const                    -1.315e+04   3.54e+04     -0.372      0.711   -8.33e+04     5.7e+04\n",
       "num_ingredients          -1.743e+04   1.08e+04     -1.616      0.109   -3.88e+04    3980.610\n",
       "pricePerServing            3.11e+04   1.65e+04      1.887      0.062   -1599.534    6.38e+04\n",
       "readyInMinutes            -725.7805   6125.739     -0.118      0.906   -1.29e+04    1.14e+04\n",
       "servings                  1.188e+04   1.36e+04      0.872      0.385   -1.51e+04    3.89e+04\n",
       "weightWatcherSmartPoints -3.087e+04   4.61e+04     -0.670      0.504   -1.22e+05    6.06e+04\n",
       "Calories                  4.856e+04    2.4e+05      0.203      0.840   -4.27e+05    5.24e+05\n",
       "Fat                       2.841e+04   1.49e+05      0.191      0.849   -2.67e+05    3.24e+05\n",
       "Saturated_Fat            -2.298e+04   2.86e+04     -0.803      0.424   -7.98e+04    3.38e+04\n",
       "Carbohydrates            -2.474e+04    1.2e+05     -0.207      0.836   -2.62e+05    2.12e+05\n",
       "Sugar                     7477.1035   2.08e+04      0.360      0.720   -3.38e+04    4.87e+04\n",
       "Cholesterol               3.135e+04   6.47e+04      0.485      0.629    -9.7e+04     1.6e+05\n",
       "Sodium                    1.145e+04   1.56e+04      0.736      0.464   -1.94e+04    4.24e+04\n",
       "Protein                  -8672.1095   1.08e+05     -0.081      0.936   -2.22e+05    2.05e+05\n",
       "Vitamin_K                -9040.7106   1.19e+04     -0.763      0.448   -3.26e+04    1.45e+04\n",
       "Vitamin_A                -3608.5797   8850.479     -0.408      0.684   -2.12e+04     1.4e+04\n",
       "Vitamin_C                -3095.6832    1.7e+04     -0.182      0.856   -3.68e+04    3.06e+04\n",
       "Manganese                -1.058e+04   1.97e+04     -0.538      0.592   -4.96e+04    2.85e+04\n",
       "Folate                   -8469.1574   1.73e+04     -0.490      0.625   -4.28e+04    2.58e+04\n",
       "Fiber                    -4558.2875   2.22e+04     -0.205      0.838   -4.86e+04    3.95e+04\n",
       "Copper                   -3422.9422   6613.318     -0.518      0.606   -1.65e+04    9700.972\n",
       "Magnesium                 1.798e+04   3.66e+04      0.491      0.624   -5.47e+04    9.06e+04\n",
       "Phosphorus                -3.52e+04   5.13e+04     -0.686      0.494   -1.37e+05    6.66e+04\n",
       "Vitamin_B6                1.897e+04   4.23e+04      0.448      0.655    -6.5e+04    1.03e+05\n",
       "Potassium                -4421.5507      3e+04     -0.147      0.883   -6.39e+04    5.51e+04\n",
       "Vitamin_B1                7835.4587   4.11e+04      0.191      0.849   -7.38e+04    8.95e+04\n",
       "Iron                     -2.621e+04   5.77e+04     -0.455      0.650   -1.41e+05    8.82e+04\n",
       "Vitamin_B2               -7976.2590   3.06e+04     -0.261      0.795   -6.87e+04    5.27e+04\n",
       "Vitamin_E                -1.379e+04   1.83e+04     -0.755      0.452      -5e+04    2.25e+04\n",
       "Zinc                      9248.3216      4e+04      0.231      0.818   -7.01e+04    8.86e+04\n",
       "Vitamin_B5               -2.029e+04   3.69e+04     -0.550      0.583   -9.34e+04    5.29e+04\n",
       "Vitamin_B3                4163.1805   4.97e+04      0.084      0.933   -9.44e+04    1.03e+05\n",
       "Calcium                   3.014e+04   4.15e+04      0.726      0.470   -5.23e+04    1.13e+05\n",
       "Selenium                 -2.415e+04   2.88e+04     -0.837      0.405   -8.14e+04    3.31e+04\n",
       "num_words_instructions    4560.1106   1.03e+04      0.444      0.658   -1.58e+04    2.49e+04\n",
       "num_steps_instructions   -2967.9817   1.55e+04     -0.192      0.848   -3.36e+04    2.77e+04\n",
       "==============================================================================\n",
       "Omnibus:                      234.212   Durbin-Watson:                   2.183\n",
       "Prob(Omnibus):                  0.000   Jarque-Bera (JB):            32963.991\n",
       "Skew:                           7.653   Prob(JB):                         0.00\n",
       "Kurtosis:                      78.298   Cond. No.                         178.\n",
       "==============================================================================\n",
       "\n",
       "Warnings:\n",
       "[1] Standard Errors assume that the covariance matrix of the errors is correctly specified.\n",
       "\"\"\""
      ]
     },
     "execution_count": 243,
     "metadata": {},
     "output_type": "execute_result"
    }
   ],
   "source": [
    "x = x_train #predictor variables\n",
    "y = y_train #target variable\n",
    "x = sm.add_constant(x) #add (1) as the constant since we are using statsmodels\n",
    "model = sm.OLS(y, x).fit() #assign to the x and y variables with constant to the sm.OLS() function and fit the data\n",
    "predictions = model.predict(x)#assign the result of the OLS to predict the data\n",
    "model.summary()#show the summary"
   ]
  },
  {
   "cell_type": "markdown",
   "metadata": {},
   "source": [
    "<b>Notes:</b> \n",
    "\n",
    "Keep num_ingredients and pricePerServing - these are the only 2 variables with a p-value of less than 0.3."
   ]
  },
  {
   "cell_type": "markdown",
   "metadata": {},
   "source": [
    "#### Regression 2 - fit to model, check for p-values less than 0.05"
   ]
  },
  {
   "cell_type": "code",
   "execution_count": 245,
   "metadata": {},
   "outputs": [],
   "source": [
    "x_train = x_train[['num_ingredients', 'pricePerServing']]"
   ]
  },
  {
   "cell_type": "code",
   "execution_count": 246,
   "metadata": {
    "scrolled": false
   },
   "outputs": [
    {
     "data": {
      "text/html": [
       "<table class=\"simpletable\">\n",
       "<caption>OLS Regression Results</caption>\n",
       "<tr>\n",
       "  <th>Dep. Variable:</th>     <td>aggregateLikes</td>  <th>  R-squared:         </th> <td>   0.084</td>\n",
       "</tr>\n",
       "<tr>\n",
       "  <th>Model:</th>                   <td>OLS</td>       <th>  Adj. R-squared:    </th> <td>   0.070</td>\n",
       "</tr>\n",
       "<tr>\n",
       "  <th>Method:</th>             <td>Least Squares</td>  <th>  F-statistic:       </th> <td>   6.039</td>\n",
       "</tr>\n",
       "<tr>\n",
       "  <th>Date:</th>             <td>Tue, 21 Jan 2020</td> <th>  Prob (F-statistic):</th>  <td>0.00310</td>\n",
       "</tr>\n",
       "<tr>\n",
       "  <th>Time:</th>                 <td>16:45:42</td>     <th>  Log-Likelihood:    </th> <td> -1677.2</td>\n",
       "</tr>\n",
       "<tr>\n",
       "  <th>No. Observations:</th>      <td>   134</td>      <th>  AIC:               </th> <td>   3360.</td>\n",
       "</tr>\n",
       "<tr>\n",
       "  <th>Df Residuals:</th>          <td>   131</td>      <th>  BIC:               </th> <td>   3369.</td>\n",
       "</tr>\n",
       "<tr>\n",
       "  <th>Df Model:</th>              <td>     2</td>      <th>                     </th>     <td> </td>   \n",
       "</tr>\n",
       "<tr>\n",
       "  <th>Covariance Type:</th>      <td>nonrobust</td>    <th>                     </th>     <td> </td>   \n",
       "</tr>\n",
       "</table>\n",
       "<table class=\"simpletable\">\n",
       "<tr>\n",
       "         <td></td>            <th>coef</th>     <th>std err</th>      <th>t</th>      <th>P>|t|</th>  <th>[0.025</th>    <th>0.975]</th>  \n",
       "</tr>\n",
       "<tr>\n",
       "  <th>const</th>           <td> 4494.7133</td> <td> 7153.959</td> <td>    0.628</td> <td> 0.531</td> <td>-9657.523</td> <td> 1.86e+04</td>\n",
       "</tr>\n",
       "<tr>\n",
       "  <th>num_ingredients</th> <td>-9032.9678</td> <td> 7631.652</td> <td>   -1.184</td> <td> 0.239</td> <td>-2.41e+04</td> <td> 6064.260</td>\n",
       "</tr>\n",
       "<tr>\n",
       "  <th>pricePerServing</th> <td>  1.89e+04</td> <td> 5442.495</td> <td>    3.473</td> <td> 0.001</td> <td> 8133.981</td> <td> 2.97e+04</td>\n",
       "</tr>\n",
       "</table>\n",
       "<table class=\"simpletable\">\n",
       "<tr>\n",
       "  <th>Omnibus:</th>       <td>254.062</td> <th>  Durbin-Watson:     </th> <td>   2.041</td> \n",
       "</tr>\n",
       "<tr>\n",
       "  <th>Prob(Omnibus):</th> <td> 0.000</td>  <th>  Jarque-Bera (JB):  </th> <td>46726.486</td>\n",
       "</tr>\n",
       "<tr>\n",
       "  <th>Skew:</th>          <td> 8.882</td>  <th>  Prob(JB):          </th> <td>    0.00</td> \n",
       "</tr>\n",
       "<tr>\n",
       "  <th>Kurtosis:</th>      <td>92.740</td>  <th>  Cond. No.          </th> <td>    2.03</td> \n",
       "</tr>\n",
       "</table><br/><br/>Warnings:<br/>[1] Standard Errors assume that the covariance matrix of the errors is correctly specified."
      ],
      "text/plain": [
       "<class 'statsmodels.iolib.summary.Summary'>\n",
       "\"\"\"\n",
       "                            OLS Regression Results                            \n",
       "==============================================================================\n",
       "Dep. Variable:         aggregateLikes   R-squared:                       0.084\n",
       "Model:                            OLS   Adj. R-squared:                  0.070\n",
       "Method:                 Least Squares   F-statistic:                     6.039\n",
       "Date:                Tue, 21 Jan 2020   Prob (F-statistic):            0.00310\n",
       "Time:                        16:45:42   Log-Likelihood:                -1677.2\n",
       "No. Observations:                 134   AIC:                             3360.\n",
       "Df Residuals:                     131   BIC:                             3369.\n",
       "Df Model:                           2                                         \n",
       "Covariance Type:            nonrobust                                         \n",
       "===================================================================================\n",
       "                      coef    std err          t      P>|t|      [0.025      0.975]\n",
       "-----------------------------------------------------------------------------------\n",
       "const            4494.7133   7153.959      0.628      0.531   -9657.523    1.86e+04\n",
       "num_ingredients -9032.9678   7631.652     -1.184      0.239   -2.41e+04    6064.260\n",
       "pricePerServing   1.89e+04   5442.495      3.473      0.001    8133.981    2.97e+04\n",
       "==============================================================================\n",
       "Omnibus:                      254.062   Durbin-Watson:                   2.041\n",
       "Prob(Omnibus):                  0.000   Jarque-Bera (JB):            46726.486\n",
       "Skew:                           8.882   Prob(JB):                         0.00\n",
       "Kurtosis:                      92.740   Cond. No.                         2.03\n",
       "==============================================================================\n",
       "\n",
       "Warnings:\n",
       "[1] Standard Errors assume that the covariance matrix of the errors is correctly specified.\n",
       "\"\"\""
      ]
     },
     "execution_count": 246,
     "metadata": {},
     "output_type": "execute_result"
    }
   ],
   "source": [
    "x = x_train #predictor variables\n",
    "y = y_train #target variable\n",
    "x = sm.add_constant(x) #add (1) as the constant since we are using statsmodels\n",
    "model = sm.OLS(y, x).fit() #assign to the x and y variables with constant to the sm.OLS() function and fit the data\n",
    "predictions = model.predict(x)#assign the result of the OLS to predict the data\n",
    "model.summary()#show the summary"
   ]
  },
  {
   "cell_type": "markdown",
   "metadata": {},
   "source": [
    "<b>Notes:</b> \n",
    "\n",
    "Keep only pricePerServing - this is the only variables with a p-value of less than 0.3."
   ]
  },
  {
   "cell_type": "markdown",
   "metadata": {},
   "source": [
    "#### Regression 3 - fit to model, check for p-values less than 0.05"
   ]
  },
  {
   "cell_type": "code",
   "execution_count": 248,
   "metadata": {},
   "outputs": [],
   "source": [
    "x_train = x_train[['pricePerServing']]"
   ]
  },
  {
   "cell_type": "code",
   "execution_count": 249,
   "metadata": {
    "scrolled": true
   },
   "outputs": [
    {
     "data": {
      "text/html": [
       "<table class=\"simpletable\">\n",
       "<caption>OLS Regression Results</caption>\n",
       "<tr>\n",
       "  <th>Dep. Variable:</th>     <td>aggregateLikes</td>  <th>  R-squared:         </th> <td>   0.075</td>\n",
       "</tr>\n",
       "<tr>\n",
       "  <th>Model:</th>                   <td>OLS</td>       <th>  Adj. R-squared:    </th> <td>   0.068</td>\n",
       "</tr>\n",
       "<tr>\n",
       "  <th>Method:</th>             <td>Least Squares</td>  <th>  F-statistic:       </th> <td>   10.64</td>\n",
       "</tr>\n",
       "<tr>\n",
       "  <th>Date:</th>             <td>Tue, 21 Jan 2020</td> <th>  Prob (F-statistic):</th>  <td>0.00141</td>\n",
       "</tr>\n",
       "<tr>\n",
       "  <th>Time:</th>                 <td>16:48:05</td>     <th>  Log-Likelihood:    </th> <td> -1677.9</td>\n",
       "</tr>\n",
       "<tr>\n",
       "  <th>No. Observations:</th>      <td>   134</td>      <th>  AIC:               </th> <td>   3360.</td>\n",
       "</tr>\n",
       "<tr>\n",
       "  <th>Df Residuals:</th>          <td>   132</td>      <th>  BIC:               </th> <td>   3366.</td>\n",
       "</tr>\n",
       "<tr>\n",
       "  <th>Df Model:</th>              <td>     1</td>      <th>                     </th>     <td> </td>   \n",
       "</tr>\n",
       "<tr>\n",
       "  <th>Covariance Type:</th>      <td>nonrobust</td>    <th>                     </th>     <td> </td>   \n",
       "</tr>\n",
       "</table>\n",
       "<table class=\"simpletable\">\n",
       "<tr>\n",
       "         <td></td>            <th>coef</th>     <th>std err</th>      <th>t</th>      <th>P>|t|</th>  <th>[0.025</th>    <th>0.975]</th>  \n",
       "</tr>\n",
       "<tr>\n",
       "  <th>const</th>           <td> 9466.7294</td> <td> 5799.585</td> <td>    1.632</td> <td> 0.105</td> <td>-2005.423</td> <td> 2.09e+04</td>\n",
       "</tr>\n",
       "<tr>\n",
       "  <th>pricePerServing</th> <td> 1.694e+04</td> <td> 5191.609</td> <td>    3.263</td> <td> 0.001</td> <td> 6668.362</td> <td> 2.72e+04</td>\n",
       "</tr>\n",
       "</table>\n",
       "<table class=\"simpletable\">\n",
       "<tr>\n",
       "  <th>Omnibus:</th>       <td>256.150</td> <th>  Durbin-Watson:     </th> <td>   2.065</td> \n",
       "</tr>\n",
       "<tr>\n",
       "  <th>Prob(Omnibus):</th> <td> 0.000</td>  <th>  Jarque-Bera (JB):  </th> <td>48595.134</td>\n",
       "</tr>\n",
       "<tr>\n",
       "  <th>Skew:</th>          <td> 9.017</td>  <th>  Prob(JB):          </th> <td>    0.00</td> \n",
       "</tr>\n",
       "<tr>\n",
       "  <th>Kurtosis:</th>      <td>94.533</td>  <th>  Cond. No.          </th> <td>    1.15</td> \n",
       "</tr>\n",
       "</table><br/><br/>Warnings:<br/>[1] Standard Errors assume that the covariance matrix of the errors is correctly specified."
      ],
      "text/plain": [
       "<class 'statsmodels.iolib.summary.Summary'>\n",
       "\"\"\"\n",
       "                            OLS Regression Results                            \n",
       "==============================================================================\n",
       "Dep. Variable:         aggregateLikes   R-squared:                       0.075\n",
       "Model:                            OLS   Adj. R-squared:                  0.068\n",
       "Method:                 Least Squares   F-statistic:                     10.64\n",
       "Date:                Tue, 21 Jan 2020   Prob (F-statistic):            0.00141\n",
       "Time:                        16:48:05   Log-Likelihood:                -1677.9\n",
       "No. Observations:                 134   AIC:                             3360.\n",
       "Df Residuals:                     132   BIC:                             3366.\n",
       "Df Model:                           1                                         \n",
       "Covariance Type:            nonrobust                                         \n",
       "===================================================================================\n",
       "                      coef    std err          t      P>|t|      [0.025      0.975]\n",
       "-----------------------------------------------------------------------------------\n",
       "const            9466.7294   5799.585      1.632      0.105   -2005.423    2.09e+04\n",
       "pricePerServing  1.694e+04   5191.609      3.263      0.001    6668.362    2.72e+04\n",
       "==============================================================================\n",
       "Omnibus:                      256.150   Durbin-Watson:                   2.065\n",
       "Prob(Omnibus):                  0.000   Jarque-Bera (JB):            48595.134\n",
       "Skew:                           9.017   Prob(JB):                         0.00\n",
       "Kurtosis:                      94.533   Cond. No.                         1.15\n",
       "==============================================================================\n",
       "\n",
       "Warnings:\n",
       "[1] Standard Errors assume that the covariance matrix of the errors is correctly specified.\n",
       "\"\"\""
      ]
     },
     "execution_count": 249,
     "metadata": {},
     "output_type": "execute_result"
    }
   ],
   "source": [
    "x = x_train #predictor variables\n",
    "y = y_train #target variable\n",
    "x = sm.add_constant(x) #add (1) as the constant since we are using statsmodels\n",
    "model = sm.OLS(y, x).fit() #assign to the x and y variables with constant to the sm.OLS() function and fit the data\n",
    "predictions = model.predict(x)#assign the result of the OLS to predict the data\n",
    "model.summary()#show the summary"
   ]
  },
  {
   "cell_type": "markdown",
   "metadata": {},
   "source": [
    "### 7. QQ-Plot check for normally distributed residuals"
   ]
  },
  {
   "cell_type": "code",
   "execution_count": 265,
   "metadata": {
    "scrolled": false
   },
   "outputs": [
    {
     "data": {
      "image/png": "[encoded data removed]",
      "text/plain": [
       "<Figure size 432x288 with 1 Axes>"
      ]
     },
     "metadata": {
      "needs_background": "light"
     },
     "output_type": "display_data"
    }
   ],
   "source": [
    "fig = sm.graphics.qqplot(model.resid, dist=stats.norm, line='45', fit=True)"
   ]
  },
  {
   "cell_type": "markdown",
   "metadata": {},
   "source": [
    "### 8. Ensure homoscedasticity by checking for heteroscedasticity"
   ]
  },
  {
   "cell_type": "markdown",
   "metadata": {},
   "source": [
    "#### Check for homoscedacity\n",
    "Need to check that errors do not display heteroscedasticity; if the errors appear to increase or decrease based on the target variable, then the model does not meet the initial assumptions. Scatterplot of residual quantity on the x-axis against standard deviation on the y-axis."
   ]
  },
  {
   "cell_type": "code",
   "execution_count": 279,
   "metadata": {
    "scrolled": true
   },
   "outputs": [
    {
     "data": {
      "image/png": "[encoded data removed]",
      "text/plain": [
       "<Figure size 432x288 with 1 Axes>"
      ]
     },
     "metadata": {
      "needs_background": "light"
     },
     "output_type": "display_data"
    }
   ],
   "source": [
    "plt.scatter(predictions, model.resid)\n",
    "plt.plot(predictions, [0 for i in range(len(x_train))], color = 'r')\n",
    "plt.show()"
   ]
  },
  {
   "cell_type": "markdown",
   "metadata": {},
   "source": [
    "___"
   ]
  },
  {
   "cell_type": "markdown",
   "metadata": {},
   "source": [
    "# Primal Data"
   ]
  },
  {
   "cell_type": "markdown",
   "metadata": {},
   "source": [
    "### 4. Train / Test Split Data"
   ]
  },
  {
   "cell_type": "markdown",
   "metadata": {},
   "source": [
    "For train/test splits, as your dataset gets bigger and bigger, the split can lean more and more towards the \"train\" set. As your dataset gets really small (100 observations) then the split should be closer to 50/50 for train/test."
   ]
  },
  {
   "cell_type": "code",
   "execution_count": 280,
   "metadata": {},
   "outputs": [],
   "source": [
    "x_variables_1 = ['num_ingredients', \n",
    "              'pricePerServing', \n",
    "              'readyInMinutes', \n",
    "              'servings', \n",
    "              'weightWatcherSmartPoints', \n",
    "              'Calories', \n",
    "              'Fat', \n",
    "              'Saturated_Fat', \n",
    "              'Carbohydrates', \n",
    "              'Sugar', \n",
    "              'Cholesterol', \n",
    "              'Sodium', \n",
    "              'Protein', \n",
    "              'Vitamin_K', \n",
    "              'Vitamin_A', \n",
    "              'Vitamin_C', \n",
    "              'Manganese', \n",
    "              'Folate', \n",
    "              'Fiber', \n",
    "              'Copper', \n",
    "              'Magnesium', \n",
    "              'Phosphorus', \n",
    "              'Vitamin_B6', \n",
    "              'Potassium', \n",
    "              'Vitamin_B1', \n",
    "              'Iron', \n",
    "              'Vitamin_B2', \n",
    "              'Vitamin_E', \n",
    "              'Zinc', \n",
    "              'Vitamin_B5', \n",
    "              'Vitamin_B3', \n",
    "              'Calcium', \n",
    "              'Selenium', \n",
    "              'num_words_instructions', \n",
    "              'num_steps_instructions']"
   ]
  },
  {
   "cell_type": "code",
   "execution_count": 281,
   "metadata": {},
   "outputs": [],
   "source": [
    "predictors_primal = primal[x_variables_1]"
   ]
  },
  {
   "cell_type": "code",
   "execution_count": 282,
   "metadata": {},
   "outputs": [],
   "source": [
    "target = primal['aggregateLikes']"
   ]
  },
  {
   "cell_type": "code",
   "execution_count": 283,
   "metadata": {},
   "outputs": [],
   "source": [
    "x_train, x_test, y_train, y_test = train_test_split(predictors_primal, target, random_state = 2020, test_size = .25) "
   ]
  },
  {
   "cell_type": "markdown",
   "metadata": {},
   "source": [
    "___"
   ]
  },
  {
   "cell_type": "markdown",
   "metadata": {},
   "source": [
    "### 5. Run Regression 1, Fit, & Cull Non-Significant Predictors"
   ]
  },
  {
   "cell_type": "markdown",
   "metadata": {},
   "source": [
    "### Lasso Model"
   ]
  },
  {
   "cell_type": "code",
   "execution_count": 284,
   "metadata": {
    "scrolled": true
   },
   "outputs": [
    {
     "name": "stderr",
     "output_type": "stream",
     "text": [
      "/opt/anaconda3/lib/python3.7/site-packages/sklearn/linear_model/coordinate_descent.py:475: ConvergenceWarning: Objective did not converge. You might want to increase the number of iterations. Duality gap: 325208304833.3384, tolerance: 179430234.31548488\n",
      "  positive)\n"
     ]
    },
    {
     "data": {
      "text/plain": [
       "'lasso coefficients'"
      ]
     },
     "metadata": {},
     "output_type": "display_data"
    },
    {
     "data": {
      "text/plain": [
       "{'num_ingredients': -15036.041010180412,\n",
       " 'pricePerServing': 11962.110864528537,\n",
       " 'readyInMinutes': -2713.7351558479036,\n",
       " 'servings': 25371.589572319728,\n",
       " 'weightWatcherSmartPoints': -28229.489996786746,\n",
       " 'Calories': -242050.80676089367,\n",
       " 'Fat': 192592.86962241432,\n",
       " 'Saturated_Fat': -12312.109954292662,\n",
       " 'Carbohydrates': 108154.16957638114,\n",
       " 'Sugar': 10581.001366190052,\n",
       " 'Cholesterol': 27950.003540759022,\n",
       " 'Sodium': 23874.57482412604,\n",
       " 'Protein': 106219.99155562127,\n",
       " 'Vitamin_K': -12384.448241244336,\n",
       " 'Vitamin_A': -1195.9286324275297,\n",
       " 'Vitamin_C': 56.785806005394036,\n",
       " 'Manganese': 7956.136153407259,\n",
       " 'Folate': -15624.657529456737,\n",
       " 'Fiber': -8507.27865837874,\n",
       " 'Copper': -10726.815837015649,\n",
       " 'Magnesium': 2271.8491677697343,\n",
       " 'Phosphorus': -1505.7281866607009,\n",
       " 'Vitamin_B6': 1370.470655722378,\n",
       " 'Potassium': 5384.815505357602,\n",
       " 'Vitamin_B1': -8552.05964136358,\n",
       " 'Iron': -52513.124024050754,\n",
       " 'Vitamin_B2': -24153.067468740664,\n",
       " 'Vitamin_E': -10115.684292122942,\n",
       " 'Zinc': -4191.33602637216,\n",
       " 'Vitamin_B5': 3190.034149674161,\n",
       " 'Vitamin_B3': -16460.06413025518,\n",
       " 'Calcium': 18261.316562081527,\n",
       " 'Selenium': -20736.686759134504,\n",
       " 'num_words_instructions': -2400.097073853784,\n",
       " 'num_steps_instructions': 8089.740404903322}"
      ]
     },
     "metadata": {},
     "output_type": "display_data"
    },
    {
     "data": {
      "text/plain": [
       "'lasso train score'"
      ]
     },
     "metadata": {},
     "output_type": "display_data"
    },
    {
     "data": {
      "text/plain": [
       "0.08668306211330812"
      ]
     },
     "metadata": {},
     "output_type": "display_data"
    },
    {
     "data": {
      "text/plain": [
       "'lasso test score'"
      ]
     },
     "metadata": {},
     "output_type": "display_data"
    },
    {
     "data": {
      "text/plain": [
       "-0.9535595006196667"
      ]
     },
     "metadata": {},
     "output_type": "display_data"
    }
   ],
   "source": [
    "lasso = Lasso(alpha = 0.05, max_iter=10000)\n",
    "lasso.fit(x_train, y_train)\n",
    "# sample_models['lasso'] = lasso\n",
    "# y_lasso_test.append(lasso.score(X_test, y_test))\n",
    "\n",
    "lasso_coefficients = dict(zip(x_variables, list(lasso.coef_)))\n",
    "display('lasso coefficients')\n",
    "display(lasso_coefficients)\n",
    "\n",
    "display('lasso train score')\n",
    "display(lasso.score(x_train, y_train))\n",
    "\n",
    "display('lasso test score')\n",
    "display(lasso.score(x_test, y_test))"
   ]
  },
  {
   "cell_type": "markdown",
   "metadata": {},
   "source": [
    "### Ridge Model"
   ]
  },
  {
   "cell_type": "code",
   "execution_count": 285,
   "metadata": {
    "scrolled": true
   },
   "outputs": [
    {
     "data": {
      "text/plain": [
       "'ridge coefficients'"
      ]
     },
     "metadata": {},
     "output_type": "display_data"
    },
    {
     "data": {
      "text/plain": [
       "{'num_ingredients': -14582.74085397967,\n",
       " 'pricePerServing': 12519.350341051844,\n",
       " 'readyInMinutes': -2904.5760123119862,\n",
       " 'servings': 24594.226947024967,\n",
       " 'weightWatcherSmartPoints': -33646.74900896666,\n",
       " 'Calories': -116939.20305213533,\n",
       " 'Fat': 119278.81238865346,\n",
       " 'Saturated_Fat': -12720.05834450052,\n",
       " 'Carbohydrates': 52223.77596658767,\n",
       " 'Sugar': 9120.077561187445,\n",
       " 'Cholesterol': 26330.996342894457,\n",
       " 'Sodium': 22600.07308595673,\n",
       " 'Protein': 61557.447127610765,\n",
       " 'Vitamin_K': -11831.835160192759,\n",
       " 'Vitamin_A': -3234.385968652103,\n",
       " 'Vitamin_C': 259.08129633023583,\n",
       " 'Manganese': 8628.761592971663,\n",
       " 'Folate': -16768.212293207263,\n",
       " 'Fiber': -8555.273674929449,\n",
       " 'Copper': -10514.32088918032,\n",
       " 'Magnesium': 973.6259809039666,\n",
       " 'Phosphorus': -1090.7053009314745,\n",
       " 'Vitamin_B6': -693.3914450460342,\n",
       " 'Potassium': 10334.392546165274,\n",
       " 'Vitamin_B1': -6275.161335060635,\n",
       " 'Iron': -50446.793683066666,\n",
       " 'Vitamin_B2': -23243.03642755543,\n",
       " 'Vitamin_E': -8590.07919689578,\n",
       " 'Zinc': -2522.85102064305,\n",
       " 'Vitamin_B5': 4034.047256260677,\n",
       " 'Vitamin_B3': -16756.775464972718,\n",
       " 'Calcium': 20136.717336117796,\n",
       " 'Selenium': -17693.528672941815,\n",
       " 'num_words_instructions': -2306.434017720062,\n",
       " 'num_steps_instructions': 8101.4398533272715}"
      ]
     },
     "metadata": {},
     "output_type": "display_data"
    },
    {
     "data": {
      "text/plain": [
       "'lasso train score'"
      ]
     },
     "metadata": {},
     "output_type": "display_data"
    },
    {
     "data": {
      "text/plain": [
       "0.0858712236757232"
      ]
     },
     "metadata": {},
     "output_type": "display_data"
    },
    {
     "data": {
      "text/plain": [
       "'lasso test score'"
      ]
     },
     "metadata": {},
     "output_type": "display_data"
    },
    {
     "data": {
      "text/plain": [
       "-0.8630015153934698"
      ]
     },
     "metadata": {},
     "output_type": "display_data"
    }
   ],
   "source": [
    "ridge = Ridge(alpha = .05, max_iter= 10000)\n",
    "ridge.fit(x_train, y_train)\n",
    "\n",
    "ridge_coefficients = dict(zip(x_variables, list(ridge.coef_)))\n",
    "display('ridge coefficients')\n",
    "display(ridge_coefficients)\n",
    "\n",
    "display('lasso train score')\n",
    "display(ridge.score(x_train, y_train))\n",
    "\n",
    "display('lasso test score')\n",
    "display(ridge.score(x_test, y_test))"
   ]
  },
  {
   "cell_type": "markdown",
   "metadata": {},
   "source": [
    "### OLS Model"
   ]
  },
  {
   "cell_type": "markdown",
   "metadata": {},
   "source": [
    "#### Regression 1 - fit to model, check for p-values less than 0.3"
   ]
  },
  {
   "cell_type": "code",
   "execution_count": 286,
   "metadata": {
    "scrolled": true
   },
   "outputs": [
    {
     "name": "stderr",
     "output_type": "stream",
     "text": [
      "/opt/anaconda3/lib/python3.7/site-packages/numpy/core/fromnumeric.py:2495: FutureWarning: Method .ptp is deprecated and will be removed in a future version. Use numpy.ptp instead.\n",
      "  return ptp(axis=axis, out=out, **kwargs)\n"
     ]
    },
    {
     "data": {
      "text/html": [
       "<table class=\"simpletable\">\n",
       "<caption>OLS Regression Results</caption>\n",
       "<tr>\n",
       "  <th>Dep. Variable:</th>     <td>aggregateLikes</td>  <th>  R-squared:         </th> <td>   0.087</td>\n",
       "</tr>\n",
       "<tr>\n",
       "  <th>Model:</th>                   <td>OLS</td>       <th>  Adj. R-squared:    </th> <td>  -0.161</td>\n",
       "</tr>\n",
       "<tr>\n",
       "  <th>Method:</th>             <td>Least Squares</td>  <th>  F-statistic:       </th> <td>  0.3498</td>\n",
       "</tr>\n",
       "<tr>\n",
       "  <th>Date:</th>             <td>Tue, 21 Jan 2020</td> <th>  Prob (F-statistic):</th>  <td>  1.00</td> \n",
       "</tr>\n",
       "<tr>\n",
       "  <th>Time:</th>                 <td>16:58:16</td>     <th>  Log-Likelihood:    </th> <td> -2133.2</td>\n",
       "</tr>\n",
       "<tr>\n",
       "  <th>No. Observations:</th>      <td>   165</td>      <th>  AIC:               </th> <td>   4338.</td>\n",
       "</tr>\n",
       "<tr>\n",
       "  <th>Df Residuals:</th>          <td>   129</td>      <th>  BIC:               </th> <td>   4450.</td>\n",
       "</tr>\n",
       "<tr>\n",
       "  <th>Df Model:</th>              <td>    35</td>      <th>                     </th>     <td> </td>   \n",
       "</tr>\n",
       "<tr>\n",
       "  <th>Covariance Type:</th>      <td>nonrobust</td>    <th>                     </th>     <td> </td>   \n",
       "</tr>\n",
       "</table>\n",
       "<table class=\"simpletable\">\n",
       "<tr>\n",
       "              <td></td>                <th>coef</th>     <th>std err</th>      <th>t</th>      <th>P>|t|</th>  <th>[0.025</th>    <th>0.975]</th>  \n",
       "</tr>\n",
       "<tr>\n",
       "  <th>const</th>                    <td>-5287.8075</td> <td> 3.48e+04</td> <td>   -0.152</td> <td> 0.880</td> <td>-7.42e+04</td> <td> 6.36e+04</td>\n",
       "</tr>\n",
       "<tr>\n",
       "  <th>num_ingredients</th>          <td>-1.504e+04</td> <td> 1.44e+04</td> <td>   -1.042</td> <td> 0.300</td> <td>-4.36e+04</td> <td> 1.35e+04</td>\n",
       "</tr>\n",
       "<tr>\n",
       "  <th>pricePerServing</th>          <td> 1.196e+04</td> <td> 2.25e+04</td> <td>    0.532</td> <td> 0.595</td> <td>-3.25e+04</td> <td> 5.64e+04</td>\n",
       "</tr>\n",
       "<tr>\n",
       "  <th>readyInMinutes</th>           <td>-2713.2240</td> <td>    1e+04</td> <td>   -0.270</td> <td> 0.788</td> <td>-2.26e+04</td> <td> 1.72e+04</td>\n",
       "</tr>\n",
       "<tr>\n",
       "  <th>servings</th>                 <td> 2.537e+04</td> <td> 1.83e+04</td> <td>    1.385</td> <td> 0.169</td> <td>-1.09e+04</td> <td> 6.16e+04</td>\n",
       "</tr>\n",
       "<tr>\n",
       "  <th>weightWatcherSmartPoints</th> <td>-2.821e+04</td> <td> 6.34e+04</td> <td>   -0.445</td> <td> 0.657</td> <td>-1.54e+05</td> <td> 9.72e+04</td>\n",
       "</tr>\n",
       "<tr>\n",
       "  <th>Calories</th>                 <td>-2.424e+05</td> <td> 3.74e+05</td> <td>   -0.648</td> <td> 0.518</td> <td>-9.82e+05</td> <td> 4.97e+05</td>\n",
       "</tr>\n",
       "<tr>\n",
       "  <th>Fat</th>                      <td> 1.928e+05</td> <td>  2.2e+05</td> <td>    0.877</td> <td> 0.382</td> <td>-2.42e+05</td> <td> 6.28e+05</td>\n",
       "</tr>\n",
       "<tr>\n",
       "  <th>Saturated_Fat</th>            <td>-1.231e+04</td> <td> 4.06e+04</td> <td>   -0.303</td> <td> 0.762</td> <td>-9.26e+04</td> <td>  6.8e+04</td>\n",
       "</tr>\n",
       "<tr>\n",
       "  <th>Carbohydrates</th>            <td> 1.083e+05</td> <td> 1.74e+05</td> <td>    0.621</td> <td> 0.535</td> <td>-2.37e+05</td> <td> 4.53e+05</td>\n",
       "</tr>\n",
       "<tr>\n",
       "  <th>Sugar</th>                    <td> 1.059e+04</td> <td> 2.81e+04</td> <td>    0.376</td> <td> 0.707</td> <td>-4.51e+04</td> <td> 6.62e+04</td>\n",
       "</tr>\n",
       "<tr>\n",
       "  <th>Cholesterol</th>              <td> 2.795e+04</td> <td> 7.95e+04</td> <td>    0.352</td> <td> 0.726</td> <td>-1.29e+05</td> <td> 1.85e+05</td>\n",
       "</tr>\n",
       "<tr>\n",
       "  <th>Sodium</th>                   <td> 2.388e+04</td> <td> 2.35e+04</td> <td>    1.018</td> <td> 0.311</td> <td>-2.25e+04</td> <td> 7.03e+04</td>\n",
       "</tr>\n",
       "<tr>\n",
       "  <th>Protein</th>                  <td> 1.064e+05</td> <td> 1.55e+05</td> <td>    0.684</td> <td> 0.495</td> <td>-2.01e+05</td> <td> 4.14e+05</td>\n",
       "</tr>\n",
       "<tr>\n",
       "  <th>Vitamin_K</th>                <td>-1.239e+04</td> <td> 1.48e+04</td> <td>   -0.835</td> <td> 0.405</td> <td>-4.17e+04</td> <td> 1.69e+04</td>\n",
       "</tr>\n",
       "<tr>\n",
       "  <th>Vitamin_A</th>                <td>-1190.3877</td> <td> 1.55e+04</td> <td>   -0.077</td> <td> 0.939</td> <td>-3.19e+04</td> <td> 2.96e+04</td>\n",
       "</tr>\n",
       "<tr>\n",
       "  <th>Vitamin_C</th>                <td>   56.0468</td> <td> 2.02e+04</td> <td>    0.003</td> <td> 0.998</td> <td>-3.98e+04</td> <td> 3.99e+04</td>\n",
       "</tr>\n",
       "<tr>\n",
       "  <th>Manganese</th>                <td> 7954.3046</td> <td> 2.66e+04</td> <td>    0.299</td> <td> 0.766</td> <td>-4.48e+04</td> <td> 6.07e+04</td>\n",
       "</tr>\n",
       "<tr>\n",
       "  <th>Folate</th>                   <td>-1.562e+04</td> <td> 2.52e+04</td> <td>   -0.620</td> <td> 0.536</td> <td>-6.54e+04</td> <td> 3.42e+04</td>\n",
       "</tr>\n",
       "<tr>\n",
       "  <th>Fiber</th>                    <td>-8508.1577</td> <td>  3.5e+04</td> <td>   -0.243</td> <td> 0.808</td> <td>-7.78e+04</td> <td> 6.08e+04</td>\n",
       "</tr>\n",
       "<tr>\n",
       "  <th>Copper</th>                   <td>-1.073e+04</td> <td> 1.02e+04</td> <td>   -1.053</td> <td> 0.294</td> <td>-3.09e+04</td> <td> 9427.499</td>\n",
       "</tr>\n",
       "<tr>\n",
       "  <th>Magnesium</th>                <td> 2277.4303</td> <td>  4.9e+04</td> <td>    0.046</td> <td> 0.963</td> <td>-9.47e+04</td> <td> 9.93e+04</td>\n",
       "</tr>\n",
       "<tr>\n",
       "  <th>Phosphorus</th>               <td>-1509.8583</td> <td> 6.26e+04</td> <td>   -0.024</td> <td> 0.981</td> <td>-1.25e+05</td> <td> 1.22e+05</td>\n",
       "</tr>\n",
       "<tr>\n",
       "  <th>Vitamin_B6</th>               <td> 1377.3978</td> <td> 5.24e+04</td> <td>    0.026</td> <td> 0.979</td> <td>-1.02e+05</td> <td> 1.05e+05</td>\n",
       "</tr>\n",
       "<tr>\n",
       "  <th>Potassium</th>                <td> 5370.6391</td> <td> 4.53e+04</td> <td>    0.119</td> <td> 0.906</td> <td>-8.42e+04</td> <td>  9.5e+04</td>\n",
       "</tr>\n",
       "<tr>\n",
       "  <th>Vitamin_B1</th>               <td>-8558.6017</td> <td> 4.52e+04</td> <td>   -0.189</td> <td> 0.850</td> <td> -9.8e+04</td> <td> 8.09e+04</td>\n",
       "</tr>\n",
       "<tr>\n",
       "  <th>Iron</th>                     <td>-5.252e+04</td> <td>    9e+04</td> <td>   -0.583</td> <td> 0.561</td> <td>-2.31e+05</td> <td> 1.26e+05</td>\n",
       "</tr>\n",
       "<tr>\n",
       "  <th>Vitamin_B2</th>               <td>-2.416e+04</td> <td> 4.04e+04</td> <td>   -0.598</td> <td> 0.551</td> <td>-1.04e+05</td> <td> 5.58e+04</td>\n",
       "</tr>\n",
       "<tr>\n",
       "  <th>Vitamin_E</th>                <td>-1.012e+04</td> <td> 2.24e+04</td> <td>   -0.452</td> <td> 0.652</td> <td>-5.44e+04</td> <td> 3.42e+04</td>\n",
       "</tr>\n",
       "<tr>\n",
       "  <th>Zinc</th>                     <td>-4196.7732</td> <td> 6.06e+04</td> <td>   -0.069</td> <td> 0.945</td> <td>-1.24e+05</td> <td> 1.16e+05</td>\n",
       "</tr>\n",
       "<tr>\n",
       "  <th>Vitamin_B5</th>               <td> 3190.6600</td> <td> 5.33e+04</td> <td>    0.060</td> <td> 0.952</td> <td>-1.02e+05</td> <td> 1.09e+05</td>\n",
       "</tr>\n",
       "<tr>\n",
       "  <th>Vitamin_B3</th>               <td>-1.646e+04</td> <td> 7.26e+04</td> <td>   -0.227</td> <td> 0.821</td> <td> -1.6e+05</td> <td> 1.27e+05</td>\n",
       "</tr>\n",
       "<tr>\n",
       "  <th>Calcium</th>                  <td> 1.826e+04</td> <td> 3.28e+04</td> <td>    0.557</td> <td> 0.578</td> <td>-4.66e+04</td> <td> 8.31e+04</td>\n",
       "</tr>\n",
       "<tr>\n",
       "  <th>Selenium</th>                 <td>-2.075e+04</td> <td> 4.63e+04</td> <td>   -0.448</td> <td> 0.655</td> <td>-1.12e+05</td> <td> 7.09e+04</td>\n",
       "</tr>\n",
       "<tr>\n",
       "  <th>num_words_instructions</th>   <td>-2400.3940</td> <td> 1.45e+04</td> <td>   -0.165</td> <td> 0.869</td> <td>-3.11e+04</td> <td> 2.63e+04</td>\n",
       "</tr>\n",
       "<tr>\n",
       "  <th>num_steps_instructions</th>   <td> 8089.5061</td> <td> 2.29e+04</td> <td>    0.354</td> <td> 0.724</td> <td>-3.72e+04</td> <td> 5.34e+04</td>\n",
       "</tr>\n",
       "</table>\n",
       "<table class=\"simpletable\">\n",
       "<tr>\n",
       "  <th>Omnibus:</th>       <td>272.745</td> <th>  Durbin-Watson:     </th> <td>   1.924</td> \n",
       "</tr>\n",
       "<tr>\n",
       "  <th>Prob(Omnibus):</th> <td> 0.000</td>  <th>  Jarque-Bera (JB):  </th> <td>32146.862</td>\n",
       "</tr>\n",
       "<tr>\n",
       "  <th>Skew:</th>          <td> 7.665</td>  <th>  Prob(JB):          </th> <td>    0.00</td> \n",
       "</tr>\n",
       "<tr>\n",
       "  <th>Kurtosis:</th>      <td>69.640</td>  <th>  Cond. No.          </th> <td>    182.</td> \n",
       "</tr>\n",
       "</table><br/><br/>Warnings:<br/>[1] Standard Errors assume that the covariance matrix of the errors is correctly specified."
      ],
      "text/plain": [
       "<class 'statsmodels.iolib.summary.Summary'>\n",
       "\"\"\"\n",
       "                            OLS Regression Results                            \n",
       "==============================================================================\n",
       "Dep. Variable:         aggregateLikes   R-squared:                       0.087\n",
       "Model:                            OLS   Adj. R-squared:                 -0.161\n",
       "Method:                 Least Squares   F-statistic:                    0.3498\n",
       "Date:                Tue, 21 Jan 2020   Prob (F-statistic):               1.00\n",
       "Time:                        16:58:16   Log-Likelihood:                -2133.2\n",
       "No. Observations:                 165   AIC:                             4338.\n",
       "Df Residuals:                     129   BIC:                             4450.\n",
       "Df Model:                          35                                         \n",
       "Covariance Type:            nonrobust                                         \n",
       "============================================================================================\n",
       "                               coef    std err          t      P>|t|      [0.025      0.975]\n",
       "--------------------------------------------------------------------------------------------\n",
       "const                    -5287.8075   3.48e+04     -0.152      0.880   -7.42e+04    6.36e+04\n",
       "num_ingredients          -1.504e+04   1.44e+04     -1.042      0.300   -4.36e+04    1.35e+04\n",
       "pricePerServing           1.196e+04   2.25e+04      0.532      0.595   -3.25e+04    5.64e+04\n",
       "readyInMinutes           -2713.2240      1e+04     -0.270      0.788   -2.26e+04    1.72e+04\n",
       "servings                  2.537e+04   1.83e+04      1.385      0.169   -1.09e+04    6.16e+04\n",
       "weightWatcherSmartPoints -2.821e+04   6.34e+04     -0.445      0.657   -1.54e+05    9.72e+04\n",
       "Calories                 -2.424e+05   3.74e+05     -0.648      0.518   -9.82e+05    4.97e+05\n",
       "Fat                       1.928e+05    2.2e+05      0.877      0.382   -2.42e+05    6.28e+05\n",
       "Saturated_Fat            -1.231e+04   4.06e+04     -0.303      0.762   -9.26e+04     6.8e+04\n",
       "Carbohydrates             1.083e+05   1.74e+05      0.621      0.535   -2.37e+05    4.53e+05\n",
       "Sugar                     1.059e+04   2.81e+04      0.376      0.707   -4.51e+04    6.62e+04\n",
       "Cholesterol               2.795e+04   7.95e+04      0.352      0.726   -1.29e+05    1.85e+05\n",
       "Sodium                    2.388e+04   2.35e+04      1.018      0.311   -2.25e+04    7.03e+04\n",
       "Protein                   1.064e+05   1.55e+05      0.684      0.495   -2.01e+05    4.14e+05\n",
       "Vitamin_K                -1.239e+04   1.48e+04     -0.835      0.405   -4.17e+04    1.69e+04\n",
       "Vitamin_A                -1190.3877   1.55e+04     -0.077      0.939   -3.19e+04    2.96e+04\n",
       "Vitamin_C                   56.0468   2.02e+04      0.003      0.998   -3.98e+04    3.99e+04\n",
       "Manganese                 7954.3046   2.66e+04      0.299      0.766   -4.48e+04    6.07e+04\n",
       "Folate                   -1.562e+04   2.52e+04     -0.620      0.536   -6.54e+04    3.42e+04\n",
       "Fiber                    -8508.1577    3.5e+04     -0.243      0.808   -7.78e+04    6.08e+04\n",
       "Copper                   -1.073e+04   1.02e+04     -1.053      0.294   -3.09e+04    9427.499\n",
       "Magnesium                 2277.4303    4.9e+04      0.046      0.963   -9.47e+04    9.93e+04\n",
       "Phosphorus               -1509.8583   6.26e+04     -0.024      0.981   -1.25e+05    1.22e+05\n",
       "Vitamin_B6                1377.3978   5.24e+04      0.026      0.979   -1.02e+05    1.05e+05\n",
       "Potassium                 5370.6391   4.53e+04      0.119      0.906   -8.42e+04     9.5e+04\n",
       "Vitamin_B1               -8558.6017   4.52e+04     -0.189      0.850    -9.8e+04    8.09e+04\n",
       "Iron                     -5.252e+04      9e+04     -0.583      0.561   -2.31e+05    1.26e+05\n",
       "Vitamin_B2               -2.416e+04   4.04e+04     -0.598      0.551   -1.04e+05    5.58e+04\n",
       "Vitamin_E                -1.012e+04   2.24e+04     -0.452      0.652   -5.44e+04    3.42e+04\n",
       "Zinc                     -4196.7732   6.06e+04     -0.069      0.945   -1.24e+05    1.16e+05\n",
       "Vitamin_B5                3190.6600   5.33e+04      0.060      0.952   -1.02e+05    1.09e+05\n",
       "Vitamin_B3               -1.646e+04   7.26e+04     -0.227      0.821    -1.6e+05    1.27e+05\n",
       "Calcium                   1.826e+04   3.28e+04      0.557      0.578   -4.66e+04    8.31e+04\n",
       "Selenium                 -2.075e+04   4.63e+04     -0.448      0.655   -1.12e+05    7.09e+04\n",
       "num_words_instructions   -2400.3940   1.45e+04     -0.165      0.869   -3.11e+04    2.63e+04\n",
       "num_steps_instructions    8089.5061   2.29e+04      0.354      0.724   -3.72e+04    5.34e+04\n",
       "==============================================================================\n",
       "Omnibus:                      272.745   Durbin-Watson:                   1.924\n",
       "Prob(Omnibus):                  0.000   Jarque-Bera (JB):            32146.862\n",
       "Skew:                           7.665   Prob(JB):                         0.00\n",
       "Kurtosis:                      69.640   Cond. No.                         182.\n",
       "==============================================================================\n",
       "\n",
       "Warnings:\n",
       "[1] Standard Errors assume that the covariance matrix of the errors is correctly specified.\n",
       "\"\"\""
      ]
     },
     "execution_count": 286,
     "metadata": {},
     "output_type": "execute_result"
    }
   ],
   "source": [
    "x = x_train #predictor variables\n",
    "y = y_train #target variable\n",
    "x = sm.add_constant(x) #add (1) as the constant since we are using statsmodels\n",
    "model = sm.OLS(y, x).fit() #assign to the x and y variables with constant to the sm.OLS() function and fit the data\n",
    "predictions = model.predict(x)#assign the result of the OLS to predict the data\n",
    "model.summary()#show the summary"
   ]
  },
  {
   "cell_type": "markdown",
   "metadata": {},
   "source": [
    "#### Notes \n",
    "Keep num_ingredients, servings, and Copper. These are the only variables with a p-value lower than 0.3."
   ]
  },
  {
   "cell_type": "markdown",
   "metadata": {},
   "source": [
    "#### Regression 2 - fit to model, check for p-values less than 0.05"
   ]
  },
  {
   "cell_type": "code",
   "execution_count": 287,
   "metadata": {},
   "outputs": [],
   "source": [
    "x_train = x_train[['num_ingredients', 'servings', 'Copper']]"
   ]
  },
  {
   "cell_type": "code",
   "execution_count": 288,
   "metadata": {
    "scrolled": true
   },
   "outputs": [
    {
     "data": {
      "text/html": [
       "<table class=\"simpletable\">\n",
       "<caption>OLS Regression Results</caption>\n",
       "<tr>\n",
       "  <th>Dep. Variable:</th>     <td>aggregateLikes</td>  <th>  R-squared:         </th> <td>   0.018</td>\n",
       "</tr>\n",
       "<tr>\n",
       "  <th>Model:</th>                   <td>OLS</td>       <th>  Adj. R-squared:    </th> <td>  -0.001</td>\n",
       "</tr>\n",
       "<tr>\n",
       "  <th>Method:</th>             <td>Least Squares</td>  <th>  F-statistic:       </th> <td>  0.9587</td>\n",
       "</tr>\n",
       "<tr>\n",
       "  <th>Date:</th>             <td>Tue, 21 Jan 2020</td> <th>  Prob (F-statistic):</th>  <td> 0.414</td> \n",
       "</tr>\n",
       "<tr>\n",
       "  <th>Time:</th>                 <td>16:58:17</td>     <th>  Log-Likelihood:    </th> <td> -2139.2</td>\n",
       "</tr>\n",
       "<tr>\n",
       "  <th>No. Observations:</th>      <td>   165</td>      <th>  AIC:               </th> <td>   4286.</td>\n",
       "</tr>\n",
       "<tr>\n",
       "  <th>Df Residuals:</th>          <td>   161</td>      <th>  BIC:               </th> <td>   4299.</td>\n",
       "</tr>\n",
       "<tr>\n",
       "  <th>Df Model:</th>              <td>     3</td>      <th>                     </th>     <td> </td>   \n",
       "</tr>\n",
       "<tr>\n",
       "  <th>Covariance Type:</th>      <td>nonrobust</td>    <th>                     </th>     <td> </td>   \n",
       "</tr>\n",
       "</table>\n",
       "<table class=\"simpletable\">\n",
       "<tr>\n",
       "         <td></td>            <th>coef</th>     <th>std err</th>      <th>t</th>      <th>P>|t|</th>  <th>[0.025</th>    <th>0.975]</th>  \n",
       "</tr>\n",
       "<tr>\n",
       "  <th>const</th>           <td> 1.913e+04</td> <td> 9978.124</td> <td>    1.918</td> <td> 0.057</td> <td> -571.794</td> <td> 3.88e+04</td>\n",
       "</tr>\n",
       "<tr>\n",
       "  <th>num_ingredients</th> <td>-6157.9083</td> <td>  1.1e+04</td> <td>   -0.558</td> <td> 0.578</td> <td> -2.8e+04</td> <td> 1.57e+04</td>\n",
       "</tr>\n",
       "<tr>\n",
       "  <th>servings</th>        <td> 1.831e+04</td> <td> 1.18e+04</td> <td>    1.549</td> <td> 0.123</td> <td>-5032.759</td> <td> 4.17e+04</td>\n",
       "</tr>\n",
       "<tr>\n",
       "  <th>Copper</th>          <td>-5477.8831</td> <td> 7000.871</td> <td>   -0.782</td> <td> 0.435</td> <td>-1.93e+04</td> <td> 8347.494</td>\n",
       "</tr>\n",
       "</table>\n",
       "<table class=\"simpletable\">\n",
       "<tr>\n",
       "  <th>Omnibus:</th>       <td>276.972</td> <th>  Durbin-Watson:     </th> <td>   1.974</td> \n",
       "</tr>\n",
       "<tr>\n",
       "  <th>Prob(Omnibus):</th> <td> 0.000</td>  <th>  Jarque-Bera (JB):  </th> <td>32873.918</td>\n",
       "</tr>\n",
       "<tr>\n",
       "  <th>Skew:</th>          <td> 7.905</td>  <th>  Prob(JB):          </th> <td>    0.00</td> \n",
       "</tr>\n",
       "<tr>\n",
       "  <th>Kurtosis:</th>      <td>70.318</td>  <th>  Cond. No.          </th> <td>    2.01</td> \n",
       "</tr>\n",
       "</table><br/><br/>Warnings:<br/>[1] Standard Errors assume that the covariance matrix of the errors is correctly specified."
      ],
      "text/plain": [
       "<class 'statsmodels.iolib.summary.Summary'>\n",
       "\"\"\"\n",
       "                            OLS Regression Results                            \n",
       "==============================================================================\n",
       "Dep. Variable:         aggregateLikes   R-squared:                       0.018\n",
       "Model:                            OLS   Adj. R-squared:                 -0.001\n",
       "Method:                 Least Squares   F-statistic:                    0.9587\n",
       "Date:                Tue, 21 Jan 2020   Prob (F-statistic):              0.414\n",
       "Time:                        16:58:17   Log-Likelihood:                -2139.2\n",
       "No. Observations:                 165   AIC:                             4286.\n",
       "Df Residuals:                     161   BIC:                             4299.\n",
       "Df Model:                           3                                         \n",
       "Covariance Type:            nonrobust                                         \n",
       "===================================================================================\n",
       "                      coef    std err          t      P>|t|      [0.025      0.975]\n",
       "-----------------------------------------------------------------------------------\n",
       "const            1.913e+04   9978.124      1.918      0.057    -571.794    3.88e+04\n",
       "num_ingredients -6157.9083    1.1e+04     -0.558      0.578    -2.8e+04    1.57e+04\n",
       "servings         1.831e+04   1.18e+04      1.549      0.123   -5032.759    4.17e+04\n",
       "Copper          -5477.8831   7000.871     -0.782      0.435   -1.93e+04    8347.494\n",
       "==============================================================================\n",
       "Omnibus:                      276.972   Durbin-Watson:                   1.974\n",
       "Prob(Omnibus):                  0.000   Jarque-Bera (JB):            32873.918\n",
       "Skew:                           7.905   Prob(JB):                         0.00\n",
       "Kurtosis:                      70.318   Cond. No.                         2.01\n",
       "==============================================================================\n",
       "\n",
       "Warnings:\n",
       "[1] Standard Errors assume that the covariance matrix of the errors is correctly specified.\n",
       "\"\"\""
      ]
     },
     "execution_count": 288,
     "metadata": {},
     "output_type": "execute_result"
    }
   ],
   "source": [
    "x = x_train #predictor variables\n",
    "y = y_train #target variable\n",
    "x = sm.add_constant(x) #add (1) as the constant since we are using statsmodels\n",
    "model = sm.OLS(y, x).fit() #assign to the x and y variables with constant to the sm.OLS() function and fit the data\n",
    "predictions = model.predict(x)#assign the result of the OLS to predict the data\n",
    "model.summary()#show the summary"
   ]
  },
  {
   "cell_type": "markdown",
   "metadata": {},
   "source": [
    "#### Notes \n",
    "Keep servings - this is the only variable with the lowest p-value."
   ]
  },
  {
   "cell_type": "markdown",
   "metadata": {},
   "source": [
    "#### Regression 3 - fit to model with only 1 variable remaining"
   ]
  },
  {
   "cell_type": "code",
   "execution_count": 289,
   "metadata": {},
   "outputs": [],
   "source": [
    "x_train = x_train[['servings']]"
   ]
  },
  {
   "cell_type": "code",
   "execution_count": 290,
   "metadata": {
    "scrolled": true
   },
   "outputs": [
    {
     "data": {
      "text/html": [
       "<table class=\"simpletable\">\n",
       "<caption>OLS Regression Results</caption>\n",
       "<tr>\n",
       "  <th>Dep. Variable:</th>     <td>aggregateLikes</td>  <th>  R-squared:         </th> <td>   0.012</td>\n",
       "</tr>\n",
       "<tr>\n",
       "  <th>Model:</th>                   <td>OLS</td>       <th>  Adj. R-squared:    </th> <td>   0.006</td>\n",
       "</tr>\n",
       "<tr>\n",
       "  <th>Method:</th>             <td>Least Squares</td>  <th>  F-statistic:       </th> <td>   2.003</td>\n",
       "</tr>\n",
       "<tr>\n",
       "  <th>Date:</th>             <td>Tue, 21 Jan 2020</td> <th>  Prob (F-statistic):</th>  <td> 0.159</td> \n",
       "</tr>\n",
       "<tr>\n",
       "  <th>Time:</th>                 <td>16:58:18</td>     <th>  Log-Likelihood:    </th> <td> -2139.7</td>\n",
       "</tr>\n",
       "<tr>\n",
       "  <th>No. Observations:</th>      <td>   165</td>      <th>  AIC:               </th> <td>   4283.</td>\n",
       "</tr>\n",
       "<tr>\n",
       "  <th>Df Residuals:</th>          <td>   163</td>      <th>  BIC:               </th> <td>   4290.</td>\n",
       "</tr>\n",
       "<tr>\n",
       "  <th>Df Model:</th>              <td>     1</td>      <th>                     </th>     <td> </td>   \n",
       "</tr>\n",
       "<tr>\n",
       "  <th>Covariance Type:</th>      <td>nonrobust</td>    <th>                     </th>     <td> </td>   \n",
       "</tr>\n",
       "</table>\n",
       "<table class=\"simpletable\">\n",
       "<tr>\n",
       "      <td></td>        <th>coef</th>     <th>std err</th>      <th>t</th>      <th>P>|t|</th>  <th>[0.025</th>    <th>0.975]</th>  \n",
       "</tr>\n",
       "<tr>\n",
       "  <th>const</th>    <td> 2.206e+04</td> <td> 8505.387</td> <td>    2.593</td> <td> 0.010</td> <td> 5260.579</td> <td> 3.89e+04</td>\n",
       "</tr>\n",
       "<tr>\n",
       "  <th>servings</th> <td> 1.629e+04</td> <td> 1.15e+04</td> <td>    1.415</td> <td> 0.159</td> <td>-6438.109</td> <td>  3.9e+04</td>\n",
       "</tr>\n",
       "</table>\n",
       "<table class=\"simpletable\">\n",
       "<tr>\n",
       "  <th>Omnibus:</th>       <td>279.510</td> <th>  Durbin-Watson:     </th> <td>   1.984</td> \n",
       "</tr>\n",
       "<tr>\n",
       "  <th>Prob(Omnibus):</th> <td> 0.000</td>  <th>  Jarque-Bera (JB):  </th> <td>34470.536</td>\n",
       "</tr>\n",
       "<tr>\n",
       "  <th>Skew:</th>          <td> 8.028</td>  <th>  Prob(JB):          </th> <td>    0.00</td> \n",
       "</tr>\n",
       "<tr>\n",
       "  <th>Kurtosis:</th>      <td>71.964</td>  <th>  Cond. No.          </th> <td>    1.54</td> \n",
       "</tr>\n",
       "</table><br/><br/>Warnings:<br/>[1] Standard Errors assume that the covariance matrix of the errors is correctly specified."
      ],
      "text/plain": [
       "<class 'statsmodels.iolib.summary.Summary'>\n",
       "\"\"\"\n",
       "                            OLS Regression Results                            \n",
       "==============================================================================\n",
       "Dep. Variable:         aggregateLikes   R-squared:                       0.012\n",
       "Model:                            OLS   Adj. R-squared:                  0.006\n",
       "Method:                 Least Squares   F-statistic:                     2.003\n",
       "Date:                Tue, 21 Jan 2020   Prob (F-statistic):              0.159\n",
       "Time:                        16:58:18   Log-Likelihood:                -2139.7\n",
       "No. Observations:                 165   AIC:                             4283.\n",
       "Df Residuals:                     163   BIC:                             4290.\n",
       "Df Model:                           1                                         \n",
       "Covariance Type:            nonrobust                                         \n",
       "==============================================================================\n",
       "                 coef    std err          t      P>|t|      [0.025      0.975]\n",
       "------------------------------------------------------------------------------\n",
       "const       2.206e+04   8505.387      2.593      0.010    5260.579    3.89e+04\n",
       "servings    1.629e+04   1.15e+04      1.415      0.159   -6438.109     3.9e+04\n",
       "==============================================================================\n",
       "Omnibus:                      279.510   Durbin-Watson:                   1.984\n",
       "Prob(Omnibus):                  0.000   Jarque-Bera (JB):            34470.536\n",
       "Skew:                           8.028   Prob(JB):                         0.00\n",
       "Kurtosis:                      71.964   Cond. No.                         1.54\n",
       "==============================================================================\n",
       "\n",
       "Warnings:\n",
       "[1] Standard Errors assume that the covariance matrix of the errors is correctly specified.\n",
       "\"\"\""
      ]
     },
     "execution_count": 290,
     "metadata": {},
     "output_type": "execute_result"
    }
   ],
   "source": [
    "x = x_train #predictor variables\n",
    "y = y_train #target variable\n",
    "x = sm.add_constant(x) #add (1) as the constant since we are using statsmodels\n",
    "model = sm.OLS(y, x).fit() #assign to the x and y variables with constant to the sm.OLS() function and fit the data\n",
    "predictions = model.predict(x)#assign the result of the OLS to predict the data\n",
    "model.summary()#show the summary"
   ]
  },
  {
   "cell_type": "markdown",
   "metadata": {},
   "source": [
    "### 7. QQ-Plot check for normally distributed residuals"
   ]
  },
  {
   "cell_type": "code",
   "execution_count": 291,
   "metadata": {
    "scrolled": false
   },
   "outputs": [
    {
     "data": {
      "image/png": "[encoded data removed]",
      "text/plain": [
       "<Figure size 432x288 with 1 Axes>"
      ]
     },
     "metadata": {
      "needs_background": "light"
     },
     "output_type": "display_data"
    }
   ],
   "source": [
    "fig = sm.graphics.qqplot(model.resid, dist=stats.norm, line='45', fit=True)"
   ]
  },
  {
   "cell_type": "markdown",
   "metadata": {},
   "source": [
    "### 8. Ensure homoscedasticity by checking for heteroscedasticity"
   ]
  },
  {
   "cell_type": "markdown",
   "metadata": {},
   "source": [
    "#### Check for homoscedacity\n",
    "Need to check that errors do not display heteroscedasticity; if the errors appear to increase or decrease based on the target variable, then the model does not meet the initial assumptions. Scatterplot of residual quantity on the x-axis against standard deviation on the y-axis."
   ]
  },
  {
   "cell_type": "code",
   "execution_count": 293,
   "metadata": {
    "scrolled": true
   },
   "outputs": [
    {
     "data": {
      "image/png": "[encoded data removed]",
      "text/plain": [
       "<Figure size 432x288 with 1 Axes>"
      ]
     },
     "metadata": {
      "needs_background": "light"
     },
     "output_type": "display_data"
    }
   ],
   "source": [
    "plt.scatter(predictions, model.resid)\n",
    "plt.plot(predictions, [0 for i in range(len(x_train))], color = 'r')\n",
    "plt.show()"
   ]
  }
 ],
 "metadata": {
  "kernelspec": {
   "display_name": "Python 3",
   "language": "python",
   "name": "python3"
  },
  "language_info": {
   "codemirror_mode": {
    "name": "ipython",
    "version": 3
   },
   "file_extension": ".py",
   "mimetype": "text/x-python",
   "name": "python",
   "nbconvert_exporter": "python",
   "pygments_lexer": "ipython3",
   "version": "3.6.9"
  }
 },
 "nbformat": 4,
 "nbformat_minor": 2
}
