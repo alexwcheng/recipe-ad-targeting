{
 "cells": [
  {
   "cell_type": "markdown",
   "metadata": {},
   "source": [
    "# Technical Notebook"
   ]
  },
  {
   "cell_type": "markdown",
   "metadata": {},
   "source": [
    "___"
   ]
  },
  {
   "cell_type": "markdown",
   "metadata": {},
   "source": [
    "### Goal: Manage ad placement on social recipe app Spoonacular\n",
    "We aim to more effectively target ads to Spoonacular app users. To do so, we predict which recipes will be popular - or whether or not to post an ad on the recipe's webpage. \n",
    "\n",
    "### Data: [Spoonacular API](https://spoonacular.com/food-api/docs)\n",
    "We were able to call 1000 *unique* recipes using the Spoonacular API. Each recipe contains extensive information from nutritional content to dietary classifications. A number of \"Likes\" is also provided for each recipe. In lieu of webpage traffic, we use Likes as our dependent variable. From recipe information, we developed and/or utilized a total of 35 numerical predictors (indepedent variables) of Likes. The numerical data is standardized below.\n",
    "\n",
    "As a note for future work, natural language processing may be useful to cluster text such as ingredient types - such as to predict the most visited recipe webpages with respect to the use of \"avacado\".\n",
    "\n",
    "### Model: Binary Logistic Regression\n",
    "#### Categorization of \"Likes\"\n",
    "We utilize median Likes as a cutoff between well-liked recipes and those receiving low Likes.  This helps ensure that our model trains on proportional amounts of well-liked and lesser-liked recipes. \n",
    "#### Assumptions\n",
    "- Dependent variable (Likes) is binary.\n",
    "- Large sample size. \n",
    " - Our data fulfills the general guideline of 10 cases with the least frequent outcome for each independent variable. In this case, p(outcome) = 0.5, and for a total of 1000 cases, we *could in some cases* utilize a maximum of 50 indepedent variables in the model.\n",
    "- Observations (recipes) are independent of each other. \n",
    " - While recipes often reference one another within another recipe (i.e. frosting for a cake), we do not osberve this on Spoonacular.\n",
    "- Little or no multicollinearity among the independent variables. \n",
    " - We understand that macro and micronutrients are likely to have high multicollinearity and test for this.\n",
    "- Linearity of independent variables and log odds. \n",
    " - In our [exploratory data analysis](https://github.com/alexwcheng/recipe-strategy/blob/master/Logistic_Regression_Final/Exploratory%20Data%20Analysis.ipynb), we see that the dependent variable, Likes, has an exponential distribution. While, there exists a linear relationship between log odds and some predictors, this is not a majority case."
   ]
  },
  {
   "cell_type": "markdown",
   "metadata": {},
   "source": [
    "___"
   ]
  },
  {
   "cell_type": "markdown",
   "metadata": {},
   "source": [
    "## Import Packages, Data, and Functions"
   ]
  },
  {
   "cell_type": "code",
   "execution_count": 1,
   "metadata": {},
   "outputs": [],
   "source": [
    "import sys\n",
    "sys.path.append(\"..\")"
   ]
  },
  {
   "cell_type": "code",
   "execution_count": 2,
   "metadata": {},
   "outputs": [],
   "source": [
    "# Import necessary python packages and functions\n",
    "from Python_Files.imports import *\n",
    "%matplotlib inline"
   ]
  },
  {
   "cell_type": "code",
   "execution_count": 3,
   "metadata": {},
   "outputs": [],
   "source": [
    "%run ../Python_Files/max_range.py"
   ]
  },
  {
   "cell_type": "code",
   "execution_count": 4,
   "metadata": {},
   "outputs": [],
   "source": [
    "# Read in data\n",
    "df = pd.read_csv('../Data/Recipes_raw.csv', index_col=0)"
   ]
  },
  {
   "cell_type": "code",
   "execution_count": 5,
   "metadata": {},
   "outputs": [],
   "source": [
    "# Ignore unnecessary warnings\n",
    "import warnings\n",
    "warnings.filterwarnings('ignore')"
   ]
  },
  {
   "cell_type": "markdown",
   "metadata": {},
   "source": [
    "___"
   ]
  },
  {
   "cell_type": "markdown",
   "metadata": {},
   "source": [
    "## Prepare Data"
   ]
  },
  {
   "cell_type": "markdown",
   "metadata": {},
   "source": [
    "Scale numerical predictors using StandardScaler and copy non-numerical predictors from original dataframe."
   ]
  },
  {
   "cell_type": "code",
   "execution_count": 6,
   "metadata": {},
   "outputs": [],
   "source": [
    "from Python_Files.data_cleaning import *\n",
    "#scale_num_vars, categorize_likes, produce_roc_curve"
   ]
  },
  {
   "cell_type": "code",
   "execution_count": 7,
   "metadata": {},
   "outputs": [],
   "source": [
    "# Create new dataframe containing both scaled and unscaled predictors\n",
    "df_ss = scale_num_vars(df)"
   ]
  },
  {
   "cell_type": "markdown",
   "metadata": {},
   "source": [
    "Categorize Likes as binary outcome using median value to equalize training."
   ]
  },
  {
   "cell_type": "code",
   "execution_count": 8,
   "metadata": {},
   "outputs": [
    {
     "data": {
      "text/plain": [
       "1    500\n",
       "0    500\n",
       "Name: high_likes, dtype: int64"
      ]
     },
     "execution_count": 8,
     "metadata": {},
     "output_type": "execute_result"
    }
   ],
   "source": [
    "# Create new column for outcome\n",
    "df_ss['high_likes'] = categorize_likes(df_ss, 'aggregateLikes')\n",
    "# Ensure proportional binary outcome\n",
    "df_ss['high_likes'].value_counts()"
   ]
  },
  {
   "cell_type": "code",
   "execution_count": 9,
   "metadata": {
    "scrolled": true
   },
   "outputs": [
    {
     "name": "stdout",
     "output_type": "stream",
     "text": [
      "<class 'pandas.core.frame.DataFrame'>\n",
      "RangeIndex: 1000 entries, 0 to 999\n",
      "Data columns (total 35 columns):\n",
      "num_ingredients             1000 non-null float64\n",
      "pricePerServing             1000 non-null float64\n",
      "readyInMinutes              1000 non-null float64\n",
      "servings                    1000 non-null float64\n",
      "weightWatcherSmartPoints    1000 non-null float64\n",
      "Calories                    1000 non-null float64\n",
      "Fat                         1000 non-null float64\n",
      "Saturated_Fat               1000 non-null float64\n",
      "Carbohydrates               1000 non-null float64\n",
      "Sugar                       1000 non-null float64\n",
      "Cholesterol                 1000 non-null float64\n",
      "Sodium                      1000 non-null float64\n",
      "Protein                     1000 non-null float64\n",
      "Vitamin_K                   1000 non-null float64\n",
      "Vitamin_A                   1000 non-null float64\n",
      "Vitamin_C                   1000 non-null float64\n",
      "Manganese                   1000 non-null float64\n",
      "Folate                      1000 non-null float64\n",
      "Fiber                       1000 non-null float64\n",
      "Copper                      1000 non-null float64\n",
      "Magnesium                   1000 non-null float64\n",
      "Phosphorus                  1000 non-null float64\n",
      "Vitamin_B6                  1000 non-null float64\n",
      "Potassium                   1000 non-null float64\n",
      "Vitamin_B1                  1000 non-null float64\n",
      "Iron                        1000 non-null float64\n",
      "Vitamin_B2                  1000 non-null float64\n",
      "Vitamin_E                   1000 non-null float64\n",
      "Zinc                        1000 non-null float64\n",
      "Vitamin_B5                  1000 non-null float64\n",
      "Vitamin_B3                  1000 non-null float64\n",
      "Calcium                     1000 non-null float64\n",
      "Selenium                    1000 non-null float64\n",
      "num_words_instructions      1000 non-null float64\n",
      "aggregateLikes              1000 non-null int64\n",
      "dtypes: float64(34), int64(1)\n",
      "memory usage: 273.6 KB\n"
     ]
    }
   ],
   "source": [
    "y = df_ss.high_likes\n",
    "X = df_ss\n",
    "X.drop(['high_likes', 'num_steps_instructions', 'cookingMinutes', 'preparationMinutes', 'ingredients_list', 'ingredient_types', 'title', 'spoonacularSourceUrl'], axis=1, inplace=True)\n",
    "X.info()"
   ]
  },
  {
   "cell_type": "markdown",
   "metadata": {},
   "source": [
    "Note: Due to an error raised from the Statsmodels library: \"PerfectSeparationError: Perfect separation detected, results not available.\" We have removed a predictor that was essentially \"unsolvable\" for its coefficients. The predictor \"num_steps_instructions\" is being removed for this reason."
   ]
  },
  {
   "cell_type": "code",
   "execution_count": 10,
   "metadata": {},
   "outputs": [],
   "source": [
    "X_train, X_test, y_train, y_test = train_test_split(X, y, random_state=2020, stratify = y)"
   ]
  },
  {
   "cell_type": "code",
   "execution_count": 11,
   "metadata": {},
   "outputs": [
    {
     "data": {
      "text/html": [
       "<div>\n",
       "<style scoped>\n",
       "    .dataframe tbody tr th:only-of-type {\n",
       "        vertical-align: middle;\n",
       "    }\n",
       "\n",
       "    .dataframe tbody tr th {\n",
       "        vertical-align: top;\n",
       "    }\n",
       "\n",
       "    .dataframe thead th {\n",
       "        text-align: right;\n",
       "    }\n",
       "</style>\n",
       "<table border=\"1\" class=\"dataframe\">\n",
       "  <thead>\n",
       "    <tr style=\"text-align: right;\">\n",
       "      <th></th>\n",
       "      <th>num_ingredients</th>\n",
       "      <th>pricePerServing</th>\n",
       "      <th>readyInMinutes</th>\n",
       "      <th>servings</th>\n",
       "      <th>weightWatcherSmartPoints</th>\n",
       "      <th>Calories</th>\n",
       "      <th>Fat</th>\n",
       "      <th>Saturated_Fat</th>\n",
       "      <th>Carbohydrates</th>\n",
       "      <th>Sugar</th>\n",
       "      <th>Cholesterol</th>\n",
       "      <th>Sodium</th>\n",
       "      <th>Protein</th>\n",
       "      <th>Vitamin_K</th>\n",
       "      <th>Vitamin_A</th>\n",
       "      <th>Vitamin_C</th>\n",
       "      <th>Manganese</th>\n",
       "      <th>Folate</th>\n",
       "      <th>Fiber</th>\n",
       "      <th>Copper</th>\n",
       "      <th>Magnesium</th>\n",
       "      <th>Phosphorus</th>\n",
       "      <th>Vitamin_B6</th>\n",
       "      <th>Potassium</th>\n",
       "      <th>Vitamin_B1</th>\n",
       "      <th>Iron</th>\n",
       "      <th>Vitamin_B2</th>\n",
       "      <th>Vitamin_E</th>\n",
       "      <th>Zinc</th>\n",
       "      <th>Vitamin_B5</th>\n",
       "      <th>Vitamin_B3</th>\n",
       "      <th>Calcium</th>\n",
       "      <th>Selenium</th>\n",
       "      <th>num_words_instructions</th>\n",
       "      <th>aggregateLikes</th>\n",
       "    </tr>\n",
       "  </thead>\n",
       "  <tbody>\n",
       "    <tr>\n",
       "      <td>558</td>\n",
       "      <td>-0.756978</td>\n",
       "      <td>0.988085</td>\n",
       "      <td>-0.290526</td>\n",
       "      <td>0.024401</td>\n",
       "      <td>-0.666891</td>\n",
       "      <td>-0.496993</td>\n",
       "      <td>-0.267642</td>\n",
       "      <td>-0.088512</td>\n",
       "      <td>-1.522822</td>\n",
       "      <td>-0.774579</td>\n",
       "      <td>1.497412</td>\n",
       "      <td>-0.277766</td>\n",
       "      <td>1.034904</td>\n",
       "      <td>-0.801643</td>\n",
       "      <td>-0.520135</td>\n",
       "      <td>0.099482</td>\n",
       "      <td>-1.404039</td>\n",
       "      <td>-0.698207</td>\n",
       "      <td>-1.171685</td>\n",
       "      <td>-0.493402</td>\n",
       "      <td>-0.856788</td>\n",
       "      <td>0.218438</td>\n",
       "      <td>1.292988</td>\n",
       "      <td>-0.276896</td>\n",
       "      <td>0.092803</td>\n",
       "      <td>-0.420974</td>\n",
       "      <td>0.671428</td>\n",
       "      <td>-0.623324</td>\n",
       "      <td>-0.610651</td>\n",
       "      <td>0.653512</td>\n",
       "      <td>0.978889</td>\n",
       "      <td>-0.936896</td>\n",
       "      <td>1.645923</td>\n",
       "      <td>-1.309141</td>\n",
       "      <td>2941</td>\n",
       "    </tr>\n",
       "    <tr>\n",
       "      <td>391</td>\n",
       "      <td>0.644314</td>\n",
       "      <td>-0.166652</td>\n",
       "      <td>0.175180</td>\n",
       "      <td>0.824448</td>\n",
       "      <td>0.238227</td>\n",
       "      <td>-0.181521</td>\n",
       "      <td>-0.149239</td>\n",
       "      <td>-0.287632</td>\n",
       "      <td>0.224522</td>\n",
       "      <td>0.190769</td>\n",
       "      <td>-0.406466</td>\n",
       "      <td>-0.055959</td>\n",
       "      <td>-0.758370</td>\n",
       "      <td>0.364664</td>\n",
       "      <td>-0.192068</td>\n",
       "      <td>0.860600</td>\n",
       "      <td>-0.706732</td>\n",
       "      <td>-0.366194</td>\n",
       "      <td>-0.308400</td>\n",
       "      <td>-0.170389</td>\n",
       "      <td>-0.520102</td>\n",
       "      <td>-0.571703</td>\n",
       "      <td>0.180163</td>\n",
       "      <td>0.489292</td>\n",
       "      <td>-0.407484</td>\n",
       "      <td>-0.135234</td>\n",
       "      <td>-0.636832</td>\n",
       "      <td>-0.032592</td>\n",
       "      <td>-0.589552</td>\n",
       "      <td>-0.369726</td>\n",
       "      <td>-0.326463</td>\n",
       "      <td>-0.557071</td>\n",
       "      <td>-0.652058</td>\n",
       "      <td>0.403409</td>\n",
       "      <td>4105</td>\n",
       "    </tr>\n",
       "    <tr>\n",
       "      <td>520</td>\n",
       "      <td>-0.756978</td>\n",
       "      <td>1.411525</td>\n",
       "      <td>0.175180</td>\n",
       "      <td>0.024401</td>\n",
       "      <td>0.057203</td>\n",
       "      <td>0.653958</td>\n",
       "      <td>0.345171</td>\n",
       "      <td>0.561740</td>\n",
       "      <td>-1.582657</td>\n",
       "      <td>-0.958958</td>\n",
       "      <td>3.559123</td>\n",
       "      <td>-0.041057</td>\n",
       "      <td>3.668923</td>\n",
       "      <td>-0.624947</td>\n",
       "      <td>-0.206755</td>\n",
       "      <td>-0.406721</td>\n",
       "      <td>-1.453847</td>\n",
       "      <td>-1.136354</td>\n",
       "      <td>-1.174894</td>\n",
       "      <td>-0.729450</td>\n",
       "      <td>-0.508280</td>\n",
       "      <td>2.031707</td>\n",
       "      <td>2.674427</td>\n",
       "      <td>0.129457</td>\n",
       "      <td>3.094526</td>\n",
       "      <td>-0.248339</td>\n",
       "      <td>0.438849</td>\n",
       "      <td>-0.537996</td>\n",
       "      <td>2.089974</td>\n",
       "      <td>0.322645</td>\n",
       "      <td>1.564098</td>\n",
       "      <td>-0.132102</td>\n",
       "      <td>2.593715</td>\n",
       "      <td>-0.373919</td>\n",
       "      <td>3017</td>\n",
       "    </tr>\n",
       "    <tr>\n",
       "      <td>574</td>\n",
       "      <td>-0.476719</td>\n",
       "      <td>-0.928668</td>\n",
       "      <td>-0.290526</td>\n",
       "      <td>0.024401</td>\n",
       "      <td>-0.485867</td>\n",
       "      <td>-0.750721</td>\n",
       "      <td>-0.890055</td>\n",
       "      <td>-0.692095</td>\n",
       "      <td>-0.079599</td>\n",
       "      <td>-0.906110</td>\n",
       "      <td>-0.406466</td>\n",
       "      <td>-0.479082</td>\n",
       "      <td>-0.613523</td>\n",
       "      <td>0.545590</td>\n",
       "      <td>-0.163326</td>\n",
       "      <td>-0.227141</td>\n",
       "      <td>-0.358079</td>\n",
       "      <td>-0.787858</td>\n",
       "      <td>-0.983944</td>\n",
       "      <td>0.376248</td>\n",
       "      <td>-0.120419</td>\n",
       "      <td>-0.277441</td>\n",
       "      <td>-0.664050</td>\n",
       "      <td>-1.053334</td>\n",
       "      <td>-0.836301</td>\n",
       "      <td>-0.398651</td>\n",
       "      <td>-0.578687</td>\n",
       "      <td>-0.810389</td>\n",
       "      <td>0.486478</td>\n",
       "      <td>-0.627067</td>\n",
       "      <td>-0.282462</td>\n",
       "      <td>-0.533363</td>\n",
       "      <td>-0.648571</td>\n",
       "      <td>-0.143150</td>\n",
       "      <td>533</td>\n",
       "    </tr>\n",
       "    <tr>\n",
       "      <td>102</td>\n",
       "      <td>-0.196461</td>\n",
       "      <td>-0.429804</td>\n",
       "      <td>-0.383668</td>\n",
       "      <td>-0.375622</td>\n",
       "      <td>-0.304844</td>\n",
       "      <td>-0.613557</td>\n",
       "      <td>-0.214041</td>\n",
       "      <td>-0.315633</td>\n",
       "      <td>-0.546577</td>\n",
       "      <td>-0.893192</td>\n",
       "      <td>-0.406466</td>\n",
       "      <td>-0.479318</td>\n",
       "      <td>-0.803241</td>\n",
       "      <td>-0.321339</td>\n",
       "      <td>-0.601168</td>\n",
       "      <td>-0.714322</td>\n",
       "      <td>-0.544858</td>\n",
       "      <td>-0.148403</td>\n",
       "      <td>-0.289144</td>\n",
       "      <td>-0.505826</td>\n",
       "      <td>-0.260340</td>\n",
       "      <td>-0.560658</td>\n",
       "      <td>-0.625677</td>\n",
       "      <td>-0.668636</td>\n",
       "      <td>-0.657627</td>\n",
       "      <td>-0.269175</td>\n",
       "      <td>-0.491470</td>\n",
       "      <td>-0.176993</td>\n",
       "      <td>-0.406697</td>\n",
       "      <td>-0.179784</td>\n",
       "      <td>-0.474598</td>\n",
       "      <td>-0.929585</td>\n",
       "      <td>-0.606282</td>\n",
       "      <td>-0.689708</td>\n",
       "      <td>607</td>\n",
       "    </tr>\n",
       "  </tbody>\n",
       "</table>\n",
       "</div>"
      ],
      "text/plain": [
       "     num_ingredients  pricePerServing  readyInMinutes  servings  weightWatcherSmartPoints  Calories       Fat  Saturated_Fat  Carbohydrates     Sugar  Cholesterol    Sodium   Protein  Vitamin_K  Vitamin_A  Vitamin_C  Manganese    Folate     Fiber    Copper  Magnesium  Phosphorus  Vitamin_B6  Potassium  Vitamin_B1      Iron  Vitamin_B2  Vitamin_E      Zinc  Vitamin_B5  Vitamin_B3   Calcium  Selenium  num_words_instructions  aggregateLikes\n",
       "558        -0.756978         0.988085       -0.290526  0.024401                 -0.666891 -0.496993 -0.267642      -0.088512      -1.522822 -0.774579     1.497412 -0.277766  1.034904  -0.801643  -0.520135   0.099482  -1.404039 -0.698207 -1.171685 -0.493402  -0.856788    0.218438    1.292988  -0.276896    0.092803 -0.420974    0.671428  -0.623324 -0.610651    0.653512    0.978889 -0.936896  1.645923               -1.309141            2941\n",
       "391         0.644314        -0.166652        0.175180  0.824448                  0.238227 -0.181521 -0.149239      -0.287632       0.224522  0.190769    -0.406466 -0.055959 -0.758370   0.364664  -0.192068   0.860600  -0.706732 -0.366194 -0.308400 -0.170389  -0.520102   -0.571703    0.180163   0.489292   -0.407484 -0.135234   -0.636832  -0.032592 -0.589552   -0.369726   -0.326463 -0.557071 -0.652058                0.403409            4105\n",
       "520        -0.756978         1.411525        0.175180  0.024401                  0.057203  0.653958  0.345171       0.561740      -1.582657 -0.958958     3.559123 -0.041057  3.668923  -0.624947  -0.206755  -0.406721  -1.453847 -1.136354 -1.174894 -0.729450  -0.508280    2.031707    2.674427   0.129457    3.094526 -0.248339    0.438849  -0.537996  2.089974    0.322645    1.564098 -0.132102  2.593715               -0.373919            3017\n",
       "574        -0.476719        -0.928668       -0.290526  0.024401                 -0.485867 -0.750721 -0.890055      -0.692095      -0.079599 -0.906110    -0.406466 -0.479082 -0.613523   0.545590  -0.163326  -0.227141  -0.358079 -0.787858 -0.983944  0.376248  -0.120419   -0.277441   -0.664050  -1.053334   -0.836301 -0.398651   -0.578687  -0.810389  0.486478   -0.627067   -0.282462 -0.533363 -0.648571               -0.143150             533\n",
       "102        -0.196461        -0.429804       -0.383668 -0.375622                 -0.304844 -0.613557 -0.214041      -0.315633      -0.546577 -0.893192    -0.406466 -0.479318 -0.803241  -0.321339  -0.601168  -0.714322  -0.544858 -0.148403 -0.289144 -0.505826  -0.260340   -0.560658   -0.625677  -0.668636   -0.657627 -0.269175   -0.491470  -0.176993 -0.406697   -0.179784   -0.474598 -0.929585 -0.606282               -0.689708             607"
      ]
     },
     "execution_count": 11,
     "metadata": {},
     "output_type": "execute_result"
    }
   ],
   "source": [
    "X_train.head()"
   ]
  },
  {
   "cell_type": "code",
   "execution_count": 12,
   "metadata": {},
   "outputs": [],
   "source": [
    "ss = StandardScaler()\n",
    "X_train_ss = ss.fit_transform(X_train)\n",
    "X_test_ss = ss.transform(X_test)"
   ]
  },
  {
   "cell_type": "markdown",
   "metadata": {},
   "source": [
    "___"
   ]
  },
  {
   "cell_type": "markdown",
   "metadata": {},
   "source": [
    "## SVM Classifier"
   ]
  },
  {
   "cell_type": "code",
   "execution_count": 13,
   "metadata": {},
   "outputs": [],
   "source": [
    "from sklearn.svm import SVC\n",
    "svclassifier = SVC(kernel='linear')"
   ]
  },
  {
   "cell_type": "code",
   "execution_count": 14,
   "metadata": {},
   "outputs": [],
   "source": [
    "from sklearn.model_selection import cross_validate\n",
    "cv = cross_validate(svclassifier,\n",
    "                    X_train,\n",
    "                    y_train,\n",
    "                    cv = 5,\n",
    "                    scoring= 'roc_auc',\n",
    "                    return_estimator= True,\n",
    "                    return_train_score= True,\n",
    "                    n_jobs= -1)"
   ]
  },
  {
   "cell_type": "code",
   "execution_count": 15,
   "metadata": {},
   "outputs": [
    {
     "name": "stdout",
     "output_type": "stream",
     "text": [
      "[1. 1. 1. 1. 1.]\n",
      "[1. 1. 1. 1. 1.]\n"
     ]
    }
   ],
   "source": [
    "print(cv['train_score'])\n",
    "print(cv['test_score'])"
   ]
  },
  {
   "cell_type": "code",
   "execution_count": 16,
   "metadata": {},
   "outputs": [
    {
     "name": "stdout",
     "output_type": "stream",
     "text": [
      "              precision    recall  f1-score   support\n",
      "\n",
      "           0       1.00      1.00      1.00       125\n",
      "           1       1.00      1.00      1.00       125\n",
      "\n",
      "    accuracy                           1.00       250\n",
      "   macro avg       1.00      1.00      1.00       250\n",
      "weighted avg       1.00      1.00      1.00       250\n",
      "\n",
      "The accuracy score is 1.0\n"
     ]
    }
   ],
   "source": [
    "from sklearn.metrics import classification_report, confusion_matrix , accuracy_score\n",
    "\n",
    "estimator = cv['estimator'][1]\n",
    "y_pred = estimator.predict(X_test)\n",
    "\n",
    "print(classification_report(y_test, y_pred)) \n",
    "print(f\"The accuracy score is {accuracy_score(y_test, y_pred)}\")"
   ]
  },
  {
   "cell_type": "code",
   "execution_count": 19,
   "metadata": {},
   "outputs": [],
   "source": [
    "y_pred = y_pred.reshape(-1,1)\n",
    "y_test = np.array(y_test).reshape(-1,1)"
   ]
  },
  {
   "cell_type": "code",
   "execution_count": 20,
   "metadata": {},
   "outputs": [
    {
     "name": "stdout",
     "output_type": "stream",
     "text": [
      "(250, 1)\n",
      "(250, 1)\n"
     ]
    }
   ],
   "source": [
    "print(y_pred.shape)\n",
    "print(y_test.shape)"
   ]
  },
  {
   "cell_type": "code",
   "execution_count": 21,
   "metadata": {
    "scrolled": true
   },
   "outputs": [
    {
     "data": {
      "text/plain": [
       "(array([0, 1]), array([125, 125]))"
      ]
     },
     "execution_count": 21,
     "metadata": {},
     "output_type": "execute_result"
    }
   ],
   "source": [
    "np.unique(y_test, return_counts=True)"
   ]
  },
  {
   "cell_type": "code",
   "execution_count": 22,
   "metadata": {},
   "outputs": [
    {
     "data": {
      "text/plain": [
       "(array([0, 1]), array([125, 125]))"
      ]
     },
     "execution_count": 22,
     "metadata": {},
     "output_type": "execute_result"
    }
   ],
   "source": [
    "np.unique(y_pred, return_counts=True)"
   ]
  },
  {
   "cell_type": "code",
   "execution_count": 23,
   "metadata": {},
   "outputs": [
    {
     "data": {
      "text/html": [
       "<div>\n",
       "<style scoped>\n",
       "    .dataframe tbody tr th:only-of-type {\n",
       "        vertical-align: middle;\n",
       "    }\n",
       "\n",
       "    .dataframe tbody tr th {\n",
       "        vertical-align: top;\n",
       "    }\n",
       "\n",
       "    .dataframe thead th {\n",
       "        text-align: right;\n",
       "    }\n",
       "</style>\n",
       "<table border=\"1\" class=\"dataframe\">\n",
       "  <thead>\n",
       "    <tr style=\"text-align: right;\">\n",
       "      <th></th>\n",
       "      <th>predicted 0</th>\n",
       "      <th>predicted 1</th>\n",
       "    </tr>\n",
       "  </thead>\n",
       "  <tbody>\n",
       "    <tr>\n",
       "      <td>actual 0</td>\n",
       "      <td>125</td>\n",
       "      <td>0</td>\n",
       "    </tr>\n",
       "    <tr>\n",
       "      <td>actual 1</td>\n",
       "      <td>0</td>\n",
       "      <td>125</td>\n",
       "    </tr>\n",
       "  </tbody>\n",
       "</table>\n",
       "</div>"
      ],
      "text/plain": [
       "          predicted 0  predicted 1\n",
       "actual 0          125            0\n",
       "actual 1            0          125"
      ]
     },
     "execution_count": 23,
     "metadata": {},
     "output_type": "execute_result"
    }
   ],
   "source": [
    "#define the confusion matrix\n",
    "conf_matrix = pd.DataFrame(confusion_matrix(y_test, y_pred),\n",
    "                           index = ['actual 0', 'actual 1'], \n",
    "                           columns = ['predicted 0', 'predicted 1'])\n",
    "\n",
    "#return the confusion matrix\n",
    "conf_matrix"
   ]
  },
  {
   "cell_type": "markdown",
   "metadata": {},
   "source": [
    "___"
   ]
  },
  {
   "cell_type": "markdown",
   "metadata": {},
   "source": [
    "## K-Nearest Neighbors Classifier"
   ]
  },
  {
   "cell_type": "code",
   "execution_count": null,
   "metadata": {},
   "outputs": [],
   "source": []
  },
  {
   "cell_type": "markdown",
   "metadata": {},
   "source": [
    "___"
   ]
  },
  {
   "cell_type": "markdown",
   "metadata": {},
   "source": [
    "## AdaBoost Classifier"
   ]
  },
  {
   "cell_type": "code",
   "execution_count": null,
   "metadata": {},
   "outputs": [],
   "source": []
  }
 ],
 "metadata": {
  "kernelspec": {
   "display_name": "Python 3",
   "language": "python",
   "name": "python3"
  },
  "language_info": {
   "codemirror_mode": {
    "name": "ipython",
    "version": 3
   },
   "file_extension": ".py",
   "mimetype": "text/x-python",
   "name": "python",
   "nbconvert_exporter": "python",
   "pygments_lexer": "ipython3",
   "version": "3.7.4"
  },
  "toc": {
   "base_numbering": 1,
   "nav_menu": {},
   "number_sections": true,
   "sideBar": true,
   "skip_h1_title": true,
   "title_cell": "Table of Contents",
   "title_sidebar": "Contents",
   "toc_cell": false,
   "toc_position": {},
   "toc_section_display": true,
   "toc_window_display": true
  }
 },
 "nbformat": 4,
 "nbformat_minor": 2
}
