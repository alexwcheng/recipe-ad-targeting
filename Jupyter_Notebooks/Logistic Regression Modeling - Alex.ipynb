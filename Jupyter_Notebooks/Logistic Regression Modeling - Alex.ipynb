{
 "cells": [
  {
   "cell_type": "markdown",
   "metadata": {},
   "source": [
    "# Logistic Regression Modeling"
   ]
  },
  {
   "cell_type": "markdown",
   "metadata": {},
   "source": [
    "### 1. Import Libraries"
   ]
  },
  {
   "cell_type": "code",
   "execution_count": 2,
   "metadata": {},
   "outputs": [],
   "source": [
    "import matplotlib.pyplot as plt\n",
    "import matplotlib.ticker as ticker\n",
    "%matplotlib inline\n",
    "import seaborn as sns\n",
    "import numpy as np\n",
    "import pandas as pd\n",
    "import requests\n",
    "import json\n",
    "import sklearn\n",
    "from scipy import stats\n",
    "from scipy.stats import norm\n",
    "from sklearn.utils import resample\n",
    "import pickle\n",
    "import statsmodels.api as sm\n",
    "from statsmodels.formula.api import ols\n",
    "import scipy.stats as stats\n",
    "from wordcloud import WordCloud\n",
    "import random\n",
    "from collections import Counter\n",
    "from statsmodels.stats.outliers_influence import variance_inflation_factor\n",
    "from sklearn.model_selection import train_test_split\n",
    "from sklearn.linear_model import LassoCV, Lasso, Ridge, LinearRegression, LogisticRegression\n",
    "from sklearn.preprocessing import StandardScaler\n",
    "from sklearn.metrics import roc_curve, auc"
   ]
  },
  {
   "cell_type": "markdown",
   "metadata": {},
   "source": [
    "___"
   ]
  },
  {
   "cell_type": "markdown",
   "metadata": {},
   "source": [
    "### 2. Expand maximum range of rows"
   ]
  },
  {
   "cell_type": "code",
   "execution_count": 3,
   "metadata": {},
   "outputs": [],
   "source": [
    "pd.set_option('display.max_rows', 1000)\n",
    "pd.set_option('display.max_columns', 1000)\n",
    "pd.set_option('display.width', 1000)"
   ]
  },
  {
   "cell_type": "markdown",
   "metadata": {},
   "source": [
    "___"
   ]
  },
  {
   "cell_type": "markdown",
   "metadata": {},
   "source": [
    "### 3. Load Data"
   ]
  },
  {
   "cell_type": "code",
   "execution_count": 11,
   "metadata": {},
   "outputs": [],
   "source": [
    "df = pd.read_csv('../Data/Recipes_raw.csv', index_col=0)"
   ]
  },
  {
   "cell_type": "code",
   "execution_count": 14,
   "metadata": {},
   "outputs": [
    {
     "data": {
      "text/html": [
       "<div>\n",
       "<style scoped>\n",
       "    .dataframe tbody tr th:only-of-type {\n",
       "        vertical-align: middle;\n",
       "    }\n",
       "\n",
       "    .dataframe tbody tr th {\n",
       "        vertical-align: top;\n",
       "    }\n",
       "\n",
       "    .dataframe thead th {\n",
       "        text-align: right;\n",
       "    }\n",
       "</style>\n",
       "<table border=\"1\" class=\"dataframe\">\n",
       "  <thead>\n",
       "    <tr style=\"text-align: right;\">\n",
       "      <th></th>\n",
       "      <th>aggregateLikes</th>\n",
       "      <th>analyzedInstructions</th>\n",
       "      <th>cookingMinutes</th>\n",
       "      <th>dairyFree</th>\n",
       "      <th>diets</th>\n",
       "      <th>dishTypes</th>\n",
       "      <th>extendedIngredients</th>\n",
       "      <th>glutenFree</th>\n",
       "      <th>healthScore</th>\n",
       "      <th>ketogenic</th>\n",
       "      <th>lowFodmap</th>\n",
       "      <th>num_ingredients</th>\n",
       "      <th>preparationMinutes</th>\n",
       "      <th>pricePerServing</th>\n",
       "      <th>readyInMinutes</th>\n",
       "      <th>servings</th>\n",
       "      <th>spoonacularSourceUrl</th>\n",
       "      <th>sustainable</th>\n",
       "      <th>title</th>\n",
       "      <th>vegan</th>\n",
       "      <th>vegetarian</th>\n",
       "      <th>veryHealthy</th>\n",
       "      <th>veryPopular</th>\n",
       "      <th>weightWatcherSmartPoints</th>\n",
       "      <th>whole30</th>\n",
       "      <th>Calories</th>\n",
       "      <th>Fat</th>\n",
       "      <th>Saturated_Fat</th>\n",
       "      <th>Carbohydrates</th>\n",
       "      <th>Sugar</th>\n",
       "      <th>Cholesterol</th>\n",
       "      <th>Sodium</th>\n",
       "      <th>Protein</th>\n",
       "      <th>Vitamin_K</th>\n",
       "      <th>Vitamin_A</th>\n",
       "      <th>Vitamin_C</th>\n",
       "      <th>Manganese</th>\n",
       "      <th>Folate</th>\n",
       "      <th>Fiber</th>\n",
       "      <th>Copper</th>\n",
       "      <th>Magnesium</th>\n",
       "      <th>Phosphorus</th>\n",
       "      <th>Vitamin_B6</th>\n",
       "      <th>Potassium</th>\n",
       "      <th>Vitamin_B1</th>\n",
       "      <th>Iron</th>\n",
       "      <th>Vitamin_B2</th>\n",
       "      <th>Vitamin_E</th>\n",
       "      <th>Zinc</th>\n",
       "      <th>Vitamin_B5</th>\n",
       "      <th>Vitamin_B3</th>\n",
       "      <th>Calcium</th>\n",
       "      <th>Selenium</th>\n",
       "      <th>num_words_instructions</th>\n",
       "      <th>num_steps_instructions</th>\n",
       "      <th>ingredients_list</th>\n",
       "      <th>ingredient_types</th>\n",
       "      <th>primal</th>\n",
       "      <th>paleo</th>\n",
       "    </tr>\n",
       "  </thead>\n",
       "  <tbody>\n",
       "    <tr>\n",
       "      <td>0</td>\n",
       "      <td>50078</td>\n",
       "      <td>[{'name': '', 'steps': [{'number': 1, 'step': ...</td>\n",
       "      <td>25.0</td>\n",
       "      <td>True</td>\n",
       "      <td>['gluten free', 'dairy free', 'lacto ovo veget...</td>\n",
       "      <td>['side dish']</td>\n",
       "      <td>[{'id': 1022009, 'aisle': 'Ethnic Foods;Spices...</td>\n",
       "      <td>True</td>\n",
       "      <td>100.0</td>\n",
       "      <td>False</td>\n",
       "      <td>False</td>\n",
       "      <td>15</td>\n",
       "      <td>25.0</td>\n",
       "      <td>101.23</td>\n",
       "      <td>50</td>\n",
       "      <td>6</td>\n",
       "      <td>https://spoonacular.com/kale-and-quinoa-salad-...</td>\n",
       "      <td>False</td>\n",
       "      <td>Kale and Quinoa Salad with Black Beans</td>\n",
       "      <td>True</td>\n",
       "      <td>True</td>\n",
       "      <td>True</td>\n",
       "      <td>True</td>\n",
       "      <td>6.0</td>\n",
       "      <td>False</td>\n",
       "      <td>242.60</td>\n",
       "      <td>7.38</td>\n",
       "      <td>1.03</td>\n",
       "      <td>37.19</td>\n",
       "      <td>1.80</td>\n",
       "      <td>0.0</td>\n",
       "      <td>250.66</td>\n",
       "      <td>9.79</td>\n",
       "      <td>142.68</td>\n",
       "      <td>4183.66</td>\n",
       "      <td>48.48</td>\n",
       "      <td>1.01</td>\n",
       "      <td>160.25</td>\n",
       "      <td>8.84</td>\n",
       "      <td>0.63</td>\n",
       "      <td>111.48</td>\n",
       "      <td>239.17</td>\n",
       "      <td>0.38</td>\n",
       "      <td>667.61</td>\n",
       "      <td>0.28</td>\n",
       "      <td>2.98</td>\n",
       "      <td>0.21</td>\n",
       "      <td>1.82</td>\n",
       "      <td>1.80</td>\n",
       "      <td>0.91</td>\n",
       "      <td>1.72</td>\n",
       "      <td>69.53</td>\n",
       "      <td>3.59</td>\n",
       "      <td>186</td>\n",
       "      <td>10</td>\n",
       "      <td>['ancho chile powder', 'avocado', 'black beans...</td>\n",
       "      <td>Counter({'Produce': 7, 'Spices and Seasonings'...</td>\n",
       "      <td>0</td>\n",
       "      <td>0</td>\n",
       "    </tr>\n",
       "    <tr>\n",
       "      <td>1</td>\n",
       "      <td>67131</td>\n",
       "      <td>[{'name': '', 'steps': [{'number': 1, 'step': ...</td>\n",
       "      <td>10.0</td>\n",
       "      <td>True</td>\n",
       "      <td>['dairy free', 'lacto ovo vegetarian', 'vegan']</td>\n",
       "      <td>['lunch', 'main course', 'main dish', 'dinner']</td>\n",
       "      <td>[{'id': 9037, 'aisle': 'Produce', 'image': 'av...</td>\n",
       "      <td>False</td>\n",
       "      <td>100.0</td>\n",
       "      <td>False</td>\n",
       "      <td>False</td>\n",
       "      <td>7</td>\n",
       "      <td>5.0</td>\n",
       "      <td>171.39</td>\n",
       "      <td>15</td>\n",
       "      <td>2</td>\n",
       "      <td>https://spoonacular.com/creamy-avocado-pasta-5...</td>\n",
       "      <td>False</td>\n",
       "      <td>Creamy Avocado Pasta</td>\n",
       "      <td>True</td>\n",
       "      <td>True</td>\n",
       "      <td>True</td>\n",
       "      <td>True</td>\n",
       "      <td>13.0</td>\n",
       "      <td>False</td>\n",
       "      <td>484.43</td>\n",
       "      <td>16.17</td>\n",
       "      <td>2.38</td>\n",
       "      <td>78.08</td>\n",
       "      <td>3.95</td>\n",
       "      <td>0.0</td>\n",
       "      <td>599.51</td>\n",
       "      <td>15.36</td>\n",
       "      <td>31.03</td>\n",
       "      <td>2618.17</td>\n",
       "      <td>108.44</td>\n",
       "      <td>2.86</td>\n",
       "      <td>166.19</td>\n",
       "      <td>8.42</td>\n",
       "      <td>0.60</td>\n",
       "      <td>161.21</td>\n",
       "      <td>295.36</td>\n",
       "      <td>0.69</td>\n",
       "      <td>852.80</td>\n",
       "      <td>0.53</td>\n",
       "      <td>4.03</td>\n",
       "      <td>0.32</td>\n",
       "      <td>3.33</td>\n",
       "      <td>2.88</td>\n",
       "      <td>2.50</td>\n",
       "      <td>6.88</td>\n",
       "      <td>56.76</td>\n",
       "      <td>62.80</td>\n",
       "      <td>108</td>\n",
       "      <td>6</td>\n",
       "      <td>['avocado', 'bell pepper', 'fresh cilantro', '...</td>\n",
       "      <td>Counter({'Produce': 4, 'Produce;Spices and Sea...</td>\n",
       "      <td>0</td>\n",
       "      <td>0</td>\n",
       "    </tr>\n",
       "    <tr>\n",
       "      <td>2</td>\n",
       "      <td>142071</td>\n",
       "      <td>[{'name': '', 'steps': [{'number': 1, 'step': ...</td>\n",
       "      <td>5.0</td>\n",
       "      <td>True</td>\n",
       "      <td>['dairy free', 'lacto ovo vegetarian']</td>\n",
       "      <td>['side dish']</td>\n",
       "      <td>[{'id': 9037, 'aisle': 'Produce', 'image': 'av...</td>\n",
       "      <td>False</td>\n",
       "      <td>95.0</td>\n",
       "      <td>False</td>\n",
       "      <td>False</td>\n",
       "      <td>7</td>\n",
       "      <td>5.0</td>\n",
       "      <td>160.46</td>\n",
       "      <td>10</td>\n",
       "      <td>1</td>\n",
       "      <td>https://spoonacular.com/avocado-toast-with-egg...</td>\n",
       "      <td>False</td>\n",
       "      <td>Avocado Toast with Eggs, Spinach, and Tomatoes</td>\n",
       "      <td>False</td>\n",
       "      <td>True</td>\n",
       "      <td>True</td>\n",
       "      <td>True</td>\n",
       "      <td>7.0</td>\n",
       "      <td>False</td>\n",
       "      <td>277.24</td>\n",
       "      <td>15.90</td>\n",
       "      <td>2.36</td>\n",
       "      <td>22.41</td>\n",
       "      <td>2.90</td>\n",
       "      <td>0.0</td>\n",
       "      <td>446.21</td>\n",
       "      <td>13.71</td>\n",
       "      <td>168.17</td>\n",
       "      <td>2960.71</td>\n",
       "      <td>18.56</td>\n",
       "      <td>1.02</td>\n",
       "      <td>156.59</td>\n",
       "      <td>9.33</td>\n",
       "      <td>0.35</td>\n",
       "      <td>83.28</td>\n",
       "      <td>134.02</td>\n",
       "      <td>0.38</td>\n",
       "      <td>835.23</td>\n",
       "      <td>0.19</td>\n",
       "      <td>2.11</td>\n",
       "      <td>0.54</td>\n",
       "      <td>2.84</td>\n",
       "      <td>1.33</td>\n",
       "      <td>1.74</td>\n",
       "      <td>3.36</td>\n",
       "      <td>76.83</td>\n",
       "      <td>25.20</td>\n",
       "      <td>97</td>\n",
       "      <td>6</td>\n",
       "      <td>['avocado', 'campari', 'egg whites', 'multigra...</td>\n",
       "      <td>Counter({'Produce': 3, 'Alcoholic Beverages': ...</td>\n",
       "      <td>0</td>\n",
       "      <td>0</td>\n",
       "    </tr>\n",
       "    <tr>\n",
       "      <td>3</td>\n",
       "      <td>7119</td>\n",
       "      <td>[{'name': '', 'steps': [{'number': 1, 'step': ...</td>\n",
       "      <td>5.0</td>\n",
       "      <td>True</td>\n",
       "      <td>['gluten free', 'dairy free', 'lacto ovo veget...</td>\n",
       "      <td>['side dish']</td>\n",
       "      <td>[{'id': 11215, 'aisle': 'Produce', 'image': 'g...</td>\n",
       "      <td>True</td>\n",
       "      <td>100.0</td>\n",
       "      <td>False</td>\n",
       "      <td>False</td>\n",
       "      <td>7</td>\n",
       "      <td>10.0</td>\n",
       "      <td>51.22</td>\n",
       "      <td>15</td>\n",
       "      <td>4</td>\n",
       "      <td>https://spoonacular.com/citrus-sesame-kale-495111</td>\n",
       "      <td>False</td>\n",
       "      <td>Citrus Sesame Kale</td>\n",
       "      <td>True</td>\n",
       "      <td>True</td>\n",
       "      <td>True</td>\n",
       "      <td>True</td>\n",
       "      <td>1.0</td>\n",
       "      <td>False</td>\n",
       "      <td>72.07</td>\n",
       "      <td>3.56</td>\n",
       "      <td>0.47</td>\n",
       "      <td>8.58</td>\n",
       "      <td>0.41</td>\n",
       "      <td>0.0</td>\n",
       "      <td>158.35</td>\n",
       "      <td>4.14</td>\n",
       "      <td>599.75</td>\n",
       "      <td>8505.00</td>\n",
       "      <td>104.44</td>\n",
       "      <td>0.61</td>\n",
       "      <td>29.09</td>\n",
       "      <td>0.00</td>\n",
       "      <td>1.32</td>\n",
       "      <td>45.25</td>\n",
       "      <td>89.50</td>\n",
       "      <td>0.25</td>\n",
       "      <td>440.62</td>\n",
       "      <td>0.11</td>\n",
       "      <td>1.47</td>\n",
       "      <td>0.12</td>\n",
       "      <td>0.00</td>\n",
       "      <td>0.58</td>\n",
       "      <td>0.00</td>\n",
       "      <td>1.01</td>\n",
       "      <td>139.68</td>\n",
       "      <td>1.24</td>\n",
       "      <td>62</td>\n",
       "      <td>4</td>\n",
       "      <td>['garlic', 'ginger', 'kale', 'orange juice', '...</td>\n",
       "      <td>Counter({'Produce': 2, 'Produce;Ethnic Foods;S...</td>\n",
       "      <td>0</td>\n",
       "      <td>0</td>\n",
       "    </tr>\n",
       "    <tr>\n",
       "      <td>4</td>\n",
       "      <td>231494</td>\n",
       "      <td>[{'name': '', 'steps': [{'number': 1, 'step': ...</td>\n",
       "      <td>0.0</td>\n",
       "      <td>False</td>\n",
       "      <td>['gluten free', 'primal']</td>\n",
       "      <td>['salad']</td>\n",
       "      <td>[{'id': 9085, 'aisle': 'Dried Fruits;Produce',...</td>\n",
       "      <td>True</td>\n",
       "      <td>96.0</td>\n",
       "      <td>False</td>\n",
       "      <td>False</td>\n",
       "      <td>8</td>\n",
       "      <td>10.0</td>\n",
       "      <td>279.17</td>\n",
       "      <td>10</td>\n",
       "      <td>2</td>\n",
       "      <td>https://spoonacular.com/melt-in-your-mouth-kal...</td>\n",
       "      <td>False</td>\n",
       "      <td>Melt In Your Mouth Kale Salad</td>\n",
       "      <td>False</td>\n",
       "      <td>False</td>\n",
       "      <td>True</td>\n",
       "      <td>True</td>\n",
       "      <td>11.0</td>\n",
       "      <td>False</td>\n",
       "      <td>441.93</td>\n",
       "      <td>33.36</td>\n",
       "      <td>4.33</td>\n",
       "      <td>32.12</td>\n",
       "      <td>20.69</td>\n",
       "      <td>6.8</td>\n",
       "      <td>381.72</td>\n",
       "      <td>12.02</td>\n",
       "      <td>481.49</td>\n",
       "      <td>6599.81</td>\n",
       "      <td>85.22</td>\n",
       "      <td>3.52</td>\n",
       "      <td>37.80</td>\n",
       "      <td>2.93</td>\n",
       "      <td>1.54</td>\n",
       "      <td>130.48</td>\n",
       "      <td>354.60</td>\n",
       "      <td>0.30</td>\n",
       "      <td>761.30</td>\n",
       "      <td>0.24</td>\n",
       "      <td>3.75</td>\n",
       "      <td>0.23</td>\n",
       "      <td>4.22</td>\n",
       "      <td>2.99</td>\n",
       "      <td>0.24</td>\n",
       "      <td>2.56</td>\n",
       "      <td>243.24</td>\n",
       "      <td>3.28</td>\n",
       "      <td>59</td>\n",
       "      <td>4</td>\n",
       "      <td>['currants', 'honey', 'juice of lemon', 'kale'...</td>\n",
       "      <td>Counter({'Produce': 2, 'Dried Fruits;Produce':...</td>\n",
       "      <td>1</td>\n",
       "      <td>0</td>\n",
       "    </tr>\n",
       "  </tbody>\n",
       "</table>\n",
       "</div>"
      ],
      "text/plain": [
       "   aggregateLikes                               analyzedInstructions  cookingMinutes  dairyFree                                              diets                                        dishTypes                                extendedIngredients  glutenFree  healthScore  ketogenic  lowFodmap  num_ingredients  preparationMinutes  pricePerServing  readyInMinutes  servings                               spoonacularSourceUrl  sustainable                                           title  vegan  vegetarian  veryHealthy  veryPopular  weightWatcherSmartPoints  whole30  Calories    Fat  Saturated_Fat  Carbohydrates  Sugar  Cholesterol  Sodium  Protein  Vitamin_K  Vitamin_A  Vitamin_C  Manganese  Folate  Fiber  Copper  Magnesium  Phosphorus  Vitamin_B6  Potassium  Vitamin_B1  Iron  Vitamin_B2  Vitamin_E  Zinc  Vitamin_B5  Vitamin_B3  Calcium  Selenium  num_words_instructions  num_steps_instructions                                   ingredients_list  \\\n",
       "0           50078  [{'name': '', 'steps': [{'number': 1, 'step': ...            25.0       True  ['gluten free', 'dairy free', 'lacto ovo veget...                                    ['side dish']  [{'id': 1022009, 'aisle': 'Ethnic Foods;Spices...        True        100.0      False      False               15                25.0           101.23              50         6  https://spoonacular.com/kale-and-quinoa-salad-...        False          Kale and Quinoa Salad with Black Beans   True        True         True         True                       6.0    False    242.60   7.38           1.03          37.19   1.80          0.0  250.66     9.79     142.68    4183.66      48.48       1.01  160.25   8.84    0.63     111.48      239.17        0.38     667.61        0.28  2.98        0.21       1.82  1.80        0.91        1.72    69.53      3.59                     186                      10  ['ancho chile powder', 'avocado', 'black beans...   \n",
       "1           67131  [{'name': '', 'steps': [{'number': 1, 'step': ...            10.0       True    ['dairy free', 'lacto ovo vegetarian', 'vegan']  ['lunch', 'main course', 'main dish', 'dinner']  [{'id': 9037, 'aisle': 'Produce', 'image': 'av...       False        100.0      False      False                7                 5.0           171.39              15         2  https://spoonacular.com/creamy-avocado-pasta-5...        False                            Creamy Avocado Pasta   True        True         True         True                      13.0    False    484.43  16.17           2.38          78.08   3.95          0.0  599.51    15.36      31.03    2618.17     108.44       2.86  166.19   8.42    0.60     161.21      295.36        0.69     852.80        0.53  4.03        0.32       3.33  2.88        2.50        6.88    56.76     62.80                     108                       6  ['avocado', 'bell pepper', 'fresh cilantro', '...   \n",
       "2          142071  [{'name': '', 'steps': [{'number': 1, 'step': ...             5.0       True             ['dairy free', 'lacto ovo vegetarian']                                    ['side dish']  [{'id': 9037, 'aisle': 'Produce', 'image': 'av...       False         95.0      False      False                7                 5.0           160.46              10         1  https://spoonacular.com/avocado-toast-with-egg...        False  Avocado Toast with Eggs, Spinach, and Tomatoes  False        True         True         True                       7.0    False    277.24  15.90           2.36          22.41   2.90          0.0  446.21    13.71     168.17    2960.71      18.56       1.02  156.59   9.33    0.35      83.28      134.02        0.38     835.23        0.19  2.11        0.54       2.84  1.33        1.74        3.36    76.83     25.20                      97                       6  ['avocado', 'campari', 'egg whites', 'multigra...   \n",
       "3            7119  [{'name': '', 'steps': [{'number': 1, 'step': ...             5.0       True  ['gluten free', 'dairy free', 'lacto ovo veget...                                    ['side dish']  [{'id': 11215, 'aisle': 'Produce', 'image': 'g...        True        100.0      False      False                7                10.0            51.22              15         4  https://spoonacular.com/citrus-sesame-kale-495111        False                              Citrus Sesame Kale   True        True         True         True                       1.0    False     72.07   3.56           0.47           8.58   0.41          0.0  158.35     4.14     599.75    8505.00     104.44       0.61   29.09   0.00    1.32      45.25       89.50        0.25     440.62        0.11  1.47        0.12       0.00  0.58        0.00        1.01   139.68      1.24                      62                       4  ['garlic', 'ginger', 'kale', 'orange juice', '...   \n",
       "4          231494  [{'name': '', 'steps': [{'number': 1, 'step': ...             0.0      False                          ['gluten free', 'primal']                                        ['salad']  [{'id': 9085, 'aisle': 'Dried Fruits;Produce',...        True         96.0      False      False                8                10.0           279.17              10         2  https://spoonacular.com/melt-in-your-mouth-kal...        False                   Melt In Your Mouth Kale Salad  False       False         True         True                      11.0    False    441.93  33.36           4.33          32.12  20.69          6.8  381.72    12.02     481.49    6599.81      85.22       3.52   37.80   2.93    1.54     130.48      354.60        0.30     761.30        0.24  3.75        0.23       4.22  2.99        0.24        2.56   243.24      3.28                      59                       4  ['currants', 'honey', 'juice of lemon', 'kale'...   \n",
       "\n",
       "                                    ingredient_types  primal  paleo  \n",
       "0  Counter({'Produce': 7, 'Spices and Seasonings'...       0      0  \n",
       "1  Counter({'Produce': 4, 'Produce;Spices and Sea...       0      0  \n",
       "2  Counter({'Produce': 3, 'Alcoholic Beverages': ...       0      0  \n",
       "3  Counter({'Produce': 2, 'Produce;Ethnic Foods;S...       0      0  \n",
       "4  Counter({'Produce': 2, 'Dried Fruits;Produce':...       1      0  "
      ]
     },
     "execution_count": 14,
     "metadata": {},
     "output_type": "execute_result"
    }
   ],
   "source": [
    "df.head()"
   ]
  },
  {
   "cell_type": "markdown",
   "metadata": {},
   "source": [
    "___"
   ]
  },
  {
   "cell_type": "markdown",
   "metadata": {},
   "source": [
    "### 4. Scale DataFrame For Regression"
   ]
  },
  {
   "cell_type": "code",
   "execution_count": 4,
   "metadata": {},
   "outputs": [],
   "source": [
    "cols_to_scale = ['cookingMinutes', 'num_ingredients','preparationMinutes', \n",
    "                 'pricePerServing', 'readyInMinutes', 'servings','weightWatcherSmartPoints',\n",
    "                'Calories', 'Fat', 'Saturated_Fat', 'Carbohydrates', 'Sugar','Cholesterol', \n",
    "                 'Sodium', 'Protein', 'Vitamin_K', 'Vitamin_A','Vitamin_C', 'Manganese', \n",
    "                 'Folate', 'Fiber', 'Copper', 'Magnesium','Phosphorus', 'Vitamin_B6', \n",
    "                 'Potassium', 'Vitamin_B1', 'Iron','Vitamin_B2', 'Vitamin_E', 'Zinc', \n",
    "                 'Vitamin_B5', 'Vitamin_B3','Calcium', 'Selenium', 'num_words_instructions',\n",
    "                 'num_steps_instructions']"
   ]
  },
  {
   "cell_type": "code",
   "execution_count": 5,
   "metadata": {},
   "outputs": [],
   "source": [
    "df.drop(columns = ['analyzedInstructions', 'diets', 'extendedIngredients',\n",
    "                  'dairyFree','dishTypes','glutenFree','healthScore', 'ketogenic', \n",
    "                   'lowFodmap','sustainable', 'veryHealthy', 'veryPopular',], inplace = True)"
   ]
  },
  {
   "cell_type": "code",
   "execution_count": 6,
   "metadata": {},
   "outputs": [],
   "source": [
    "ss = StandardScaler()"
   ]
  },
  {
   "cell_type": "code",
   "execution_count": 7,
   "metadata": {},
   "outputs": [],
   "source": [
    "df_ss = pd.DataFrame(ss.fit_transform(df[cols_to_scale].values), columns=cols_to_scale)"
   ]
  },
  {
   "cell_type": "code",
   "execution_count": 8,
   "metadata": {},
   "outputs": [],
   "source": [
    "df_ss['aggregateLikes'] = df['aggregateLikes']\n",
    "categorical_list = 'ingredients_list', 'ingredient_types', 'title', 'spoonacularSourceUrl'\n",
    "for category in categorical_list:\n",
    "    df_ss[category] = df[category]\n",
    "    "
   ]
  },
  {
   "cell_type": "code",
   "execution_count": 9,
   "metadata": {},
   "outputs": [],
   "source": [
    "# df_ss.to_csv('../Data/scaled_raw.csv')"
   ]
  },
  {
   "cell_type": "code",
   "execution_count": 10,
   "metadata": {},
   "outputs": [
    {
     "data": {
      "text/html": [
       "<div>\n",
       "<style scoped>\n",
       "    .dataframe tbody tr th:only-of-type {\n",
       "        vertical-align: middle;\n",
       "    }\n",
       "\n",
       "    .dataframe tbody tr th {\n",
       "        vertical-align: top;\n",
       "    }\n",
       "\n",
       "    .dataframe thead th {\n",
       "        text-align: right;\n",
       "    }\n",
       "</style>\n",
       "<table border=\"1\" class=\"dataframe\">\n",
       "  <thead>\n",
       "    <tr style=\"text-align: right;\">\n",
       "      <th></th>\n",
       "      <th>cookingMinutes</th>\n",
       "      <th>num_ingredients</th>\n",
       "      <th>preparationMinutes</th>\n",
       "      <th>pricePerServing</th>\n",
       "      <th>readyInMinutes</th>\n",
       "      <th>servings</th>\n",
       "      <th>weightWatcherSmartPoints</th>\n",
       "      <th>Calories</th>\n",
       "      <th>Fat</th>\n",
       "      <th>Saturated_Fat</th>\n",
       "      <th>Carbohydrates</th>\n",
       "      <th>Sugar</th>\n",
       "      <th>Cholesterol</th>\n",
       "      <th>Sodium</th>\n",
       "      <th>Protein</th>\n",
       "      <th>Vitamin_K</th>\n",
       "      <th>Vitamin_A</th>\n",
       "      <th>Vitamin_C</th>\n",
       "      <th>Manganese</th>\n",
       "      <th>Folate</th>\n",
       "      <th>Fiber</th>\n",
       "      <th>Copper</th>\n",
       "      <th>Magnesium</th>\n",
       "      <th>Phosphorus</th>\n",
       "      <th>Vitamin_B6</th>\n",
       "      <th>Potassium</th>\n",
       "      <th>Vitamin_B1</th>\n",
       "      <th>Iron</th>\n",
       "      <th>Vitamin_B2</th>\n",
       "      <th>Vitamin_E</th>\n",
       "      <th>Zinc</th>\n",
       "      <th>Vitamin_B5</th>\n",
       "      <th>Vitamin_B3</th>\n",
       "      <th>Calcium</th>\n",
       "      <th>Selenium</th>\n",
       "      <th>num_words_instructions</th>\n",
       "      <th>num_steps_instructions</th>\n",
       "      <th>aggregateLikes</th>\n",
       "      <th>ingredients_list</th>\n",
       "      <th>ingredient_types</th>\n",
       "      <th>title</th>\n",
       "      <th>spoonacularSourceUrl</th>\n",
       "    </tr>\n",
       "  </thead>\n",
       "  <tbody>\n",
       "    <tr>\n",
       "      <td>0</td>\n",
       "      <td>-0.029409</td>\n",
       "      <td>1.485089</td>\n",
       "      <td>0.885421</td>\n",
       "      <td>-0.821052</td>\n",
       "      <td>0.268322</td>\n",
       "      <td>0.824448</td>\n",
       "      <td>-0.304844</td>\n",
       "      <td>-0.539093</td>\n",
       "      <td>-0.560448</td>\n",
       "      <td>-0.508531</td>\n",
       "      <td>-0.127736</td>\n",
       "      <td>-0.951911</td>\n",
       "      <td>-0.406466</td>\n",
       "      <td>-0.408416</td>\n",
       "      <td>-0.533227</td>\n",
       "      <td>-0.33183</td>\n",
       "      <td>-0.328877</td>\n",
       "      <td>-0.50621</td>\n",
       "      <td>-0.320724</td>\n",
       "      <td>-0.015287</td>\n",
       "      <td>-0.050056</td>\n",
       "      <td>-0.182813</td>\n",
       "      <td>0.051568</td>\n",
       "      <td>-0.264517</td>\n",
       "      <td>-0.644863</td>\n",
       "      <td>-0.724778</td>\n",
       "      <td>-0.300279</td>\n",
       "      <td>-0.21411</td>\n",
       "      <td>-0.520542</td>\n",
       "      <td>-0.436259</td>\n",
       "      <td>-0.202744</td>\n",
       "      <td>-0.394235</td>\n",
       "      <td>-0.517132</td>\n",
       "      <td>-0.779387</td>\n",
       "      <td>-0.583611</td>\n",
       "      <td>0.949967</td>\n",
       "      <td>0.805282</td>\n",
       "      <td>50078</td>\n",
       "      <td>['ancho chile powder', 'avocado', 'black beans...</td>\n",
       "      <td>Counter({'Produce': 7, 'Spices and Seasonings'...</td>\n",
       "      <td>Kale and Quinoa Salad with Black Beans</td>\n",
       "      <td>https://spoonacular.com/kale-and-quinoa-salad-...</td>\n",
       "    </tr>\n",
       "  </tbody>\n",
       "</table>\n",
       "</div>"
      ],
      "text/plain": [
       "   cookingMinutes  num_ingredients  preparationMinutes  pricePerServing  readyInMinutes  servings  weightWatcherSmartPoints  Calories       Fat  Saturated_Fat  Carbohydrates     Sugar  Cholesterol    Sodium   Protein  Vitamin_K  Vitamin_A  Vitamin_C  Manganese    Folate     Fiber    Copper  Magnesium  Phosphorus  Vitamin_B6  Potassium  Vitamin_B1     Iron  Vitamin_B2  Vitamin_E      Zinc  Vitamin_B5  Vitamin_B3   Calcium  Selenium  num_words_instructions  num_steps_instructions  aggregateLikes                                   ingredients_list                                   ingredient_types                                   title                               spoonacularSourceUrl\n",
       "0       -0.029409         1.485089            0.885421        -0.821052        0.268322  0.824448                 -0.304844 -0.539093 -0.560448      -0.508531      -0.127736 -0.951911    -0.406466 -0.408416 -0.533227   -0.33183  -0.328877   -0.50621  -0.320724 -0.015287 -0.050056 -0.182813   0.051568   -0.264517   -0.644863  -0.724778   -0.300279 -0.21411   -0.520542  -0.436259 -0.202744   -0.394235   -0.517132 -0.779387 -0.583611                0.949967                0.805282           50078  ['ancho chile powder', 'avocado', 'black beans...  Counter({'Produce': 7, 'Spices and Seasonings'...  Kale and Quinoa Salad with Black Beans  https://spoonacular.com/kale-and-quinoa-salad-..."
      ]
     },
     "execution_count": 10,
     "metadata": {},
     "output_type": "execute_result"
    }
   ],
   "source": [
    "df_ss.head(1)"
   ]
  },
  {
   "cell_type": "code",
   "execution_count": 11,
   "metadata": {},
   "outputs": [
    {
     "data": {
      "text/plain": [
       "count    1.000000e+03\n",
       "mean     1.326577e+04\n",
       "std      6.138746e+04\n",
       "min      3.600000e+01\n",
       "25%      5.220000e+02\n",
       "50%      1.306000e+03\n",
       "75%      4.163250e+03\n",
       "max      1.053360e+06\n",
       "Name: aggregateLikes, dtype: float64"
      ]
     },
     "execution_count": 11,
     "metadata": {},
     "output_type": "execute_result"
    }
   ],
   "source": [
    "df['aggregateLikes'].describe()"
   ]
  },
  {
   "cell_type": "markdown",
   "metadata": {},
   "source": [
    "<b>Notes:</b>\n",
    "- Mean number of likes is about 13,000 - probably heavily skewed by outliers with very high \"like\" count.\n",
    "- Median number of likes is about 1,300 - probably more reliable as a \"cutoff\" for our classifier.\n",
    "- 75th Percentile of likes is about 4,000 - this shows that the mean is much higher than the 75th percentile, so it is definitely very skewed."
   ]
  },
  {
   "cell_type": "code",
   "execution_count": 12,
   "metadata": {},
   "outputs": [
    {
     "name": "stderr",
     "output_type": "stream",
     "text": [
      "/opt/anaconda3/lib/python3.7/site-packages/ipykernel_launcher.py:4: SettingWithCopyWarning: \n",
      "A value is trying to be set on a copy of a slice from a DataFrame\n",
      "\n",
      "See the caveats in the documentation: http://pandas.pydata.org/pandas-docs/stable/user_guide/indexing.html#returning-a-view-versus-a-copy\n",
      "  after removing the cwd from sys.path.\n"
     ]
    },
    {
     "data": {
      "text/plain": [
       "1    958\n",
       "0     42\n",
       "Name: high_likes, dtype: int64"
      ]
     },
     "execution_count": 12,
     "metadata": {},
     "output_type": "execute_result"
    }
   ],
   "source": [
    "df_ss['high_likes'] = df.apply(lambda _: 0, axis=1)\n",
    "for index, value in enumerate(df_ss.aggregateLikes):\n",
    "    if value > df_ss.aggregateLikes.median():\n",
    "        df_ss['high_likes'][index] = 1\n",
    "df_ss['high_likes'].value_counts()"
   ]
  },
  {
   "cell_type": "markdown",
   "metadata": {},
   "source": [
    "___"
   ]
  },
  {
   "cell_type": "markdown",
   "metadata": {},
   "source": [
    "### 5. Train / Test Split Data"
   ]
  },
  {
   "cell_type": "code",
   "execution_count": 13,
   "metadata": {},
   "outputs": [],
   "source": [
    "x_variables_1 = ['num_ingredients', \n",
    "              'pricePerServing', \n",
    "              'readyInMinutes', \n",
    "              'servings', \n",
    "              'weightWatcherSmartPoints', \n",
    "              'Calories', \n",
    "              'Fat', \n",
    "              'Saturated_Fat', \n",
    "              'Carbohydrates', \n",
    "              'Sugar', \n",
    "              'Cholesterol', \n",
    "              'Sodium', \n",
    "              'Protein', \n",
    "              'Vitamin_K', \n",
    "              'Vitamin_A', \n",
    "              'Vitamin_C', \n",
    "              'Manganese', \n",
    "              'Folate', \n",
    "              'Fiber', \n",
    "              'Copper', \n",
    "              'Magnesium', \n",
    "              'Phosphorus', \n",
    "              'Vitamin_B6', \n",
    "              'Potassium', \n",
    "              'Vitamin_B1', \n",
    "              'Iron', \n",
    "              'Vitamin_B2', \n",
    "              'Vitamin_E', \n",
    "              'Zinc', \n",
    "              'Vitamin_B5', \n",
    "              'Vitamin_B3', \n",
    "              'Calcium', \n",
    "              'Selenium', \n",
    "              'num_words_instructions', \n",
    "              'num_steps_instructions']"
   ]
  },
  {
   "cell_type": "code",
   "execution_count": 14,
   "metadata": {},
   "outputs": [],
   "source": [
    "predictors = df_ss[x_variables_1]\n",
    "target = df_ss['high_likes']\n",
    "X_train, X_test, y_train, y_test = train_test_split(predictors, target, random_state = 2020, test_size = .25, stratify=target) "
   ]
  },
  {
   "cell_type": "markdown",
   "metadata": {},
   "source": [
    "___"
   ]
  },
  {
   "cell_type": "markdown",
   "metadata": {},
   "source": [
    "### 6. Run Logistic Regression"
   ]
  },
  {
   "cell_type": "markdown",
   "metadata": {},
   "source": [
    "We will use sklearn \"liblinear\" solver since our dataset is not very large (1000 observations). The \"liblinear\" solver is recommended in the sklearn.linear_model.LogisticRegression documentation here: https://scikit-learn.org/stable/modules/generated/sklearn.linear_model.LogisticRegression.html\n",
    "\n",
    "Try C-value of really large number for smaller regularization.\n",
    "\n",
    "Try C-value of really small number for greater regularization."
   ]
  },
  {
   "cell_type": "code",
   "execution_count": 15,
   "metadata": {},
   "outputs": [
    {
     "data": {
      "text/plain": [
       "LogisticRegression(C=1e+16, class_weight=None, dual=False, fit_intercept=True,\n",
       "                   intercept_scaling=1, l1_ratio=None, max_iter=50000,\n",
       "                   multi_class='warn', n_jobs=None, penalty='l2',\n",
       "                   random_state=2020, solver='liblinear', tol=0.0001, verbose=0,\n",
       "                   warm_start=False)"
      ]
     },
     "execution_count": 15,
     "metadata": {},
     "output_type": "execute_result"
    }
   ],
   "source": [
    "logreg = LogisticRegression(C=1e+16, fit_intercept=True, max_iter=50000, penalty='l2', random_state=2020, solver='liblinear')\n",
    "logreg.fit(X_train, y_train)"
   ]
  },
  {
   "cell_type": "code",
   "execution_count": 16,
   "metadata": {},
   "outputs": [
    {
     "name": "stdout",
     "output_type": "stream",
     "text": [
      "Train AUC: 0.8369599353941405\n",
      "Test AUC: 0.5728413845568657\n"
     ]
    },
    {
     "data": {
      "image/png": "[encoded data removed]",
      "text/plain": [
       "<Figure size 720x576 with 1 Axes>"
      ]
     },
     "metadata": {
      "needs_background": "light"
     },
     "output_type": "display_data"
    }
   ],
   "source": [
    "y_train_score = logreg.decision_function(X_train)\n",
    "y_test_score = logreg.decision_function(X_test)\n",
    "\n",
    "train_fpr, train_tpr, train_thresholds = roc_curve(y_train, y_train_score)\n",
    "test_fpr, test_tpr, test_thresholds = roc_curve(y_test, y_test_score)\n",
    "\n",
    "print('Train AUC: {}'.format(auc(train_fpr, train_tpr)))\n",
    "print('Test AUC: {}'.format(auc(test_fpr, test_tpr)))\n",
    "\n",
    "plt.figure(figsize=(10, 8))\n",
    "lw = 2\n",
    "\n",
    "plt.plot(train_fpr, train_tpr, color='blue',\n",
    "         lw=lw, label='Train ROC curve')\n",
    "plt.plot(test_fpr, test_tpr, color='darkorange',\n",
    "         lw=lw, label='Test ROC curve')\n",
    "\n",
    "plt.plot([0, 1], [0, 1], color='navy', lw=lw, linestyle='--')\n",
    "plt.xlim([0.0, 1.0])\n",
    "plt.ylim([0.0, 1.05])\n",
    "plt.yticks([i/20.0 for i in range(21)])\n",
    "plt.xticks([i/20.0 for i in range(21)])\n",
    "plt.xlabel('False Positive Rate')\n",
    "plt.ylabel('True Positive Rate')\n",
    "plt.title('Receiver operating characteristic (ROC) Curve')\n",
    "plt.legend(loc='lower right')\n",
    "plt.show()"
   ]
  },
  {
   "cell_type": "markdown",
   "metadata": {},
   "source": [
    "<b>Notes</b>\n",
    "\n",
    "- Train ROC Curve and Test ROC Curve are both performing better than just a 50/50 chance coin toss (the diagonal line.) Yay!\n",
    "- "
   ]
  },
  {
   "cell_type": "code",
   "execution_count": 17,
   "metadata": {},
   "outputs": [
    {
     "data": {
      "image/png": "[encoded data removed]",
      "text/plain": [
       "<Figure size 1080x1080 with 8 Axes>"
      ]
     },
     "metadata": {
      "needs_background": "light"
     },
     "output_type": "display_data"
    }
   ],
   "source": [
    "fig, axes = plt.subplots(4,2, figsize=(15, 15))\n",
    "for n in range(8):\n",
    "    i = n%4\n",
    "    j = n//4\n",
    "    ax = axes[i, j]\n",
    "    # Fit a model\n",
    "    logreg = LogisticRegression(fit_intercept=True, C=1.5**(n), solver='liblinear')\n",
    "    logreg.fit(X_train, y_train)\n",
    "    \n",
    "    y_test_score = logreg.decision_function(X_test)\n",
    "    y_train_score = logreg.decision_function(X_train)\n",
    "\n",
    "    test_fpr, test_tpr, test_thresholds = roc_curve(y_test, y_test_score)\n",
    "    train_fpr, train_tpr, train_thresholds = roc_curve(y_train, y_train_score)\n",
    "    \n",
    "    test_auc = auc(test_fpr, test_tpr)\n",
    "    train_auc = auc(train_fpr, train_tpr)\n",
    "    auc_diff = round(train_auc - test_auc, 4)\n",
    "\n",
    "#     print('Test AUC with C=1.5^{}: {}'.format(n*2, auc(test_fpr, test_tpr)))\n",
    "#     print('Train AUCwith C=1.5^{}: {}'.format(n*2, auc(train_fpr, train_tpr)))\n",
    "    # Add the plot\n",
    "    ax.plot(test_fpr, test_tpr, color='darkorange',\n",
    "         lw=lw, label='Test ROC curve')\n",
    "    ax.plot(train_fpr, train_tpr, color='blue',\n",
    "             lw=lw, label='Train ROC curve')\n",
    "    \n",
    "    ax.set_title('Regularization Parameter set to: 1.5^{}\\nDifference in Test/Train AUC: {}'.format(n, auc_diff))"
   ]
  }
 ],
 "metadata": {
  "kernelspec": {
   "display_name": "Python 3",
   "language": "python",
   "name": "python3"
  },
  "language_info": {
   "codemirror_mode": {
    "name": "ipython",
    "version": 3
   },
   "file_extension": ".py",
   "mimetype": "text/x-python",
   "name": "python",
   "nbconvert_exporter": "python",
   "pygments_lexer": "ipython3",
   "version": "3.6.9"
  }
 },
 "nbformat": 4,
 "nbformat_minor": 2
}
