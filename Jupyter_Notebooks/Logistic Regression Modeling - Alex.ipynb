{
 "cells": [
  {
   "cell_type": "markdown",
   "metadata": {},
   "source": [
    "# Logistic Regression Modeling"
   ]
  },
  {
   "cell_type": "markdown",
   "metadata": {},
   "source": [
    "### 1. Import Libraries"
   ]
  },
  {
   "cell_type": "code",
   "execution_count": 1,
   "metadata": {},
   "outputs": [],
   "source": [
    "import matplotlib.pyplot as plt\n",
    "import matplotlib.ticker as ticker\n",
    "%matplotlib inline\n",
    "import seaborn as sns\n",
    "import numpy as np\n",
    "import pandas as pd\n",
    "import requests\n",
    "import json\n",
    "import sklearn\n",
    "from scipy import stats\n",
    "from scipy.stats import norm\n",
    "from sklearn.utils import resample\n",
    "import pickle\n",
    "import statsmodels.api as sm\n",
    "from statsmodels.formula.api import ols\n",
    "import scipy.stats as stats\n",
    "from wordcloud import WordCloud\n",
    "import random\n",
    "from collections import Counter\n",
    "from statsmodels.stats.outliers_influence import variance_inflation_factor\n",
    "from sklearn.model_selection import train_test_split\n",
    "from sklearn.linear_model import LassoCV, Lasso, Ridge, LinearRegression, LogisticRegression\n",
    "from sklearn.preprocessing import StandardScaler"
   ]
  },
  {
   "cell_type": "markdown",
   "metadata": {},
   "source": [
    "___"
   ]
  },
  {
   "cell_type": "markdown",
   "metadata": {},
   "source": [
    "### 2. Expand maximum range of rows"
   ]
  },
  {
   "cell_type": "code",
   "execution_count": 2,
   "metadata": {},
   "outputs": [],
   "source": [
    "pd.set_option('display.max_rows', 1000)\n",
    "pd.set_option('display.max_columns', 1000)\n",
    "pd.set_option('display.width', 1000)"
   ]
  },
  {
   "cell_type": "markdown",
   "metadata": {},
   "source": [
    "___"
   ]
  },
  {
   "cell_type": "markdown",
   "metadata": {},
   "source": [
    "### 3. Load Data"
   ]
  },
  {
   "cell_type": "code",
   "execution_count": 3,
   "metadata": {},
   "outputs": [],
   "source": [
    "df = pd.read_csv('../Data/Recipes_raw.csv', index_col=0)"
   ]
  },
  {
   "cell_type": "markdown",
   "metadata": {},
   "source": [
    "___"
   ]
  },
  {
   "cell_type": "markdown",
   "metadata": {},
   "source": [
    "### 4. Scale DataFrame For Regression"
   ]
  },
  {
   "cell_type": "code",
   "execution_count": 4,
   "metadata": {},
   "outputs": [],
   "source": [
    "cols_to_scale = ['cookingMinutes', 'num_ingredients','preparationMinutes', \n",
    "                 'pricePerServing', 'readyInMinutes', 'servings','weightWatcherSmartPoints',\n",
    "                'Calories', 'Fat', 'Saturated_Fat', 'Carbohydrates', 'Sugar','Cholesterol', \n",
    "                 'Sodium', 'Protein', 'Vitamin_K', 'Vitamin_A','Vitamin_C', 'Manganese', \n",
    "                 'Folate', 'Fiber', 'Copper', 'Magnesium','Phosphorus', 'Vitamin_B6', \n",
    "                 'Potassium', 'Vitamin_B1', 'Iron','Vitamin_B2', 'Vitamin_E', 'Zinc', \n",
    "                 'Vitamin_B5', 'Vitamin_B3','Calcium', 'Selenium', 'num_words_instructions',\n",
    "                 'num_steps_instructions']"
   ]
  },
  {
   "cell_type": "code",
   "execution_count": 5,
   "metadata": {},
   "outputs": [],
   "source": [
    "df.drop(columns = ['analyzedInstructions', 'diets', 'extendedIngredients',\n",
    "                  'dairyFree','dishTypes','glutenFree','healthScore', 'ketogenic', \n",
    "                   'lowFodmap','sustainable', 'veryHealthy', 'veryPopular',], inplace = True)"
   ]
  },
  {
   "cell_type": "code",
   "execution_count": 6,
   "metadata": {},
   "outputs": [],
   "source": [
    "ss = StandardScaler()"
   ]
  },
  {
   "cell_type": "code",
   "execution_count": 7,
   "metadata": {},
   "outputs": [],
   "source": [
    "df_ss = pd.DataFrame(ss.fit_transform(df[cols_to_scale].values), columns=cols_to_scale)"
   ]
  },
  {
   "cell_type": "code",
   "execution_count": 8,
   "metadata": {},
   "outputs": [],
   "source": [
    "df_ss['aggregateLikes'] = df['aggregateLikes']\n",
    "categorical_list = 'ingredients_list', 'ingredient_types', 'title', 'spoonacularSourceUrl'\n",
    "for category in categorical_list:\n",
    "    df_ss[category] = df[category]\n",
    "    "
   ]
  },
  {
   "cell_type": "code",
   "execution_count": 9,
   "metadata": {},
   "outputs": [],
   "source": [
    "# df_ss.to_csv('../Data/scaled_raw.csv')"
   ]
  },
  {
   "cell_type": "code",
   "execution_count": 10,
   "metadata": {},
   "outputs": [
    {
     "data": {
      "text/html": [
       "<div>\n",
       "<style scoped>\n",
       "    .dataframe tbody tr th:only-of-type {\n",
       "        vertical-align: middle;\n",
       "    }\n",
       "\n",
       "    .dataframe tbody tr th {\n",
       "        vertical-align: top;\n",
       "    }\n",
       "\n",
       "    .dataframe thead th {\n",
       "        text-align: right;\n",
       "    }\n",
       "</style>\n",
       "<table border=\"1\" class=\"dataframe\">\n",
       "  <thead>\n",
       "    <tr style=\"text-align: right;\">\n",
       "      <th></th>\n",
       "      <th>cookingMinutes</th>\n",
       "      <th>num_ingredients</th>\n",
       "      <th>preparationMinutes</th>\n",
       "      <th>pricePerServing</th>\n",
       "      <th>readyInMinutes</th>\n",
       "      <th>servings</th>\n",
       "      <th>weightWatcherSmartPoints</th>\n",
       "      <th>Calories</th>\n",
       "      <th>Fat</th>\n",
       "      <th>Saturated_Fat</th>\n",
       "      <th>Carbohydrates</th>\n",
       "      <th>Sugar</th>\n",
       "      <th>Cholesterol</th>\n",
       "      <th>Sodium</th>\n",
       "      <th>Protein</th>\n",
       "      <th>Vitamin_K</th>\n",
       "      <th>Vitamin_A</th>\n",
       "      <th>Vitamin_C</th>\n",
       "      <th>Manganese</th>\n",
       "      <th>Folate</th>\n",
       "      <th>Fiber</th>\n",
       "      <th>Copper</th>\n",
       "      <th>Magnesium</th>\n",
       "      <th>Phosphorus</th>\n",
       "      <th>Vitamin_B6</th>\n",
       "      <th>Potassium</th>\n",
       "      <th>Vitamin_B1</th>\n",
       "      <th>Iron</th>\n",
       "      <th>Vitamin_B2</th>\n",
       "      <th>Vitamin_E</th>\n",
       "      <th>Zinc</th>\n",
       "      <th>Vitamin_B5</th>\n",
       "      <th>Vitamin_B3</th>\n",
       "      <th>Calcium</th>\n",
       "      <th>Selenium</th>\n",
       "      <th>num_words_instructions</th>\n",
       "      <th>num_steps_instructions</th>\n",
       "      <th>aggregateLikes</th>\n",
       "      <th>ingredients_list</th>\n",
       "      <th>ingredient_types</th>\n",
       "      <th>title</th>\n",
       "      <th>spoonacularSourceUrl</th>\n",
       "    </tr>\n",
       "  </thead>\n",
       "  <tbody>\n",
       "    <tr>\n",
       "      <th>0</th>\n",
       "      <td>-0.029409</td>\n",
       "      <td>1.485089</td>\n",
       "      <td>0.885421</td>\n",
       "      <td>-0.821052</td>\n",
       "      <td>0.268322</td>\n",
       "      <td>0.824448</td>\n",
       "      <td>-0.304844</td>\n",
       "      <td>-0.539093</td>\n",
       "      <td>-0.560448</td>\n",
       "      <td>-0.508531</td>\n",
       "      <td>-0.127736</td>\n",
       "      <td>-0.951911</td>\n",
       "      <td>-0.406466</td>\n",
       "      <td>-0.408416</td>\n",
       "      <td>-0.533227</td>\n",
       "      <td>-0.33183</td>\n",
       "      <td>-0.328877</td>\n",
       "      <td>-0.50621</td>\n",
       "      <td>-0.320724</td>\n",
       "      <td>-0.015287</td>\n",
       "      <td>-0.050056</td>\n",
       "      <td>-0.182813</td>\n",
       "      <td>0.051568</td>\n",
       "      <td>-0.264517</td>\n",
       "      <td>-0.644863</td>\n",
       "      <td>-0.724778</td>\n",
       "      <td>-0.300279</td>\n",
       "      <td>-0.21411</td>\n",
       "      <td>-0.520542</td>\n",
       "      <td>-0.436259</td>\n",
       "      <td>-0.202744</td>\n",
       "      <td>-0.394235</td>\n",
       "      <td>-0.517132</td>\n",
       "      <td>-0.779387</td>\n",
       "      <td>-0.583611</td>\n",
       "      <td>0.949967</td>\n",
       "      <td>0.805282</td>\n",
       "      <td>50078</td>\n",
       "      <td>['ancho chile powder', 'avocado', 'black beans...</td>\n",
       "      <td>Counter({'Produce': 7, 'Spices and Seasonings'...</td>\n",
       "      <td>Kale and Quinoa Salad with Black Beans</td>\n",
       "      <td>https://spoonacular.com/kale-and-quinoa-salad-...</td>\n",
       "    </tr>\n",
       "  </tbody>\n",
       "</table>\n",
       "</div>"
      ],
      "text/plain": [
       "   cookingMinutes  num_ingredients  preparationMinutes  pricePerServing  readyInMinutes  servings  weightWatcherSmartPoints  Calories       Fat  Saturated_Fat  Carbohydrates     Sugar  Cholesterol    Sodium   Protein  Vitamin_K  Vitamin_A  Vitamin_C  Manganese    Folate     Fiber    Copper  Magnesium  Phosphorus  Vitamin_B6  Potassium  Vitamin_B1     Iron  Vitamin_B2  Vitamin_E      Zinc  Vitamin_B5  Vitamin_B3   Calcium  Selenium  num_words_instructions  num_steps_instructions  aggregateLikes                                   ingredients_list                                   ingredient_types                                   title                               spoonacularSourceUrl\n",
       "0       -0.029409         1.485089            0.885421        -0.821052        0.268322  0.824448                 -0.304844 -0.539093 -0.560448      -0.508531      -0.127736 -0.951911    -0.406466 -0.408416 -0.533227   -0.33183  -0.328877   -0.50621  -0.320724 -0.015287 -0.050056 -0.182813   0.051568   -0.264517   -0.644863  -0.724778   -0.300279 -0.21411   -0.520542  -0.436259 -0.202744   -0.394235   -0.517132 -0.779387 -0.583611                0.949967                0.805282           50078  ['ancho chile powder', 'avocado', 'black beans...  Counter({'Produce': 7, 'Spices and Seasonings'...  Kale and Quinoa Salad with Black Beans  https://spoonacular.com/kale-and-quinoa-salad-..."
      ]
     },
     "execution_count": 10,
     "metadata": {},
     "output_type": "execute_result"
    }
   ],
   "source": [
    "df_ss.head(1)"
   ]
  },
  {
   "cell_type": "markdown",
   "metadata": {},
   "source": [
    "___"
   ]
  },
  {
   "cell_type": "markdown",
   "metadata": {},
   "source": [
    "### 5. Train / Test Split Data"
   ]
  },
  {
   "cell_type": "code",
   "execution_count": 11,
   "metadata": {},
   "outputs": [],
   "source": [
    "x_variables_1 = ['num_ingredients', \n",
    "              'pricePerServing', \n",
    "              'readyInMinutes', \n",
    "              'servings', \n",
    "              'weightWatcherSmartPoints', \n",
    "              'Calories', \n",
    "              'Fat', \n",
    "              'Saturated_Fat', \n",
    "              'Carbohydrates', \n",
    "              'Sugar', \n",
    "              'Cholesterol', \n",
    "              'Sodium', \n",
    "              'Protein', \n",
    "              'Vitamin_K', \n",
    "              'Vitamin_A', \n",
    "              'Vitamin_C', \n",
    "              'Manganese', \n",
    "              'Folate', \n",
    "              'Fiber', \n",
    "              'Copper', \n",
    "              'Magnesium', \n",
    "              'Phosphorus', \n",
    "              'Vitamin_B6', \n",
    "              'Potassium', \n",
    "              'Vitamin_B1', \n",
    "              'Iron', \n",
    "              'Vitamin_B2', \n",
    "              'Vitamin_E', \n",
    "              'Zinc', \n",
    "              'Vitamin_B5', \n",
    "              'Vitamin_B3', \n",
    "              'Calcium', \n",
    "              'Selenium', \n",
    "              'num_words_instructions', \n",
    "              'num_steps_instructions']"
   ]
  },
  {
   "cell_type": "code",
   "execution_count": 12,
   "metadata": {},
   "outputs": [],
   "source": [
    "df_ss['high_likes'] = df.apply(lambda _: 0, axis=1)"
   ]
  },
  {
   "cell_type": "code",
   "execution_count": 13,
   "metadata": {},
   "outputs": [
    {
     "name": "stderr",
     "output_type": "stream",
     "text": [
      "/opt/anaconda3/envs/learn-env/lib/python3.6/site-packages/ipykernel_launcher.py:3: SettingWithCopyWarning: \n",
      "A value is trying to be set on a copy of a slice from a DataFrame\n",
      "\n",
      "See the caveats in the documentation: http://pandas.pydata.org/pandas-docs/stable/user_guide/indexing.html#returning-a-view-versus-a-copy\n",
      "  This is separate from the ipykernel package so we can avoid doing imports until\n"
     ]
    }
   ],
   "source": [
    "for index, value in enumerate(df_ss.aggregateLikes):\n",
    "    if value > df_ss.aggregateLikes.median():\n",
    "        df_ss['high_likes'][index] = 1"
   ]
  },
  {
   "cell_type": "code",
   "execution_count": 35,
   "metadata": {},
   "outputs": [
    {
     "data": {
      "text/plain": [
       "[('num_ingredients', 1.3240154494834417),\n",
       " ('pricePerServing', 2.0279099853642544),\n",
       " ('readyInMinutes', 1.0891540993930418),\n",
       " ('servings', 1.28811149197208),\n",
       " ('Saturated_Fat', 1.314923416311578),\n",
       " ('Sodium', 1.3464901106822431),\n",
       " ('Vitamin_K', 1.3138479388104847),\n",
       " ('Vitamin_C', 1.314882938078604),\n",
       " ('Fiber', 1.5186016089550889),\n",
       " ('Vitamin_B1', 1.3480229154634311),\n",
       " ('Selenium', 1.871081760702908)]"
      ]
     },
     "execution_count": 35,
     "metadata": {},
     "output_type": "execute_result"
    }
   ],
   "source": [
    "X = df_ss[x_variables_3]\n",
    "vif = [variance_inflation_factor(X.values, i) for i in range(X.shape[1])]\n",
    "list(zip(x_variables_3, vif))"
   ]
  },
  {
   "cell_type": "code",
   "execution_count": 42,
   "metadata": {},
   "outputs": [],
   "source": [
    "# Based on VIF of all variables, drop all predictors where VIF > 8 \n",
    "unwanted = {'Calories', 'Carbohydrates', 'Sugar', 'Cholesterol', }\n",
    "x_variables_2 = [e for e in x_variables_1 if e not in unwanted]\n",
    "\n",
    "# Drop all predictors where p value > 0.3 after first logistic regression\n",
    "x_variables_3 = ['num_ingredients', 'pricePerServing', 'readyInMinutes', 'servings', \n",
    "                 'Saturated_Fat', 'Sodium', 'Vitamin_K', 'Vitamin_C', 'Fiber', 'Vitamin_B1',\n",
    "                'Selenium']\n",
    "\n",
    "# After dropping these variables, all VIF scores < 3\n",
    "\n",
    "# Drop all predictors where p value > 0.1 after second logistic regression\n",
    "x_variables_4 = ['num_ingredients', 'pricePerServing', 'readyInMinutes', \n",
    "                 'Saturated_Fat', 'Sodium', 'Vitamin_K', 'Vitamin_C', 'Fiber']\n",
    "\n",
    "# Drop all predictors where p value > 0.1 after third logistic regression\n",
    "x_variables_5 = ['num_ingredients', 'readyInMinutes', \n",
    "                 'Saturated_Fat', 'Sodium', 'Vitamin_K', 'Fiber']"
   ]
  },
  {
   "cell_type": "code",
   "execution_count": 43,
   "metadata": {},
   "outputs": [],
   "source": [
    "y = df_ss.high_likes\n",
    "X = df_ss[x_variables_5]\n",
    "\n",
    "X_train, X_test, y_train, y_test = train_test_split(X, y, random_state=2020, stratify = y)"
   ]
  },
  {
   "cell_type": "code",
   "execution_count": 44,
   "metadata": {},
   "outputs": [
    {
     "name": "stdout",
     "output_type": "stream",
     "text": [
      "Optimization terminated successfully.\n",
      "         Current function value: 0.648601\n",
      "         Iterations 6\n",
      "                           Logit Regression Results                           \n",
      "==============================================================================\n",
      "Dep. Variable:             high_likes   No. Observations:                 1000\n",
      "Model:                          Logit   Df Residuals:                      993\n",
      "Method:                           MLE   Df Model:                            6\n",
      "Date:                Wed, 22 Jan 2020   Pseudo R-squ.:                 0.06427\n",
      "Time:                        12:58:08   Log-Likelihood:                -648.60\n",
      "converged:                       True   LL-Null:                       -693.15\n",
      "Covariance Type:            nonrobust   LLR p-value:                 4.678e-17\n",
      "===================================================================================\n",
      "                      coef    std err          z      P>|z|      [0.025      0.975]\n",
      "-----------------------------------------------------------------------------------\n",
      "const               0.0321      0.067      0.478      0.633      -0.100       0.164\n",
      "num_ingredients     0.2017      0.075      2.675      0.007       0.054       0.350\n",
      "readyInMinutes      0.3974      0.125      3.170      0.002       0.152       0.643\n",
      "Saturated_Fat       0.3940      0.102      3.857      0.000       0.194       0.594\n",
      "Sodium              0.2313      0.089      2.588      0.010       0.056       0.406\n",
      "Vitamin_K          -0.2930      0.074     -3.968      0.000      -0.438      -0.148\n",
      "Fiber              -0.2363      0.074     -3.185      0.001      -0.382      -0.091\n",
      "===================================================================================\n"
     ]
    },
    {
     "name": "stderr",
     "output_type": "stream",
     "text": [
      "/opt/anaconda3/envs/learn-env/lib/python3.6/site-packages/numpy/core/fromnumeric.py:2389: FutureWarning: Method .ptp is deprecated and will be removed in a future version. Use numpy.ptp instead.\n",
      "  return ptp(axis=axis, out=out, **kwargs)\n"
     ]
    }
   ],
   "source": [
    "X_const = sm.add_constant(X)\n",
    "model = sm.Logit(y, X_const)\n",
    "results = model.fit()\n",
    "print(results.summary())"
   ]
  },
  {
   "cell_type": "code",
   "execution_count": 16,
   "metadata": {},
   "outputs": [
    {
     "data": {
      "text/plain": [
       "LogisticRegression(C=1e+16, class_weight=None, dual=False, fit_intercept=True,\n",
       "                   intercept_scaling=1, l1_ratio=None, max_iter=100,\n",
       "                   multi_class='warn', n_jobs=None, penalty='l2',\n",
       "                   random_state=2020, solver='liblinear', tol=0.0001, verbose=0,\n",
       "                   warm_start=False)"
      ]
     },
     "execution_count": 16,
     "metadata": {},
     "output_type": "execute_result"
    }
   ],
   "source": [
    "logreg = LogisticRegression(fit_intercept=True, C=1e16, solver='liblinear', random_state=2020)\n",
    "logreg.fit(X_train, y_train)"
   ]
  },
  {
   "cell_type": "code",
   "execution_count": 17,
   "metadata": {},
   "outputs": [
    {
     "name": "stdout",
     "output_type": "stream",
     "text": [
      "Train AUC: 0.7085368888888889\n",
      "Test AUC: 0.654272\n"
     ]
    },
    {
     "data": {
      "image/png": "[encoded data removed]",
      "text/plain": [
       "<Figure size 720x576 with 1 Axes>"
      ]
     },
     "metadata": {
      "needs_background": "light"
     },
     "output_type": "display_data"
    }
   ],
   "source": [
    "from sklearn.metrics import roc_curve, roc_auc_score, auc\n",
    "\n",
    "y_train_score = logreg.decision_function(X_train)\n",
    "y_test_score = logreg.decision_function(X_test)\n",
    "\n",
    "train_fpr, train_tpr, train_thresholds = roc_curve(y_train, y_train_score)\n",
    "test_fpr, test_tpr, test_thresholds = roc_curve(y_test, y_test_score)\n",
    "\n",
    "print('Train AUC: {}'.format(auc(train_fpr, train_tpr)))\n",
    "print('Test AUC: {}'.format(auc(test_fpr, test_tpr)))\n",
    "\n",
    "plt.figure(figsize=(10, 8))\n",
    "lw = 2\n",
    "plt.plot(train_fpr, train_tpr, color='blue',\n",
    "         lw=lw, label='Train ROC curve')\n",
    "plt.plot(test_fpr, test_tpr, color='darkorange',\n",
    "         lw=lw, label='Test ROC curve')\n",
    "plt.plot([0, 1], [0, 1], color='navy', lw=lw, linestyle='--')\n",
    "plt.xlim([0.0, 1.0])\n",
    "plt.ylim([0.0, 1.05])\n",
    "plt.yticks([i/20.0 for i in range(21)])\n",
    "plt.xticks([i/20.0 for i in range(21)])\n",
    "plt.xlabel('False Positive Rate')\n",
    "plt.ylabel('True Positive Rate')\n",
    "plt.title('Receiver operating characteristic (ROC) Curve')\n",
    "plt.legend(loc='lower right')\n",
    "plt.show()"
   ]
  },
  {
   "cell_type": "code",
   "execution_count": 19,
   "metadata": {},
   "outputs": [
    {
     "data": {
      "image/png": "[encoded data removed]",
      "text/plain": [
       "<Figure size 1080x1080 with 8 Axes>"
      ]
     },
     "metadata": {
      "needs_background": "light"
     },
     "output_type": "display_data"
    }
   ],
   "source": [
    "fig, axes = plt.subplots(4,2, figsize=(15, 15))\n",
    "for n in range(8):\n",
    "    i = n%4\n",
    "    j = n//4\n",
    "    ax = axes[i, j]\n",
    "    # Fit a model\n",
    "    logreg = LogisticRegression(fit_intercept=True, C=1.5**(n), solver='liblinear')\n",
    "    logreg.fit(X_train, y_train)\n",
    "    \n",
    "    y_test_score = logreg.decision_function(X_test)\n",
    "    y_train_score = logreg.decision_function(X_train)\n",
    "\n",
    "    test_fpr, test_tpr, test_thresholds = roc_curve(y_test, y_test_score)\n",
    "    train_fpr, train_tpr, train_thresholds = roc_curve(y_train, y_train_score)\n",
    "    \n",
    "    test_auc = auc(test_fpr, test_tpr)\n",
    "    train_auc = auc(train_fpr, train_tpr)\n",
    "    auc_diff = round(train_auc - test_auc, 4)\n",
    "\n",
    "#     print('Test AUC with C=1.5^{}: {}'.format(n*2, auc(test_fpr, test_tpr)))\n",
    "#     print('Train AUCwith C=1.5^{}: {}'.format(n*2, auc(train_fpr, train_tpr)))\n",
    "    # Add the plot\n",
    "    ax.plot(test_fpr, test_tpr, color='darkorange',\n",
    "         lw=lw, label='Test ROC curve')\n",
    "    ax.plot(train_fpr, train_tpr, color='blue',\n",
    "             lw=lw, label='Train ROC curve')\n",
    "    \n",
    "    ax.set_title('Regularization Parameter set to: 1.5^{}\\nDifference in Test/Train AUC: {}'.format(n, auc_diff))"
   ]
  },
  {
   "cell_type": "code",
   "execution_count": null,
   "metadata": {},
   "outputs": [],
   "source": []
  },
  {
   "cell_type": "code",
   "execution_count": null,
   "metadata": {},
   "outputs": [],
   "source": []
  },
  {
   "cell_type": "code",
   "execution_count": null,
   "metadata": {},
   "outputs": [],
   "source": []
  }
 ],
 "metadata": {
  "kernelspec": {
   "display_name": "Python 3",
   "language": "python",
   "name": "python3"
  },
  "language_info": {
   "codemirror_mode": {
    "name": "ipython",
    "version": 3
   },
   "file_extension": ".py",
   "mimetype": "text/x-python",
   "name": "python",
   "nbconvert_exporter": "python",
   "pygments_lexer": "ipython3",
   "version": "3.6.9"
  }
 },
 "nbformat": 4,
 "nbformat_minor": 2
}
