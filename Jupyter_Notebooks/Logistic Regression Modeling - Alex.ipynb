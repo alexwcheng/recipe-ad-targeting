{
 "cells": [
  {
   "cell_type": "markdown",
   "metadata": {},
   "source": [
    "# Logistic Regression Modeling"
   ]
  },
  {
   "cell_type": "markdown",
   "metadata": {},
   "source": [
    "### 1. Import Libraries"
   ]
  },
  {
   "cell_type": "code",
   "execution_count": 2,
   "metadata": {},
   "outputs": [],
   "source": [
    "import matplotlib.pyplot as plt\n",
    "import matplotlib.ticker as ticker\n",
    "%matplotlib inline\n",
    "import seaborn as sns\n",
    "import numpy as np\n",
    "import pandas as pd\n",
    "import requests\n",
    "import json\n",
    "import sklearn\n",
    "from scipy import stats\n",
    "from scipy.stats import norm\n",
    "from sklearn.utils import resample\n",
    "import pickle\n",
    "import statsmodels.api as sm\n",
    "from statsmodels.formula.api import ols\n",
    "import scipy.stats as stats\n",
    "from wordcloud import WordCloud\n",
    "import random\n",
    "from collections import Counter\n",
    "from statsmodels.stats.outliers_influence import variance_inflation_factor\n",
    "from sklearn.model_selection import train_test_split\n",
    "from sklearn.linear_model import LassoCV, Lasso, Ridge, LinearRegression\n",
    "from sklearn.preprocessing import StandardScaler"
   ]
  },
  {
   "cell_type": "markdown",
   "metadata": {},
   "source": [
    "___"
   ]
  },
  {
   "cell_type": "markdown",
   "metadata": {},
   "source": [
    "### 2. Expand maximum range of rows"
   ]
  },
  {
   "cell_type": "code",
   "execution_count": 3,
   "metadata": {},
   "outputs": [],
   "source": [
    "pd.set_option('display.max_rows', 1000)\n",
    "pd.set_option('display.max_columns', 1000)\n",
    "pd.set_option('display.width', 1000)"
   ]
  },
  {
   "cell_type": "markdown",
   "metadata": {},
   "source": [
    "___"
   ]
  },
  {
   "cell_type": "markdown",
   "metadata": {},
   "source": [
    "### 3. Load Data"
   ]
  },
  {
   "cell_type": "code",
   "execution_count": 5,
   "metadata": {},
   "outputs": [],
   "source": [
    "df = pd.read_csv('../Data/Recipes_raw.csv', index_col=0)"
   ]
  },
  {
   "cell_type": "markdown",
   "metadata": {},
   "source": [
    "___"
   ]
  },
  {
   "cell_type": "markdown",
   "metadata": {},
   "source": [
    "### 4. Scale DataFrame For Regression"
   ]
  },
  {
   "cell_type": "code",
   "execution_count": 6,
   "metadata": {},
   "outputs": [],
   "source": [
    "cols_to_scale = ['cookingMinutes', 'num_ingredients','preparationMinutes', \n",
    "                 'pricePerServing', 'readyInMinutes', 'servings','weightWatcherSmartPoints',\n",
    "                'Calories', 'Fat', 'Saturated_Fat', 'Carbohydrates', 'Sugar','Cholesterol', \n",
    "                 'Sodium', 'Protein', 'Vitamin_K', 'Vitamin_A','Vitamin_C', 'Manganese', \n",
    "                 'Folate', 'Fiber', 'Copper', 'Magnesium','Phosphorus', 'Vitamin_B6', \n",
    "                 'Potassium', 'Vitamin_B1', 'Iron','Vitamin_B2', 'Vitamin_E', 'Zinc', \n",
    "                 'Vitamin_B5', 'Vitamin_B3','Calcium', 'Selenium', 'num_words_instructions',\n",
    "                 'num_steps_instructions']"
   ]
  },
  {
   "cell_type": "code",
   "execution_count": 7,
   "metadata": {},
   "outputs": [],
   "source": [
    "df.drop(columns = ['analyzedInstructions', 'diets', 'extendedIngredients',\n",
    "                  'dairyFree','dishTypes','glutenFree','healthScore', 'ketogenic', \n",
    "                   'lowFodmap','sustainable', 'veryHealthy', 'veryPopular',], inplace = True)"
   ]
  },
  {
   "cell_type": "code",
   "execution_count": 8,
   "metadata": {},
   "outputs": [],
   "source": [
    "ss = StandardScaler()"
   ]
  },
  {
   "cell_type": "code",
   "execution_count": 9,
   "metadata": {},
   "outputs": [],
   "source": [
    "df_ss = pd.DataFrame(ss.fit_transform(df[cols_to_scale].values), columns=cols_to_scale)"
   ]
  },
  {
   "cell_type": "code",
   "execution_count": 10,
   "metadata": {},
   "outputs": [],
   "source": [
    "df_ss['aggregateLikes'] = df['aggregateLikes']\n",
    "categorical_list = 'ingredients_list', 'ingredient_types', 'title', 'spoonacularSourceUrl'\n",
    "for category in categorical_list:\n",
    "    df_ss[category] = df[category]\n",
    "    "
   ]
  },
  {
   "cell_type": "code",
   "execution_count": 11,
   "metadata": {},
   "outputs": [],
   "source": [
    "# df_ss.to_csv('../Data/scaled_raw.csv')"
   ]
  },
  {
   "cell_type": "code",
   "execution_count": 13,
   "metadata": {},
   "outputs": [
    {
     "data": {
      "text/html": [
       "<div>\n",
       "<style scoped>\n",
       "    .dataframe tbody tr th:only-of-type {\n",
       "        vertical-align: middle;\n",
       "    }\n",
       "\n",
       "    .dataframe tbody tr th {\n",
       "        vertical-align: top;\n",
       "    }\n",
       "\n",
       "    .dataframe thead th {\n",
       "        text-align: right;\n",
       "    }\n",
       "</style>\n",
       "<table border=\"1\" class=\"dataframe\">\n",
       "  <thead>\n",
       "    <tr style=\"text-align: right;\">\n",
       "      <th></th>\n",
       "      <th>cookingMinutes</th>\n",
       "      <th>num_ingredients</th>\n",
       "      <th>preparationMinutes</th>\n",
       "      <th>pricePerServing</th>\n",
       "      <th>readyInMinutes</th>\n",
       "      <th>servings</th>\n",
       "      <th>weightWatcherSmartPoints</th>\n",
       "      <th>Calories</th>\n",
       "      <th>Fat</th>\n",
       "      <th>Saturated_Fat</th>\n",
       "      <th>Carbohydrates</th>\n",
       "      <th>Sugar</th>\n",
       "      <th>Cholesterol</th>\n",
       "      <th>Sodium</th>\n",
       "      <th>Protein</th>\n",
       "      <th>Vitamin_K</th>\n",
       "      <th>Vitamin_A</th>\n",
       "      <th>Vitamin_C</th>\n",
       "      <th>Manganese</th>\n",
       "      <th>Folate</th>\n",
       "      <th>Fiber</th>\n",
       "      <th>Copper</th>\n",
       "      <th>Magnesium</th>\n",
       "      <th>Phosphorus</th>\n",
       "      <th>Vitamin_B6</th>\n",
       "      <th>Potassium</th>\n",
       "      <th>Vitamin_B1</th>\n",
       "      <th>Iron</th>\n",
       "      <th>Vitamin_B2</th>\n",
       "      <th>Vitamin_E</th>\n",
       "      <th>Zinc</th>\n",
       "      <th>Vitamin_B5</th>\n",
       "      <th>Vitamin_B3</th>\n",
       "      <th>Calcium</th>\n",
       "      <th>Selenium</th>\n",
       "      <th>num_words_instructions</th>\n",
       "      <th>num_steps_instructions</th>\n",
       "      <th>aggregateLikes</th>\n",
       "      <th>ingredients_list</th>\n",
       "      <th>ingredient_types</th>\n",
       "      <th>title</th>\n",
       "      <th>spoonacularSourceUrl</th>\n",
       "    </tr>\n",
       "  </thead>\n",
       "  <tbody>\n",
       "    <tr>\n",
       "      <td>0</td>\n",
       "      <td>-0.029409</td>\n",
       "      <td>1.485089</td>\n",
       "      <td>0.885421</td>\n",
       "      <td>-0.821052</td>\n",
       "      <td>0.268322</td>\n",
       "      <td>0.824448</td>\n",
       "      <td>-0.304844</td>\n",
       "      <td>-0.539093</td>\n",
       "      <td>-0.560448</td>\n",
       "      <td>-0.508531</td>\n",
       "      <td>-0.127736</td>\n",
       "      <td>-0.951911</td>\n",
       "      <td>-0.406466</td>\n",
       "      <td>-0.408416</td>\n",
       "      <td>-0.533227</td>\n",
       "      <td>-0.33183</td>\n",
       "      <td>-0.328877</td>\n",
       "      <td>-0.50621</td>\n",
       "      <td>-0.320724</td>\n",
       "      <td>-0.015287</td>\n",
       "      <td>-0.050056</td>\n",
       "      <td>-0.182813</td>\n",
       "      <td>0.051568</td>\n",
       "      <td>-0.264517</td>\n",
       "      <td>-0.644863</td>\n",
       "      <td>-0.724778</td>\n",
       "      <td>-0.300279</td>\n",
       "      <td>-0.21411</td>\n",
       "      <td>-0.520542</td>\n",
       "      <td>-0.436259</td>\n",
       "      <td>-0.202744</td>\n",
       "      <td>-0.394235</td>\n",
       "      <td>-0.517132</td>\n",
       "      <td>-0.779387</td>\n",
       "      <td>-0.583611</td>\n",
       "      <td>0.949967</td>\n",
       "      <td>0.805282</td>\n",
       "      <td>50078</td>\n",
       "      <td>['ancho chile powder', 'avocado', 'black beans...</td>\n",
       "      <td>Counter({'Produce': 7, 'Spices and Seasonings'...</td>\n",
       "      <td>Kale and Quinoa Salad with Black Beans</td>\n",
       "      <td>https://spoonacular.com/kale-and-quinoa-salad-...</td>\n",
       "    </tr>\n",
       "  </tbody>\n",
       "</table>\n",
       "</div>"
      ],
      "text/plain": [
       "   cookingMinutes  num_ingredients  preparationMinutes  pricePerServing  readyInMinutes  servings  weightWatcherSmartPoints  Calories       Fat  Saturated_Fat  Carbohydrates     Sugar  Cholesterol    Sodium   Protein  Vitamin_K  Vitamin_A  Vitamin_C  Manganese    Folate     Fiber    Copper  Magnesium  Phosphorus  Vitamin_B6  Potassium  Vitamin_B1     Iron  Vitamin_B2  Vitamin_E      Zinc  Vitamin_B5  Vitamin_B3   Calcium  Selenium  num_words_instructions  num_steps_instructions  aggregateLikes                                   ingredients_list                                   ingredient_types                                   title                               spoonacularSourceUrl\n",
       "0       -0.029409         1.485089            0.885421        -0.821052        0.268322  0.824448                 -0.304844 -0.539093 -0.560448      -0.508531      -0.127736 -0.951911    -0.406466 -0.408416 -0.533227   -0.33183  -0.328877   -0.50621  -0.320724 -0.015287 -0.050056 -0.182813   0.051568   -0.264517   -0.644863  -0.724778   -0.300279 -0.21411   -0.520542  -0.436259 -0.202744   -0.394235   -0.517132 -0.779387 -0.583611                0.949967                0.805282           50078  ['ancho chile powder', 'avocado', 'black beans...  Counter({'Produce': 7, 'Spices and Seasonings'...  Kale and Quinoa Salad with Black Beans  https://spoonacular.com/kale-and-quinoa-salad-..."
      ]
     },
     "execution_count": 13,
     "metadata": {},
     "output_type": "execute_result"
    }
   ],
   "source": [
    "df_ss.head(1)"
   ]
  },
  {
   "cell_type": "markdown",
   "metadata": {},
   "source": [
    "___"
   ]
  },
  {
   "cell_type": "markdown",
   "metadata": {},
   "source": [
    "### 5. Train / Test Split Data"
   ]
  },
  {
   "cell_type": "code",
   "execution_count": null,
   "metadata": {},
   "outputs": [],
   "source": []
  },
  {
   "cell_type": "code",
   "execution_count": null,
   "metadata": {},
   "outputs": [],
   "source": []
  },
  {
   "cell_type": "code",
   "execution_count": null,
   "metadata": {},
   "outputs": [],
   "source": []
  },
  {
   "cell_type": "code",
   "execution_count": null,
   "metadata": {},
   "outputs": [],
   "source": []
  },
  {
   "cell_type": "code",
   "execution_count": null,
   "metadata": {},
   "outputs": [],
   "source": []
  },
  {
   "cell_type": "code",
   "execution_count": null,
   "metadata": {},
   "outputs": [],
   "source": []
  }
 ],
 "metadata": {
  "kernelspec": {
   "display_name": "Python 3",
   "language": "python",
   "name": "python3"
  },
  "language_info": {
   "codemirror_mode": {
    "name": "ipython",
    "version": 3
   },
   "file_extension": ".py",
   "mimetype": "text/x-python",
   "name": "python",
   "nbconvert_exporter": "python",
   "pygments_lexer": "ipython3",
   "version": "3.7.4"
  }
 },
 "nbformat": 4,
 "nbformat_minor": 2
}
