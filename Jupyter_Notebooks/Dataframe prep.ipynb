{
 "cells": [
  {
   "cell_type": "code",
   "execution_count": 1,
   "metadata": {},
   "outputs": [],
   "source": [
    "import numpy as np\n",
    "import pandas as pd\n",
    "import seaborn as sns\n",
    "import matplotlib as plt\n",
    "import json\n",
    "%matplotlib inline"
   ]
  },
  {
   "cell_type": "code",
   "execution_count": 4,
   "metadata": {},
   "outputs": [],
   "source": [
    "with open(\"/Users/flatironschooldc3/FlatironSchoolRepo/Projects/Recipes/Data/top_1000_recipes_info.json\") as datafile:\n",
    "  data = json.load(datafile)"
   ]
  },
  {
   "cell_type": "code",
   "execution_count": 5,
   "metadata": {},
   "outputs": [
    {
     "data": {
      "text/plain": [
       "10"
      ]
     },
     "execution_count": 5,
     "metadata": {},
     "output_type": "execute_result"
    }
   ],
   "source": [
    "len(data)"
   ]
  },
  {
   "cell_type": "code",
   "execution_count": 26,
   "metadata": {},
   "outputs": [
    {
     "data": {
      "text/plain": [
       "list"
      ]
     },
     "execution_count": 26,
     "metadata": {},
     "output_type": "execute_result"
    }
   ],
   "source": [
    "type(data[0][99]['analyzedInstructions'])"
   ]
  },
  {
   "cell_type": "code",
   "execution_count": 33,
   "metadata": {},
   "outputs": [],
   "source": [
    "for rec_list in data:\n",
    "    for recipe in rec_list:\n",
    "        # Add clean nutrition column\n",
    "        nutrients = []\n",
    "        nutrient_amts = []\n",
    "        for index, val in enumerate(recipe['nutrition']['nutrients']):\n",
    "            nutrient_name = recipe['nutrition']['nutrients'][index]['title']\n",
    "            nutrients.append(nutrient_name)\n",
    "            nutrient_amt = recipe['nutrition']['nutrients'][index]['amount']\n",
    "            nutrient_amts.append(nutrient_amt)\n",
    "        recipe['nutrition_info'] = dict(zip(nutrients, nutrient_amts))\n",
    "\n",
    "        # Add num ingredients\n",
    "        recipe['num_ingredients'] = len(recipe['extendedIngredients'])\n",
    "\n",
    "        # Add list ingredients and types\n",
    "        recipe['extendedIngredients'] = []\n",
    "        ing_type_list = []\n",
    "        recipe['ingredient_types'] = {}\n",
    "        for index, val in enumerate(recipe['extendedIngredients']):\n",
    "            if type(recipe['extendedIngredients']) == 'list':\n",
    "                ing_name = recipe['extendedIngredients'][index]['name']\n",
    "                ing_list.append(ing_name)\n",
    "                ing_type = recipe['extendedIngredients'][index]['aisle']\n",
    "        \n",
    "                ing_type_list.append(ing_type)\n",
    "                ing_type_counts = dict(zip(Counter(ing_type_list).keys(), Counter(ing_type_list).values()))\n",
    "            recipe['ingredient_types'] = ing_type_counts\n",
    "            recipe['extendedIngredients'] = ing_list\n",
    "\n",
    "        # Num words in instructions\n",
    "        recipe['num_instruction_words'] = 0\n",
    "        if type(recipe['instructions']) == 'str':\n",
    "            num_words = len(recipe['instructions'].split())\n",
    "            recipe['num_instruction_words'] = num_words\n",
    "\n",
    "        # Num steps\n",
    "        recipe['num_steps'] = 0\n",
    "#         if type(recipe['analyzedInstructions'][0]['steps']) == 'list':\n",
    "#             recipe['num_steps'] = len(recipe['analyzedInstructions'][0]['steps'])"
   ]
  },
  {
   "cell_type": "code",
   "execution_count": 34,
   "metadata": {},
   "outputs": [],
   "source": [
    "columns = ['vegetarian', 'vegan', 'glutenFree', 'dairyFree', 'veryHealthy', 'cheap', \n",
    "           'veryPopular', 'sustainable', 'ketogenic', 'whole30', 'aggregateLikes', \n",
    "           'spoonacularScore', 'healthScore', 'pricePerServing', 'extendedIngredients', \n",
    "           'id', 'title', 'readyInMinutes', 'servings', 'nutrition', 'cuisines', 'dishTypes',\n",
    "           'diets', 'occasions', 'winePairing', 'instructions', 'analyzedInstructions', \n",
    "           'preparationMinutes', 'cookingMinutes', 'num_steps', 'nutrition_info', 'num_instruction_words',\n",
    "           'ingredient_types', 'num_ingredients']"
   ]
  },
  {
   "cell_type": "code",
   "execution_count": 41,
   "metadata": {},
   "outputs": [
    {
     "ename": "TypeError",
     "evalue": "list indices must be integers or slices, not list",
     "output_type": "error",
     "traceback": [
      "\u001b[0;31m---------------------------------------------------------------------------\u001b[0m",
      "\u001b[0;31mTypeError\u001b[0m                                 Traceback (most recent call last)",
      "\u001b[0;32m<ipython-input-41-797de410711b>\u001b[0m in \u001b[0;36m<module>\u001b[0;34m\u001b[0m\n\u001b[1;32m      1\u001b[0m \u001b[0mdf\u001b[0m \u001b[0;34m=\u001b[0m \u001b[0mpd\u001b[0m\u001b[0;34m.\u001b[0m\u001b[0mDataFrame\u001b[0m\u001b[0;34m(\u001b[0m\u001b[0mcolumns\u001b[0m \u001b[0;34m=\u001b[0m \u001b[0mcolumns\u001b[0m\u001b[0;34m)\u001b[0m\u001b[0;34m\u001b[0m\u001b[0;34m\u001b[0m\u001b[0m\n\u001b[1;32m      2\u001b[0m \u001b[0;32mfor\u001b[0m \u001b[0mi\u001b[0m \u001b[0;32min\u001b[0m \u001b[0mdata\u001b[0m\u001b[0;34m:\u001b[0m\u001b[0;34m\u001b[0m\u001b[0;34m\u001b[0m\u001b[0m\n\u001b[0;32m----> 3\u001b[0;31m     \u001b[0mdf_new\u001b[0m \u001b[0;34m=\u001b[0m \u001b[0mpd\u001b[0m\u001b[0;34m.\u001b[0m\u001b[0mDataFrame\u001b[0m\u001b[0;34m(\u001b[0m\u001b[0mdata\u001b[0m\u001b[0;34m[\u001b[0m\u001b[0mi\u001b[0m\u001b[0;34m]\u001b[0m\u001b[0;34m)\u001b[0m\u001b[0;34m\u001b[0m\u001b[0;34m\u001b[0m\u001b[0m\n\u001b[0m\u001b[1;32m      4\u001b[0m     \u001b[0mdf\u001b[0m \u001b[0;34m=\u001b[0m \u001b[0mpd\u001b[0m\u001b[0;34m.\u001b[0m\u001b[0mconcat\u001b[0m\u001b[0;34m(\u001b[0m\u001b[0;34m[\u001b[0m\u001b[0mdf\u001b[0m\u001b[0;34m,\u001b[0m \u001b[0mdf_new\u001b[0m\u001b[0;34m]\u001b[0m\u001b[0;34m)\u001b[0m\u001b[0;34m\u001b[0m\u001b[0;34m\u001b[0m\u001b[0m\n",
      "\u001b[0;31mTypeError\u001b[0m: list indices must be integers or slices, not list"
     ]
    }
   ],
   "source": [
    "df = pd.DataFrame(columns = columns)\n",
    "for ind_10, val in enumerate(data):\n",
    "    df_new = pd.DataFrame(data[i])\n",
    "    df = pd.concat([df, df_new])"
   ]
  },
  {
   "cell_type": "code",
   "execution_count": 37,
   "metadata": {},
   "outputs": [
    {
     "ename": "SyntaxError",
     "evalue": "invalid syntax (<ipython-input-37-909e90a0a108>, line 4)",
     "output_type": "error",
     "traceback": [
      "\u001b[0;36m  File \u001b[0;32m\"<ipython-input-37-909e90a0a108>\"\u001b[0;36m, line \u001b[0;32m4\u001b[0m\n\u001b[0;31m    df.head()\u001b[0m\n\u001b[0m     ^\u001b[0m\n\u001b[0;31mSyntaxError\u001b[0m\u001b[0;31m:\u001b[0m invalid syntax\n"
     ]
    }
   ],
   "source": [
    "df.head()"
   ]
  },
  {
   "cell_type": "code",
   "execution_count": null,
   "metadata": {},
   "outputs": [],
   "source": []
  }
 ],
 "metadata": {
  "kernelspec": {
   "display_name": "Python 3",
   "language": "python",
   "name": "python3"
  },
  "language_info": {
   "codemirror_mode": {
    "name": "ipython",
    "version": 3
   },
   "file_extension": ".py",
   "mimetype": "text/x-python",
   "name": "python",
   "nbconvert_exporter": "python",
   "pygments_lexer": "ipython3",
   "version": "3.6.9"
  }
 },
 "nbformat": 4,
 "nbformat_minor": 2
}
